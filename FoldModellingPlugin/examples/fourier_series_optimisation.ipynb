{
 "cells": [
  {
   "cell_type": "markdown",
   "id": "f306ce8c-c032-4e89-8b4d-512d1e9abc95",
   "metadata": {},
   "source": [
    "<h1 align=\"center\">Fold modelling - Fourier Series optimisation tutorial</h1>\n"
   ]
  },
  {
   "cell_type": "markdown",
   "id": "207b279d-8961-4dc2-826e-884891d7da1e",
   "metadata": {},
   "source": [
    "Fourier Series optimisation is part of `LoopStructural`'s workflow; however, it performs only unconstrained optimisations. Meaning that only orientation data is used to model the observed fold geometry. In poorly outcropping regions, orientation data may not be sufficient to recover the observed fold geometry. So, in this tutorial, we will see how we can add geological knowledge to the Fourier Series optimisation process.  \n",
    "\n",
    "This tutorial will demonstrate the use of the `FourierSerieOptimiser` class, part of the FoldModellingPlugin that can be integrated into `LoopStructural`  [(Grose et al., 2021)](https://gmd.copernicus.org/articles/14/3915/2021/). This tutorial assumes you are familiar with the concepts of fold frame and fold rotation angles [(Laurent et al., 2016)](https://linkinghub.elsevier.com/retrieve/pii/S0012821X16305209) and the S-Plot  [(Grose et al., 2017)](https://linkinghub.elsevier.com/retrieve/pii/S0191814117301864) as well as the basic use of LoopStructural for fold modelling. In case you are not familiar with these concepts, it is recommended to do the following tutorials before moving forward with this tutorial: [LoopStructural fold modelling Examples](https://github.com/Loop3D/LoopStructural/tree/master/examples/2_fold).\n",
    " "
   ]
  },
  {
   "cell_type": "code",
   "execution_count": 2,
   "id": "85151442-4ba4-4668-bca3-c8bdd7e2ded9",
   "metadata": {},
   "outputs": [
    {
     "name": "stderr",
     "output_type": "stream",
     "text": [
      "WARNING: 2023-10-12 13:32:49,067: __init__.py:24 -- Cannot use LoopProjectfileProcessor: Loop project file cannot be imported, try installing LoopProjectFile\n",
      "WARNING: 2023-10-12 13:32:49,131: __init__.py:75 -- Can't import surfepy - to install \"pip install surfe\"\n",
      "WARNING: 2023-10-12 13:32:49,132: __init__.py:77 -- Using experimental interpolators: P1Interpolator and P2Interpolator\n",
      "ERROR: 2023-10-12 13:32:50,130: __init__.py:21 -- Cannot use sphinx scraper, pip install -r docs/requirements.txt\n",
      "ERROR: 2023-10-12 13:32:50,133: __init__.py:25 -- Missing lavavu, can't import LavaVuModelViewer\n"
     ]
    }
   ],
   "source": [
    "from FoldModellingPlugin.FoldModellingPlugin.ipywidgets_interface import create_value_widgets, on_add_button_click, on_constraint_change, on_sub_constraint_change, display_dict_selection\n",
    "from FoldModellingPlugin.FoldModellingPlugin.helper.utils import create_fold_frame_dataset\n",
    "from FoldModellingPlugin.FoldModellingPlugin.optimisers import FourierSeriesOptimiser as FSO\n",
    "from LoopStructural import GeologicalModel\n",
    "from LoopStructural.modelling.features.fold import FoldEvent\n",
    "# from LoopStructural.visualisation import LavaVuModelViewer\n",
    "# from custom_model_visualisation import LavaVuModelViewer\n",
    "from LoopStructural.visualisation import MapView\n",
    "from LoopStructural.visualisation import RotationAnglePlotter\n",
    "from LoopStructural.modelling.features.fold import FoldRotationAngle, SVariogram\n",
    "from LoopStructural.modelling.features import StructuralFrame, GeologicalFeature\n",
    "from LoopStructural.modelling.features.fold import fourier_series\n",
    "from LoopStructural.utils.helper import create_surface, create_box, get_data_bounding_box, normal_vector_to_strike_and_dip, plunge_and_plunge_dir_to_vector\n",
    "import os\n",
    "import time\n",
    "import numpy as np\n",
    "import pandas as pd\n",
    "from scipy.optimize import least_squares\n",
    "import seaborn as sns \n",
    "import matplotlib\n",
    "import matplotlib.pyplot as plt\n",
    "%matplotlib inline \n",
    "from sklearn.neighbors import NearestNeighbors\n",
    "from IPython.display import display, clear_output\n",
    "import ipywidgets as widgets\n",
    "from ipywidgets import IntProgress, interact, interactive"
   ]
  },
  {
   "cell_type": "markdown",
   "id": "2d36a9e4-799d-4db0-821a-e48052b7abea",
   "metadata": {},
   "source": [
    "# I. Creation of a synthetic model\n",
    "\n",
    "First, we will create a synthetic model to produce an S-Plot that we will use in the optimisation process. The synthetic model is the reference from within which we will sample data points that will be used to optimise a Fourier Series. \n",
    "\n",
    "###### **1. Define model bounding box**"
   ]
  },
  {
   "cell_type": "code",
   "execution_count": 25,
   "id": "70b780ab-9d29-4222-a70c-b7d2781c7e72",
   "metadata": {},
   "outputs": [],
   "source": [
    "# define the naximum value of xyz model box boundaries\n",
    "xmin, ymin, zmin = 0, 0, 0\n",
    "xmax, ymax, zmax = 1000, 1000, 1000\n",
    "\n",
    "bounding_box = np.array([[xmin, ymin, zmin],\n",
    "               [xmax, ymax, zmax]])"
   ]
  },
  {
   "cell_type": "markdown",
   "id": "373fd7fb-4cd0-4d0b-a7d3-2233fd9797f7",
   "metadata": {},
   "source": [
    "###### **2. Initialise a geological model**"
   ]
  },
  {
   "cell_type": "code",
   "execution_count": 4,
   "id": "175e633d-7ab1-4653-92a4-5cccf958f71c",
   "metadata": {},
   "outputs": [],
   "source": [
    "# initiliase geological model by initialising GeologicalModel class\n",
    "model = GeologicalModel(bounding_box[0, :], \n",
    "                        bounding_box[1, :])"
   ]
  },
  {
   "cell_type": "markdown",
   "id": "0fd45e6b-60ea-4aaf-a29a-65c54c9e3c7c",
   "metadata": {},
   "source": [
    "###### **3. Build a fold frame**"
   ]
  },
  {
   "cell_type": "code",
   "execution_count": 5,
   "id": "d62fb253-e826-4590-83f3-785677d5551d",
   "metadata": {},
   "outputs": [],
   "source": [
    "# Create a dataset for s1 to build a fold frame \n",
    "dataset, xyz = create_fold_frame_dataset(model, strike=0, dip=90)\n",
    "# add data to the initiliased geological model\n",
    "model.data = dataset"
   ]
  },
  {
   "cell_type": "code",
   "execution_count": 6,
   "id": "d6244f0e-6a06-4ff6-a23d-c9015300ed67",
   "metadata": {},
   "outputs": [
    {
     "name": "stderr",
     "output_type": "stream",
     "text": [
      "ERROR: 2023-10-12 13:32:50,984: _base_geological_feature.py:73 -- Model not set\n",
      "ERROR: 2023-10-12 13:32:50,985: _base_geological_feature.py:73 -- Model not set\n",
      "ERROR: 2023-10-12 13:32:50,986: _base_geological_feature.py:73 -- Model not set\n"
     ]
    },
    {
     "name": "stdout",
     "output_type": "stream",
     "text": [
      "Cannot use region\n",
      "Cannot use region\n",
      "Cannot use region\n",
      "Cannot use region\n",
      "Cannot use region\n",
      "Cannot use region\n"
     ]
    },
    {
     "data": {
      "application/vnd.jupyter.widget-view+json": {
       "model_id": "ef03503f554d40b7b998523a0e99f342",
       "version_major": 2,
       "version_minor": 0
      },
      "text/plain": [
       "  0%|          | 0/3 [00:00<?, ?it/s]"
      ]
     },
     "metadata": {},
     "output_type": "display_data"
    },
    {
     "name": "stderr",
     "output_type": "stream",
     "text": [
      "ERROR: 2023-10-12 13:33:10,757: _geological_feature_builder.py:213 -- Not enough constraints for scalar field add more\n",
      "WARNING: 2023-10-12 13:33:11,206: _discrete_interpolator.py:796 -- No solution, s1__2 scalar field 0. Add more data.\n"
     ]
    }
   ],
   "source": [
    "# build the s1 fold frame\n",
    "s1 = model.create_and_add_fold_frame('s1',\n",
    "                                          buffer=0.3,\n",
    "                                          solver='pyamg',\n",
    "                                          nelements=2e4,\n",
    "                                        damp=True)\n",
    "model.update()"
   ]
  },
  {
   "cell_type": "markdown",
   "id": "5b722826-5f31-4452-910c-c094e6e23d84",
   "metadata": {},
   "source": [
    "###### **3.1. Display the fold frame**"
   ]
  },
  {
   "cell_type": "code",
   "execution_count": 8,
   "id": "545bef65-f692-4a68-8196-8cc97ceea65a",
   "metadata": {},
   "outputs": [],
   "source": [
    "# 3D displaying the s1 fold frame\n",
    "viewer = LavaVuModelViewer(model, background='white')\n",
    "viewer.add_isosurface(s1[0], colour='red')\n",
    "viewer.add_isosurface(s1[1], colour='blue')\n",
    "viewer.add_data(s1[0], disks=False, vectors=True, colour='red')\n",
    "viewer.add_data(s1[1], disks=False, vectors=True, colour='blue')\n",
    "# t = viewer.add_scalar_field(s1[0], cmap='prism')\n",
    "# viewer.lv.colourbar(t, align=(\"bottom\"))\n",
    "viewer.lv.rotate([-63.015506744384766, -24.475210189819336, -8.501092910766602])\n",
    "viewer.display()\n",
    "viewer.interactive()"
   ]
  },
  {
   "cell_type": "markdown",
   "id": "231264f0-bfc7-4eb3-b9bd-8090b9e6bf93",
   "metadata": {},
   "source": [
    "###### **4. Define the fold limb rotation angle profile**"
   ]
  },
  {
   "cell_type": "code",
   "execution_count": 9,
   "id": "3904cf00-a060-4af1-be4a-1fe1dd8bde2e",
   "metadata": {},
   "outputs": [],
   "source": [
    "#Define functions to create an S-Plot\n",
    "def fold_limb_rotation_profile(c0, c1, c2, wl):\n",
    "\n",
    "    theta = [c0, c1, c2, wl]\n",
    "    x = np.linspace(s1[0].min(), s1[0].max(), 2000)\n",
    "    flr = np.rad2deg(np.arctan(fourier_series(x, *theta)))\n",
    "    # fold_limb_rotation = FoldRotationAngle(flr, x) \n",
    "    # fold_limb_rotation.fitted_params = theta\n",
    "    # fold_limb_rotation.set_function(lambda x: np.rad2deg(\n",
    "    #                 np.arctan(fourier_series(x, *theta))))\n",
    "    plt.ylim(-90, 90)\n",
    "    plt.xlabel('Fold Axial Surface Field')\n",
    "    plt.ylabel('Fold Limb Rotation Angle')\n",
    "    plt.title('Fold Limb S-Plot')\n",
    "    plt.plot(x, flr)\n",
    "    plt.show()\n",
    "    \n",
    "    return flr, x\n",
    "\n",
    "def define_fold_axis_orientation(plunge_direction, plunge): \n",
    "    \n",
    "    fold_axis = plunge_and_plunge_dir_to_vector(plunge, plunge_direction)\n",
    "    \n",
    "    return fold_axis"
   ]
  },
  {
   "cell_type": "code",
   "execution_count": 26,
   "id": "4e2caf61-a3be-4b6c-885c-3a6f6c94ebec",
   "metadata": {},
   "outputs": [
    {
     "data": {
      "image/png": "[encoded data removed]",
      "text/plain": [
       "<Figure size 640x480 with 1 Axes>"
      ]
     },
     "metadata": {},
     "output_type": "display_data"
    }
   ],
   "source": [
    "theta = [0, 2e-2, 2e-2, 500]\n",
    "fold_limb_rotation, x = fold_limb_rotation_profile(*theta)"
   ]
  },
  {
   "cell_type": "markdown",
   "id": "85aea2ed-f096-40cc-bdc6-79998ee9ca93",
   "metadata": {},
   "source": [
    "###### **5. Random sampling of the fold limb rotation curve**\n",
    "\n",
    "Here, we will randomly sample the fold limb rotation angle curve and use the sample points as data points for the Fourier Series optimisation.  \n",
    "Sampling the curve can be done by interactively changing the value of the sample size in the slider below. "
   ]
  },
  {
   "cell_type": "code",
   "execution_count": null,
   "id": "48b82a47-0cb1-4541-a8c6-fdaf452ee892",
   "metadata": {},
   "outputs": [],
   "source": [
    "def sample_randomly(fold_frame_coordinate, fold_limb_rotation, sample_size, seed=180):\n",
    "    np.random.seed(seed)\n",
    "    n = np.arange(len(fold_frame_coordinate))\n",
    "    sample_size = sample_size\n",
    "    indices = np.random.choice(n, sample_size, replace=False)\n",
    "    flr = fold_limb_rotation[indices]\n",
    "    fld = fold_frame_coordinate[indices]\n",
    "    return fld, flr\n",
    "    \n",
    "def update(sample_size):\n",
    "    global fld, flr\n",
    "    fld, flr = sample_randomly(x, fold_limb_rotation, sample_size)\n",
    "    plt.ylim(-90, 90)\n",
    "    plt.xlabel('Fold Axial Surface Field')\n",
    "    plt.ylabel('Fold Limb Rotation Angle')\n",
    "    plt.title('Fold Limb S-Plot')\n",
    "    plt.plot(x, fold_limb_rotation, color='black', label='Reference model')\n",
    "    plt.scatter(fld, flr, color='blue', label='Random data points')\n",
    "    plt.legend()\n",
    "    plt.show()\n",
    "    # return fld, flr\n",
    "\n",
    "# Create a slider for sample_size\n",
    "sample_size_slider = widgets.IntSlider(\n",
    "    value=6,\n",
    "    min=1,\n",
    "    max=100,\n",
    "    step=1,\n",
    "    description='Sample Size:',\n",
    "    continuous_update=True\n",
    ")\n",
    "\n",
    "# Use interact to create the interactive widget\n",
    "interactive_sampling = interactive(update, sample_size=sample_size_slider)\n",
    "display(interactive_sampling)\n",
    "# fld, flr = interactive_sampling.result"
   ]
  },
  {
   "cell_type": "markdown",
   "id": "e5ba534a-58a0-4adf-b8b8-50aea41b90c6",
   "metadata": {},
   "source": [
    "###### **6. Input geological knowledge**  \n",
    "\n",
    "Now, we can add geological knowledge to the optimisation process. Here, \"geological knowledge\" refers to the indirect observations made by geologists in the field, such as the tightness, asymmetry, and axial traces. \n",
    "\n",
    "The geological knowledge is added to the optimisation as a Python dictionary called `geological_knowledge`. The `geological_knowledge` dictionary contains three sub-dictionaries: \n",
    "- `'fold_limb_rotation_angle': {}`\n",
    "- `'fold_axis_rotation_angle': {}`\n",
    "- `'fold_axial_surface': {}`\n",
    "\n",
    "These can be filled interactively."
   ]
  },
  {
   "cell_type": "code",
   "execution_count": 12,
   "id": "c2b03732-4a58-4580-ba0e-324cf8d179a0",
   "metadata": {},
   "outputs": [
    {
     "data": {
      "application/vnd.jupyter.widget-view+json": {
       "model_id": "059143dd72a1462784111648f91363b5",
       "version_major": 2,
       "version_minor": 0
      },
      "text/plain": [
       "VBox(children=(Dropdown(description='Major Constraint:', options=('fold_limb_rotation_angle', 'fold_axis_rotat…"
      ]
     },
     "metadata": {},
     "output_type": "display_data"
    }
   ],
   "source": [
    "# Initial dictionary structure\n",
    "geological_knowledge = {\n",
    "    'fold_limb_rotation_angle': {},\n",
    "    'fold_axis_rotation_angle': {},\n",
    "    'fold_axial_surface': {}\n",
    "}\n",
    "\n",
    "# Mapping of Major Constraints to their sub-constraints\n",
    "sub_constraints = {\n",
    "    'fold_limb_rotation_angle': ['tightness', 'asymmetry', 'fold_wavelength', 'axial_trace_1', 'axial_traces_2', 'axial_traces_3', 'axial_traces_4'],\n",
    "    'fold_axis_rotation_angle': ['hinge_angle', 'fold_axis_wavelength'],\n",
    "    'fold_axial_surface': ['axial_surface'],\n",
    "}\n",
    "\n",
    "def create_mu_widgets():\n",
    "    mu_widgets = [\n",
    "        widgets.FloatText(value=0, description=f'mu[{i}]') for i in range(3)\n",
    "    ]\n",
    "    return widgets.HBox(mu_widgets)\n",
    "\n",
    "axial_surface_mu = create_mu_widgets()\n",
    "def create_value_widgets():\n",
    "    selected_constraint = constraint_dropdown.value\n",
    "    selected_sub_constraint = sub_constraint_dropdown.value\n",
    "    if selected_constraint == 'fold_axial_surface' and selected_sub_constraint == 'axial_surface':\n",
    "        mu_widget = create_mu_widgets()\n",
    "        return {\n",
    "        'mu': mu_widget,\n",
    "        'kappa': widgets.FloatText(value=5, description='kappa'),\n",
    "        'w': widgets.FloatText(value=1, description='w')\n",
    "    }\n",
    "    else:\n",
    "        mu_widget = widgets.FloatText(value=0, description='mu')\n",
    "    return {\n",
    "        'mu': mu_widget,\n",
    "        'sigma': widgets.FloatText(value=0, description='sigma'),\n",
    "        'w': widgets.FloatText(value=1, description='w')\n",
    "    }\n",
    "\n",
    "def on_add_button_click(button):\n",
    "    selected_constraint = constraint_dropdown.value\n",
    "    selected_sub_constraint = sub_constraint_dropdown.value\n",
    "    values = {}\n",
    "    for k, v in value_widgets.items():\n",
    "        if isinstance(v, widgets.HBox):\n",
    "            # Assuming mu is the only HBox and is always composed of three FloatText widgets\n",
    "            values[k] = [w.value for w in v.children]\n",
    "        else:\n",
    "            values[k] = v.value\n",
    "    geological_knowledge[selected_constraint][selected_sub_constraint] = values\n",
    "    with output:\n",
    "        clear_output()\n",
    "        print(geological_knowledge)\n",
    "\n",
    "def on_constraint_change(change):\n",
    "    new_value = change.get('new', None)\n",
    "    sub_constraint_dropdown.options = sub_constraints.get(new_value, [])\n",
    "    # Only call on_sub_constraint_change if form is defined\n",
    "    if 'form' in globals():\n",
    "        on_sub_constraint_change({'new': sub_constraint_dropdown.value})\n",
    "\n",
    "def on_sub_constraint_change(change):\n",
    "    global value_widgets\n",
    "    value_widgets = create_value_widgets()\n",
    "    form.children = [constraint_dropdown, sub_constraint_dropdown] + list(value_widgets.values()) + [add_button, output]\n",
    "\n",
    "# Dropdown for constraints\n",
    "constraint_dropdown = widgets.Dropdown(options=list(sub_constraints.keys()), description='Major Constraint:')\n",
    "constraint_dropdown.observe(on_constraint_change, names='value')\n",
    "\n",
    "# Dropdown for sub-constraints\n",
    "sub_constraint_dropdown = widgets.Dropdown(description='Sub-Constraint:')\n",
    "sub_constraint_dropdown.observe(on_sub_constraint_change, names='value')\n",
    "\n",
    "# Button to add the details\n",
    "add_button = widgets.Button(description=\"Add Details\")\n",
    "add_button.on_click(on_add_button_click)\n",
    "\n",
    "# Output widget to display the generated dictionary\n",
    "output = widgets.Output()\n",
    "\n",
    "# Initial value widgets\n",
    "value_widgets = create_value_widgets()\n",
    "\n",
    "# Form to hold all the widgets\n",
    "form = widgets.VBox([constraint_dropdown, sub_constraint_dropdown] + list(value_widgets.values()) + [add_button, output])\n",
    "\n",
    "# Initial setup\n",
    "on_constraint_change({'new': constraint_dropdown.value})\n",
    "\n",
    "display(form)"
   ]
  },
  {
   "cell_type": "code",
   "execution_count": 13,
   "id": "8d22cad6-c1ed-4088-ac50-b8278bb54052",
   "metadata": {},
   "outputs": [
    {
     "data": {
      "text/plain": [
       "{'fold_limb_rotation_angle': {},\n",
       " 'fold_axis_rotation_angle': {},\n",
       " 'fold_axial_surface': {}}"
      ]
     },
     "execution_count": 13,
     "metadata": {},
     "output_type": "execute_result"
    }
   ],
   "source": [
    "geological_knowledge"
   ]
  },
  {
   "cell_type": "code",
   "execution_count": 14,
   "id": "e8a58863-3b4a-475e-b2aa-2fcc316fd6fd",
   "metadata": {},
   "outputs": [],
   "source": [
    "# geological_knowledge = { \n",
    "#     'fold_limb_rotation_angle': {\n",
    "#         'tightness': {'mu':60, 'sigma':10, 'w':1},\n",
    "#         'asymmetry': {'mu':0, 'sigma':0.1, 'w':1},\n",
    "#         # 'fold_wavelength': {'mu':500, 'sigma':50, 'w':1},\n",
    "#     }\n",
    "# } "
   ]
  },
  {
   "cell_type": "code",
   "execution_count": 15,
   "id": "1d5aa493-3b1f-46bd-ba20-1e63f6214a62",
   "metadata": {},
   "outputs": [
    {
     "name": "stdout",
     "output_type": "stream",
     "text": [
      "{}\n"
     ]
    }
   ],
   "source": [
    "keys_to_delete = [key for key, value in geological_knowledge.items() if not value]\n",
    "for key in keys_to_delete:\n",
    "    del geological_knowledge[key]\n",
    "\n",
    "print(geological_knowledge)"
   ]
  },
  {
   "cell_type": "code",
   "execution_count": 18,
   "id": "c51a51d0-22d4-4e79-89d6-33901a5338a2",
   "metadata": {},
   "outputs": [],
   "source": [
    "fourier_optimiser = FSO(fld, flr, x, method='differential_evolution',)"
   ]
  },
  {
   "cell_type": "code",
   "execution_count": 19,
   "id": "d0d9c7af-b623-4ff4-9dde-8564e50267aa",
   "metadata": {},
   "outputs": [],
   "source": [
    "opt = fourier_optimiser.optimise(geological_knowledge=geological_knowledge)"
   ]
  },
  {
   "cell_type": "code",
   "execution_count": 20,
   "id": "a264eabb-9356-43d5-a4b8-57c1d77b0486",
   "metadata": {},
   "outputs": [
    {
     "data": {
      "image/png": "[encoded data removed]",
      "text/plain": [
       "<Figure size 640x480 with 1 Axes>"
      ]
     },
     "metadata": {},
     "output_type": "display_data"
    }
   ],
   "source": [
    "plt.ylim(-90, 90)\n",
    "plt.xlabel('Fold Axial Surface Field')\n",
    "plt.ylabel('Fold Limb Rotation Angle')\n",
    "plt.title('Fold Limb S-Plot')\n",
    "plt.plot(x, fold_limb_rotation, color='black')\n",
    "plt.plot(x, np.rad2deg(np.arctan(fourier_series(x, *opt.x))), color='red')\n",
    "plt.scatter(fld, flr)\n",
    "plt.show()"
   ]
  },
  {
   "cell_type": "code",
   "execution_count": null,
   "id": "2bb7a21c-34ec-4ba7-834f-492ba6f6618e",
   "metadata": {},
   "outputs": [],
   "source": []
  }
 ],
 "metadata": {
  "kernelspec": {
   "display_name": "Python 3 (ipykernel)",
   "language": "python",
   "name": "python3"
  },
  "language_info": {
   "codemirror_mode": {
    "name": "ipython",
    "version": 3
   },
   "file_extension": ".py",
   "mimetype": "text/x-python",
   "name": "python",
   "nbconvert_exporter": "python",
   "pygments_lexer": "ipython3",
   "version": "3.9.5"
  }
 },
 "nbformat": 4,
 "nbformat_minor": 5
}
