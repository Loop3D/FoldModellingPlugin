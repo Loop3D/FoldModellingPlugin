{
 "cells": [
  {
   "cell_type": "code",
   "execution_count": 1,
   "id": "323dd301-8400-451a-8b98-d828586ae624",
   "metadata": {},
   "outputs": [],
   "source": [
    "# pip install meshio"
   ]
  },
  {
   "cell_type": "code",
   "execution_count": 2,
   "id": "85151442-4ba4-4668-bca3-c8bdd7e2ded9",
   "metadata": {},
   "outputs": [
    {
     "name": "stderr",
     "output_type": "stream",
     "text": [
      "WARNING: 2023-10-11 10:41:41,518: __init__.py:24 -- Cannot use LoopProjectfileProcessor: Loop project file cannot be imported, try installing LoopProjectFile\n",
      "WARNING: 2023-10-11 10:41:41,643: __init__.py:75 -- Can't import surfepy - to install \"pip install surfe\"\n",
      "WARNING: 2023-10-11 10:41:41,644: __init__.py:77 -- Using experimental interpolators: P1Interpolator and P2Interpolator\n",
      "ERROR: 2023-10-11 10:41:42,719: __init__.py:21 -- Cannot use sphinx scraper, pip install -r docs/requirements.txt\n",
      "ERROR: 2023-10-11 10:41:42,723: __init__.py:25 -- Missing lavavu, can't import LavaVuModelViewer\n"
     ]
    }
   ],
   "source": [
    "from FoldModellingPlugin.FoldModellingPlugin.optimisers import FourierSeriesOptimiser as FSO\n",
    "from FoldModellingPlugin.FoldModellingPlugin.helper.utils import create_fold_frame_dataset\n",
    "from LoopStructural import GeologicalModel\n",
    "from LoopStructural.modelling.features.fold import FoldEvent\n",
    "# from LoopStructural.visualisation import LavaVuModelViewer\n",
    "# from custom_model_visualisation import LavaVuModelViewer\n",
    "from LoopStructural.visualisation import MapView\n",
    "from LoopStructural.visualisation import RotationAnglePlotter\n",
    "from LoopStructural.modelling.features.fold import FoldRotationAngle, SVariogram\n",
    "from LoopStructural.modelling.features import StructuralFrame, GeologicalFeature\n",
    "from LoopStructural.modelling.features.fold import fourier_series\n",
    "from LoopStructural.utils.helper import create_surface, create_box, get_data_bounding_box, normal_vector_to_strike_and_dip, plunge_and_plunge_dir_to_vector\n",
    "import os\n",
    "import time\n",
    "import numpy as np\n",
    "import pandas as pd\n",
    "from scipy.optimize import least_squares\n",
    "import seaborn as sns \n",
    "import matplotlib\n",
    "import matplotlib.pyplot as plt\n",
    "%matplotlib inline \n",
    "from sklearn.neighbors import NearestNeighbors\n",
    "from IPython.display import display\n",
    "import ipywidgets as widgets\n",
    "from ipywidgets import IntProgress"
   ]
  },
  {
   "cell_type": "markdown",
   "id": "2d36a9e4-799d-4db0-821a-e48052b7abea",
   "metadata": {},
   "source": [
    "# I. Creation of a synthetic model\n",
    "\n",
    "1. Define model bounding box"
   ]
  },
  {
   "cell_type": "code",
   "execution_count": 3,
   "id": "70b780ab-9d29-4222-a70c-b7d2781c7e72",
   "metadata": {},
   "outputs": [],
   "source": [
    "# define the naximum value of xyz model box boundaries\n",
    "xmin = 0\n",
    "ymin = 0\n",
    "zmin = 0\n",
    "xmax = 1000\n",
    "ymax = 1000\n",
    "zmax = 1000\n",
    "bounding_box = np.array([[xmin, ymin, zmin],\n",
    "               [xmax, ymax, zmax]])"
   ]
  },
  {
   "cell_type": "markdown",
   "id": "373fd7fb-4cd0-4d0b-a7d3-2233fd9797f7",
   "metadata": {},
   "source": [
    "2. Initialise a geological model "
   ]
  },
  {
   "cell_type": "code",
   "execution_count": 4,
   "id": "175e633d-7ab1-4653-92a4-5cccf958f71c",
   "metadata": {},
   "outputs": [],
   "source": [
    "# initiliase geological model by initialising GeologicalModel class\n",
    "model = GeologicalModel(bounding_box[0, :], \n",
    "                        bounding_box[1, :])"
   ]
  },
  {
   "cell_type": "markdown",
   "id": "0fd45e6b-60ea-4aaf-a29a-65c54c9e3c7c",
   "metadata": {},
   "source": [
    "3. Build a fold frame"
   ]
  },
  {
   "cell_type": "code",
   "execution_count": 5,
   "id": "d62fb253-e826-4590-83f3-785677d5551d",
   "metadata": {},
   "outputs": [],
   "source": [
    "# Create a dataset for s1 to build a fold frame \n",
    "dataset, xyz = create_fold_frame_dataset(model, strike=0, dip=90)\n",
    "# add data to the initiliased geological model\n",
    "model.data = dataset"
   ]
  },
  {
   "cell_type": "code",
   "execution_count": 6,
   "id": "d6244f0e-6a06-4ff6-a23d-c9015300ed67",
   "metadata": {},
   "outputs": [
    {
     "name": "stderr",
     "output_type": "stream",
     "text": [
      "ERROR: 2023-10-11 10:41:43,761: _base_geological_feature.py:73 -- Model not set\n",
      "ERROR: 2023-10-11 10:41:43,762: _base_geological_feature.py:73 -- Model not set\n",
      "ERROR: 2023-10-11 10:41:43,762: _base_geological_feature.py:73 -- Model not set\n"
     ]
    },
    {
     "name": "stdout",
     "output_type": "stream",
     "text": [
      "Cannot use region\n",
      "Cannot use region\n",
      "Cannot use region\n",
      "Cannot use region\n",
      "Cannot use region\n",
      "Cannot use region\n"
     ]
    },
    {
     "data": {
      "application/vnd.jupyter.widget-view+json": {
       "model_id": "65a8419d4a33409492fec2a84094b000",
       "version_major": 2,
       "version_minor": 0
      },
      "text/plain": [
       "  0%|          | 0/3 [00:00<?, ?it/s]"
      ]
     },
     "metadata": {},
     "output_type": "display_data"
    },
    {
     "name": "stderr",
     "output_type": "stream",
     "text": [
      "ERROR: 2023-10-11 10:42:05,574: _geological_feature_builder.py:213 -- Not enough constraints for scalar field add more\n",
      "WARNING: 2023-10-11 10:42:06,107: _discrete_interpolator.py:796 -- No solution, s1__2 scalar field 0. Add more data.\n"
     ]
    }
   ],
   "source": [
    "# build the s1 fold frame\n",
    "s1 = model.create_and_add_fold_frame('s1',\n",
    "                                          buffer=0.3,\n",
    "                                          solver='pyamg',\n",
    "                                          nelements=2e4,\n",
    "                                        damp=True)\n",
    "model.update()"
   ]
  },
  {
   "cell_type": "code",
   "execution_count": 7,
   "id": "ccfc157e-8ed9-4299-afa9-6c349895db3a",
   "metadata": {},
   "outputs": [
    {
     "data": {
      "text/plain": [
       "array([[ 6.40723899e-08, -1.00000002e+00, -1.93466567e-08],\n",
       "       [ 8.13423424e-08, -1.00000001e+00,  4.61577354e-09],\n",
       "       [ 6.50102605e-09, -9.99999984e-01,  1.25199353e-08],\n",
       "       ...,\n",
       "       [-7.47955127e-08, -1.00000007e+00,  2.21790740e-07],\n",
       "       [-5.59494906e-08, -9.99999958e-01,  3.16145519e-07],\n",
       "       [ 2.94218303e-08, -9.99999934e-01,  1.95581184e-07]])"
      ]
     },
     "execution_count": 7,
     "metadata": {},
     "output_type": "execute_result"
    }
   ],
   "source": [
    "s1[1].evaluate_gradient(xyz)"
   ]
  },
  {
   "cell_type": "code",
   "execution_count": 8,
   "id": "545bef65-f692-4a68-8196-8cc97ceea65a",
   "metadata": {},
   "outputs": [],
   "source": [
    "# # 3D displaying the s1 fold frame\n",
    "# # import lavavu\n",
    "# viewer = LavaVuModelViewer(model, background='white')\n",
    "# viewer.add_isosurface(s1[0], colour='red')\n",
    "# viewer.add_isosurface(s1[1], colour='blue')\n",
    "# viewer.add_data(s1[0], disks=False, vectors=True, colour='red')\n",
    "# viewer.add_data(s1[1], disks=False, vectors=True, colour='blue')\n",
    "# # t = viewer.add_scalar_field(s1[0], cmap='prism')\n",
    "# # viewer.lv.colourbar(t, align=(\"bottom\"))\n",
    "# viewer.lv.rotate([-63.015506744384766, -24.475210189819336, -8.501092910766602])\n",
    "# viewer.display()\n",
    "# viewer.interactive()"
   ]
  },
  {
   "cell_type": "markdown",
   "id": "231264f0-bfc7-4eb3-b9bd-8090b9e6bf93",
   "metadata": {},
   "source": [
    "4. Define the fold limb rotation angle profile"
   ]
  },
  {
   "cell_type": "code",
   "execution_count": 9,
   "id": "3904cf00-a060-4af1-be4a-1fe1dd8bde2e",
   "metadata": {},
   "outputs": [],
   "source": [
    "def fold_limb_rotation_profile(c0, c1, c2, wl):\n",
    "\n",
    "    theta = [c0, c1, c2, wl]\n",
    "    x = np.linspace(s1[0].min(), s1[0].max(), 100)\n",
    "    flr = np.rad2deg(np.arctan(fourier_series(x, *theta)))\n",
    "    # fold_limb_rotation = FoldRotationAngle(flr, x) \n",
    "    # fold_limb_rotation.fitted_params = theta\n",
    "    # fold_limb_rotation.set_function(lambda x: np.rad2deg(\n",
    "    #                 np.arctan(fourier_series(x, *theta))))\n",
    "    plt.ylim(-90, 90)\n",
    "    plt.xlabel('Fold Axial Surface Field')\n",
    "    plt.ylabel('Fold Limb Rotation Angle')\n",
    "    plt.title('Fold Limb S-Plot')\n",
    "    plt.plot(x, flr)\n",
    "    plt.show()\n",
    "    \n",
    "    return flr, x\n",
    "\n",
    "def define_fold_axis_orientation(plunge_direction, plunge): \n",
    "    \n",
    "    fold_axis = plunge_and_plunge_dir_to_vector(plunge, plunge_direction)\n",
    "    \n",
    "    return fold_axis"
   ]
  },
  {
   "cell_type": "code",
   "execution_count": 10,
   "id": "4e2caf61-a3be-4b6c-885c-3a6f6c94ebec",
   "metadata": {},
   "outputs": [
    {
     "data": {
      "image/png": "[encoded data removed]",
      "text/plain": [
       "<Figure size 640x480 with 1 Axes>"
      ]
     },
     "metadata": {},
     "output_type": "display_data"
    }
   ],
   "source": [
    "theta = [0, 2e-2, 2e-2, 500]\n",
    "fold_limb_rotation, x = fold_limb_rotation_profile(*theta)"
   ]
  },
  {
   "cell_type": "code",
   "execution_count": 11,
   "id": "543c6ed4-dc45-40b6-b5a3-baf248ea6ccd",
   "metadata": {},
   "outputs": [],
   "source": [
    "np.random.seed(180)\n",
    "n = np.arange(len(x))\n",
    "sample_size = 10\n",
    "indices = np.random.choice(n, sample_size, replace=False)\n",
    "flr = fold_limb_rotation[indices]\n",
    "fld = x[indices]"
   ]
  },
  {
   "cell_type": "code",
   "execution_count": 12,
   "id": "e8a58863-3b4a-475e-b2aa-2fcc316fd6fd",
   "metadata": {},
   "outputs": [],
   "source": [
    "geological_knowledge = { \n",
    "    'fold_limb_rotation_angle': {\n",
    "        'tightness': {'mu':60, 'sigma':10, 'w':1},\n",
    "        'asymmetry': {'mu':0, 'sigma':0.1, 'w':1},\n",
    "        # 'fold_wavelength': {'mu':500, 'sigma':50, 'w':1},\n",
    "    }\n",
    "} "
   ]
  },
  {
   "cell_type": "code",
   "execution_count": 13,
   "id": "c51a51d0-22d4-4e79-89d6-33901a5338a2",
   "metadata": {},
   "outputs": [],
   "source": [
    "fourier_optimiser = FSO(fld, flr, x, method='differential_evolution')"
   ]
  },
  {
   "cell_type": "code",
   "execution_count": 14,
   "id": "d0d9c7af-b623-4ff4-9dde-8564e50267aa",
   "metadata": {},
   "outputs": [],
   "source": [
    "opt = fourier_optimiser.optimise(geological_knowledge=geological_knowledge)"
   ]
  },
  {
   "cell_type": "code",
   "execution_count": 15,
   "id": "a264eabb-9356-43d5-a4b8-57c1d77b0486",
   "metadata": {},
   "outputs": [
    {
     "data": {
      "image/png": "[encoded data removed]",
      "text/plain": [
       "<Figure size 640x480 with 1 Axes>"
      ]
     },
     "metadata": {},
     "output_type": "display_data"
    }
   ],
   "source": [
    "plt.ylim(-90, 90)\n",
    "plt.xlabel('Fold Axial Surface Field')\n",
    "plt.ylabel('Fold Limb Rotation Angle')\n",
    "plt.title('Fold Limb S-Plot')\n",
    "plt.plot(x, fold_limb_rotation, color='black')\n",
    "plt.plot(x, np.rad2deg(np.arctan(fourier_series(x, *opt.x))), color='red')\n",
    "plt.scatter(fld, flr)\n",
    "plt.show()"
   ]
  },
  {
   "cell_type": "code",
   "execution_count": 61,
   "id": "c2b03732-4a58-4580-ba0e-324cf8d179a0",
   "metadata": {},
   "outputs": [
    {
     "data": {
      "application/vnd.jupyter.widget-view+json": {
       "model_id": "27331cc9a6514d21aa8242c74a6d3a7e",
       "version_major": 2,
       "version_minor": 0
      },
      "text/plain": [
       "VBox(children=(Dropdown(description='Major Constraint:', options=('fold_limb_rotation_angle', 'fold_axis_rotat…"
      ]
     },
     "metadata": {},
     "output_type": "display_data"
    }
   ],
   "source": [
    "import ipywidgets as widgets\n",
    "from IPython.display import display, clear_output\n",
    "\n",
    "# Initial dictionary structure\n",
    "dict_structure = {\n",
    "    'fold_limb_rotation_angle': {},\n",
    "    'fold_axis_rotation_angle': {},\n",
    "    'fold_axial_surface': {}\n",
    "}\n",
    "\n",
    "# def create_value_widgets():\n",
    "#     return {\n",
    "#         'mu': widgets.FloatText(value=0, description='mu'),\n",
    "#         'sigma': widgets.FloatText(value=0, description='sigma'),\n",
    "#         'w': widgets.FloatText(value=1, description='w')\n",
    "#     }\n",
    "def create_mu_widgets():\n",
    "    mu_widgets = [\n",
    "        widgets.FloatText(value=0, description=f'mu[{i}]') for i in range(3)\n",
    "    ]\n",
    "    return widgets.HBox(mu_widgets)\n",
    "\n",
    "axial_surface_mu = create_mu_widgets()\n",
    "def create_value_widgets():\n",
    "    selected_constraint = constraint_dropdown.value\n",
    "    selected_sub_constraint = sub_constraint_dropdown.value\n",
    "    if selected_constraint == 'fold_axial_surface' and selected_sub_constraint == 'axial_surface':\n",
    "        mu_widget = create_mu_widgets()\n",
    "        return {\n",
    "        'mu': mu_widget,\n",
    "        'kappa': widgets.FloatText(value=5, description='kappa'),\n",
    "        'w': widgets.FloatText(value=1, description='w')\n",
    "    }\n",
    "    else:\n",
    "        mu_widget = widgets.FloatText(value=10, description='mu')\n",
    "    return {\n",
    "        'mu': mu_widget,\n",
    "        'sigma': widgets.FloatText(value=10, description='sigma'),\n",
    "        'w': widgets.FloatText(value=1, description='w')\n",
    "    }\n",
    "\n",
    "# def on_add_button_click(button):\n",
    "#     selected_constraint = constraint_dropdown.value\n",
    "#     selected_sub_constraint = sub_constraint_dropdown.value\n",
    "#     values = {k: v.value for k, v in value_widgets.items()}\n",
    "#     dict_structure[selected_constraint][selected_sub_constraint] = values\n",
    "#     with output:\n",
    "#         clear_output()\n",
    "#         print(dict_structure)\n",
    "\n",
    "def on_add_button_click(button):\n",
    "    selected_constraint = constraint_dropdown.value\n",
    "    selected_sub_constraint = sub_constraint_dropdown.value\n",
    "    values = {}\n",
    "    for k, v in value_widgets.items():\n",
    "        if isinstance(v, widgets.HBox):\n",
    "            # Assuming mu is the only HBox and is always composed of three FloatText widgets\n",
    "            values[k] = [w.value for w in v.children]\n",
    "        else:\n",
    "            values[k] = v.value\n",
    "    dict_structure[selected_constraint][selected_sub_constraint] = values\n",
    "    with output:\n",
    "        clear_output()\n",
    "        print(dict_structure)\n",
    "\n",
    "def on_constraint_change(change):\n",
    "    new_value = change.get('new', None)\n",
    "    sub_constraint_dropdown.options = sub_constraints.get(new_value, [])\n",
    "    # Only call on_sub_constraint_change if form is defined\n",
    "    if 'form' in globals():\n",
    "        on_sub_constraint_change({'new': sub_constraint_dropdown.value})\n",
    "\n",
    "def on_sub_constraint_change(change):\n",
    "    global value_widgets\n",
    "    value_widgets = create_value_widgets()\n",
    "    form.children = [constraint_dropdown, sub_constraint_dropdown] + list(value_widgets.values()) + [add_button, output]\n",
    "\n",
    "# Mapping of Major Constraints to their sub-constraints\n",
    "sub_constraints = {\n",
    "    'fold_limb_rotation_angle': ['tightness', 'asymmetry', 'fold_wavelength', 'axial_trace_1', 'axial_traces_2', 'axial_traces_3', 'axial_traces_4'],\n",
    "    # ... (similar mappings for other Major Constraints)\n",
    "    'fold_axis_rotation_angle': ['hinge_angle', 'fold_axis_wavelength'],\n",
    "    'fold_axial_surface': ['axial_surface'],\n",
    "}\n",
    "\n",
    "def display_dict_selection():\n",
    "    # Dropdown for constraints\n",
    "    constraint_dropdown = widgets.Dropdown(options=list(sub_constraints.keys()), description='Major Constraint:')\n",
    "    constraint_dropdown.observe(on_constraint_change, names='value')\n",
    "    \n",
    "    # Dropdown for sub-constraints\n",
    "    sub_constraint_dropdown = widgets.Dropdown(description='Sub-Constraint:')\n",
    "    sub_constraint_dropdown.observe(on_sub_constraint_change, names='value')\n",
    "    \n",
    "    # Button to add the details\n",
    "    add_button = widgets.Button(description=\"Add Details\")\n",
    "    add_button.on_click(on_add_button_click)\n",
    "    \n",
    "    # Output widget to display the generated dictionary\n",
    "    output = widgets.Output()\n",
    "    \n",
    "    # Initial value widgets\n",
    "    value_widgets = create_value_widgets()\n",
    "    \n",
    "    # Form to hold all the widgets\n",
    "    form = widgets.VBox([constraint_dropdown, sub_constraint_dropdown] + list(value_widgets.values()) + [add_button, output])\n",
    "    \n",
    "    # Initial setup\n",
    "    on_constraint_change({'new': constraint_dropdown.value})\n",
    "    \n",
    "    display(form)\n",
    "\n"
   ]
  },
  {
   "cell_type": "code",
   "execution_count": null,
   "id": "49df6ceb-78a8-45f9-af22-02920b36e75a",
   "metadata": {},
   "outputs": [],
   "source": []
  }
 ],
 "metadata": {
  "kernelspec": {
   "display_name": "Python 3 (ipykernel)",
   "language": "python",
   "name": "python3"
  },
  "language_info": {
   "codemirror_mode": {
    "name": "ipython",
    "version": 3
   },
   "file_extension": ".py",
   "mimetype": "text/x-python",
   "name": "python",
   "nbconvert_exporter": "python",
   "pygments_lexer": "ipython3",
   "version": "3.9.5"
  }
 },
 "nbformat": 4,
 "nbformat_minor": 5
}
