{
 "cells": [
  {
   "cell_type": "markdown",
   "id": "ace2df85-24c5-451e-b152-d042e6e229b9",
   "metadata": {},
   "source": [
    "<h1 align=\"center\">Fold modelling - Axial surface optimisation tutorial Part I</h1>\n"
   ]
  },
  {
   "cell_type": "markdown",
   "id": "ed171f34-7cee-4f4b-af67-909a4ef259af",
   "metadata": {},
   "source": [
    "#### Overview\n",
    "\n",
    "This tutorial demonstrates the use of a newly developed computational method for approximating fold axial surfaces. This section integrates algorithms proposed by Laurent et al. (2016) [Laurent et al. (2016)](https://linkinghub.elsevier.com/retrieve/pii/S0012821X16305209) with a data-driven approach from [Grose et al. (2017)](https://gmd.copernicus.org/articles/14/3915/2021/) and the geological likelihood functions of [Grose et al. (2019)](https://linkinghub.elsevier.com/retrieve/pii/S0191814118303638) to address the challenge of estimating planar fold axial surfaces in poorly outcropping regions.\n",
    "\n",
    "#### Solving the Axial Surface Optimization Problem\n",
    "\n",
    "The axial surface optimisation problem is addressed through a multi-step computational algorithm that involves:\n",
    "\n",
    "1. **Maximum Likelihood Estimation (MLE)**: The method uses MLE to estimate model parameters that define the axial surface: strike and dip or a 3D unit vector. MLE finds the most probable parameters (like the 3D unit vector representing the axial surface) by maximising a likelihood function based on the observed data and/or geological knowledge.\n",
    "\n",
    "2. **Incorporating Geological Knowledge**: A key aspect of this approach is the inclusion of geological knowledge constraints, such as fold tightness, asymmetry, and axial traces. These constraints are used to guide the optimisation process, ensuring that the resulting model aligns with observations and Structural Geological concepts.\n",
    "\n",
    "3. **Optimisation Techniques**: The method leverages optimisation techniques like the Differential Evolution algorithm, which helps in navigating complex parameter spaces and ensures a robust search for the optimal axial surface.\n",
    "\n",
    "4. **Objective Function the relationship between the folded foliation and axial surface**: An objective function is used to evaluate the geometrical relationship between the axial surface and the folded surface, ensuring the geometrical compatibility between the folded foliation and its axial surface.\n",
    "\n",
    "5. **Final Solution**: The result of this method is a data-driven and geologically informed model of the axial surface.\n",
    "\n",
    "##### Pre-requisites: \n",
    "- **[LoopStructural-Fold Frame tutorial](https://github.com/Loop3D/LoopStructural/blob/master/examples/2_fold/plot_adding_folds_to_surfaces.py)**\n",
    "- **[Fourier series optimisation tutorial](https://github.com/Loop3D/FoldOptLib/blob/main/FoldOptLib/examples/fourier_series_optimisation.ipynb)**\n"
   ]
  },
  {
   "cell_type": "code",
   "execution_count": 1,
   "id": "85151442-4ba4-4668-bca3-c8bdd7e2ded9",
   "metadata": {},
   "outputs": [
    {
     "name": "stderr",
     "output_type": "stream",
     "text": [
      "WARNING: 2023-10-26 11:08:47,928: __init__.py:18 -- Cannot use LoopProjectfileProcessor: Loop project file cannot be imported, try installing LoopProjectFile\n",
      "WARNING: 2023-10-26 11:08:48,005: __init__.py:64 -- Can't import surfepy - to install \"pip install surfe\"\n",
      "WARNING: 2023-10-26 11:08:48,006: __init__.py:66 -- Using experimental interpolators: P1Interpolator and P2Interpolator\n",
      "ERROR: 2023-10-26 11:08:50,046: __init__.py:21 -- Cannot use sphinx scraper, pip install -r docs/requirements.txt\n",
      "ERROR: 2023-10-26 11:08:50,050: __init__.py:25 -- Missing lavavu, can't import LavaVuModelViewer\n"
     ]
    }
   ],
   "source": [
    "from misc_functions import sample_random_dataset\n",
    "from FoldOptLib.FoldOptLib.optimisers import AxialSurfaceOptimiser as ASO\n",
    "from FoldOptLib.FoldOptLib.optimisers import FourierSeriesOptimiser as FSO\n",
    "from FoldOptLib.FoldOptLib.helper.utils import create_fold_frame_dataset, create_dataset, clean_knowledge_dict\n",
    "from LoopStructural import GeologicalModel\n",
    "from LoopStructural.modelling.features.fold import FoldEvent\n",
    "# from LoopStructural.visualisation import LavaVuModelViewer\n",
    "# from custom_model_visualisation import LavaVuModelViewer\n",
    "from LoopStructural.visualisation import MapView\n",
    "from LoopStructural.visualisation import RotationAnglePlotter\n",
    "from LoopStructural.modelling.features.fold import FoldRotationAngle, SVariogram\n",
    "from LoopStructural.modelling.features import StructuralFrame, GeologicalFeature\n",
    "from LoopStructural.modelling.features.fold import fourier_series\n",
    "from LoopStructural.utils.helper import create_surface, create_box, get_data_bounding_box, normal_vector_to_strike_and_dip, plunge_and_plunge_dir_to_vector\n",
    "import os\n",
    "import time\n",
    "import numpy as np\n",
    "import pandas as pd\n",
    "from scipy.optimize import least_squares\n",
    "import seaborn as sns \n",
    "import matplotlib\n",
    "import matplotlib.pyplot as plt\n",
    "%matplotlib inline \n",
    "from sklearn.neighbors import NearestNeighbors\n",
    "from IPython.display import display, clear_output\n",
    "import ipywidgets as widgets\n",
    "from ipywidgets import IntProgress, interact, interactive"
   ]
  },
  {
   "cell_type": "markdown",
   "id": "2d36a9e4-799d-4db0-821a-e48052b7abea",
   "metadata": {},
   "source": [
    "# I. Creation of a synthetic model  \n",
    "\n",
    "Like the Fourier series tutorial, we will start by creating a synthetic model. The synthetic model is the reference from within which we will sample data points that will be used to infer the axial surface.  \n",
    "\n",
    "1. Define model bounding box"
   ]
  },
  {
   "cell_type": "code",
   "execution_count": 2,
   "id": "70b780ab-9d29-4222-a70c-b7d2781c7e72",
   "metadata": {},
   "outputs": [],
   "source": [
    "# define the maximum value of xyz model box boundaries\n",
    "xmin, ymin, zmin = 0, 0, 0\n",
    "xmax, ymax, zmax = 1000, 1000, 1000\n",
    "\n",
    "bounding_box = np.array([[xmin, ymin, zmin],\n",
    "               [xmax, ymax, zmax]])"
   ]
  },
  {
   "cell_type": "markdown",
   "id": "373fd7fb-4cd0-4d0b-a7d3-2233fd9797f7",
   "metadata": {},
   "source": [
    "2. Initialise a geological model "
   ]
  },
  {
   "cell_type": "code",
   "execution_count": 3,
   "id": "175e633d-7ab1-4653-92a4-5cccf958f71c",
   "metadata": {},
   "outputs": [],
   "source": [
    "# initiliase geological model by initialising GeologicalModel class\n",
    "model = GeologicalModel(bounding_box[0, :], \n",
    "                        bounding_box[1, :])"
   ]
  },
  {
   "cell_type": "markdown",
   "id": "0fd45e6b-60ea-4aaf-a29a-65c54c9e3c7c",
   "metadata": {},
   "source": [
    "3. Build a fold frame"
   ]
  },
  {
   "cell_type": "code",
   "execution_count": 4,
   "id": "d62fb253-e826-4590-83f3-785677d5551d",
   "metadata": {},
   "outputs": [],
   "source": [
    "# Create a dataset for s1 to build a fold frame \n",
    "dataset, xyz = create_fold_frame_dataset(model, strike=0, dip=90)\n",
    "# add data to the initiliased geological model\n",
    "model.data = dataset"
   ]
  },
  {
   "cell_type": "code",
   "execution_count": 5,
   "id": "d6244f0e-6a06-4ff6-a23d-c9015300ed67",
   "metadata": {
    "scrolled": true
   },
   "outputs": [
    {
     "data": {
      "application/vnd.jupyter.widget-view+json": {
       "model_id": "d9ad4f8b5e454f3bb1547032f643867d",
       "version_major": 2,
       "version_minor": 0
      },
      "text/plain": [
       "  0%|          | 0/3 [00:00<?, ?it/s]"
      ]
     },
     "metadata": {},
     "output_type": "display_data"
    },
    {
     "name": "stderr",
     "output_type": "stream",
     "text": [
      "ERROR: 2023-10-26 11:09:23,161: _geological_feature_builder.py:266 -- Not enough constraints for scalar field add more\n",
      "WARNING: 2023-10-26 11:09:24,039: _discrete_interpolator.py:735 -- No solution, s1__2 scalar field 0. Add more data.\n"
     ]
    }
   ],
   "source": [
    "# build the s1 fold frame\n",
    "s1 = model.create_and_add_fold_frame('s1',\n",
    "                                          buffer=0.3,\n",
    "                                          solver='cg',\n",
    "                                          nelements=2e4,\n",
    "                                        damp=True)\n",
    "model.update()"
   ]
  },
  {
   "cell_type": "code",
   "execution_count": 6,
   "id": "545bef65-f692-4a68-8196-8cc97ceea65a",
   "metadata": {},
   "outputs": [],
   "source": [
    "# # 3D displaying the s1 fold frame\n",
    "# # import lavavu\n",
    "# viewer = LavaVuModelViewer(model, background='white')\n",
    "# viewer.add_isosurface(s1[0], colour='red')\n",
    "# viewer.add_isosurface(s1[1], colour='blue')\n",
    "# viewer.add_data(s1[0], disks=False, vectors=True, colour='red')\n",
    "# viewer.add_data(s1[1], disks=False, vectors=True, colour='blue')\n",
    "# # t = viewer.add_scalar_field(s1[0], cmap='prism')\n",
    "# # viewer.lv.colourbar(t, align=(\"bottom\"))\n",
    "# viewer.lv.rotate([-63.015506744384766, -24.475210189819336, -8.501092910766602])\n",
    "# viewer.display()\n",
    "# viewer.interactive()"
   ]
  },
  {
   "cell_type": "markdown",
   "id": "231264f0-bfc7-4eb3-b9bd-8090b9e6bf93",
   "metadata": {},
   "source": [
    "4. Define the fold limb rotation angle profile"
   ]
  },
  {
   "cell_type": "code",
   "execution_count": 7,
   "id": "3904cf00-a060-4af1-be4a-1fe1dd8bde2e",
   "metadata": {},
   "outputs": [],
   "source": [
    "def fold_limb_rotation_profile(c0, c1, c2, wl):\n",
    "\n",
    "    theta = [c0, c1, c2, wl]\n",
    "    x = np.linspace(s1[0].min(), s1[0].max(), 100)\n",
    "    flr = np.rad2deg(np.arctan(fourier_series(x, *theta)))\n",
    "    fold_limb_rotation = FoldRotationAngle(flr, x) \n",
    "    fold_limb_rotation.fitted_params = theta\n",
    "    fold_limb_rotation.set_function(lambda x: np.rad2deg(\n",
    "                    np.arctan(fourier_series(x, *theta))))\n",
    "    plt.ylim(-90, 90)\n",
    "    plt.xlabel('Fold Axial Surface Field')\n",
    "    plt.ylabel('Fold Limb Rotation Angle')\n",
    "    plt.title('Fold Limb S-Plot')\n",
    "    plt.plot(x, flr)\n",
    "    plt.show()\n",
    "    \n",
    "    return fold_limb_rotation\n",
    "\n",
    "def define_fold_axis_orientation(plunge_direction, plunge): \n",
    "    \n",
    "    fold_axis = plunge_and_plunge_dir_to_vector(plunge, plunge_direction)\n",
    "    \n",
    "    return fold_axis"
   ]
  },
  {
   "cell_type": "code",
   "execution_count": 8,
   "id": "4e2caf61-a3be-4b6c-885c-3a6f6c94ebec",
   "metadata": {},
   "outputs": [
    {
     "data": {
      "image/png": "[encoded data removed]",
      "text/plain": [
       "<Figure size 640x480 with 1 Axes>"
      ]
     },
     "metadata": {},
     "output_type": "display_data"
    }
   ],
   "source": [
    "theta = [0, 2e-2, 2e-2, 500]\n",
    "fold_limb_rotation = fold_limb_rotation_profile(*theta)"
   ]
  },
  {
   "cell_type": "markdown",
   "id": "b97e280b-d104-4409-93c4-44090f57edb9",
   "metadata": {},
   "source": [
    "**5. Calculate the normal vectors to the folded foliation**\n",
    "\n",
    "The next lines of code define the orientation of the folded foliation within the fold frame. \n",
    "Let's break down the steps to understand the computations involved in this code snippet.\n",
    "\n",
    "###### **- Defining Fold Axis Orientation**\n",
    "Initially, the code defines a fold axis orientation based on a given plunge direction and plunge angle. The `define_fold_axis_orientation` function is used for this purpose, which returns the fold axis orientation vector.\n",
    "\n",
    "###### **- Creating a Fold Event**\n",
    "A `FoldEvent` object is created, representing a geological fold event. This object is initialised with the fold frame `s1` and the `fold_limb_rotation`. Later, the fold axis orientation vector `fold_axis` is assigned to this `FoldEvent` object.\n",
    "\n",
    "###### **- Computing Deformed Orientation**\n",
    "The `get_deformed_orientation` method is invoked on the `FoldEvent` object to compute the deformed orientation of the folded foliation. This method returns three values: the fold direction vectors, the fold axis vector, and the gradient of the scalar field of the X-axis of the fold frame.\n",
    "\n",
    "###### **- Normalizing Vectors**\n",
    "The gradient of S1, `dgx` and the fold direction vectors are normalized to ensure they have unit lengths.\n",
    "\n",
    "###### **- Correct fold direction vectors with S1**\n",
    "The dot product between `dgx` and the fold direction vectors is calculated to align any inverted fold direction vectors with the axial surface's direction to ensure consistency. If the dot product is negative, the fold direction vectors are inverted.\n",
    "\n",
    "###### **- Computing Normal Vectors**\n",
    "The normal vectors of the folded foliation are computed using the cross-product of the fold axis and the fold direction vectors. The cross-product yields a vector that is perpendicular to the plane defined by the fold axis and fold direction vectors."
   ]
  },
  {
   "cell_type": "code",
   "execution_count": 9,
   "id": "90798020-6a14-4723-bc9f-b2553cc514a1",
   "metadata": {},
   "outputs": [],
   "source": [
    "plunge_direction = 0\n",
    "plunge = 0\n",
    "fold_axis = define_fold_axis_orientation(plunge_direction, plunge)\n",
    "fold = FoldEvent(s1, fold_limb_rotation=fold_limb_rotation)\n",
    "fold.fold_axis = fold_axis \n",
    "fold_direction, fold_axis, dgz = fold.get_deformed_orientation(xyz)\n",
    "dgx = s1[0].evaluate_gradient(xyz)\n",
    "dgx /= np.linalg.norm(dgx, axis=1)[:, None]\n",
    "# make sure fold direction vectors are normalised\n",
    "fold_direction /= np.linalg.norm(fold_direction, axis=1)[:, None]\n",
    "# calculate the dot product of the s1 and the fold direction\n",
    "dot = np.einsum('ij,ij->i', dgx, fold_direction)\n",
    "# correct the orientation of the fold direction vectors to be consistent\n",
    "# with the direction of the axial surface \n",
    "fold_direction[dot<0] *= -1\n",
    "# calculate the normal vectors of the folded foliation \n",
    "# which are the cross product of the fold axis and \n",
    "# the fold direction vectors\n",
    "s0n = np.cross(fold_axis, fold_direction)\n",
    "# normalise s0 normal vectors\n",
    "s0n /= np.linalg.norm(s0n, axis=1)[:, None]"
   ]
  },
  {
   "cell_type": "markdown",
   "id": "65457e15-18cb-41cb-84f0-d174afc441a5",
   "metadata": {},
   "source": [
    "6. Create a dataset for s0"
   ]
  },
  {
   "cell_type": "code",
   "execution_count": 10,
   "id": "45b87406-2785-4c76-b5cf-03ec5892eba1",
   "metadata": {},
   "outputs": [],
   "source": [
    "dataset = pd.DataFrame()\n",
    "dataset['X'] = xyz[:, 0]\n",
    "dataset['Y'] = xyz[:, 1]\n",
    "dataset['Z'] = xyz[:, 2]\n",
    "dataset['gx'] = s0n[:, 0]\n",
    "dataset['gy'] = s0n[:, 1]\n",
    "dataset['gz'] = s0n[:, 2]\n",
    "dataset['feature_name'] = 's0'\n",
    "dataset['coord'] = 0"
   ]
  },
  {
   "cell_type": "markdown",
   "id": "17a4e97e-5dab-4749-9c0e-70ff641aab95",
   "metadata": {},
   "source": [
    "7. Build a 3D model of s0"
   ]
  },
  {
   "cell_type": "code",
   "execution_count": 11,
   "id": "dcb49116-9275-40a5-8f6a-23244fb342d1",
   "metadata": {
    "scrolled": true
   },
   "outputs": [
    {
     "data": {
      "application/vnd.jupyter.widget-view+json": {
       "model_id": "7e8d023c9ec84e0ab09e0c685fd773e6",
       "version_major": 2,
       "version_minor": 0
      },
      "text/plain": [
       "  0%|          | 0/4 [00:00<?, ?it/s]"
      ]
     },
     "metadata": {},
     "output_type": "display_data"
    }
   ],
   "source": [
    "fold_function = fold_limb_rotation.fold_rotation_function\n",
    "model.data = dataset.sample(frac=0.2)\n",
    "s0 = model.create_and_add_folded_foliation('s0',\n",
    "                                           fold_frame=s1,\n",
    "                                            # limb_wl=500,\n",
    "                                            av_fold_axis=True,\n",
    "                                            limb_function=fold_function,\n",
    "                                            nelements=1e5,\n",
    "                                            solver='cg',\n",
    "                                            buffer=0.3,\n",
    "                                            damp=True)\n",
    "model.update()\n",
    "# s0.fold.fold_limb_rotation.fitted_params = theta"
   ]
  },
  {
   "cell_type": "markdown",
   "id": "df1df1cc-90a0-441a-b797-61e7cbe5e4e9",
   "metadata": {},
   "source": [
    "- Check the fold limb rotation angle if it is correct"
   ]
  },
  {
   "cell_type": "code",
   "execution_count": 12,
   "id": "4699a51d-e8c5-45fc-b278-de7a841f1ac6",
   "metadata": {},
   "outputs": [
    {
     "data": {
      "image/png": "[encoded data removed]",
      "text/plain": [
       "<Figure size 3000x1500 with 4 Axes>"
      ]
     },
     "metadata": {},
     "output_type": "display_data"
    }
   ],
   "source": [
    "s0.set_model(model)\n",
    "plotter = RotationAnglePlotter(s0)\n",
    "plotter.default_titles()\n",
    "plotter.add_fold_limb_data()\n",
    "plotter.add_fold_limb_curve()\n",
    "# plotter.add_limb_svariogram()\n",
    "plt.show()"
   ]
  },
  {
   "cell_type": "markdown",
   "id": "4fcd7eac-aebd-4ea1-bd00-5b59d43db34c",
   "metadata": {},
   "source": [
    "- Visualise the 3D model of s0"
   ]
  },
  {
   "cell_type": "code",
   "execution_count": 13,
   "id": "56c1c6ce-9ae3-47a3-9d98-597d5987a26f",
   "metadata": {
    "scrolled": true
   },
   "outputs": [],
   "source": [
    "# viewer = LavaVuModelViewer(model, background='white')\n",
    "# viewer.nsteps = np.array([100, 100, 100])\n",
    "# t = viewer.add_scalar_field(s0, cmap='prism')\n",
    "# # viewer.lv.colourbar(t, align=(\"bottom\"))\n",
    "# viewer.lv.rotate([-63.015506744384766, -24.475210189819336, -8.501092910766602])\n",
    "# viewer.display()\n",
    "# viewer.interactive()"
   ]
  },
  {
   "cell_type": "markdown",
   "id": "987c0d9d-22d2-480f-b6f1-3ca362ca3159",
   "metadata": {},
   "source": [
    "# II. Axial surface optimisation"
   ]
  },
  {
   "cell_type": "markdown",
   "id": "ed20f250-526b-4e69-bcb4-63b7efca10da",
   "metadata": {},
   "source": [
    "- **write a brief intro of what will happen in this section**"
   ]
  },
  {
   "cell_type": "markdown",
   "id": "66831c2b-e0b5-4905-9d6e-c9fd9aef1e34",
   "metadata": {},
   "source": [
    "###### **1. Sampling S<sub>0</sub> from the reference model**  \n",
    "\n",
    "Now, we sample a random dataset from the reference model we just built. \n"
   ]
  },
  {
   "cell_type": "code",
   "execution_count": 41,
   "id": "6f6b2bac-ea96-40f3-9f9b-a324db4c4133",
   "metadata": {},
   "outputs": [
    {
     "data": {
      "application/vnd.jupyter.widget-view+json": {
       "model_id": "d97f4f0bc92a40219edc9ee945bea94c",
       "version_major": 2,
       "version_minor": 0
      },
      "text/plain": [
       "interactive(children=(IntSlider(value=4, description='Sample Size:', min=1), Output()), _dom_classes=('widget-…"
      ]
     },
     "metadata": {},
     "output_type": "display_data"
    }
   ],
   "source": [
    "\n",
    "def update(sample_size):\n",
    "    global points, s0g\n",
    "    points = sample_random_dataset(xyz, sample_size=sample_size, seed=180)\n",
    "    # Evaluate the gradient of the folded foliation using points \n",
    "    s0g = s0.evaluate_gradient(points) \n",
    "    # normalise the gradient \n",
    "    s0g /= np.linalg.norm(s0g, axis=1)[:, None] \n",
    "    \n",
    "# Create a slider for sample_size\n",
    "sample_size_slider = widgets.IntSlider(\n",
    "    value=4,\n",
    "    min=1,\n",
    "    max=100,\n",
    "    step=1,\n",
    "    description='Sample Size:',\n",
    "    continuous_update=True\n",
    ")\n",
    "\n",
    "# Use interact to create the interactive widget\n",
    "interactive_sampling = interactive(update, sample_size=sample_size_slider)\n",
    "\n",
    "\n",
    "display(interactive_sampling)\n"
   ]
  },
  {
   "cell_type": "markdown",
   "id": "e93665d3-0d5c-474f-9e5f-eb08b818e39a",
   "metadata": {},
   "source": [
    "Now, we create a dataset called `test_data` using the random sample. The dataset should be a *Pandas Dataframe*."
   ]
  },
  {
   "cell_type": "code",
   "execution_count": 45,
   "id": "e0656a9a-ddcf-4dd1-83c3-03280565311a",
   "metadata": {},
   "outputs": [],
   "source": [
    "# Create a dataframe\n",
    "test_data = pd.DataFrame()\n",
    "test_data['X'] = points[:, 0]\n",
    "test_data['Y'] = points[:, 1]\n",
    "test_data['Z'] = points[:, 2]\n",
    "test_data['gx'] = s0g[:, 0]\n",
    "test_data['gy'] = s0g[:, 1]\n",
    "test_data['gz'] = s0g[:, 2]\n",
    "test_data['feature_name'] = 's0'\n",
    "test_data['coord'] = 0"
   ]
  },
  {
   "cell_type": "markdown",
   "id": "cb463fc8-49e7-4e81-8e68-5e9d49787239",
   "metadata": {},
   "source": [
    "At this stage, we will use the dataset we built in the previous cell to find the orientation of the axial that is compatible with the folded foliation `s0`. To find the axial surface, we use the `AxialSurfaceOptimiser` class that contains the functions necessary to run an axial surface optimisation. The axial surface optimisation algorithm proceeds as follows:  \n",
    "1. Define geological knowledge constraints if available\n",
    "2. Build the fold frame\n",
    "3. Calculate the fold rotation angles\n",
    "4. Fit Fourier series parameters to the fold rotation angles \n",
    "5. Calculate the orientation of the predicted bedding \n",
    "6. Calculate the angle between the observed and the predicted bedding \n",
    "7. Optimise the normal log-likelihood function that finds the optimal axial surface\n",
    "\n",
    "The `AxialSurfaceOptimiser` class is designed to optimise the axial surfaces based on the provided data, bounding box, and geological knowledge. To initialise the `AxialSurfaceOptimiser` we use the following parameters: \n",
    "\n",
    "\n",
    "---\n",
    "-`data`: the input data for optimisation which should be a pd.DataFrame  \n",
    "-`bounding_box`: The bounding box for the optimisation. Which should be a list or a NumPy array.   \n",
    "-`geological_knowledge`: The geological knowledge used for optimisation, by default None. If used, the input should be a nested python dictionary. See [Fourier series optimisation tutorial](https://github.com/Loop3D/FoldOptLib/blob/main/FoldOptLib/examples/fourier_series_optimisation.ipynb) for the structure of the dictionary.   \n",
    "-`**kwargs`: Other optional parameters for optimisation.  \n",
    "* `axial_surface_guess`: an estimate of the axial surface to provide to the algorithm to speed up optimisation. It should be a list in the following format: [strike, dip]  \n",
    "* `av_fold_axis`: True for cylindrical folds and False for noncylindrical folds. \n",
    "It can include SciPy optimisation parameters for differential evolution and trust-constr methods.  \n",
    "    `mode`: the optimisation mode to use, can be 'restricted' or 'unrestricted', by default 'unrestricted'. only unrestricted mode is supported for now.  \n",
    "    `method`: the optimisation algorithm to use, can be 'differential_evolution' or 'trust-region',\n",
    "    by default 'differential_evolution'.  \n",
    "\n",
    "\n",
    "In the following example, we will use only data (test_data) to find the optimal axial surface. "
   ]
  },
  {
   "cell_type": "code",
   "execution_count": 51,
   "id": "00d9bd2e-17a1-4f12-81dd-e716010f6c92",
   "metadata": {},
   "outputs": [],
   "source": [
    "aso = ASO(test_data, \n",
    "          bounding_box, \n",
    "          method='differential_evolution', \n",
    "          axial_surface_guess=[90, 50], \n",
    "          av_fold_axis=True\n",
    "         )"
   ]
  },
  {
   "cell_type": "code",
   "execution_count": 49,
   "id": "bd762c7b-1283-46cb-9c31-c4bfed342ade",
   "metadata": {
    "collapsed": true,
    "jupyter": {
     "outputs_hidden": true
    },
    "scrolled": true
   },
   "outputs": [
    {
     "data": {
      "application/vnd.jupyter.widget-view+json": {
       "model_id": "5dfea72b3f6e43b5959193fa971c456a",
       "version_major": 2,
       "version_minor": 0
      },
      "text/plain": [
       "  0%|          | 0/3 [00:00<?, ?it/s]"
      ]
     },
     "metadata": {},
     "output_type": "display_data"
    },
    {
     "name": "stderr",
     "output_type": "stream",
     "text": [
      "ERROR: 2023-10-30 15:02:58,066: _geological_feature_builder.py:266 -- Not enough constraints for scalar field add more\n",
      "WARNING: 2023-10-30 15:02:58,115: _discrete_interpolator.py:735 -- No solution, s1__2 scalar field 0. Add more data.\n"
     ]
    },
    {
     "data": {
      "application/vnd.jupyter.widget-view+json": {
       "model_id": "e25be72109ec4788ba4804f28cb3bddb",
       "version_major": 2,
       "version_minor": 0
      },
      "text/plain": [
       "  0%|          | 0/3 [00:00<?, ?it/s]"
      ]
     },
     "metadata": {},
     "output_type": "display_data"
    },
    {
     "name": "stderr",
     "output_type": "stream",
     "text": [
      "ERROR: 2023-10-30 15:02:59,692: _geological_feature_builder.py:266 -- Not enough constraints for scalar field add more\n",
      "WARNING: 2023-10-30 15:02:59,742: _discrete_interpolator.py:735 -- No solution, s1__2 scalar field 0. Add more data.\n"
     ]
    },
    {
     "data": {
      "application/vnd.jupyter.widget-view+json": {
       "model_id": "74ded0d65ffc492f8b8b924f281f1413",
       "version_major": 2,
       "version_minor": 0
      },
      "text/plain": [
       "  0%|          | 0/3 [00:00<?, ?it/s]"
      ]
     },
     "metadata": {},
     "output_type": "display_data"
    },
    {
     "name": "stderr",
     "output_type": "stream",
     "text": [
      "ERROR: 2023-10-30 15:03:01,782: _geological_feature_builder.py:266 -- Not enough constraints for scalar field add more\n",
      "WARNING: 2023-10-30 15:03:01,853: _discrete_interpolator.py:735 -- No solution, s1__2 scalar field 0. Add more data.\n"
     ]
    },
    {
     "data": {
      "application/vnd.jupyter.widget-view+json": {
       "model_id": "91b3acffd49a4c11a3df0f736c3818c1",
       "version_major": 2,
       "version_minor": 0
      },
      "text/plain": [
       "  0%|          | 0/3 [00:00<?, ?it/s]"
      ]
     },
     "metadata": {},
     "output_type": "display_data"
    },
    {
     "name": "stderr",
     "output_type": "stream",
     "text": [
      "ERROR: 2023-10-30 15:03:03,842: _geological_feature_builder.py:266 -- Not enough constraints for scalar field add more\n",
      "WARNING: 2023-10-30 15:03:03,911: _discrete_interpolator.py:735 -- No solution, s1__2 scalar field 0. Add more data.\n"
     ]
    },
    {
     "data": {
      "application/vnd.jupyter.widget-view+json": {
       "model_id": "85706592024c41e0a54f122648835533",
       "version_major": 2,
       "version_minor": 0
      },
      "text/plain": [
       "  0%|          | 0/3 [00:00<?, ?it/s]"
      ]
     },
     "metadata": {},
     "output_type": "display_data"
    },
    {
     "name": "stderr",
     "output_type": "stream",
     "text": [
      "ERROR: 2023-10-30 15:03:05,700: _geological_feature_builder.py:266 -- Not enough constraints for scalar field add more\n",
      "WARNING: 2023-10-30 15:03:05,777: _discrete_interpolator.py:735 -- No solution, s1__2 scalar field 0. Add more data.\n"
     ]
    },
    {
     "data": {
      "application/vnd.jupyter.widget-view+json": {
       "model_id": "95e4ede97c494378be8c5f9a019b1b53",
       "version_major": 2,
       "version_minor": 0
      },
      "text/plain": [
       "  0%|          | 0/3 [00:00<?, ?it/s]"
      ]
     },
     "metadata": {},
     "output_type": "display_data"
    },
    {
     "name": "stderr",
     "output_type": "stream",
     "text": [
      "ERROR: 2023-10-30 15:03:08,029: _geological_feature_builder.py:266 -- Not enough constraints for scalar field add more\n",
      "WARNING: 2023-10-30 15:03:08,101: _discrete_interpolator.py:735 -- No solution, s1__2 scalar field 0. Add more data.\n"
     ]
    },
    {
     "data": {
      "application/vnd.jupyter.widget-view+json": {
       "model_id": "e6b03bfb944142d0996bb0ec79dd7bee",
       "version_major": 2,
       "version_minor": 0
      },
      "text/plain": [
       "  0%|          | 0/3 [00:00<?, ?it/s]"
      ]
     },
     "metadata": {},
     "output_type": "display_data"
    },
    {
     "name": "stderr",
     "output_type": "stream",
     "text": [
      "ERROR: 2023-10-30 15:03:10,215: _geological_feature_builder.py:266 -- Not enough constraints for scalar field add more\n",
      "WARNING: 2023-10-30 15:03:10,288: _discrete_interpolator.py:735 -- No solution, s1__2 scalar field 0. Add more data.\n"
     ]
    },
    {
     "data": {
      "application/vnd.jupyter.widget-view+json": {
       "model_id": "199935944cfc487f9961b611f60533ed",
       "version_major": 2,
       "version_minor": 0
      },
      "text/plain": [
       "  0%|          | 0/3 [00:00<?, ?it/s]"
      ]
     },
     "metadata": {},
     "output_type": "display_data"
    },
    {
     "name": "stderr",
     "output_type": "stream",
     "text": [
      "ERROR: 2023-10-30 15:03:12,675: _geological_feature_builder.py:266 -- Not enough constraints for scalar field add more\n",
      "WARNING: 2023-10-30 15:03:12,751: _discrete_interpolator.py:735 -- No solution, s1__2 scalar field 0. Add more data.\n"
     ]
    },
    {
     "data": {
      "application/vnd.jupyter.widget-view+json": {
       "model_id": "7bcfebeb60a4458d8d8b83966099c8a9",
       "version_major": 2,
       "version_minor": 0
      },
      "text/plain": [
       "  0%|          | 0/3 [00:00<?, ?it/s]"
      ]
     },
     "metadata": {},
     "output_type": "display_data"
    },
    {
     "name": "stderr",
     "output_type": "stream",
     "text": [
      "ERROR: 2023-10-30 15:03:14,775: _geological_feature_builder.py:266 -- Not enough constraints for scalar field add more\n",
      "WARNING: 2023-10-30 15:03:14,853: _discrete_interpolator.py:735 -- No solution, s1__2 scalar field 0. Add more data.\n"
     ]
    },
    {
     "data": {
      "application/vnd.jupyter.widget-view+json": {
       "model_id": "20665c58bf734e2e862c75570a187e38",
       "version_major": 2,
       "version_minor": 0
      },
      "text/plain": [
       "  0%|          | 0/3 [00:00<?, ?it/s]"
      ]
     },
     "metadata": {},
     "output_type": "display_data"
    },
    {
     "name": "stderr",
     "output_type": "stream",
     "text": [
      "ERROR: 2023-10-30 15:03:16,852: _geological_feature_builder.py:266 -- Not enough constraints for scalar field add more\n",
      "WARNING: 2023-10-30 15:03:16,923: _discrete_interpolator.py:735 -- No solution, s1__2 scalar field 0. Add more data.\n"
     ]
    },
    {
     "data": {
      "application/vnd.jupyter.widget-view+json": {
       "model_id": "5cd71bc25cb844cf9828f08e81147b88",
       "version_major": 2,
       "version_minor": 0
      },
      "text/plain": [
       "  0%|          | 0/3 [00:00<?, ?it/s]"
      ]
     },
     "metadata": {},
     "output_type": "display_data"
    },
    {
     "name": "stderr",
     "output_type": "stream",
     "text": [
      "ERROR: 2023-10-30 15:03:20,946: _geological_feature_builder.py:266 -- Not enough constraints for scalar field add more\n",
      "WARNING: 2023-10-30 15:03:21,016: _discrete_interpolator.py:735 -- No solution, s1__2 scalar field 0. Add more data.\n"
     ]
    },
    {
     "data": {
      "application/vnd.jupyter.widget-view+json": {
       "model_id": "948d34263fa9474380cdd5ba2aacb50f",
       "version_major": 2,
       "version_minor": 0
      },
      "text/plain": [
       "  0%|          | 0/3 [00:00<?, ?it/s]"
      ]
     },
     "metadata": {},
     "output_type": "display_data"
    },
    {
     "name": "stderr",
     "output_type": "stream",
     "text": [
      "ERROR: 2023-10-30 15:03:23,149: _geological_feature_builder.py:266 -- Not enough constraints for scalar field add more\n",
      "WARNING: 2023-10-30 15:03:23,220: _discrete_interpolator.py:735 -- No solution, s1__2 scalar field 0. Add more data.\n"
     ]
    },
    {
     "data": {
      "application/vnd.jupyter.widget-view+json": {
       "model_id": "21f845962c544a15bc2c3f80b47fecc6",
       "version_major": 2,
       "version_minor": 0
      },
      "text/plain": [
       "  0%|          | 0/3 [00:00<?, ?it/s]"
      ]
     },
     "metadata": {},
     "output_type": "display_data"
    },
    {
     "name": "stderr",
     "output_type": "stream",
     "text": [
      "ERROR: 2023-10-30 15:03:25,435: _geological_feature_builder.py:266 -- Not enough constraints for scalar field add more\n",
      "WARNING: 2023-10-30 15:03:25,511: _discrete_interpolator.py:735 -- No solution, s1__2 scalar field 0. Add more data.\n"
     ]
    },
    {
     "data": {
      "application/vnd.jupyter.widget-view+json": {
       "model_id": "a74d874cabf141bf86a7671ea89b9952",
       "version_major": 2,
       "version_minor": 0
      },
      "text/plain": [
       "  0%|          | 0/3 [00:00<?, ?it/s]"
      ]
     },
     "metadata": {},
     "output_type": "display_data"
    },
    {
     "name": "stderr",
     "output_type": "stream",
     "text": [
      "ERROR: 2023-10-30 15:03:28,346: _geological_feature_builder.py:266 -- Not enough constraints for scalar field add more\n",
      "WARNING: 2023-10-30 15:03:28,424: _discrete_interpolator.py:735 -- No solution, s1__2 scalar field 0. Add more data.\n"
     ]
    },
    {
     "data": {
      "application/vnd.jupyter.widget-view+json": {
       "model_id": "421d0a3308954bc0a4ca3640b34f77fa",
       "version_major": 2,
       "version_minor": 0
      },
      "text/plain": [
       "  0%|          | 0/3 [00:00<?, ?it/s]"
      ]
     },
     "metadata": {},
     "output_type": "display_data"
    },
    {
     "name": "stderr",
     "output_type": "stream",
     "text": [
      "ERROR: 2023-10-30 15:03:31,381: _geological_feature_builder.py:266 -- Not enough constraints for scalar field add more\n",
      "WARNING: 2023-10-30 15:03:31,454: _discrete_interpolator.py:735 -- No solution, s1__2 scalar field 0. Add more data.\n"
     ]
    },
    {
     "data": {
      "application/vnd.jupyter.widget-view+json": {
       "model_id": "d17aea93b4ed4dc2b7f021a02e59e1e4",
       "version_major": 2,
       "version_minor": 0
      },
      "text/plain": [
       "  0%|          | 0/3 [00:00<?, ?it/s]"
      ]
     },
     "metadata": {},
     "output_type": "display_data"
    },
    {
     "name": "stderr",
     "output_type": "stream",
     "text": [
      "ERROR: 2023-10-30 15:03:33,598: _geological_feature_builder.py:266 -- Not enough constraints for scalar field add more\n",
      "WARNING: 2023-10-30 15:03:33,668: _discrete_interpolator.py:735 -- No solution, s1__2 scalar field 0. Add more data.\n"
     ]
    },
    {
     "data": {
      "application/vnd.jupyter.widget-view+json": {
       "model_id": "fa08558447db48bca428dc5fc8dc324b",
       "version_major": 2,
       "version_minor": 0
      },
      "text/plain": [
       "  0%|          | 0/3 [00:00<?, ?it/s]"
      ]
     },
     "metadata": {},
     "output_type": "display_data"
    },
    {
     "name": "stderr",
     "output_type": "stream",
     "text": [
      "ERROR: 2023-10-30 15:03:47,391: _geological_feature_builder.py:266 -- Not enough constraints for scalar field add more\n",
      "WARNING: 2023-10-30 15:03:47,462: _discrete_interpolator.py:735 -- No solution, s1__2 scalar field 0. Add more data.\n"
     ]
    },
    {
     "data": {
      "application/vnd.jupyter.widget-view+json": {
       "model_id": "e93e7e1087f14865add16caaf352f29b",
       "version_major": 2,
       "version_minor": 0
      },
      "text/plain": [
       "  0%|          | 0/3 [00:00<?, ?it/s]"
      ]
     },
     "metadata": {},
     "output_type": "display_data"
    },
    {
     "name": "stderr",
     "output_type": "stream",
     "text": [
      "ERROR: 2023-10-30 15:03:49,708: _geological_feature_builder.py:266 -- Not enough constraints for scalar field add more\n",
      "WARNING: 2023-10-30 15:03:49,779: _discrete_interpolator.py:735 -- No solution, s1__2 scalar field 0. Add more data.\n"
     ]
    },
    {
     "data": {
      "application/vnd.jupyter.widget-view+json": {
       "model_id": "1af9ff55968846ec897733d2e30e23d5",
       "version_major": 2,
       "version_minor": 0
      },
      "text/plain": [
       "  0%|          | 0/3 [00:00<?, ?it/s]"
      ]
     },
     "metadata": {},
     "output_type": "display_data"
    },
    {
     "name": "stderr",
     "output_type": "stream",
     "text": [
      "ERROR: 2023-10-30 15:03:52,336: _geological_feature_builder.py:266 -- Not enough constraints for scalar field add more\n",
      "WARNING: 2023-10-30 15:03:52,411: _discrete_interpolator.py:735 -- No solution, s1__2 scalar field 0. Add more data.\n"
     ]
    },
    {
     "data": {
      "application/vnd.jupyter.widget-view+json": {
       "model_id": "ded608bc7c0e41e59836aae6f3c451d1",
       "version_major": 2,
       "version_minor": 0
      },
      "text/plain": [
       "  0%|          | 0/3 [00:00<?, ?it/s]"
      ]
     },
     "metadata": {},
     "output_type": "display_data"
    },
    {
     "name": "stderr",
     "output_type": "stream",
     "text": [
      "ERROR: 2023-10-30 15:03:55,123: _geological_feature_builder.py:266 -- Not enough constraints for scalar field add more\n",
      "WARNING: 2023-10-30 15:03:55,202: _discrete_interpolator.py:735 -- No solution, s1__2 scalar field 0. Add more data.\n"
     ]
    },
    {
     "data": {
      "application/vnd.jupyter.widget-view+json": {
       "model_id": "f1e959d2c90349a8b270354d5a874206",
       "version_major": 2,
       "version_minor": 0
      },
      "text/plain": [
       "  0%|          | 0/3 [00:00<?, ?it/s]"
      ]
     },
     "metadata": {},
     "output_type": "display_data"
    },
    {
     "name": "stderr",
     "output_type": "stream",
     "text": [
      "ERROR: 2023-10-30 15:03:58,703: _geological_feature_builder.py:266 -- Not enough constraints for scalar field add more\n",
      "WARNING: 2023-10-30 15:03:58,787: _discrete_interpolator.py:735 -- No solution, s1__2 scalar field 0. Add more data.\n"
     ]
    },
    {
     "data": {
      "application/vnd.jupyter.widget-view+json": {
       "model_id": "263f52da4d8d451698fe7576c33c383f",
       "version_major": 2,
       "version_minor": 0
      },
      "text/plain": [
       "  0%|          | 0/3 [00:00<?, ?it/s]"
      ]
     },
     "metadata": {},
     "output_type": "display_data"
    },
    {
     "name": "stderr",
     "output_type": "stream",
     "text": [
      "ERROR: 2023-10-30 15:04:07,299: _geological_feature_builder.py:266 -- Not enough constraints for scalar field add more\n",
      "WARNING: 2023-10-30 15:04:07,374: _discrete_interpolator.py:735 -- No solution, s1__2 scalar field 0. Add more data.\n"
     ]
    },
    {
     "data": {
      "application/vnd.jupyter.widget-view+json": {
       "model_id": "5f21fd5ba58d4d128bb1a2ff59032bb3",
       "version_major": 2,
       "version_minor": 0
      },
      "text/plain": [
       "  0%|          | 0/3 [00:00<?, ?it/s]"
      ]
     },
     "metadata": {},
     "output_type": "display_data"
    },
    {
     "name": "stderr",
     "output_type": "stream",
     "text": [
      "ERROR: 2023-10-30 15:04:17,303: _geological_feature_builder.py:266 -- Not enough constraints for scalar field add more\n",
      "WARNING: 2023-10-30 15:04:17,382: _discrete_interpolator.py:735 -- No solution, s1__2 scalar field 0. Add more data.\n"
     ]
    },
    {
     "data": {
      "application/vnd.jupyter.widget-view+json": {
       "model_id": "755d16ee70bd40579bbd3ae64b60313f",
       "version_major": 2,
       "version_minor": 0
      },
      "text/plain": [
       "  0%|          | 0/3 [00:00<?, ?it/s]"
      ]
     },
     "metadata": {},
     "output_type": "display_data"
    },
    {
     "name": "stderr",
     "output_type": "stream",
     "text": [
      "ERROR: 2023-10-30 15:04:21,265: _geological_feature_builder.py:266 -- Not enough constraints for scalar field add more\n",
      "WARNING: 2023-10-30 15:04:21,343: _discrete_interpolator.py:735 -- No solution, s1__2 scalar field 0. Add more data.\n"
     ]
    },
    {
     "data": {
      "application/vnd.jupyter.widget-view+json": {
       "model_id": "6d6c85649f7b4614922060f15a4e1dc4",
       "version_major": 2,
       "version_minor": 0
      },
      "text/plain": [
       "  0%|          | 0/3 [00:00<?, ?it/s]"
      ]
     },
     "metadata": {},
     "output_type": "display_data"
    },
    {
     "name": "stderr",
     "output_type": "stream",
     "text": [
      "ERROR: 2023-10-30 15:04:23,930: _geological_feature_builder.py:266 -- Not enough constraints for scalar field add more\n",
      "WARNING: 2023-10-30 15:04:23,999: _discrete_interpolator.py:735 -- No solution, s1__2 scalar field 0. Add more data.\n"
     ]
    },
    {
     "data": {
      "application/vnd.jupyter.widget-view+json": {
       "model_id": "0b8f7d819aac441aa793bbbd62c5e25d",
       "version_major": 2,
       "version_minor": 0
      },
      "text/plain": [
       "  0%|          | 0/3 [00:00<?, ?it/s]"
      ]
     },
     "metadata": {},
     "output_type": "display_data"
    },
    {
     "name": "stderr",
     "output_type": "stream",
     "text": [
      "ERROR: 2023-10-30 15:04:33,449: _geological_feature_builder.py:266 -- Not enough constraints for scalar field add more\n",
      "WARNING: 2023-10-30 15:04:33,528: _discrete_interpolator.py:735 -- No solution, s1__2 scalar field 0. Add more data.\n"
     ]
    },
    {
     "data": {
      "application/vnd.jupyter.widget-view+json": {
       "model_id": "00f2b0750ff0427c9d5c9d3d4f250d74",
       "version_major": 2,
       "version_minor": 0
      },
      "text/plain": [
       "  0%|          | 0/3 [00:00<?, ?it/s]"
      ]
     },
     "metadata": {},
     "output_type": "display_data"
    },
    {
     "name": "stderr",
     "output_type": "stream",
     "text": [
      "ERROR: 2023-10-30 15:04:37,729: _geological_feature_builder.py:266 -- Not enough constraints for scalar field add more\n",
      "WARNING: 2023-10-30 15:04:37,814: _discrete_interpolator.py:735 -- No solution, s1__2 scalar field 0. Add more data.\n"
     ]
    },
    {
     "data": {
      "application/vnd.jupyter.widget-view+json": {
       "model_id": "87304f646168486eb35dd530ad5b923b",
       "version_major": 2,
       "version_minor": 0
      },
      "text/plain": [
       "  0%|          | 0/3 [00:00<?, ?it/s]"
      ]
     },
     "metadata": {},
     "output_type": "display_data"
    },
    {
     "name": "stderr",
     "output_type": "stream",
     "text": [
      "ERROR: 2023-10-30 15:04:41,703: _geological_feature_builder.py:266 -- Not enough constraints for scalar field add more\n",
      "WARNING: 2023-10-30 15:04:41,783: _discrete_interpolator.py:735 -- No solution, s1__2 scalar field 0. Add more data.\n"
     ]
    },
    {
     "data": {
      "application/vnd.jupyter.widget-view+json": {
       "model_id": "ed0863ea071f4550a72569116e52e50a",
       "version_major": 2,
       "version_minor": 0
      },
      "text/plain": [
       "  0%|          | 0/3 [00:00<?, ?it/s]"
      ]
     },
     "metadata": {},
     "output_type": "display_data"
    },
    {
     "name": "stderr",
     "output_type": "stream",
     "text": [
      "ERROR: 2023-10-30 15:04:47,806: _geological_feature_builder.py:266 -- Not enough constraints for scalar field add more\n",
      "WARNING: 2023-10-30 15:04:47,877: _discrete_interpolator.py:735 -- No solution, s1__2 scalar field 0. Add more data.\n"
     ]
    },
    {
     "data": {
      "application/vnd.jupyter.widget-view+json": {
       "model_id": "0e1ad6947358467e841ae9c6340ddc13",
       "version_major": 2,
       "version_minor": 0
      },
      "text/plain": [
       "  0%|          | 0/3 [00:00<?, ?it/s]"
      ]
     },
     "metadata": {},
     "output_type": "display_data"
    },
    {
     "name": "stderr",
     "output_type": "stream",
     "text": [
      "ERROR: 2023-10-30 15:04:49,765: _geological_feature_builder.py:266 -- Not enough constraints for scalar field add more\n",
      "WARNING: 2023-10-30 15:04:49,836: _discrete_interpolator.py:735 -- No solution, s1__2 scalar field 0. Add more data.\n"
     ]
    },
    {
     "data": {
      "application/vnd.jupyter.widget-view+json": {
       "model_id": "0b053b1ce7214d64a633aad464606888",
       "version_major": 2,
       "version_minor": 0
      },
      "text/plain": [
       "  0%|          | 0/3 [00:00<?, ?it/s]"
      ]
     },
     "metadata": {},
     "output_type": "display_data"
    },
    {
     "name": "stderr",
     "output_type": "stream",
     "text": [
      "ERROR: 2023-10-30 15:04:53,542: _geological_feature_builder.py:266 -- Not enough constraints for scalar field add more\n",
      "WARNING: 2023-10-30 15:04:53,620: _discrete_interpolator.py:735 -- No solution, s1__2 scalar field 0. Add more data.\n"
     ]
    },
    {
     "data": {
      "application/vnd.jupyter.widget-view+json": {
       "model_id": "5c576e944f194fe58dd488fa467d34be",
       "version_major": 2,
       "version_minor": 0
      },
      "text/plain": [
       "  0%|          | 0/3 [00:00<?, ?it/s]"
      ]
     },
     "metadata": {},
     "output_type": "display_data"
    },
    {
     "name": "stderr",
     "output_type": "stream",
     "text": [
      "ERROR: 2023-10-30 15:04:57,817: _geological_feature_builder.py:266 -- Not enough constraints for scalar field add more\n",
      "WARNING: 2023-10-30 15:04:57,887: _discrete_interpolator.py:735 -- No solution, s1__2 scalar field 0. Add more data.\n"
     ]
    },
    {
     "data": {
      "application/vnd.jupyter.widget-view+json": {
       "model_id": "3062ea5446b34e21a8b773ca9d5122b6",
       "version_major": 2,
       "version_minor": 0
      },
      "text/plain": [
       "  0%|          | 0/3 [00:00<?, ?it/s]"
      ]
     },
     "metadata": {},
     "output_type": "display_data"
    },
    {
     "name": "stderr",
     "output_type": "stream",
     "text": [
      "ERROR: 2023-10-30 15:05:01,430: _geological_feature_builder.py:266 -- Not enough constraints for scalar field add more\n",
      "WARNING: 2023-10-30 15:05:01,521: _discrete_interpolator.py:735 -- No solution, s1__2 scalar field 0. Add more data.\n"
     ]
    },
    {
     "data": {
      "application/vnd.jupyter.widget-view+json": {
       "model_id": "d1653546f06145309ef9fd0cac19662f",
       "version_major": 2,
       "version_minor": 0
      },
      "text/plain": [
       "  0%|          | 0/3 [00:00<?, ?it/s]"
      ]
     },
     "metadata": {},
     "output_type": "display_data"
    },
    {
     "name": "stderr",
     "output_type": "stream",
     "text": [
      "ERROR: 2023-10-30 15:05:03,849: _geological_feature_builder.py:266 -- Not enough constraints for scalar field add more\n",
      "WARNING: 2023-10-30 15:05:03,926: _discrete_interpolator.py:735 -- No solution, s1__2 scalar field 0. Add more data.\n"
     ]
    },
    {
     "data": {
      "application/vnd.jupyter.widget-view+json": {
       "model_id": "6d788d1d88fd40fc880fa0ed96ec428c",
       "version_major": 2,
       "version_minor": 0
      },
      "text/plain": [
       "  0%|          | 0/3 [00:00<?, ?it/s]"
      ]
     },
     "metadata": {},
     "output_type": "display_data"
    },
    {
     "name": "stderr",
     "output_type": "stream",
     "text": [
      "ERROR: 2023-10-30 15:05:06,104: _geological_feature_builder.py:266 -- Not enough constraints for scalar field add more\n",
      "WARNING: 2023-10-30 15:05:06,179: _discrete_interpolator.py:735 -- No solution, s1__2 scalar field 0. Add more data.\n"
     ]
    },
    {
     "data": {
      "application/vnd.jupyter.widget-view+json": {
       "model_id": "0cc56ca0f5fe4b86befdacf2ccfcc62f",
       "version_major": 2,
       "version_minor": 0
      },
      "text/plain": [
       "  0%|          | 0/3 [00:00<?, ?it/s]"
      ]
     },
     "metadata": {},
     "output_type": "display_data"
    },
    {
     "name": "stderr",
     "output_type": "stream",
     "text": [
      "ERROR: 2023-10-30 15:05:12,660: _geological_feature_builder.py:266 -- Not enough constraints for scalar field add more\n",
      "WARNING: 2023-10-30 15:05:12,732: _discrete_interpolator.py:735 -- No solution, s1__2 scalar field 0. Add more data.\n"
     ]
    },
    {
     "data": {
      "application/vnd.jupyter.widget-view+json": {
       "model_id": "e497573a8282489b95b950f03c0a5f24",
       "version_major": 2,
       "version_minor": 0
      },
      "text/plain": [
       "  0%|          | 0/3 [00:00<?, ?it/s]"
      ]
     },
     "metadata": {},
     "output_type": "display_data"
    },
    {
     "name": "stderr",
     "output_type": "stream",
     "text": [
      "ERROR: 2023-10-30 15:05:14,637: _geological_feature_builder.py:266 -- Not enough constraints for scalar field add more\n",
      "WARNING: 2023-10-30 15:05:14,708: _discrete_interpolator.py:735 -- No solution, s1__2 scalar field 0. Add more data.\n"
     ]
    },
    {
     "data": {
      "application/vnd.jupyter.widget-view+json": {
       "model_id": "7c7ca3321d1047db983b289535f01bec",
       "version_major": 2,
       "version_minor": 0
      },
      "text/plain": [
       "  0%|          | 0/3 [00:00<?, ?it/s]"
      ]
     },
     "metadata": {},
     "output_type": "display_data"
    },
    {
     "name": "stderr",
     "output_type": "stream",
     "text": [
      "ERROR: 2023-10-30 15:05:18,346: _geological_feature_builder.py:266 -- Not enough constraints for scalar field add more\n",
      "WARNING: 2023-10-30 15:05:18,419: _discrete_interpolator.py:735 -- No solution, s1__2 scalar field 0. Add more data.\n"
     ]
    },
    {
     "data": {
      "application/vnd.jupyter.widget-view+json": {
       "model_id": "a666f82e3899407f803e9037afccae59",
       "version_major": 2,
       "version_minor": 0
      },
      "text/plain": [
       "  0%|          | 0/3 [00:00<?, ?it/s]"
      ]
     },
     "metadata": {},
     "output_type": "display_data"
    },
    {
     "name": "stderr",
     "output_type": "stream",
     "text": [
      "ERROR: 2023-10-30 15:05:20,863: _geological_feature_builder.py:266 -- Not enough constraints for scalar field add more\n",
      "WARNING: 2023-10-30 15:05:20,935: _discrete_interpolator.py:735 -- No solution, s1__2 scalar field 0. Add more data.\n"
     ]
    },
    {
     "data": {
      "application/vnd.jupyter.widget-view+json": {
       "model_id": "c42c54ea9af54488b03d9814890f6bbb",
       "version_major": 2,
       "version_minor": 0
      },
      "text/plain": [
       "  0%|          | 0/3 [00:00<?, ?it/s]"
      ]
     },
     "metadata": {},
     "output_type": "display_data"
    },
    {
     "name": "stderr",
     "output_type": "stream",
     "text": [
      "ERROR: 2023-10-30 15:05:26,528: _geological_feature_builder.py:266 -- Not enough constraints for scalar field add more\n",
      "WARNING: 2023-10-30 15:05:26,604: _discrete_interpolator.py:735 -- No solution, s1__2 scalar field 0. Add more data.\n"
     ]
    },
    {
     "data": {
      "application/vnd.jupyter.widget-view+json": {
       "model_id": "e55c81db3c904fa8b5d8586902fc3f2f",
       "version_major": 2,
       "version_minor": 0
      },
      "text/plain": [
       "  0%|          | 0/3 [00:00<?, ?it/s]"
      ]
     },
     "metadata": {},
     "output_type": "display_data"
    },
    {
     "name": "stderr",
     "output_type": "stream",
     "text": [
      "ERROR: 2023-10-30 15:05:28,989: _geological_feature_builder.py:266 -- Not enough constraints for scalar field add more\n",
      "WARNING: 2023-10-30 15:05:29,060: _discrete_interpolator.py:735 -- No solution, s1__2 scalar field 0. Add more data.\n"
     ]
    },
    {
     "data": {
      "application/vnd.jupyter.widget-view+json": {
       "model_id": "70487c8bb65647d0be65543b40f99f92",
       "version_major": 2,
       "version_minor": 0
      },
      "text/plain": [
       "  0%|          | 0/3 [00:00<?, ?it/s]"
      ]
     },
     "metadata": {},
     "output_type": "display_data"
    },
    {
     "name": "stderr",
     "output_type": "stream",
     "text": [
      "ERROR: 2023-10-30 15:05:31,673: _geological_feature_builder.py:266 -- Not enough constraints for scalar field add more\n",
      "WARNING: 2023-10-30 15:05:31,746: _discrete_interpolator.py:735 -- No solution, s1__2 scalar field 0. Add more data.\n"
     ]
    },
    {
     "data": {
      "application/vnd.jupyter.widget-view+json": {
       "model_id": "6e698b7bec2146e5a926ebfb3de6db35",
       "version_major": 2,
       "version_minor": 0
      },
      "text/plain": [
       "  0%|          | 0/3 [00:00<?, ?it/s]"
      ]
     },
     "metadata": {},
     "output_type": "display_data"
    },
    {
     "name": "stderr",
     "output_type": "stream",
     "text": [
      "ERROR: 2023-10-30 15:05:34,177: _geological_feature_builder.py:266 -- Not enough constraints for scalar field add more\n",
      "WARNING: 2023-10-30 15:05:34,255: _discrete_interpolator.py:735 -- No solution, s1__2 scalar field 0. Add more data.\n"
     ]
    },
    {
     "data": {
      "application/vnd.jupyter.widget-view+json": {
       "model_id": "8afce01f19ca4048b89e806e16fdf0e1",
       "version_major": 2,
       "version_minor": 0
      },
      "text/plain": [
       "  0%|          | 0/3 [00:00<?, ?it/s]"
      ]
     },
     "metadata": {},
     "output_type": "display_data"
    },
    {
     "name": "stderr",
     "output_type": "stream",
     "text": [
      "ERROR: 2023-10-30 15:05:48,648: _geological_feature_builder.py:266 -- Not enough constraints for scalar field add more\n",
      "WARNING: 2023-10-30 15:05:48,717: _discrete_interpolator.py:735 -- No solution, s1__2 scalar field 0. Add more data.\n"
     ]
    },
    {
     "data": {
      "application/vnd.jupyter.widget-view+json": {
       "model_id": "7412f77047e34fc99edb0a42436f7367",
       "version_major": 2,
       "version_minor": 0
      },
      "text/plain": [
       "  0%|          | 0/3 [00:00<?, ?it/s]"
      ]
     },
     "metadata": {},
     "output_type": "display_data"
    },
    {
     "name": "stderr",
     "output_type": "stream",
     "text": [
      "ERROR: 2023-10-30 15:05:50,568: _geological_feature_builder.py:266 -- Not enough constraints for scalar field add more\n",
      "WARNING: 2023-10-30 15:05:50,641: _discrete_interpolator.py:735 -- No solution, s1__2 scalar field 0. Add more data.\n"
     ]
    },
    {
     "data": {
      "application/vnd.jupyter.widget-view+json": {
       "model_id": "6aa2e8061cb94dbabc8e0273ab5947a5",
       "version_major": 2,
       "version_minor": 0
      },
      "text/plain": [
       "  0%|          | 0/3 [00:00<?, ?it/s]"
      ]
     },
     "metadata": {},
     "output_type": "display_data"
    },
    {
     "name": "stderr",
     "output_type": "stream",
     "text": [
      "ERROR: 2023-10-30 15:05:52,699: _geological_feature_builder.py:266 -- Not enough constraints for scalar field add more\n",
      "WARNING: 2023-10-30 15:05:52,770: _discrete_interpolator.py:735 -- No solution, s1__2 scalar field 0. Add more data.\n"
     ]
    },
    {
     "data": {
      "application/vnd.jupyter.widget-view+json": {
       "model_id": "5a8373b2b0b141d79b91e878df7c39db",
       "version_major": 2,
       "version_minor": 0
      },
      "text/plain": [
       "  0%|          | 0/3 [00:00<?, ?it/s]"
      ]
     },
     "metadata": {},
     "output_type": "display_data"
    },
    {
     "name": "stderr",
     "output_type": "stream",
     "text": [
      "ERROR: 2023-10-30 15:05:55,895: _geological_feature_builder.py:266 -- Not enough constraints for scalar field add more\n",
      "WARNING: 2023-10-30 15:05:55,980: _discrete_interpolator.py:735 -- No solution, s1__2 scalar field 0. Add more data.\n"
     ]
    },
    {
     "data": {
      "application/vnd.jupyter.widget-view+json": {
       "model_id": "2cbb3ba3b9904cb09d4505ac95356e7c",
       "version_major": 2,
       "version_minor": 0
      },
      "text/plain": [
       "  0%|          | 0/3 [00:00<?, ?it/s]"
      ]
     },
     "metadata": {},
     "output_type": "display_data"
    },
    {
     "name": "stderr",
     "output_type": "stream",
     "text": [
      "ERROR: 2023-10-30 15:05:59,008: _geological_feature_builder.py:266 -- Not enough constraints for scalar field add more\n",
      "WARNING: 2023-10-30 15:05:59,079: _discrete_interpolator.py:735 -- No solution, s1__2 scalar field 0. Add more data.\n"
     ]
    },
    {
     "data": {
      "application/vnd.jupyter.widget-view+json": {
       "model_id": "3b272858798145af9b37b8b5f0226624",
       "version_major": 2,
       "version_minor": 0
      },
      "text/plain": [
       "  0%|          | 0/3 [00:00<?, ?it/s]"
      ]
     },
     "metadata": {},
     "output_type": "display_data"
    },
    {
     "name": "stderr",
     "output_type": "stream",
     "text": [
      "ERROR: 2023-10-30 15:06:00,901: _geological_feature_builder.py:266 -- Not enough constraints for scalar field add more\n",
      "WARNING: 2023-10-30 15:06:00,985: _discrete_interpolator.py:735 -- No solution, s1__2 scalar field 0. Add more data.\n"
     ]
    },
    {
     "data": {
      "application/vnd.jupyter.widget-view+json": {
       "model_id": "771b88f8a0c54137ad40d64c73fa4a57",
       "version_major": 2,
       "version_minor": 0
      },
      "text/plain": [
       "  0%|          | 0/3 [00:00<?, ?it/s]"
      ]
     },
     "metadata": {},
     "output_type": "display_data"
    },
    {
     "name": "stderr",
     "output_type": "stream",
     "text": [
      "ERROR: 2023-10-30 15:06:12,355: _geological_feature_builder.py:266 -- Not enough constraints for scalar field add more\n",
      "WARNING: 2023-10-30 15:06:12,431: _discrete_interpolator.py:735 -- No solution, s1__2 scalar field 0. Add more data.\n"
     ]
    },
    {
     "data": {
      "application/vnd.jupyter.widget-view+json": {
       "model_id": "e2ba4f7385284ef4ab4ca7947c324175",
       "version_major": 2,
       "version_minor": 0
      },
      "text/plain": [
       "  0%|          | 0/3 [00:00<?, ?it/s]"
      ]
     },
     "metadata": {},
     "output_type": "display_data"
    },
    {
     "name": "stderr",
     "output_type": "stream",
     "text": [
      "ERROR: 2023-10-30 15:06:15,273: _geological_feature_builder.py:266 -- Not enough constraints for scalar field add more\n",
      "WARNING: 2023-10-30 15:06:15,345: _discrete_interpolator.py:735 -- No solution, s1__2 scalar field 0. Add more data.\n"
     ]
    },
    {
     "data": {
      "application/vnd.jupyter.widget-view+json": {
       "model_id": "144f4f386650495aa7a154298a3b8b23",
       "version_major": 2,
       "version_minor": 0
      },
      "text/plain": [
       "  0%|          | 0/3 [00:00<?, ?it/s]"
      ]
     },
     "metadata": {},
     "output_type": "display_data"
    },
    {
     "name": "stderr",
     "output_type": "stream",
     "text": [
      "ERROR: 2023-10-30 15:06:18,637: _geological_feature_builder.py:266 -- Not enough constraints for scalar field add more\n",
      "WARNING: 2023-10-30 15:06:18,713: _discrete_interpolator.py:735 -- No solution, s1__2 scalar field 0. Add more data.\n"
     ]
    },
    {
     "data": {
      "application/vnd.jupyter.widget-view+json": {
       "model_id": "08b1c76bb7b94035a839fa17ca091975",
       "version_major": 2,
       "version_minor": 0
      },
      "text/plain": [
       "  0%|          | 0/3 [00:00<?, ?it/s]"
      ]
     },
     "metadata": {},
     "output_type": "display_data"
    },
    {
     "name": "stderr",
     "output_type": "stream",
     "text": [
      "ERROR: 2023-10-30 15:06:20,916: _geological_feature_builder.py:266 -- Not enough constraints for scalar field add more\n",
      "WARNING: 2023-10-30 15:06:20,985: _discrete_interpolator.py:735 -- No solution, s1__2 scalar field 0. Add more data.\n"
     ]
    },
    {
     "data": {
      "application/vnd.jupyter.widget-view+json": {
       "model_id": "d16579d783d14e4cb21a5c44770a6c85",
       "version_major": 2,
       "version_minor": 0
      },
      "text/plain": [
       "  0%|          | 0/3 [00:00<?, ?it/s]"
      ]
     },
     "metadata": {},
     "output_type": "display_data"
    },
    {
     "name": "stderr",
     "output_type": "stream",
     "text": [
      "ERROR: 2023-10-30 15:06:22,851: _geological_feature_builder.py:266 -- Not enough constraints for scalar field add more\n",
      "WARNING: 2023-10-30 15:06:22,916: _discrete_interpolator.py:735 -- No solution, s1__2 scalar field 0. Add more data.\n"
     ]
    },
    {
     "data": {
      "application/vnd.jupyter.widget-view+json": {
       "model_id": "a8aecd79a23e49b884d5d6fb567d5ef2",
       "version_major": 2,
       "version_minor": 0
      },
      "text/plain": [
       "  0%|          | 0/3 [00:00<?, ?it/s]"
      ]
     },
     "metadata": {},
     "output_type": "display_data"
    },
    {
     "name": "stderr",
     "output_type": "stream",
     "text": [
      "ERROR: 2023-10-30 15:06:24,988: _geological_feature_builder.py:266 -- Not enough constraints for scalar field add more\n",
      "WARNING: 2023-10-30 15:06:25,057: _discrete_interpolator.py:735 -- No solution, s1__2 scalar field 0. Add more data.\n"
     ]
    },
    {
     "data": {
      "application/vnd.jupyter.widget-view+json": {
       "model_id": "5e1b35c2e2844d29aacbb108e9a02c93",
       "version_major": 2,
       "version_minor": 0
      },
      "text/plain": [
       "  0%|          | 0/3 [00:00<?, ?it/s]"
      ]
     },
     "metadata": {},
     "output_type": "display_data"
    },
    {
     "name": "stderr",
     "output_type": "stream",
     "text": [
      "ERROR: 2023-10-30 15:06:26,908: _geological_feature_builder.py:266 -- Not enough constraints for scalar field add more\n",
      "WARNING: 2023-10-30 15:06:26,979: _discrete_interpolator.py:735 -- No solution, s1__2 scalar field 0. Add more data.\n"
     ]
    },
    {
     "data": {
      "application/vnd.jupyter.widget-view+json": {
       "model_id": "23c357c614fd48078937a7ee02ace0e6",
       "version_major": 2,
       "version_minor": 0
      },
      "text/plain": [
       "  0%|          | 0/3 [00:00<?, ?it/s]"
      ]
     },
     "metadata": {},
     "output_type": "display_data"
    },
    {
     "name": "stderr",
     "output_type": "stream",
     "text": [
      "ERROR: 2023-10-30 15:06:28,983: _geological_feature_builder.py:266 -- Not enough constraints for scalar field add more\n",
      "WARNING: 2023-10-30 15:06:29,055: _discrete_interpolator.py:735 -- No solution, s1__2 scalar field 0. Add more data.\n"
     ]
    },
    {
     "data": {
      "application/vnd.jupyter.widget-view+json": {
       "model_id": "fb99e3ac96a04bdcbc282687698d2975",
       "version_major": 2,
       "version_minor": 0
      },
      "text/plain": [
       "  0%|          | 0/3 [00:00<?, ?it/s]"
      ]
     },
     "metadata": {},
     "output_type": "display_data"
    },
    {
     "name": "stderr",
     "output_type": "stream",
     "text": [
      "ERROR: 2023-10-30 15:06:32,940: _geological_feature_builder.py:266 -- Not enough constraints for scalar field add more\n",
      "WARNING: 2023-10-30 15:06:33,018: _discrete_interpolator.py:735 -- No solution, s1__2 scalar field 0. Add more data.\n"
     ]
    },
    {
     "data": {
      "application/vnd.jupyter.widget-view+json": {
       "model_id": "7fadaeda67ee4291bf970133c52c3efe",
       "version_major": 2,
       "version_minor": 0
      },
      "text/plain": [
       "  0%|          | 0/3 [00:00<?, ?it/s]"
      ]
     },
     "metadata": {},
     "output_type": "display_data"
    },
    {
     "name": "stderr",
     "output_type": "stream",
     "text": [
      "ERROR: 2023-10-30 15:06:36,957: _geological_feature_builder.py:266 -- Not enough constraints for scalar field add more\n",
      "WARNING: 2023-10-30 15:06:37,033: _discrete_interpolator.py:735 -- No solution, s1__2 scalar field 0. Add more data.\n"
     ]
    },
    {
     "data": {
      "application/vnd.jupyter.widget-view+json": {
       "model_id": "e96c1022f75b42c582d92b2c38bee517",
       "version_major": 2,
       "version_minor": 0
      },
      "text/plain": [
       "  0%|          | 0/3 [00:00<?, ?it/s]"
      ]
     },
     "metadata": {},
     "output_type": "display_data"
    },
    {
     "name": "stderr",
     "output_type": "stream",
     "text": [
      "ERROR: 2023-10-30 15:06:39,746: _geological_feature_builder.py:266 -- Not enough constraints for scalar field add more\n",
      "WARNING: 2023-10-30 15:06:39,824: _discrete_interpolator.py:735 -- No solution, s1__2 scalar field 0. Add more data.\n"
     ]
    },
    {
     "data": {
      "application/vnd.jupyter.widget-view+json": {
       "model_id": "6c09c3a276e44d179c23ae34b13c5b10",
       "version_major": 2,
       "version_minor": 0
      },
      "text/plain": [
       "  0%|          | 0/3 [00:00<?, ?it/s]"
      ]
     },
     "metadata": {},
     "output_type": "display_data"
    },
    {
     "name": "stderr",
     "output_type": "stream",
     "text": [
      "ERROR: 2023-10-30 15:06:41,727: _geological_feature_builder.py:266 -- Not enough constraints for scalar field add more\n",
      "WARNING: 2023-10-30 15:06:41,805: _discrete_interpolator.py:735 -- No solution, s1__2 scalar field 0. Add more data.\n"
     ]
    },
    {
     "data": {
      "application/vnd.jupyter.widget-view+json": {
       "model_id": "8d9e9d7c7a71427b8ee9c0c7b9e73f47",
       "version_major": 2,
       "version_minor": 0
      },
      "text/plain": [
       "  0%|          | 0/3 [00:00<?, ?it/s]"
      ]
     },
     "metadata": {},
     "output_type": "display_data"
    },
    {
     "name": "stderr",
     "output_type": "stream",
     "text": [
      "ERROR: 2023-10-30 15:06:43,929: _geological_feature_builder.py:266 -- Not enough constraints for scalar field add more\n",
      "WARNING: 2023-10-30 15:06:44,004: _discrete_interpolator.py:735 -- No solution, s1__2 scalar field 0. Add more data.\n"
     ]
    },
    {
     "data": {
      "application/vnd.jupyter.widget-view+json": {
       "model_id": "3286497bf09143d898a3b9d1080a76a5",
       "version_major": 2,
       "version_minor": 0
      },
      "text/plain": [
       "  0%|          | 0/3 [00:00<?, ?it/s]"
      ]
     },
     "metadata": {},
     "output_type": "display_data"
    },
    {
     "name": "stderr",
     "output_type": "stream",
     "text": [
      "ERROR: 2023-10-30 15:06:45,903: _geological_feature_builder.py:266 -- Not enough constraints for scalar field add more\n",
      "WARNING: 2023-10-30 15:06:45,978: _discrete_interpolator.py:735 -- No solution, s1__2 scalar field 0. Add more data.\n"
     ]
    },
    {
     "data": {
      "application/vnd.jupyter.widget-view+json": {
       "model_id": "7a3bf10ffd5044e3a0851a9fc456e1fe",
       "version_major": 2,
       "version_minor": 0
      },
      "text/plain": [
       "  0%|          | 0/3 [00:00<?, ?it/s]"
      ]
     },
     "metadata": {},
     "output_type": "display_data"
    },
    {
     "name": "stderr",
     "output_type": "stream",
     "text": [
      "ERROR: 2023-10-30 15:06:47,606: _geological_feature_builder.py:266 -- Not enough constraints for scalar field add more\n",
      "WARNING: 2023-10-30 15:06:47,675: _discrete_interpolator.py:735 -- No solution, s1__2 scalar field 0. Add more data.\n"
     ]
    },
    {
     "data": {
      "application/vnd.jupyter.widget-view+json": {
       "model_id": "39b1eb6f02894ac6bd2cfa37461b0836",
       "version_major": 2,
       "version_minor": 0
      },
      "text/plain": [
       "  0%|          | 0/3 [00:00<?, ?it/s]"
      ]
     },
     "metadata": {},
     "output_type": "display_data"
    },
    {
     "name": "stderr",
     "output_type": "stream",
     "text": [
      "ERROR: 2023-10-30 15:06:59,508: _geological_feature_builder.py:266 -- Not enough constraints for scalar field add more\n",
      "WARNING: 2023-10-30 15:06:59,587: _discrete_interpolator.py:735 -- No solution, s1__2 scalar field 0. Add more data.\n"
     ]
    },
    {
     "data": {
      "application/vnd.jupyter.widget-view+json": {
       "model_id": "237a9fff6d6c452f8d64bc53be1aa322",
       "version_major": 2,
       "version_minor": 0
      },
      "text/plain": [
       "  0%|          | 0/3 [00:00<?, ?it/s]"
      ]
     },
     "metadata": {},
     "output_type": "display_data"
    },
    {
     "name": "stderr",
     "output_type": "stream",
     "text": [
      "ERROR: 2023-10-30 15:07:01,666: _geological_feature_builder.py:266 -- Not enough constraints for scalar field add more\n",
      "WARNING: 2023-10-30 15:07:01,742: _discrete_interpolator.py:735 -- No solution, s1__2 scalar field 0. Add more data.\n"
     ]
    },
    {
     "data": {
      "application/vnd.jupyter.widget-view+json": {
       "model_id": "40cab354960e4c9d8246132ef4d85022",
       "version_major": 2,
       "version_minor": 0
      },
      "text/plain": [
       "  0%|          | 0/3 [00:00<?, ?it/s]"
      ]
     },
     "metadata": {},
     "output_type": "display_data"
    },
    {
     "name": "stderr",
     "output_type": "stream",
     "text": [
      "ERROR: 2023-10-30 15:07:05,326: _geological_feature_builder.py:266 -- Not enough constraints for scalar field add more\n",
      "WARNING: 2023-10-30 15:07:05,409: _discrete_interpolator.py:735 -- No solution, s1__2 scalar field 0. Add more data.\n"
     ]
    },
    {
     "data": {
      "application/vnd.jupyter.widget-view+json": {
       "model_id": "2d42da2bbecd4f43946370c2f042cc20",
       "version_major": 2,
       "version_minor": 0
      },
      "text/plain": [
       "  0%|          | 0/3 [00:00<?, ?it/s]"
      ]
     },
     "metadata": {},
     "output_type": "display_data"
    },
    {
     "name": "stderr",
     "output_type": "stream",
     "text": [
      "ERROR: 2023-10-30 15:07:09,871: _geological_feature_builder.py:266 -- Not enough constraints for scalar field add more\n",
      "WARNING: 2023-10-30 15:07:09,949: _discrete_interpolator.py:735 -- No solution, s1__2 scalar field 0. Add more data.\n"
     ]
    },
    {
     "data": {
      "application/vnd.jupyter.widget-view+json": {
       "model_id": "876c9027a20644bea9665c1047ada7da",
       "version_major": 2,
       "version_minor": 0
      },
      "text/plain": [
       "  0%|          | 0/3 [00:00<?, ?it/s]"
      ]
     },
     "metadata": {},
     "output_type": "display_data"
    },
    {
     "name": "stderr",
     "output_type": "stream",
     "text": [
      "ERROR: 2023-10-30 15:07:12,059: _geological_feature_builder.py:266 -- Not enough constraints for scalar field add more\n",
      "WARNING: 2023-10-30 15:07:12,128: _discrete_interpolator.py:735 -- No solution, s1__2 scalar field 0. Add more data.\n"
     ]
    },
    {
     "data": {
      "application/vnd.jupyter.widget-view+json": {
       "model_id": "08ffbeb930774ad6859f9c615c9f7f09",
       "version_major": 2,
       "version_minor": 0
      },
      "text/plain": [
       "  0%|          | 0/3 [00:00<?, ?it/s]"
      ]
     },
     "metadata": {},
     "output_type": "display_data"
    },
    {
     "name": "stderr",
     "output_type": "stream",
     "text": [
      "ERROR: 2023-10-30 15:07:21,367: _geological_feature_builder.py:266 -- Not enough constraints for scalar field add more\n",
      "WARNING: 2023-10-30 15:07:21,439: _discrete_interpolator.py:735 -- No solution, s1__2 scalar field 0. Add more data.\n"
     ]
    },
    {
     "data": {
      "application/vnd.jupyter.widget-view+json": {
       "model_id": "59b9c1661c5642d5a5677cc806a3b6eb",
       "version_major": 2,
       "version_minor": 0
      },
      "text/plain": [
       "  0%|          | 0/3 [00:00<?, ?it/s]"
      ]
     },
     "metadata": {},
     "output_type": "display_data"
    },
    {
     "name": "stderr",
     "output_type": "stream",
     "text": [
      "ERROR: 2023-10-30 15:07:23,372: _geological_feature_builder.py:266 -- Not enough constraints for scalar field add more\n",
      "WARNING: 2023-10-30 15:07:23,444: _discrete_interpolator.py:735 -- No solution, s1__2 scalar field 0. Add more data.\n"
     ]
    },
    {
     "data": {
      "application/vnd.jupyter.widget-view+json": {
       "model_id": "fc0e55cd39464ff28ffaa288d30d27d9",
       "version_major": 2,
       "version_minor": 0
      },
      "text/plain": [
       "  0%|          | 0/3 [00:00<?, ?it/s]"
      ]
     },
     "metadata": {},
     "output_type": "display_data"
    },
    {
     "name": "stderr",
     "output_type": "stream",
     "text": [
      "ERROR: 2023-10-30 15:07:25,440: _geological_feature_builder.py:266 -- Not enough constraints for scalar field add more\n",
      "WARNING: 2023-10-30 15:07:25,514: _discrete_interpolator.py:735 -- No solution, s1__2 scalar field 0. Add more data.\n"
     ]
    },
    {
     "data": {
      "application/vnd.jupyter.widget-view+json": {
       "model_id": "a8da44dfd8e04a73b14fa4f80512c82a",
       "version_major": 2,
       "version_minor": 0
      },
      "text/plain": [
       "  0%|          | 0/3 [00:00<?, ?it/s]"
      ]
     },
     "metadata": {},
     "output_type": "display_data"
    },
    {
     "name": "stderr",
     "output_type": "stream",
     "text": [
      "ERROR: 2023-10-30 15:07:27,571: _geological_feature_builder.py:266 -- Not enough constraints for scalar field add more\n",
      "WARNING: 2023-10-30 15:07:27,640: _discrete_interpolator.py:735 -- No solution, s1__2 scalar field 0. Add more data.\n"
     ]
    },
    {
     "data": {
      "application/vnd.jupyter.widget-view+json": {
       "model_id": "8facac527f9f41d39a0ead76ffd03a29",
       "version_major": 2,
       "version_minor": 0
      },
      "text/plain": [
       "  0%|          | 0/3 [00:00<?, ?it/s]"
      ]
     },
     "metadata": {},
     "output_type": "display_data"
    },
    {
     "name": "stderr",
     "output_type": "stream",
     "text": [
      "ERROR: 2023-10-30 15:07:31,139: _geological_feature_builder.py:266 -- Not enough constraints for scalar field add more\n",
      "WARNING: 2023-10-30 15:07:31,214: _discrete_interpolator.py:735 -- No solution, s1__2 scalar field 0. Add more data.\n"
     ]
    },
    {
     "data": {
      "application/vnd.jupyter.widget-view+json": {
       "model_id": "ff10bdd2e29c4776a68b602bc355a94d",
       "version_major": 2,
       "version_minor": 0
      },
      "text/plain": [
       "  0%|          | 0/3 [00:00<?, ?it/s]"
      ]
     },
     "metadata": {},
     "output_type": "display_data"
    },
    {
     "name": "stderr",
     "output_type": "stream",
     "text": [
      "ERROR: 2023-10-30 15:07:38,085: _geological_feature_builder.py:266 -- Not enough constraints for scalar field add more\n",
      "WARNING: 2023-10-30 15:07:38,160: _discrete_interpolator.py:735 -- No solution, s1__2 scalar field 0. Add more data.\n"
     ]
    },
    {
     "data": {
      "application/vnd.jupyter.widget-view+json": {
       "model_id": "1026b0cd6f144091b84055b0db28d7c6",
       "version_major": 2,
       "version_minor": 0
      },
      "text/plain": [
       "  0%|          | 0/3 [00:00<?, ?it/s]"
      ]
     },
     "metadata": {},
     "output_type": "display_data"
    },
    {
     "name": "stderr",
     "output_type": "stream",
     "text": [
      "ERROR: 2023-10-30 15:07:41,275: _geological_feature_builder.py:266 -- Not enough constraints for scalar field add more\n",
      "WARNING: 2023-10-30 15:07:41,351: _discrete_interpolator.py:735 -- No solution, s1__2 scalar field 0. Add more data.\n"
     ]
    },
    {
     "data": {
      "application/vnd.jupyter.widget-view+json": {
       "model_id": "d003e291dc9041f1aac892215e0a8b88",
       "version_major": 2,
       "version_minor": 0
      },
      "text/plain": [
       "  0%|          | 0/3 [00:00<?, ?it/s]"
      ]
     },
     "metadata": {},
     "output_type": "display_data"
    },
    {
     "name": "stderr",
     "output_type": "stream",
     "text": [
      "ERROR: 2023-10-30 15:07:47,753: _geological_feature_builder.py:266 -- Not enough constraints for scalar field add more\n",
      "WARNING: 2023-10-30 15:07:47,829: _discrete_interpolator.py:735 -- No solution, s1__2 scalar field 0. Add more data.\n"
     ]
    },
    {
     "data": {
      "application/vnd.jupyter.widget-view+json": {
       "model_id": "22494114a8b34e5a942b96c39e6cd62a",
       "version_major": 2,
       "version_minor": 0
      },
      "text/plain": [
       "  0%|          | 0/3 [00:00<?, ?it/s]"
      ]
     },
     "metadata": {},
     "output_type": "display_data"
    },
    {
     "name": "stderr",
     "output_type": "stream",
     "text": [
      "ERROR: 2023-10-30 15:07:49,836: _geological_feature_builder.py:266 -- Not enough constraints for scalar field add more\n",
      "WARNING: 2023-10-30 15:07:49,907: _discrete_interpolator.py:735 -- No solution, s1__2 scalar field 0. Add more data.\n"
     ]
    },
    {
     "data": {
      "application/vnd.jupyter.widget-view+json": {
       "model_id": "e0f7bd227c5f4b3aa22b115e3d1ade4b",
       "version_major": 2,
       "version_minor": 0
      },
      "text/plain": [
       "  0%|          | 0/3 [00:00<?, ?it/s]"
      ]
     },
     "metadata": {},
     "output_type": "display_data"
    },
    {
     "name": "stderr",
     "output_type": "stream",
     "text": [
      "ERROR: 2023-10-30 15:07:52,527: _geological_feature_builder.py:266 -- Not enough constraints for scalar field add more\n",
      "WARNING: 2023-10-30 15:07:52,615: _discrete_interpolator.py:735 -- No solution, s1__2 scalar field 0. Add more data.\n"
     ]
    },
    {
     "data": {
      "application/vnd.jupyter.widget-view+json": {
       "model_id": "10dd81e7653d401fb287ae0cf499622a",
       "version_major": 2,
       "version_minor": 0
      },
      "text/plain": [
       "  0%|          | 0/3 [00:00<?, ?it/s]"
      ]
     },
     "metadata": {},
     "output_type": "display_data"
    },
    {
     "name": "stderr",
     "output_type": "stream",
     "text": [
      "ERROR: 2023-10-30 15:07:55,676: _geological_feature_builder.py:266 -- Not enough constraints for scalar field add more\n",
      "WARNING: 2023-10-30 15:07:55,751: _discrete_interpolator.py:735 -- No solution, s1__2 scalar field 0. Add more data.\n"
     ]
    },
    {
     "data": {
      "application/vnd.jupyter.widget-view+json": {
       "model_id": "377615bf7d784960879d7d0239c67ecf",
       "version_major": 2,
       "version_minor": 0
      },
      "text/plain": [
       "  0%|          | 0/3 [00:00<?, ?it/s]"
      ]
     },
     "metadata": {},
     "output_type": "display_data"
    },
    {
     "name": "stderr",
     "output_type": "stream",
     "text": [
      "ERROR: 2023-10-30 15:07:57,916: _geological_feature_builder.py:266 -- Not enough constraints for scalar field add more\n",
      "WARNING: 2023-10-30 15:07:57,992: _discrete_interpolator.py:735 -- No solution, s1__2 scalar field 0. Add more data.\n"
     ]
    },
    {
     "data": {
      "application/vnd.jupyter.widget-view+json": {
       "model_id": "dbc46cb5e787405c95ac0784977e75b5",
       "version_major": 2,
       "version_minor": 0
      },
      "text/plain": [
       "  0%|          | 0/3 [00:00<?, ?it/s]"
      ]
     },
     "metadata": {},
     "output_type": "display_data"
    },
    {
     "name": "stderr",
     "output_type": "stream",
     "text": [
      "ERROR: 2023-10-30 15:08:00,226: _geological_feature_builder.py:266 -- Not enough constraints for scalar field add more\n",
      "WARNING: 2023-10-30 15:08:00,304: _discrete_interpolator.py:735 -- No solution, s1__2 scalar field 0. Add more data.\n"
     ]
    },
    {
     "data": {
      "application/vnd.jupyter.widget-view+json": {
       "model_id": "48ea61b3cdf14507b7ea0910927a937f",
       "version_major": 2,
       "version_minor": 0
      },
      "text/plain": [
       "  0%|          | 0/3 [00:00<?, ?it/s]"
      ]
     },
     "metadata": {},
     "output_type": "display_data"
    },
    {
     "name": "stderr",
     "output_type": "stream",
     "text": [
      "ERROR: 2023-10-30 15:08:02,538: _geological_feature_builder.py:266 -- Not enough constraints for scalar field add more\n",
      "WARNING: 2023-10-30 15:08:02,610: _discrete_interpolator.py:735 -- No solution, s1__2 scalar field 0. Add more data.\n"
     ]
    },
    {
     "data": {
      "application/vnd.jupyter.widget-view+json": {
       "model_id": "f049e7e512fb4c4fb566165eebc4233d",
       "version_major": 2,
       "version_minor": 0
      },
      "text/plain": [
       "  0%|          | 0/3 [00:00<?, ?it/s]"
      ]
     },
     "metadata": {},
     "output_type": "display_data"
    },
    {
     "name": "stderr",
     "output_type": "stream",
     "text": [
      "ERROR: 2023-10-30 15:08:04,940: _geological_feature_builder.py:266 -- Not enough constraints for scalar field add more\n",
      "WARNING: 2023-10-30 15:08:05,017: _discrete_interpolator.py:735 -- No solution, s1__2 scalar field 0. Add more data.\n"
     ]
    },
    {
     "data": {
      "application/vnd.jupyter.widget-view+json": {
       "model_id": "7d3d33f9904a44e7924bac411ac5e669",
       "version_major": 2,
       "version_minor": 0
      },
      "text/plain": [
       "  0%|          | 0/3 [00:00<?, ?it/s]"
      ]
     },
     "metadata": {},
     "output_type": "display_data"
    },
    {
     "name": "stderr",
     "output_type": "stream",
     "text": [
      "ERROR: 2023-10-30 15:08:06,979: _geological_feature_builder.py:266 -- Not enough constraints for scalar field add more\n",
      "WARNING: 2023-10-30 15:08:07,060: _discrete_interpolator.py:735 -- No solution, s1__2 scalar field 0. Add more data.\n"
     ]
    },
    {
     "data": {
      "application/vnd.jupyter.widget-view+json": {
       "model_id": "660e9dd7dd0c45aeb89d21ad1be9e1d6",
       "version_major": 2,
       "version_minor": 0
      },
      "text/plain": [
       "  0%|          | 0/3 [00:00<?, ?it/s]"
      ]
     },
     "metadata": {},
     "output_type": "display_data"
    },
    {
     "name": "stderr",
     "output_type": "stream",
     "text": [
      "ERROR: 2023-10-30 15:08:09,491: _geological_feature_builder.py:266 -- Not enough constraints for scalar field add more\n",
      "WARNING: 2023-10-30 15:08:09,573: _discrete_interpolator.py:735 -- No solution, s1__2 scalar field 0. Add more data.\n"
     ]
    },
    {
     "data": {
      "application/vnd.jupyter.widget-view+json": {
       "model_id": "e2530f758fa44708a103b750d34c9b52",
       "version_major": 2,
       "version_minor": 0
      },
      "text/plain": [
       "  0%|          | 0/3 [00:00<?, ?it/s]"
      ]
     },
     "metadata": {},
     "output_type": "display_data"
    },
    {
     "name": "stderr",
     "output_type": "stream",
     "text": [
      "ERROR: 2023-10-30 15:08:12,245: _geological_feature_builder.py:266 -- Not enough constraints for scalar field add more\n",
      "WARNING: 2023-10-30 15:08:12,322: _discrete_interpolator.py:735 -- No solution, s1__2 scalar field 0. Add more data.\n"
     ]
    },
    {
     "data": {
      "application/vnd.jupyter.widget-view+json": {
       "model_id": "bece0f367f1e4ccca1cee1dd4b23da44",
       "version_major": 2,
       "version_minor": 0
      },
      "text/plain": [
       "  0%|          | 0/3 [00:00<?, ?it/s]"
      ]
     },
     "metadata": {},
     "output_type": "display_data"
    },
    {
     "name": "stderr",
     "output_type": "stream",
     "text": [
      "ERROR: 2023-10-30 15:08:14,482: _geological_feature_builder.py:266 -- Not enough constraints for scalar field add more\n",
      "WARNING: 2023-10-30 15:08:14,557: _discrete_interpolator.py:735 -- No solution, s1__2 scalar field 0. Add more data.\n"
     ]
    },
    {
     "data": {
      "application/vnd.jupyter.widget-view+json": {
       "model_id": "96a39026a7ce4f6386e12935025cc848",
       "version_major": 2,
       "version_minor": 0
      },
      "text/plain": [
       "  0%|          | 0/3 [00:00<?, ?it/s]"
      ]
     },
     "metadata": {},
     "output_type": "display_data"
    },
    {
     "name": "stderr",
     "output_type": "stream",
     "text": [
      "ERROR: 2023-10-30 15:08:16,352: _geological_feature_builder.py:266 -- Not enough constraints for scalar field add more\n",
      "WARNING: 2023-10-30 15:08:16,440: _discrete_interpolator.py:735 -- No solution, s1__2 scalar field 0. Add more data.\n"
     ]
    },
    {
     "data": {
      "application/vnd.jupyter.widget-view+json": {
       "model_id": "fc94a04da6d44d59887258fb4bdd51f1",
       "version_major": 2,
       "version_minor": 0
      },
      "text/plain": [
       "  0%|          | 0/3 [00:00<?, ?it/s]"
      ]
     },
     "metadata": {},
     "output_type": "display_data"
    },
    {
     "name": "stderr",
     "output_type": "stream",
     "text": [
      "ERROR: 2023-10-30 15:08:19,328: _geological_feature_builder.py:266 -- Not enough constraints for scalar field add more\n",
      "WARNING: 2023-10-30 15:08:19,399: _discrete_interpolator.py:735 -- No solution, s1__2 scalar field 0. Add more data.\n"
     ]
    },
    {
     "data": {
      "application/vnd.jupyter.widget-view+json": {
       "model_id": "9c8ed9da5ddc4d559e1e3e288d3f2fc9",
       "version_major": 2,
       "version_minor": 0
      },
      "text/plain": [
       "  0%|          | 0/3 [00:00<?, ?it/s]"
      ]
     },
     "metadata": {},
     "output_type": "display_data"
    },
    {
     "name": "stderr",
     "output_type": "stream",
     "text": [
      "ERROR: 2023-10-30 15:08:21,691: _geological_feature_builder.py:266 -- Not enough constraints for scalar field add more\n",
      "WARNING: 2023-10-30 15:08:21,766: _discrete_interpolator.py:735 -- No solution, s1__2 scalar field 0. Add more data.\n"
     ]
    },
    {
     "data": {
      "application/vnd.jupyter.widget-view+json": {
       "model_id": "4cb15c6dbc214caf9ef61789f169b28e",
       "version_major": 2,
       "version_minor": 0
      },
      "text/plain": [
       "  0%|          | 0/3 [00:00<?, ?it/s]"
      ]
     },
     "metadata": {},
     "output_type": "display_data"
    },
    {
     "name": "stderr",
     "output_type": "stream",
     "text": [
      "ERROR: 2023-10-30 15:08:23,807: _geological_feature_builder.py:266 -- Not enough constraints for scalar field add more\n",
      "WARNING: 2023-10-30 15:08:23,881: _discrete_interpolator.py:735 -- No solution, s1__2 scalar field 0. Add more data.\n"
     ]
    },
    {
     "data": {
      "application/vnd.jupyter.widget-view+json": {
       "model_id": "6c69029a3b904816910e2e07d867a05e",
       "version_major": 2,
       "version_minor": 0
      },
      "text/plain": [
       "  0%|          | 0/3 [00:00<?, ?it/s]"
      ]
     },
     "metadata": {},
     "output_type": "display_data"
    },
    {
     "name": "stderr",
     "output_type": "stream",
     "text": [
      "ERROR: 2023-10-30 15:08:26,505: _geological_feature_builder.py:266 -- Not enough constraints for scalar field add more\n",
      "WARNING: 2023-10-30 15:08:26,588: _discrete_interpolator.py:735 -- No solution, s1__2 scalar field 0. Add more data.\n"
     ]
    },
    {
     "data": {
      "application/vnd.jupyter.widget-view+json": {
       "model_id": "5936170c3efe4c9e8306b0b43f1ef821",
       "version_major": 2,
       "version_minor": 0
      },
      "text/plain": [
       "  0%|          | 0/3 [00:00<?, ?it/s]"
      ]
     },
     "metadata": {},
     "output_type": "display_data"
    },
    {
     "name": "stderr",
     "output_type": "stream",
     "text": [
      "ERROR: 2023-10-30 15:08:34,331: _geological_feature_builder.py:266 -- Not enough constraints for scalar field add more\n",
      "WARNING: 2023-10-30 15:08:34,407: _discrete_interpolator.py:735 -- No solution, s1__2 scalar field 0. Add more data.\n"
     ]
    },
    {
     "data": {
      "application/vnd.jupyter.widget-view+json": {
       "model_id": "e57f8bcffcaa424a834836eeb4732e96",
       "version_major": 2,
       "version_minor": 0
      },
      "text/plain": [
       "  0%|          | 0/3 [00:00<?, ?it/s]"
      ]
     },
     "metadata": {},
     "output_type": "display_data"
    },
    {
     "name": "stderr",
     "output_type": "stream",
     "text": [
      "ERROR: 2023-10-30 15:08:36,379: _geological_feature_builder.py:266 -- Not enough constraints for scalar field add more\n",
      "WARNING: 2023-10-30 15:08:36,456: _discrete_interpolator.py:735 -- No solution, s1__2 scalar field 0. Add more data.\n"
     ]
    },
    {
     "data": {
      "application/vnd.jupyter.widget-view+json": {
       "model_id": "0273be78ab7a42ad92f4c752bd6b5223",
       "version_major": 2,
       "version_minor": 0
      },
      "text/plain": [
       "  0%|          | 0/3 [00:00<?, ?it/s]"
      ]
     },
     "metadata": {},
     "output_type": "display_data"
    },
    {
     "name": "stderr",
     "output_type": "stream",
     "text": [
      "ERROR: 2023-10-30 15:08:38,250: _geological_feature_builder.py:266 -- Not enough constraints for scalar field add more\n",
      "WARNING: 2023-10-30 15:08:38,329: _discrete_interpolator.py:735 -- No solution, s1__2 scalar field 0. Add more data.\n"
     ]
    },
    {
     "data": {
      "application/vnd.jupyter.widget-view+json": {
       "model_id": "e8cac362980d454abca4bbbb630ec6c5",
       "version_major": 2,
       "version_minor": 0
      },
      "text/plain": [
       "  0%|          | 0/3 [00:00<?, ?it/s]"
      ]
     },
     "metadata": {},
     "output_type": "display_data"
    },
    {
     "name": "stderr",
     "output_type": "stream",
     "text": [
      "ERROR: 2023-10-30 15:08:40,255: _geological_feature_builder.py:266 -- Not enough constraints for scalar field add more\n",
      "WARNING: 2023-10-30 15:08:40,327: _discrete_interpolator.py:735 -- No solution, s1__2 scalar field 0. Add more data.\n"
     ]
    },
    {
     "data": {
      "application/vnd.jupyter.widget-view+json": {
       "model_id": "b63ff7ce030d4f2caf275b4de30af16e",
       "version_major": 2,
       "version_minor": 0
      },
      "text/plain": [
       "  0%|          | 0/3 [00:00<?, ?it/s]"
      ]
     },
     "metadata": {},
     "output_type": "display_data"
    },
    {
     "name": "stderr",
     "output_type": "stream",
     "text": [
      "ERROR: 2023-10-30 15:08:42,332: _geological_feature_builder.py:266 -- Not enough constraints for scalar field add more\n",
      "WARNING: 2023-10-30 15:08:42,402: _discrete_interpolator.py:735 -- No solution, s1__2 scalar field 0. Add more data.\n"
     ]
    },
    {
     "data": {
      "application/vnd.jupyter.widget-view+json": {
       "model_id": "f8b361cef4244a35bd788e0b360b5807",
       "version_major": 2,
       "version_minor": 0
      },
      "text/plain": [
       "  0%|          | 0/3 [00:00<?, ?it/s]"
      ]
     },
     "metadata": {},
     "output_type": "display_data"
    },
    {
     "name": "stderr",
     "output_type": "stream",
     "text": [
      "ERROR: 2023-10-30 15:08:44,436: _geological_feature_builder.py:266 -- Not enough constraints for scalar field add more\n",
      "WARNING: 2023-10-30 15:08:44,511: _discrete_interpolator.py:735 -- No solution, s1__2 scalar field 0. Add more data.\n"
     ]
    },
    {
     "data": {
      "application/vnd.jupyter.widget-view+json": {
       "model_id": "4fceadd4c3f0407e95a8e666f20dba98",
       "version_major": 2,
       "version_minor": 0
      },
      "text/plain": [
       "  0%|          | 0/3 [00:00<?, ?it/s]"
      ]
     },
     "metadata": {},
     "output_type": "display_data"
    },
    {
     "name": "stderr",
     "output_type": "stream",
     "text": [
      "ERROR: 2023-10-30 15:08:46,488: _geological_feature_builder.py:266 -- Not enough constraints for scalar field add more\n",
      "WARNING: 2023-10-30 15:08:46,567: _discrete_interpolator.py:735 -- No solution, s1__2 scalar field 0. Add more data.\n"
     ]
    },
    {
     "data": {
      "application/vnd.jupyter.widget-view+json": {
       "model_id": "6c4103c587844f3eb171d0c4f376f492",
       "version_major": 2,
       "version_minor": 0
      },
      "text/plain": [
       "  0%|          | 0/3 [00:00<?, ?it/s]"
      ]
     },
     "metadata": {},
     "output_type": "display_data"
    },
    {
     "name": "stderr",
     "output_type": "stream",
     "text": [
      "ERROR: 2023-10-30 15:08:49,014: _geological_feature_builder.py:266 -- Not enough constraints for scalar field add more\n",
      "WARNING: 2023-10-30 15:08:49,095: _discrete_interpolator.py:735 -- No solution, s1__2 scalar field 0. Add more data.\n"
     ]
    },
    {
     "data": {
      "application/vnd.jupyter.widget-view+json": {
       "model_id": "4ed78df4abe74f2fb7c74fa8f2129fab",
       "version_major": 2,
       "version_minor": 0
      },
      "text/plain": [
       "  0%|          | 0/3 [00:00<?, ?it/s]"
      ]
     },
     "metadata": {},
     "output_type": "display_data"
    },
    {
     "name": "stderr",
     "output_type": "stream",
     "text": [
      "ERROR: 2023-10-30 15:08:52,161: _geological_feature_builder.py:266 -- Not enough constraints for scalar field add more\n",
      "WARNING: 2023-10-30 15:08:52,245: _discrete_interpolator.py:735 -- No solution, s1__2 scalar field 0. Add more data.\n"
     ]
    },
    {
     "data": {
      "application/vnd.jupyter.widget-view+json": {
       "model_id": "94a8fe94575e4cd7b347d8ee141970cd",
       "version_major": 2,
       "version_minor": 0
      },
      "text/plain": [
       "  0%|          | 0/3 [00:00<?, ?it/s]"
      ]
     },
     "metadata": {},
     "output_type": "display_data"
    },
    {
     "name": "stderr",
     "output_type": "stream",
     "text": [
      "ERROR: 2023-10-30 15:08:57,724: _geological_feature_builder.py:266 -- Not enough constraints for scalar field add more\n",
      "WARNING: 2023-10-30 15:08:57,812: _discrete_interpolator.py:735 -- No solution, s1__2 scalar field 0. Add more data.\n"
     ]
    },
    {
     "data": {
      "application/vnd.jupyter.widget-view+json": {
       "model_id": "660fcdea8bd243349a90408c591863f8",
       "version_major": 2,
       "version_minor": 0
      },
      "text/plain": [
       "  0%|          | 0/3 [00:00<?, ?it/s]"
      ]
     },
     "metadata": {},
     "output_type": "display_data"
    },
    {
     "name": "stderr",
     "output_type": "stream",
     "text": [
      "ERROR: 2023-10-30 15:09:00,869: _geological_feature_builder.py:266 -- Not enough constraints for scalar field add more\n",
      "WARNING: 2023-10-30 15:09:00,943: _discrete_interpolator.py:735 -- No solution, s1__2 scalar field 0. Add more data.\n"
     ]
    },
    {
     "data": {
      "application/vnd.jupyter.widget-view+json": {
       "model_id": "c8cd064fab2f48368018a26d000cd435",
       "version_major": 2,
       "version_minor": 0
      },
      "text/plain": [
       "  0%|          | 0/3 [00:00<?, ?it/s]"
      ]
     },
     "metadata": {},
     "output_type": "display_data"
    },
    {
     "name": "stderr",
     "output_type": "stream",
     "text": [
      "ERROR: 2023-10-30 15:09:03,265: _geological_feature_builder.py:266 -- Not enough constraints for scalar field add more\n",
      "WARNING: 2023-10-30 15:09:03,337: _discrete_interpolator.py:735 -- No solution, s1__2 scalar field 0. Add more data.\n"
     ]
    },
    {
     "data": {
      "application/vnd.jupyter.widget-view+json": {
       "model_id": "848e90bf9d2b43e18d2810e7a1edfbc8",
       "version_major": 2,
       "version_minor": 0
      },
      "text/plain": [
       "  0%|          | 0/3 [00:00<?, ?it/s]"
      ]
     },
     "metadata": {},
     "output_type": "display_data"
    },
    {
     "name": "stderr",
     "output_type": "stream",
     "text": [
      "ERROR: 2023-10-30 15:09:07,321: _geological_feature_builder.py:266 -- Not enough constraints for scalar field add more\n",
      "WARNING: 2023-10-30 15:09:07,399: _discrete_interpolator.py:735 -- No solution, s1__2 scalar field 0. Add more data.\n"
     ]
    },
    {
     "data": {
      "application/vnd.jupyter.widget-view+json": {
       "model_id": "fead3a33703b4493a3552d96bc092c59",
       "version_major": 2,
       "version_minor": 0
      },
      "text/plain": [
       "  0%|          | 0/3 [00:00<?, ?it/s]"
      ]
     },
     "metadata": {},
     "output_type": "display_data"
    },
    {
     "name": "stderr",
     "output_type": "stream",
     "text": [
      "ERROR: 2023-10-30 15:09:09,227: _geological_feature_builder.py:266 -- Not enough constraints for scalar field add more\n",
      "WARNING: 2023-10-30 15:09:09,307: _discrete_interpolator.py:735 -- No solution, s1__2 scalar field 0. Add more data.\n"
     ]
    },
    {
     "data": {
      "application/vnd.jupyter.widget-view+json": {
       "model_id": "ed6b31831cba4a4987faef33f6931b50",
       "version_major": 2,
       "version_minor": 0
      },
      "text/plain": [
       "  0%|          | 0/3 [00:00<?, ?it/s]"
      ]
     },
     "metadata": {},
     "output_type": "display_data"
    },
    {
     "name": "stderr",
     "output_type": "stream",
     "text": [
      "ERROR: 2023-10-30 15:09:11,356: _geological_feature_builder.py:266 -- Not enough constraints for scalar field add more\n",
      "WARNING: 2023-10-30 15:09:11,433: _discrete_interpolator.py:735 -- No solution, s1__2 scalar field 0. Add more data.\n"
     ]
    },
    {
     "data": {
      "application/vnd.jupyter.widget-view+json": {
       "model_id": "c44ce9d0c1b942e69df5ec78ac9e109b",
       "version_major": 2,
       "version_minor": 0
      },
      "text/plain": [
       "  0%|          | 0/3 [00:00<?, ?it/s]"
      ]
     },
     "metadata": {},
     "output_type": "display_data"
    },
    {
     "name": "stderr",
     "output_type": "stream",
     "text": [
      "ERROR: 2023-10-30 15:09:14,038: _geological_feature_builder.py:266 -- Not enough constraints for scalar field add more\n",
      "WARNING: 2023-10-30 15:09:14,117: _discrete_interpolator.py:735 -- No solution, s1__2 scalar field 0. Add more data.\n"
     ]
    },
    {
     "data": {
      "application/vnd.jupyter.widget-view+json": {
       "model_id": "2dfe1ddafc9341ae896daca4e2bbc156",
       "version_major": 2,
       "version_minor": 0
      },
      "text/plain": [
       "  0%|          | 0/3 [00:00<?, ?it/s]"
      ]
     },
     "metadata": {},
     "output_type": "display_data"
    },
    {
     "name": "stderr",
     "output_type": "stream",
     "text": [
      "ERROR: 2023-10-30 15:09:17,575: _geological_feature_builder.py:266 -- Not enough constraints for scalar field add more\n",
      "WARNING: 2023-10-30 15:09:17,654: _discrete_interpolator.py:735 -- No solution, s1__2 scalar field 0. Add more data.\n"
     ]
    },
    {
     "data": {
      "application/vnd.jupyter.widget-view+json": {
       "model_id": "538c163f52684f7b829ba723727de8e2",
       "version_major": 2,
       "version_minor": 0
      },
      "text/plain": [
       "  0%|          | 0/3 [00:00<?, ?it/s]"
      ]
     },
     "metadata": {},
     "output_type": "display_data"
    },
    {
     "name": "stderr",
     "output_type": "stream",
     "text": [
      "ERROR: 2023-10-30 15:09:21,431: _geological_feature_builder.py:266 -- Not enough constraints for scalar field add more\n",
      "WARNING: 2023-10-30 15:09:21,509: _discrete_interpolator.py:735 -- No solution, s1__2 scalar field 0. Add more data.\n"
     ]
    },
    {
     "data": {
      "application/vnd.jupyter.widget-view+json": {
       "model_id": "8d2e9d91f52249a7b8726d7627d0e1f7",
       "version_major": 2,
       "version_minor": 0
      },
      "text/plain": [
       "  0%|          | 0/3 [00:00<?, ?it/s]"
      ]
     },
     "metadata": {},
     "output_type": "display_data"
    },
    {
     "name": "stderr",
     "output_type": "stream",
     "text": [
      "ERROR: 2023-10-30 15:09:23,523: _geological_feature_builder.py:266 -- Not enough constraints for scalar field add more\n",
      "WARNING: 2023-10-30 15:09:23,600: _discrete_interpolator.py:735 -- No solution, s1__2 scalar field 0. Add more data.\n"
     ]
    },
    {
     "data": {
      "application/vnd.jupyter.widget-view+json": {
       "model_id": "1d452da9d2914f25a369c8e65cfefddd",
       "version_major": 2,
       "version_minor": 0
      },
      "text/plain": [
       "  0%|          | 0/3 [00:00<?, ?it/s]"
      ]
     },
     "metadata": {},
     "output_type": "display_data"
    },
    {
     "name": "stderr",
     "output_type": "stream",
     "text": [
      "ERROR: 2023-10-30 15:09:25,697: _geological_feature_builder.py:266 -- Not enough constraints for scalar field add more\n",
      "WARNING: 2023-10-30 15:09:25,774: _discrete_interpolator.py:735 -- No solution, s1__2 scalar field 0. Add more data.\n"
     ]
    },
    {
     "data": {
      "application/vnd.jupyter.widget-view+json": {
       "model_id": "57de443e127b4cfab238bb659e2d1cd2",
       "version_major": 2,
       "version_minor": 0
      },
      "text/plain": [
       "  0%|          | 0/3 [00:00<?, ?it/s]"
      ]
     },
     "metadata": {},
     "output_type": "display_data"
    },
    {
     "name": "stderr",
     "output_type": "stream",
     "text": [
      "ERROR: 2023-10-30 15:09:28,305: _geological_feature_builder.py:266 -- Not enough constraints for scalar field add more\n",
      "WARNING: 2023-10-30 15:09:28,381: _discrete_interpolator.py:735 -- No solution, s1__2 scalar field 0. Add more data.\n"
     ]
    },
    {
     "data": {
      "application/vnd.jupyter.widget-view+json": {
       "model_id": "318f99398a67491f91ad302d2819ae92",
       "version_major": 2,
       "version_minor": 0
      },
      "text/plain": [
       "  0%|          | 0/3 [00:00<?, ?it/s]"
      ]
     },
     "metadata": {},
     "output_type": "display_data"
    },
    {
     "name": "stderr",
     "output_type": "stream",
     "text": [
      "ERROR: 2023-10-30 15:09:30,463: _geological_feature_builder.py:266 -- Not enough constraints for scalar field add more\n",
      "WARNING: 2023-10-30 15:09:30,538: _discrete_interpolator.py:735 -- No solution, s1__2 scalar field 0. Add more data.\n"
     ]
    },
    {
     "data": {
      "application/vnd.jupyter.widget-view+json": {
       "model_id": "d18136edf6c04ae4811f35966d7a5d0c",
       "version_major": 2,
       "version_minor": 0
      },
      "text/plain": [
       "  0%|          | 0/3 [00:00<?, ?it/s]"
      ]
     },
     "metadata": {},
     "output_type": "display_data"
    },
    {
     "name": "stderr",
     "output_type": "stream",
     "text": [
      "ERROR: 2023-10-30 15:09:32,605: _geological_feature_builder.py:266 -- Not enough constraints for scalar field add more\n",
      "WARNING: 2023-10-30 15:09:32,687: _discrete_interpolator.py:735 -- No solution, s1__2 scalar field 0. Add more data.\n"
     ]
    },
    {
     "data": {
      "application/vnd.jupyter.widget-view+json": {
       "model_id": "cddcb432ff8344439ed4ca6eff2c06d9",
       "version_major": 2,
       "version_minor": 0
      },
      "text/plain": [
       "  0%|          | 0/3 [00:00<?, ?it/s]"
      ]
     },
     "metadata": {},
     "output_type": "display_data"
    },
    {
     "name": "stderr",
     "output_type": "stream",
     "text": [
      "ERROR: 2023-10-30 15:09:34,852: _geological_feature_builder.py:266 -- Not enough constraints for scalar field add more\n",
      "WARNING: 2023-10-30 15:09:34,929: _discrete_interpolator.py:735 -- No solution, s1__2 scalar field 0. Add more data.\n"
     ]
    },
    {
     "data": {
      "application/vnd.jupyter.widget-view+json": {
       "model_id": "8a6074a0b15e4634a3de571ef6c04674",
       "version_major": 2,
       "version_minor": 0
      },
      "text/plain": [
       "  0%|          | 0/3 [00:00<?, ?it/s]"
      ]
     },
     "metadata": {},
     "output_type": "display_data"
    },
    {
     "name": "stderr",
     "output_type": "stream",
     "text": [
      "ERROR: 2023-10-30 15:09:37,251: _geological_feature_builder.py:266 -- Not enough constraints for scalar field add more\n",
      "WARNING: 2023-10-30 15:09:37,322: _discrete_interpolator.py:735 -- No solution, s1__2 scalar field 0. Add more data.\n"
     ]
    },
    {
     "data": {
      "application/vnd.jupyter.widget-view+json": {
       "model_id": "2368d439e26946b3959979be25204a39",
       "version_major": 2,
       "version_minor": 0
      },
      "text/plain": [
       "  0%|          | 0/3 [00:00<?, ?it/s]"
      ]
     },
     "metadata": {},
     "output_type": "display_data"
    },
    {
     "name": "stderr",
     "output_type": "stream",
     "text": [
      "ERROR: 2023-10-30 15:09:39,044: _geological_feature_builder.py:266 -- Not enough constraints for scalar field add more\n",
      "WARNING: 2023-10-30 15:09:39,121: _discrete_interpolator.py:735 -- No solution, s1__2 scalar field 0. Add more data.\n"
     ]
    },
    {
     "data": {
      "application/vnd.jupyter.widget-view+json": {
       "model_id": "2d9ddc16bfd54b93ac8fdb5a5411d8d7",
       "version_major": 2,
       "version_minor": 0
      },
      "text/plain": [
       "  0%|          | 0/3 [00:00<?, ?it/s]"
      ]
     },
     "metadata": {},
     "output_type": "display_data"
    },
    {
     "name": "stderr",
     "output_type": "stream",
     "text": [
      "ERROR: 2023-10-30 15:09:41,040: _geological_feature_builder.py:266 -- Not enough constraints for scalar field add more\n",
      "WARNING: 2023-10-30 15:09:41,115: _discrete_interpolator.py:735 -- No solution, s1__2 scalar field 0. Add more data.\n"
     ]
    },
    {
     "data": {
      "application/vnd.jupyter.widget-view+json": {
       "model_id": "cdf6cdae9d194a12852b8182c3f16b3b",
       "version_major": 2,
       "version_minor": 0
      },
      "text/plain": [
       "  0%|          | 0/3 [00:00<?, ?it/s]"
      ]
     },
     "metadata": {},
     "output_type": "display_data"
    },
    {
     "name": "stderr",
     "output_type": "stream",
     "text": [
      "ERROR: 2023-10-30 15:09:45,346: _geological_feature_builder.py:266 -- Not enough constraints for scalar field add more\n",
      "WARNING: 2023-10-30 15:09:45,422: _discrete_interpolator.py:735 -- No solution, s1__2 scalar field 0. Add more data.\n"
     ]
    },
    {
     "data": {
      "application/vnd.jupyter.widget-view+json": {
       "model_id": "51edcd36a7b34e398f598a90d2b30ae5",
       "version_major": 2,
       "version_minor": 0
      },
      "text/plain": [
       "  0%|          | 0/3 [00:00<?, ?it/s]"
      ]
     },
     "metadata": {},
     "output_type": "display_data"
    },
    {
     "name": "stderr",
     "output_type": "stream",
     "text": [
      "ERROR: 2023-10-30 15:09:47,222: _geological_feature_builder.py:266 -- Not enough constraints for scalar field add more\n",
      "WARNING: 2023-10-30 15:09:47,295: _discrete_interpolator.py:735 -- No solution, s1__2 scalar field 0. Add more data.\n"
     ]
    },
    {
     "data": {
      "application/vnd.jupyter.widget-view+json": {
       "model_id": "69804c237b7a4179adcf1c99a33c62a0",
       "version_major": 2,
       "version_minor": 0
      },
      "text/plain": [
       "  0%|          | 0/3 [00:00<?, ?it/s]"
      ]
     },
     "metadata": {},
     "output_type": "display_data"
    },
    {
     "name": "stderr",
     "output_type": "stream",
     "text": [
      "ERROR: 2023-10-30 15:09:49,253: _geological_feature_builder.py:266 -- Not enough constraints for scalar field add more\n",
      "WARNING: 2023-10-30 15:09:49,325: _discrete_interpolator.py:735 -- No solution, s1__2 scalar field 0. Add more data.\n"
     ]
    },
    {
     "data": {
      "application/vnd.jupyter.widget-view+json": {
       "model_id": "fb332517735f4b12a0e61a0e602ab197",
       "version_major": 2,
       "version_minor": 0
      },
      "text/plain": [
       "  0%|          | 0/3 [00:00<?, ?it/s]"
      ]
     },
     "metadata": {},
     "output_type": "display_data"
    },
    {
     "name": "stderr",
     "output_type": "stream",
     "text": [
      "ERROR: 2023-10-30 15:09:51,351: _geological_feature_builder.py:266 -- Not enough constraints for scalar field add more\n",
      "WARNING: 2023-10-30 15:09:51,426: _discrete_interpolator.py:735 -- No solution, s1__2 scalar field 0. Add more data.\n"
     ]
    },
    {
     "data": {
      "application/vnd.jupyter.widget-view+json": {
       "model_id": "957752ef24de49f1801c0c7e17e5793e",
       "version_major": 2,
       "version_minor": 0
      },
      "text/plain": [
       "  0%|          | 0/3 [00:00<?, ?it/s]"
      ]
     },
     "metadata": {},
     "output_type": "display_data"
    },
    {
     "name": "stderr",
     "output_type": "stream",
     "text": [
      "ERROR: 2023-10-30 15:09:55,953: _geological_feature_builder.py:266 -- Not enough constraints for scalar field add more\n",
      "WARNING: 2023-10-30 15:09:56,030: _discrete_interpolator.py:735 -- No solution, s1__2 scalar field 0. Add more data.\n"
     ]
    },
    {
     "data": {
      "application/vnd.jupyter.widget-view+json": {
       "model_id": "451f9f4a79104a3dad00702c0a1bdbca",
       "version_major": 2,
       "version_minor": 0
      },
      "text/plain": [
       "  0%|          | 0/3 [00:00<?, ?it/s]"
      ]
     },
     "metadata": {},
     "output_type": "display_data"
    },
    {
     "name": "stderr",
     "output_type": "stream",
     "text": [
      "ERROR: 2023-10-30 15:09:58,074: _geological_feature_builder.py:266 -- Not enough constraints for scalar field add more\n",
      "WARNING: 2023-10-30 15:09:58,148: _discrete_interpolator.py:735 -- No solution, s1__2 scalar field 0. Add more data.\n"
     ]
    },
    {
     "data": {
      "application/vnd.jupyter.widget-view+json": {
       "model_id": "8afa5ccd0a514e7085fac34258dfd39f",
       "version_major": 2,
       "version_minor": 0
      },
      "text/plain": [
       "  0%|          | 0/3 [00:00<?, ?it/s]"
      ]
     },
     "metadata": {},
     "output_type": "display_data"
    },
    {
     "name": "stderr",
     "output_type": "stream",
     "text": [
      "ERROR: 2023-10-30 15:09:59,899: _geological_feature_builder.py:266 -- Not enough constraints for scalar field add more\n",
      "WARNING: 2023-10-30 15:09:59,976: _discrete_interpolator.py:735 -- No solution, s1__2 scalar field 0. Add more data.\n"
     ]
    },
    {
     "data": {
      "application/vnd.jupyter.widget-view+json": {
       "model_id": "74e44407a55e4df7948096ffac1c1ede",
       "version_major": 2,
       "version_minor": 0
      },
      "text/plain": [
       "  0%|          | 0/3 [00:00<?, ?it/s]"
      ]
     },
     "metadata": {},
     "output_type": "display_data"
    },
    {
     "name": "stderr",
     "output_type": "stream",
     "text": [
      "ERROR: 2023-10-30 15:10:01,774: _geological_feature_builder.py:266 -- Not enough constraints for scalar field add more\n",
      "WARNING: 2023-10-30 15:10:01,852: _discrete_interpolator.py:735 -- No solution, s1__2 scalar field 0. Add more data.\n"
     ]
    },
    {
     "data": {
      "application/vnd.jupyter.widget-view+json": {
       "model_id": "b54bb45c658e45b9bd74a1d7cfcaa6ef",
       "version_major": 2,
       "version_minor": 0
      },
      "text/plain": [
       "  0%|          | 0/3 [00:00<?, ?it/s]"
      ]
     },
     "metadata": {},
     "output_type": "display_data"
    },
    {
     "name": "stderr",
     "output_type": "stream",
     "text": [
      "ERROR: 2023-10-30 15:10:03,602: _geological_feature_builder.py:266 -- Not enough constraints for scalar field add more\n",
      "WARNING: 2023-10-30 15:10:03,679: _discrete_interpolator.py:735 -- No solution, s1__2 scalar field 0. Add more data.\n"
     ]
    },
    {
     "data": {
      "application/vnd.jupyter.widget-view+json": {
       "model_id": "056ccb38f2c94769ba0e0a83b9c0e436",
       "version_major": 2,
       "version_minor": 0
      },
      "text/plain": [
       "  0%|          | 0/3 [00:00<?, ?it/s]"
      ]
     },
     "metadata": {},
     "output_type": "display_data"
    },
    {
     "name": "stderr",
     "output_type": "stream",
     "text": [
      "ERROR: 2023-10-30 15:10:06,166: _geological_feature_builder.py:266 -- Not enough constraints for scalar field add more\n",
      "WARNING: 2023-10-30 15:10:06,241: _discrete_interpolator.py:735 -- No solution, s1__2 scalar field 0. Add more data.\n"
     ]
    },
    {
     "data": {
      "application/vnd.jupyter.widget-view+json": {
       "model_id": "9ea8a084ff3b49acbba7125e8e4f2ea9",
       "version_major": 2,
       "version_minor": 0
      },
      "text/plain": [
       "  0%|          | 0/3 [00:00<?, ?it/s]"
      ]
     },
     "metadata": {},
     "output_type": "display_data"
    },
    {
     "name": "stderr",
     "output_type": "stream",
     "text": [
      "ERROR: 2023-10-30 15:10:08,690: _geological_feature_builder.py:266 -- Not enough constraints for scalar field add more\n",
      "WARNING: 2023-10-30 15:10:08,770: _discrete_interpolator.py:735 -- No solution, s1__2 scalar field 0. Add more data.\n"
     ]
    },
    {
     "data": {
      "application/vnd.jupyter.widget-view+json": {
       "model_id": "9edf2a0bcfc8467ca5d5edb46cc7b5f1",
       "version_major": 2,
       "version_minor": 0
      },
      "text/plain": [
       "  0%|          | 0/3 [00:00<?, ?it/s]"
      ]
     },
     "metadata": {},
     "output_type": "display_data"
    },
    {
     "name": "stderr",
     "output_type": "stream",
     "text": [
      "ERROR: 2023-10-30 15:10:13,721: _geological_feature_builder.py:266 -- Not enough constraints for scalar field add more\n",
      "WARNING: 2023-10-30 15:10:13,790: _discrete_interpolator.py:735 -- No solution, s1__2 scalar field 0. Add more data.\n"
     ]
    },
    {
     "data": {
      "application/vnd.jupyter.widget-view+json": {
       "model_id": "1cf7d387b8bb44b0b00851f8bff9eb32",
       "version_major": 2,
       "version_minor": 0
      },
      "text/plain": [
       "  0%|          | 0/3 [00:00<?, ?it/s]"
      ]
     },
     "metadata": {},
     "output_type": "display_data"
    },
    {
     "name": "stderr",
     "output_type": "stream",
     "text": [
      "ERROR: 2023-10-30 15:10:15,810: _geological_feature_builder.py:266 -- Not enough constraints for scalar field add more\n",
      "WARNING: 2023-10-30 15:10:15,882: _discrete_interpolator.py:735 -- No solution, s1__2 scalar field 0. Add more data.\n"
     ]
    },
    {
     "data": {
      "application/vnd.jupyter.widget-view+json": {
       "model_id": "4649ccf7190f40049657806af8a9e69a",
       "version_major": 2,
       "version_minor": 0
      },
      "text/plain": [
       "  0%|          | 0/3 [00:00<?, ?it/s]"
      ]
     },
     "metadata": {},
     "output_type": "display_data"
    },
    {
     "name": "stderr",
     "output_type": "stream",
     "text": [
      "ERROR: 2023-10-30 15:10:17,871: _geological_feature_builder.py:266 -- Not enough constraints for scalar field add more\n",
      "WARNING: 2023-10-30 15:10:17,945: _discrete_interpolator.py:735 -- No solution, s1__2 scalar field 0. Add more data.\n"
     ]
    },
    {
     "data": {
      "application/vnd.jupyter.widget-view+json": {
       "model_id": "ca0d33c71cbb426187d568e073d07bc9",
       "version_major": 2,
       "version_minor": 0
      },
      "text/plain": [
       "  0%|          | 0/3 [00:00<?, ?it/s]"
      ]
     },
     "metadata": {},
     "output_type": "display_data"
    },
    {
     "name": "stderr",
     "output_type": "stream",
     "text": [
      "ERROR: 2023-10-30 15:10:20,512: _geological_feature_builder.py:266 -- Not enough constraints for scalar field add more\n",
      "WARNING: 2023-10-30 15:10:20,593: _discrete_interpolator.py:735 -- No solution, s1__2 scalar field 0. Add more data.\n"
     ]
    },
    {
     "data": {
      "application/vnd.jupyter.widget-view+json": {
       "model_id": "a5d8de20de714c898cd773fda17dacdb",
       "version_major": 2,
       "version_minor": 0
      },
      "text/plain": [
       "  0%|          | 0/3 [00:00<?, ?it/s]"
      ]
     },
     "metadata": {},
     "output_type": "display_data"
    },
    {
     "name": "stderr",
     "output_type": "stream",
     "text": [
      "ERROR: 2023-10-30 15:10:22,712: _geological_feature_builder.py:266 -- Not enough constraints for scalar field add more\n",
      "WARNING: 2023-10-30 15:10:22,794: _discrete_interpolator.py:735 -- No solution, s1__2 scalar field 0. Add more data.\n"
     ]
    },
    {
     "data": {
      "application/vnd.jupyter.widget-view+json": {
       "model_id": "9ff11cc986634a5186196b910127add5",
       "version_major": 2,
       "version_minor": 0
      },
      "text/plain": [
       "  0%|          | 0/3 [00:00<?, ?it/s]"
      ]
     },
     "metadata": {},
     "output_type": "display_data"
    },
    {
     "name": "stderr",
     "output_type": "stream",
     "text": [
      "ERROR: 2023-10-30 15:10:26,252: _geological_feature_builder.py:266 -- Not enough constraints for scalar field add more\n",
      "WARNING: 2023-10-30 15:10:26,324: _discrete_interpolator.py:735 -- No solution, s1__2 scalar field 0. Add more data.\n"
     ]
    },
    {
     "data": {
      "application/vnd.jupyter.widget-view+json": {
       "model_id": "f676199b6c784564b0fb6a6d3296512f",
       "version_major": 2,
       "version_minor": 0
      },
      "text/plain": [
       "  0%|          | 0/3 [00:00<?, ?it/s]"
      ]
     },
     "metadata": {},
     "output_type": "display_data"
    },
    {
     "name": "stderr",
     "output_type": "stream",
     "text": [
      "ERROR: 2023-10-30 15:10:28,217: _geological_feature_builder.py:266 -- Not enough constraints for scalar field add more\n",
      "WARNING: 2023-10-30 15:10:28,286: _discrete_interpolator.py:735 -- No solution, s1__2 scalar field 0. Add more data.\n"
     ]
    },
    {
     "data": {
      "application/vnd.jupyter.widget-view+json": {
       "model_id": "5b2a1ce5624a4becb7769e1508492593",
       "version_major": 2,
       "version_minor": 0
      },
      "text/plain": [
       "  0%|          | 0/3 [00:00<?, ?it/s]"
      ]
     },
     "metadata": {},
     "output_type": "display_data"
    },
    {
     "name": "stderr",
     "output_type": "stream",
     "text": [
      "ERROR: 2023-10-30 15:10:30,524: _geological_feature_builder.py:266 -- Not enough constraints for scalar field add more\n",
      "WARNING: 2023-10-30 15:10:30,603: _discrete_interpolator.py:735 -- No solution, s1__2 scalar field 0. Add more data.\n"
     ]
    },
    {
     "data": {
      "application/vnd.jupyter.widget-view+json": {
       "model_id": "56860e3f769b432d8f0d8768d8c1cd4d",
       "version_major": 2,
       "version_minor": 0
      },
      "text/plain": [
       "  0%|          | 0/3 [00:00<?, ?it/s]"
      ]
     },
     "metadata": {},
     "output_type": "display_data"
    },
    {
     "name": "stderr",
     "output_type": "stream",
     "text": [
      "ERROR: 2023-10-30 15:10:33,109: _geological_feature_builder.py:266 -- Not enough constraints for scalar field add more\n",
      "WARNING: 2023-10-30 15:10:33,178: _discrete_interpolator.py:735 -- No solution, s1__2 scalar field 0. Add more data.\n"
     ]
    },
    {
     "data": {
      "application/vnd.jupyter.widget-view+json": {
       "model_id": "dbe6b8050f6c45d891e1898da47566d7",
       "version_major": 2,
       "version_minor": 0
      },
      "text/plain": [
       "  0%|          | 0/3 [00:00<?, ?it/s]"
      ]
     },
     "metadata": {},
     "output_type": "display_data"
    },
    {
     "name": "stderr",
     "output_type": "stream",
     "text": [
      "ERROR: 2023-10-30 15:10:42,657: _geological_feature_builder.py:266 -- Not enough constraints for scalar field add more\n",
      "WARNING: 2023-10-30 15:10:42,734: _discrete_interpolator.py:735 -- No solution, s1__2 scalar field 0. Add more data.\n"
     ]
    },
    {
     "data": {
      "application/vnd.jupyter.widget-view+json": {
       "model_id": "853cbfd3b64e4a12a258db2b9ecd7639",
       "version_major": 2,
       "version_minor": 0
      },
      "text/plain": [
       "  0%|          | 0/3 [00:00<?, ?it/s]"
      ]
     },
     "metadata": {},
     "output_type": "display_data"
    },
    {
     "name": "stderr",
     "output_type": "stream",
     "text": [
      "ERROR: 2023-10-30 15:10:44,836: _geological_feature_builder.py:266 -- Not enough constraints for scalar field add more\n",
      "WARNING: 2023-10-30 15:10:44,915: _discrete_interpolator.py:735 -- No solution, s1__2 scalar field 0. Add more data.\n"
     ]
    },
    {
     "data": {
      "application/vnd.jupyter.widget-view+json": {
       "model_id": "24f8a153726e4b74a601aabf5daca4a0",
       "version_major": 2,
       "version_minor": 0
      },
      "text/plain": [
       "  0%|          | 0/3 [00:00<?, ?it/s]"
      ]
     },
     "metadata": {},
     "output_type": "display_data"
    },
    {
     "name": "stderr",
     "output_type": "stream",
     "text": [
      "ERROR: 2023-10-30 15:10:46,983: _geological_feature_builder.py:266 -- Not enough constraints for scalar field add more\n",
      "WARNING: 2023-10-30 15:10:47,057: _discrete_interpolator.py:735 -- No solution, s1__2 scalar field 0. Add more data.\n"
     ]
    },
    {
     "data": {
      "application/vnd.jupyter.widget-view+json": {
       "model_id": "89038fafe0c44d8ba69d696c74c3c5b9",
       "version_major": 2,
       "version_minor": 0
      },
      "text/plain": [
       "  0%|          | 0/3 [00:00<?, ?it/s]"
      ]
     },
     "metadata": {},
     "output_type": "display_data"
    },
    {
     "name": "stderr",
     "output_type": "stream",
     "text": [
      "ERROR: 2023-10-30 15:10:49,426: _geological_feature_builder.py:266 -- Not enough constraints for scalar field add more\n",
      "WARNING: 2023-10-30 15:10:49,509: _discrete_interpolator.py:735 -- No solution, s1__2 scalar field 0. Add more data.\n"
     ]
    },
    {
     "data": {
      "application/vnd.jupyter.widget-view+json": {
       "model_id": "74fa56cad484459fa9350a04b43f2fad",
       "version_major": 2,
       "version_minor": 0
      },
      "text/plain": [
       "  0%|          | 0/3 [00:00<?, ?it/s]"
      ]
     },
     "metadata": {},
     "output_type": "display_data"
    },
    {
     "name": "stderr",
     "output_type": "stream",
     "text": [
      "ERROR: 2023-10-30 15:10:52,073: _geological_feature_builder.py:266 -- Not enough constraints for scalar field add more\n",
      "WARNING: 2023-10-30 15:10:52,145: _discrete_interpolator.py:735 -- No solution, s1__2 scalar field 0. Add more data.\n"
     ]
    },
    {
     "data": {
      "application/vnd.jupyter.widget-view+json": {
       "model_id": "b898e5a8b7804868b9a6216b99f72639",
       "version_major": 2,
       "version_minor": 0
      },
      "text/plain": [
       "  0%|          | 0/3 [00:00<?, ?it/s]"
      ]
     },
     "metadata": {},
     "output_type": "display_data"
    },
    {
     "name": "stderr",
     "output_type": "stream",
     "text": [
      "ERROR: 2023-10-30 15:10:54,279: _geological_feature_builder.py:266 -- Not enough constraints for scalar field add more\n",
      "WARNING: 2023-10-30 15:10:54,356: _discrete_interpolator.py:735 -- No solution, s1__2 scalar field 0. Add more data.\n"
     ]
    },
    {
     "data": {
      "application/vnd.jupyter.widget-view+json": {
       "model_id": "fc37674dae3b4e6b9dedf7c7024bc205",
       "version_major": 2,
       "version_minor": 0
      },
      "text/plain": [
       "  0%|          | 0/3 [00:00<?, ?it/s]"
      ]
     },
     "metadata": {},
     "output_type": "display_data"
    },
    {
     "name": "stderr",
     "output_type": "stream",
     "text": [
      "ERROR: 2023-10-30 15:10:56,941: _geological_feature_builder.py:266 -- Not enough constraints for scalar field add more\n",
      "WARNING: 2023-10-30 15:10:57,026: _discrete_interpolator.py:735 -- No solution, s1__2 scalar field 0. Add more data.\n"
     ]
    },
    {
     "data": {
      "application/vnd.jupyter.widget-view+json": {
       "model_id": "6ce08725266d4d119a716b437e231f82",
       "version_major": 2,
       "version_minor": 0
      },
      "text/plain": [
       "  0%|          | 0/3 [00:00<?, ?it/s]"
      ]
     },
     "metadata": {},
     "output_type": "display_data"
    },
    {
     "name": "stderr",
     "output_type": "stream",
     "text": [
      "ERROR: 2023-10-30 15:10:59,232: _geological_feature_builder.py:266 -- Not enough constraints for scalar field add more\n",
      "WARNING: 2023-10-30 15:10:59,313: _discrete_interpolator.py:735 -- No solution, s1__2 scalar field 0. Add more data.\n"
     ]
    },
    {
     "data": {
      "application/vnd.jupyter.widget-view+json": {
       "model_id": "dd08a94619aa4b0283c02ecaf4169a84",
       "version_major": 2,
       "version_minor": 0
      },
      "text/plain": [
       "  0%|          | 0/3 [00:00<?, ?it/s]"
      ]
     },
     "metadata": {},
     "output_type": "display_data"
    },
    {
     "name": "stderr",
     "output_type": "stream",
     "text": [
      "ERROR: 2023-10-30 15:11:01,811: _geological_feature_builder.py:266 -- Not enough constraints for scalar field add more\n",
      "WARNING: 2023-10-30 15:11:01,887: _discrete_interpolator.py:735 -- No solution, s1__2 scalar field 0. Add more data.\n"
     ]
    },
    {
     "data": {
      "application/vnd.jupyter.widget-view+json": {
       "model_id": "563f5ed1619949efb25322723462e162",
       "version_major": 2,
       "version_minor": 0
      },
      "text/plain": [
       "  0%|          | 0/3 [00:00<?, ?it/s]"
      ]
     },
     "metadata": {},
     "output_type": "display_data"
    },
    {
     "name": "stderr",
     "output_type": "stream",
     "text": [
      "ERROR: 2023-10-30 15:11:03,658: _geological_feature_builder.py:266 -- Not enough constraints for scalar field add more\n",
      "WARNING: 2023-10-30 15:11:03,730: _discrete_interpolator.py:735 -- No solution, s1__2 scalar field 0. Add more data.\n"
     ]
    },
    {
     "data": {
      "application/vnd.jupyter.widget-view+json": {
       "model_id": "872b379fcae84c3e985ede70b981bf56",
       "version_major": 2,
       "version_minor": 0
      },
      "text/plain": [
       "  0%|          | 0/3 [00:00<?, ?it/s]"
      ]
     },
     "metadata": {},
     "output_type": "display_data"
    },
    {
     "name": "stderr",
     "output_type": "stream",
     "text": [
      "ERROR: 2023-10-30 15:11:06,181: _geological_feature_builder.py:266 -- Not enough constraints for scalar field add more\n",
      "WARNING: 2023-10-30 15:11:06,259: _discrete_interpolator.py:735 -- No solution, s1__2 scalar field 0. Add more data.\n"
     ]
    },
    {
     "data": {
      "application/vnd.jupyter.widget-view+json": {
       "model_id": "a393f0b408da477d922917db3efdd076",
       "version_major": 2,
       "version_minor": 0
      },
      "text/plain": [
       "  0%|          | 0/3 [00:00<?, ?it/s]"
      ]
     },
     "metadata": {},
     "output_type": "display_data"
    },
    {
     "name": "stderr",
     "output_type": "stream",
     "text": [
      "ERROR: 2023-10-30 15:11:08,451: _geological_feature_builder.py:266 -- Not enough constraints for scalar field add more\n",
      "WARNING: 2023-10-30 15:11:08,532: _discrete_interpolator.py:735 -- No solution, s1__2 scalar field 0. Add more data.\n"
     ]
    },
    {
     "data": {
      "application/vnd.jupyter.widget-view+json": {
       "model_id": "13cef969ba1a403bb3065063c1612ae6",
       "version_major": 2,
       "version_minor": 0
      },
      "text/plain": [
       "  0%|          | 0/3 [00:00<?, ?it/s]"
      ]
     },
     "metadata": {},
     "output_type": "display_data"
    },
    {
     "name": "stderr",
     "output_type": "stream",
     "text": [
      "ERROR: 2023-10-30 15:11:10,614: _geological_feature_builder.py:266 -- Not enough constraints for scalar field add more\n",
      "WARNING: 2023-10-30 15:11:10,694: _discrete_interpolator.py:735 -- No solution, s1__2 scalar field 0. Add more data.\n"
     ]
    },
    {
     "data": {
      "application/vnd.jupyter.widget-view+json": {
       "model_id": "0ad0e90301824f9ab10f10ad229d6d15",
       "version_major": 2,
       "version_minor": 0
      },
      "text/plain": [
       "  0%|          | 0/3 [00:00<?, ?it/s]"
      ]
     },
     "metadata": {},
     "output_type": "display_data"
    },
    {
     "name": "stderr",
     "output_type": "stream",
     "text": [
      "ERROR: 2023-10-30 15:11:13,060: _geological_feature_builder.py:266 -- Not enough constraints for scalar field add more\n",
      "WARNING: 2023-10-30 15:11:13,138: _discrete_interpolator.py:735 -- No solution, s1__2 scalar field 0. Add more data.\n"
     ]
    },
    {
     "data": {
      "application/vnd.jupyter.widget-view+json": {
       "model_id": "9f1f3f707b8f4fbb82e96a271855c2ab",
       "version_major": 2,
       "version_minor": 0
      },
      "text/plain": [
       "  0%|          | 0/3 [00:00<?, ?it/s]"
      ]
     },
     "metadata": {},
     "output_type": "display_data"
    },
    {
     "name": "stderr",
     "output_type": "stream",
     "text": [
      "ERROR: 2023-10-30 15:11:15,393: _geological_feature_builder.py:266 -- Not enough constraints for scalar field add more\n",
      "WARNING: 2023-10-30 15:11:15,472: _discrete_interpolator.py:735 -- No solution, s1__2 scalar field 0. Add more data.\n"
     ]
    },
    {
     "data": {
      "application/vnd.jupyter.widget-view+json": {
       "model_id": "4ec6847baa6243ffbce5b1b4c5b7e262",
       "version_major": 2,
       "version_minor": 0
      },
      "text/plain": [
       "  0%|          | 0/3 [00:00<?, ?it/s]"
      ]
     },
     "metadata": {},
     "output_type": "display_data"
    },
    {
     "name": "stderr",
     "output_type": "stream",
     "text": [
      "ERROR: 2023-10-30 15:11:17,351: _geological_feature_builder.py:266 -- Not enough constraints for scalar field add more\n",
      "WARNING: 2023-10-30 15:11:17,422: _discrete_interpolator.py:735 -- No solution, s1__2 scalar field 0. Add more data.\n"
     ]
    },
    {
     "data": {
      "application/vnd.jupyter.widget-view+json": {
       "model_id": "0d7e75df0a004c89a5f5a3048c01bca2",
       "version_major": 2,
       "version_minor": 0
      },
      "text/plain": [
       "  0%|          | 0/3 [00:00<?, ?it/s]"
      ]
     },
     "metadata": {},
     "output_type": "display_data"
    },
    {
     "name": "stderr",
     "output_type": "stream",
     "text": [
      "ERROR: 2023-10-30 15:11:22,011: _geological_feature_builder.py:266 -- Not enough constraints for scalar field add more\n",
      "WARNING: 2023-10-30 15:11:22,088: _discrete_interpolator.py:735 -- No solution, s1__2 scalar field 0. Add more data.\n"
     ]
    },
    {
     "data": {
      "application/vnd.jupyter.widget-view+json": {
       "model_id": "532b529f880746889b2658a14adbc90a",
       "version_major": 2,
       "version_minor": 0
      },
      "text/plain": [
       "  0%|          | 0/3 [00:00<?, ?it/s]"
      ]
     },
     "metadata": {},
     "output_type": "display_data"
    },
    {
     "name": "stderr",
     "output_type": "stream",
     "text": [
      "ERROR: 2023-10-30 15:11:24,105: _geological_feature_builder.py:266 -- Not enough constraints for scalar field add more\n",
      "WARNING: 2023-10-30 15:11:24,179: _discrete_interpolator.py:735 -- No solution, s1__2 scalar field 0. Add more data.\n"
     ]
    },
    {
     "data": {
      "application/vnd.jupyter.widget-view+json": {
       "model_id": "e9932f1091eb4cfc9058e29112773f22",
       "version_major": 2,
       "version_minor": 0
      },
      "text/plain": [
       "  0%|          | 0/3 [00:00<?, ?it/s]"
      ]
     },
     "metadata": {},
     "output_type": "display_data"
    },
    {
     "name": "stderr",
     "output_type": "stream",
     "text": [
      "ERROR: 2023-10-30 15:11:26,209: _geological_feature_builder.py:266 -- Not enough constraints for scalar field add more\n",
      "WARNING: 2023-10-30 15:11:26,290: _discrete_interpolator.py:735 -- No solution, s1__2 scalar field 0. Add more data.\n"
     ]
    },
    {
     "data": {
      "application/vnd.jupyter.widget-view+json": {
       "model_id": "956be8b349514404b805123d0d23b89f",
       "version_major": 2,
       "version_minor": 0
      },
      "text/plain": [
       "  0%|          | 0/3 [00:00<?, ?it/s]"
      ]
     },
     "metadata": {},
     "output_type": "display_data"
    },
    {
     "name": "stderr",
     "output_type": "stream",
     "text": [
      "ERROR: 2023-10-30 15:11:28,625: _geological_feature_builder.py:266 -- Not enough constraints for scalar field add more\n",
      "WARNING: 2023-10-30 15:11:28,707: _discrete_interpolator.py:735 -- No solution, s1__2 scalar field 0. Add more data.\n"
     ]
    },
    {
     "data": {
      "application/vnd.jupyter.widget-view+json": {
       "model_id": "c5d8db96b0de44abb62db98f3a068d77",
       "version_major": 2,
       "version_minor": 0
      },
      "text/plain": [
       "  0%|          | 0/3 [00:00<?, ?it/s]"
      ]
     },
     "metadata": {},
     "output_type": "display_data"
    },
    {
     "name": "stderr",
     "output_type": "stream",
     "text": [
      "ERROR: 2023-10-30 15:11:30,621: _geological_feature_builder.py:266 -- Not enough constraints for scalar field add more\n",
      "WARNING: 2023-10-30 15:11:30,697: _discrete_interpolator.py:735 -- No solution, s1__2 scalar field 0. Add more data.\n"
     ]
    },
    {
     "data": {
      "application/vnd.jupyter.widget-view+json": {
       "model_id": "2cdb96327f634ee5b17b28f0006083cb",
       "version_major": 2,
       "version_minor": 0
      },
      "text/plain": [
       "  0%|          | 0/3 [00:00<?, ?it/s]"
      ]
     },
     "metadata": {},
     "output_type": "display_data"
    },
    {
     "name": "stderr",
     "output_type": "stream",
     "text": [
      "ERROR: 2023-10-30 15:11:32,596: _geological_feature_builder.py:266 -- Not enough constraints for scalar field add more\n",
      "WARNING: 2023-10-30 15:11:32,675: _discrete_interpolator.py:735 -- No solution, s1__2 scalar field 0. Add more data.\n"
     ]
    },
    {
     "data": {
      "application/vnd.jupyter.widget-view+json": {
       "model_id": "ef9b91d759924bfabd7203eaff193fe4",
       "version_major": 2,
       "version_minor": 0
      },
      "text/plain": [
       "  0%|          | 0/3 [00:00<?, ?it/s]"
      ]
     },
     "metadata": {},
     "output_type": "display_data"
    },
    {
     "name": "stderr",
     "output_type": "stream",
     "text": [
      "ERROR: 2023-10-30 15:11:34,775: _geological_feature_builder.py:266 -- Not enough constraints for scalar field add more\n",
      "WARNING: 2023-10-30 15:11:34,850: _discrete_interpolator.py:735 -- No solution, s1__2 scalar field 0. Add more data.\n"
     ]
    },
    {
     "data": {
      "application/vnd.jupyter.widget-view+json": {
       "model_id": "af6f802f1d804dd48cca05b3a92c96fa",
       "version_major": 2,
       "version_minor": 0
      },
      "text/plain": [
       "  0%|          | 0/3 [00:00<?, ?it/s]"
      ]
     },
     "metadata": {},
     "output_type": "display_data"
    },
    {
     "name": "stderr",
     "output_type": "stream",
     "text": [
      "ERROR: 2023-10-30 15:11:38,402: _geological_feature_builder.py:266 -- Not enough constraints for scalar field add more\n",
      "WARNING: 2023-10-30 15:11:38,479: _discrete_interpolator.py:735 -- No solution, s1__2 scalar field 0. Add more data.\n"
     ]
    },
    {
     "data": {
      "application/vnd.jupyter.widget-view+json": {
       "model_id": "37c6e80de345459f8e2ff3e049399cbc",
       "version_major": 2,
       "version_minor": 0
      },
      "text/plain": [
       "  0%|          | 0/3 [00:00<?, ?it/s]"
      ]
     },
     "metadata": {},
     "output_type": "display_data"
    },
    {
     "name": "stderr",
     "output_type": "stream",
     "text": [
      "ERROR: 2023-10-30 15:11:40,947: _geological_feature_builder.py:266 -- Not enough constraints for scalar field add more\n",
      "WARNING: 2023-10-30 15:11:41,024: _discrete_interpolator.py:735 -- No solution, s1__2 scalar field 0. Add more data.\n"
     ]
    },
    {
     "data": {
      "application/vnd.jupyter.widget-view+json": {
       "model_id": "f8d9ac97d76c479c957a2239b3dea7ba",
       "version_major": 2,
       "version_minor": 0
      },
      "text/plain": [
       "  0%|          | 0/3 [00:00<?, ?it/s]"
      ]
     },
     "metadata": {},
     "output_type": "display_data"
    },
    {
     "name": "stderr",
     "output_type": "stream",
     "text": [
      "ERROR: 2023-10-30 15:11:42,800: _geological_feature_builder.py:266 -- Not enough constraints for scalar field add more\n",
      "WARNING: 2023-10-30 15:11:42,874: _discrete_interpolator.py:735 -- No solution, s1__2 scalar field 0. Add more data.\n"
     ]
    },
    {
     "data": {
      "application/vnd.jupyter.widget-view+json": {
       "model_id": "cc75383f3f924f93a6a7eab3fe45c2a0",
       "version_major": 2,
       "version_minor": 0
      },
      "text/plain": [
       "  0%|          | 0/3 [00:00<?, ?it/s]"
      ]
     },
     "metadata": {},
     "output_type": "display_data"
    },
    {
     "name": "stderr",
     "output_type": "stream",
     "text": [
      "ERROR: 2023-10-30 15:11:46,262: _geological_feature_builder.py:266 -- Not enough constraints for scalar field add more\n",
      "WARNING: 2023-10-30 15:11:46,337: _discrete_interpolator.py:735 -- No solution, s1__2 scalar field 0. Add more data.\n"
     ]
    },
    {
     "data": {
      "application/vnd.jupyter.widget-view+json": {
       "model_id": "f8725a7dc895425f8954171f2f00bc1f",
       "version_major": 2,
       "version_minor": 0
      },
      "text/plain": [
       "  0%|          | 0/3 [00:00<?, ?it/s]"
      ]
     },
     "metadata": {},
     "output_type": "display_data"
    },
    {
     "name": "stderr",
     "output_type": "stream",
     "text": [
      "ERROR: 2023-10-30 15:11:48,315: _geological_feature_builder.py:266 -- Not enough constraints for scalar field add more\n",
      "WARNING: 2023-10-30 15:11:48,395: _discrete_interpolator.py:735 -- No solution, s1__2 scalar field 0. Add more data.\n"
     ]
    },
    {
     "data": {
      "application/vnd.jupyter.widget-view+json": {
       "model_id": "20ade01b62974ec782fde19d60e148e7",
       "version_major": 2,
       "version_minor": 0
      },
      "text/plain": [
       "  0%|          | 0/3 [00:00<?, ?it/s]"
      ]
     },
     "metadata": {},
     "output_type": "display_data"
    },
    {
     "name": "stderr",
     "output_type": "stream",
     "text": [
      "ERROR: 2023-10-30 15:11:51,750: _geological_feature_builder.py:266 -- Not enough constraints for scalar field add more\n",
      "WARNING: 2023-10-30 15:11:51,824: _discrete_interpolator.py:735 -- No solution, s1__2 scalar field 0. Add more data.\n"
     ]
    },
    {
     "data": {
      "application/vnd.jupyter.widget-view+json": {
       "model_id": "bb68ab3d00e14f09889e16da82a3f5c6",
       "version_major": 2,
       "version_minor": 0
      },
      "text/plain": [
       "  0%|          | 0/3 [00:00<?, ?it/s]"
      ]
     },
     "metadata": {},
     "output_type": "display_data"
    },
    {
     "name": "stderr",
     "output_type": "stream",
     "text": [
      "ERROR: 2023-10-30 15:11:53,785: _geological_feature_builder.py:266 -- Not enough constraints for scalar field add more\n",
      "WARNING: 2023-10-30 15:11:53,856: _discrete_interpolator.py:735 -- No solution, s1__2 scalar field 0. Add more data.\n"
     ]
    },
    {
     "data": {
      "application/vnd.jupyter.widget-view+json": {
       "model_id": "77ec9bf2e8eb434dbbe7701a1b3ca4a1",
       "version_major": 2,
       "version_minor": 0
      },
      "text/plain": [
       "  0%|          | 0/3 [00:00<?, ?it/s]"
      ]
     },
     "metadata": {},
     "output_type": "display_data"
    },
    {
     "name": "stderr",
     "output_type": "stream",
     "text": [
      "ERROR: 2023-10-30 15:11:55,588: _geological_feature_builder.py:266 -- Not enough constraints for scalar field add more\n",
      "WARNING: 2023-10-30 15:11:55,663: _discrete_interpolator.py:735 -- No solution, s1__2 scalar field 0. Add more data.\n"
     ]
    },
    {
     "data": {
      "application/vnd.jupyter.widget-view+json": {
       "model_id": "4271ad01929e49d4935ad6c1e906ae92",
       "version_major": 2,
       "version_minor": 0
      },
      "text/plain": [
       "  0%|          | 0/3 [00:00<?, ?it/s]"
      ]
     },
     "metadata": {},
     "output_type": "display_data"
    },
    {
     "name": "stderr",
     "output_type": "stream",
     "text": [
      "ERROR: 2023-10-30 15:11:57,310: _geological_feature_builder.py:266 -- Not enough constraints for scalar field add more\n",
      "WARNING: 2023-10-30 15:11:57,385: _discrete_interpolator.py:735 -- No solution, s1__2 scalar field 0. Add more data.\n"
     ]
    },
    {
     "data": {
      "application/vnd.jupyter.widget-view+json": {
       "model_id": "b5660d74d3c24bad808e2167319aa678",
       "version_major": 2,
       "version_minor": 0
      },
      "text/plain": [
       "  0%|          | 0/3 [00:00<?, ?it/s]"
      ]
     },
     "metadata": {},
     "output_type": "display_data"
    },
    {
     "name": "stderr",
     "output_type": "stream",
     "text": [
      "ERROR: 2023-10-30 15:11:59,291: _geological_feature_builder.py:266 -- Not enough constraints for scalar field add more\n",
      "WARNING: 2023-10-30 15:11:59,356: _discrete_interpolator.py:735 -- No solution, s1__2 scalar field 0. Add more data.\n"
     ]
    },
    {
     "data": {
      "application/vnd.jupyter.widget-view+json": {
       "model_id": "840cd8595241410ebc5303dc663ca108",
       "version_major": 2,
       "version_minor": 0
      },
      "text/plain": [
       "  0%|          | 0/3 [00:00<?, ?it/s]"
      ]
     },
     "metadata": {},
     "output_type": "display_data"
    },
    {
     "name": "stderr",
     "output_type": "stream",
     "text": [
      "ERROR: 2023-10-30 15:12:02,137: _geological_feature_builder.py:266 -- Not enough constraints for scalar field add more\n",
      "WARNING: 2023-10-30 15:12:02,212: _discrete_interpolator.py:735 -- No solution, s1__2 scalar field 0. Add more data.\n"
     ]
    },
    {
     "data": {
      "application/vnd.jupyter.widget-view+json": {
       "model_id": "bc60a168966241e4b6d7a5df4866c07d",
       "version_major": 2,
       "version_minor": 0
      },
      "text/plain": [
       "  0%|          | 0/3 [00:00<?, ?it/s]"
      ]
     },
     "metadata": {},
     "output_type": "display_data"
    },
    {
     "name": "stderr",
     "output_type": "stream",
     "text": [
      "ERROR: 2023-10-30 15:12:05,100: _geological_feature_builder.py:266 -- Not enough constraints for scalar field add more\n",
      "WARNING: 2023-10-30 15:12:05,192: _discrete_interpolator.py:735 -- No solution, s1__2 scalar field 0. Add more data.\n"
     ]
    },
    {
     "data": {
      "application/vnd.jupyter.widget-view+json": {
       "model_id": "ac809298cac44d5f9d5492099a4bda14",
       "version_major": 2,
       "version_minor": 0
      },
      "text/plain": [
       "  0%|          | 0/3 [00:00<?, ?it/s]"
      ]
     },
     "metadata": {},
     "output_type": "display_data"
    },
    {
     "name": "stderr",
     "output_type": "stream",
     "text": [
      "ERROR: 2023-10-30 15:12:08,105: _geological_feature_builder.py:266 -- Not enough constraints for scalar field add more\n",
      "WARNING: 2023-10-30 15:12:08,187: _discrete_interpolator.py:735 -- No solution, s1__2 scalar field 0. Add more data.\n"
     ]
    },
    {
     "data": {
      "application/vnd.jupyter.widget-view+json": {
       "model_id": "2c8dd63d3c804a1d82a32340b0844267",
       "version_major": 2,
       "version_minor": 0
      },
      "text/plain": [
       "  0%|          | 0/3 [00:00<?, ?it/s]"
      ]
     },
     "metadata": {},
     "output_type": "display_data"
    },
    {
     "name": "stderr",
     "output_type": "stream",
     "text": [
      "ERROR: 2023-10-30 15:12:10,700: _geological_feature_builder.py:266 -- Not enough constraints for scalar field add more\n",
      "WARNING: 2023-10-30 15:12:10,784: _discrete_interpolator.py:735 -- No solution, s1__2 scalar field 0. Add more data.\n"
     ]
    },
    {
     "data": {
      "application/vnd.jupyter.widget-view+json": {
       "model_id": "d77f1ae62dd74159bde06ffe20222e4a",
       "version_major": 2,
       "version_minor": 0
      },
      "text/plain": [
       "  0%|          | 0/3 [00:00<?, ?it/s]"
      ]
     },
     "metadata": {},
     "output_type": "display_data"
    },
    {
     "name": "stderr",
     "output_type": "stream",
     "text": [
      "ERROR: 2023-10-30 15:12:12,910: _geological_feature_builder.py:266 -- Not enough constraints for scalar field add more\n",
      "WARNING: 2023-10-30 15:12:12,984: _discrete_interpolator.py:735 -- No solution, s1__2 scalar field 0. Add more data.\n"
     ]
    },
    {
     "data": {
      "application/vnd.jupyter.widget-view+json": {
       "model_id": "b2756c925ae64bfeb2c340b73050cede",
       "version_major": 2,
       "version_minor": 0
      },
      "text/plain": [
       "  0%|          | 0/3 [00:00<?, ?it/s]"
      ]
     },
     "metadata": {},
     "output_type": "display_data"
    },
    {
     "name": "stderr",
     "output_type": "stream",
     "text": [
      "ERROR: 2023-10-30 15:12:14,841: _geological_feature_builder.py:266 -- Not enough constraints for scalar field add more\n",
      "WARNING: 2023-10-30 15:12:14,921: _discrete_interpolator.py:735 -- No solution, s1__2 scalar field 0. Add more data.\n"
     ]
    },
    {
     "data": {
      "application/vnd.jupyter.widget-view+json": {
       "model_id": "4cde1b1ebe3449e48bf3cf921d4c9823",
       "version_major": 2,
       "version_minor": 0
      },
      "text/plain": [
       "  0%|          | 0/3 [00:00<?, ?it/s]"
      ]
     },
     "metadata": {},
     "output_type": "display_data"
    },
    {
     "name": "stderr",
     "output_type": "stream",
     "text": [
      "ERROR: 2023-10-30 15:12:17,238: _geological_feature_builder.py:266 -- Not enough constraints for scalar field add more\n",
      "WARNING: 2023-10-30 15:12:17,309: _discrete_interpolator.py:735 -- No solution, s1__2 scalar field 0. Add more data.\n"
     ]
    },
    {
     "data": {
      "application/vnd.jupyter.widget-view+json": {
       "model_id": "9a03150e48af44de900281bdc059d3c1",
       "version_major": 2,
       "version_minor": 0
      },
      "text/plain": [
       "  0%|          | 0/3 [00:00<?, ?it/s]"
      ]
     },
     "metadata": {},
     "output_type": "display_data"
    },
    {
     "name": "stderr",
     "output_type": "stream",
     "text": [
      "ERROR: 2023-10-30 15:12:19,741: _geological_feature_builder.py:266 -- Not enough constraints for scalar field add more\n",
      "WARNING: 2023-10-30 15:12:19,817: _discrete_interpolator.py:735 -- No solution, s1__2 scalar field 0. Add more data.\n"
     ]
    },
    {
     "data": {
      "application/vnd.jupyter.widget-view+json": {
       "model_id": "ccf810dba2ea46caa14e1f8cb093cc11",
       "version_major": 2,
       "version_minor": 0
      },
      "text/plain": [
       "  0%|          | 0/3 [00:00<?, ?it/s]"
      ]
     },
     "metadata": {},
     "output_type": "display_data"
    },
    {
     "name": "stderr",
     "output_type": "stream",
     "text": [
      "ERROR: 2023-10-30 15:12:22,627: _geological_feature_builder.py:266 -- Not enough constraints for scalar field add more\n",
      "WARNING: 2023-10-30 15:12:22,703: _discrete_interpolator.py:735 -- No solution, s1__2 scalar field 0. Add more data.\n"
     ]
    },
    {
     "data": {
      "application/vnd.jupyter.widget-view+json": {
       "model_id": "764cb139988740f08a289b52915f22b4",
       "version_major": 2,
       "version_minor": 0
      },
      "text/plain": [
       "  0%|          | 0/3 [00:00<?, ?it/s]"
      ]
     },
     "metadata": {},
     "output_type": "display_data"
    },
    {
     "name": "stderr",
     "output_type": "stream",
     "text": [
      "ERROR: 2023-10-30 15:12:24,615: _geological_feature_builder.py:266 -- Not enough constraints for scalar field add more\n",
      "WARNING: 2023-10-30 15:12:24,690: _discrete_interpolator.py:735 -- No solution, s1__2 scalar field 0. Add more data.\n"
     ]
    },
    {
     "data": {
      "application/vnd.jupyter.widget-view+json": {
       "model_id": "a92dc6e57def4e30a5742ef5311f5d6c",
       "version_major": 2,
       "version_minor": 0
      },
      "text/plain": [
       "  0%|          | 0/3 [00:00<?, ?it/s]"
      ]
     },
     "metadata": {},
     "output_type": "display_data"
    },
    {
     "name": "stderr",
     "output_type": "stream",
     "text": [
      "ERROR: 2023-10-30 15:12:26,575: _geological_feature_builder.py:266 -- Not enough constraints for scalar field add more\n",
      "WARNING: 2023-10-30 15:12:26,648: _discrete_interpolator.py:735 -- No solution, s1__2 scalar field 0. Add more data.\n"
     ]
    },
    {
     "data": {
      "application/vnd.jupyter.widget-view+json": {
       "model_id": "55674707516e4a7abd6c99c545aa811c",
       "version_major": 2,
       "version_minor": 0
      },
      "text/plain": [
       "  0%|          | 0/3 [00:00<?, ?it/s]"
      ]
     },
     "metadata": {},
     "output_type": "display_data"
    },
    {
     "name": "stderr",
     "output_type": "stream",
     "text": [
      "ERROR: 2023-10-30 15:12:31,067: _geological_feature_builder.py:266 -- Not enough constraints for scalar field add more\n",
      "WARNING: 2023-10-30 15:12:31,133: _discrete_interpolator.py:735 -- No solution, s1__2 scalar field 0. Add more data.\n"
     ]
    },
    {
     "data": {
      "application/vnd.jupyter.widget-view+json": {
       "model_id": "feb047c4392f40c7b1e8f9cf6b0db6dc",
       "version_major": 2,
       "version_minor": 0
      },
      "text/plain": [
       "  0%|          | 0/3 [00:00<?, ?it/s]"
      ]
     },
     "metadata": {},
     "output_type": "display_data"
    },
    {
     "name": "stderr",
     "output_type": "stream",
     "text": [
      "ERROR: 2023-10-30 15:12:32,838: _geological_feature_builder.py:266 -- Not enough constraints for scalar field add more\n",
      "WARNING: 2023-10-30 15:12:32,905: _discrete_interpolator.py:735 -- No solution, s1__2 scalar field 0. Add more data.\n"
     ]
    },
    {
     "data": {
      "application/vnd.jupyter.widget-view+json": {
       "model_id": "6dbf9ae2596644368906a4d923f3fcaa",
       "version_major": 2,
       "version_minor": 0
      },
      "text/plain": [
       "  0%|          | 0/3 [00:00<?, ?it/s]"
      ]
     },
     "metadata": {},
     "output_type": "display_data"
    },
    {
     "name": "stderr",
     "output_type": "stream",
     "text": [
      "ERROR: 2023-10-30 15:12:35,063: _geological_feature_builder.py:266 -- Not enough constraints for scalar field add more\n",
      "WARNING: 2023-10-30 15:12:35,135: _discrete_interpolator.py:735 -- No solution, s1__2 scalar field 0. Add more data.\n"
     ]
    },
    {
     "data": {
      "application/vnd.jupyter.widget-view+json": {
       "model_id": "74ea693a8c4247788050bb5666541353",
       "version_major": 2,
       "version_minor": 0
      },
      "text/plain": [
       "  0%|          | 0/3 [00:00<?, ?it/s]"
      ]
     },
     "metadata": {},
     "output_type": "display_data"
    },
    {
     "name": "stderr",
     "output_type": "stream",
     "text": [
      "ERROR: 2023-10-30 15:12:37,209: _geological_feature_builder.py:266 -- Not enough constraints for scalar field add more\n",
      "WARNING: 2023-10-30 15:12:37,280: _discrete_interpolator.py:735 -- No solution, s1__2 scalar field 0. Add more data.\n"
     ]
    },
    {
     "data": {
      "application/vnd.jupyter.widget-view+json": {
       "model_id": "2453ff0727b547a893f32443f6708bb7",
       "version_major": 2,
       "version_minor": 0
      },
      "text/plain": [
       "  0%|          | 0/3 [00:00<?, ?it/s]"
      ]
     },
     "metadata": {},
     "output_type": "display_data"
    },
    {
     "name": "stderr",
     "output_type": "stream",
     "text": [
      "ERROR: 2023-10-30 15:12:40,339: _geological_feature_builder.py:266 -- Not enough constraints for scalar field add more\n",
      "WARNING: 2023-10-30 15:12:40,409: _discrete_interpolator.py:735 -- No solution, s1__2 scalar field 0. Add more data.\n"
     ]
    },
    {
     "data": {
      "application/vnd.jupyter.widget-view+json": {
       "model_id": "ba2ad3ac834a4caea165f6a7e5df1e6d",
       "version_major": 2,
       "version_minor": 0
      },
      "text/plain": [
       "  0%|          | 0/3 [00:00<?, ?it/s]"
      ]
     },
     "metadata": {},
     "output_type": "display_data"
    },
    {
     "name": "stderr",
     "output_type": "stream",
     "text": [
      "ERROR: 2023-10-30 15:12:42,148: _geological_feature_builder.py:266 -- Not enough constraints for scalar field add more\n",
      "WARNING: 2023-10-30 15:12:42,219: _discrete_interpolator.py:735 -- No solution, s1__2 scalar field 0. Add more data.\n"
     ]
    },
    {
     "data": {
      "application/vnd.jupyter.widget-view+json": {
       "model_id": "51f0baf5c8c74c3fa104550846a232a7",
       "version_major": 2,
       "version_minor": 0
      },
      "text/plain": [
       "  0%|          | 0/3 [00:00<?, ?it/s]"
      ]
     },
     "metadata": {},
     "output_type": "display_data"
    },
    {
     "name": "stderr",
     "output_type": "stream",
     "text": [
      "ERROR: 2023-10-30 15:12:48,448: _geological_feature_builder.py:266 -- Not enough constraints for scalar field add more\n",
      "WARNING: 2023-10-30 15:12:48,518: _discrete_interpolator.py:735 -- No solution, s1__2 scalar field 0. Add more data.\n"
     ]
    },
    {
     "data": {
      "application/vnd.jupyter.widget-view+json": {
       "model_id": "5f472d2a7bd64b7c8d4b60b46831f253",
       "version_major": 2,
       "version_minor": 0
      },
      "text/plain": [
       "  0%|          | 0/3 [00:00<?, ?it/s]"
      ]
     },
     "metadata": {},
     "output_type": "display_data"
    },
    {
     "name": "stderr",
     "output_type": "stream",
     "text": [
      "ERROR: 2023-10-30 15:12:50,754: _geological_feature_builder.py:266 -- Not enough constraints for scalar field add more\n",
      "WARNING: 2023-10-30 15:12:50,826: _discrete_interpolator.py:735 -- No solution, s1__2 scalar field 0. Add more data.\n"
     ]
    },
    {
     "data": {
      "application/vnd.jupyter.widget-view+json": {
       "model_id": "4699eea89b1e43aaab42f089933a885d",
       "version_major": 2,
       "version_minor": 0
      },
      "text/plain": [
       "  0%|          | 0/3 [00:00<?, ?it/s]"
      ]
     },
     "metadata": {},
     "output_type": "display_data"
    },
    {
     "name": "stderr",
     "output_type": "stream",
     "text": [
      "ERROR: 2023-10-30 15:12:53,377: _geological_feature_builder.py:266 -- Not enough constraints for scalar field add more\n",
      "WARNING: 2023-10-30 15:12:53,449: _discrete_interpolator.py:735 -- No solution, s1__2 scalar field 0. Add more data.\n"
     ]
    },
    {
     "data": {
      "application/vnd.jupyter.widget-view+json": {
       "model_id": "660ccd2546d64392a9de5441174286ee",
       "version_major": 2,
       "version_minor": 0
      },
      "text/plain": [
       "  0%|          | 0/3 [00:00<?, ?it/s]"
      ]
     },
     "metadata": {},
     "output_type": "display_data"
    },
    {
     "name": "stderr",
     "output_type": "stream",
     "text": [
      "ERROR: 2023-10-30 15:12:55,175: _geological_feature_builder.py:266 -- Not enough constraints for scalar field add more\n",
      "WARNING: 2023-10-30 15:12:55,252: _discrete_interpolator.py:735 -- No solution, s1__2 scalar field 0. Add more data.\n"
     ]
    },
    {
     "data": {
      "application/vnd.jupyter.widget-view+json": {
       "model_id": "fd3c971483b8481fb36e8aaa0ab3a175",
       "version_major": 2,
       "version_minor": 0
      },
      "text/plain": [
       "  0%|          | 0/3 [00:00<?, ?it/s]"
      ]
     },
     "metadata": {},
     "output_type": "display_data"
    },
    {
     "name": "stderr",
     "output_type": "stream",
     "text": [
      "ERROR: 2023-10-30 15:12:57,377: _geological_feature_builder.py:266 -- Not enough constraints for scalar field add more\n",
      "WARNING: 2023-10-30 15:12:57,453: _discrete_interpolator.py:735 -- No solution, s1__2 scalar field 0. Add more data.\n"
     ]
    },
    {
     "data": {
      "application/vnd.jupyter.widget-view+json": {
       "model_id": "5974d41bcb424e2d99d93ca38335b6e1",
       "version_major": 2,
       "version_minor": 0
      },
      "text/plain": [
       "  0%|          | 0/3 [00:00<?, ?it/s]"
      ]
     },
     "metadata": {},
     "output_type": "display_data"
    },
    {
     "name": "stderr",
     "output_type": "stream",
     "text": [
      "ERROR: 2023-10-30 15:12:59,147: _geological_feature_builder.py:266 -- Not enough constraints for scalar field add more\n",
      "WARNING: 2023-10-30 15:12:59,218: _discrete_interpolator.py:735 -- No solution, s1__2 scalar field 0. Add more data.\n"
     ]
    },
    {
     "data": {
      "application/vnd.jupyter.widget-view+json": {
       "model_id": "64599849b0244f64a8c1c68b3dbe55ed",
       "version_major": 2,
       "version_minor": 0
      },
      "text/plain": [
       "  0%|          | 0/3 [00:00<?, ?it/s]"
      ]
     },
     "metadata": {},
     "output_type": "display_data"
    },
    {
     "name": "stderr",
     "output_type": "stream",
     "text": [
      "ERROR: 2023-10-30 15:13:01,333: _geological_feature_builder.py:266 -- Not enough constraints for scalar field add more\n",
      "WARNING: 2023-10-30 15:13:01,405: _discrete_interpolator.py:735 -- No solution, s1__2 scalar field 0. Add more data.\n"
     ]
    },
    {
     "data": {
      "application/vnd.jupyter.widget-view+json": {
       "model_id": "0b7e6e26579f49bb82179b2151349857",
       "version_major": 2,
       "version_minor": 0
      },
      "text/plain": [
       "  0%|          | 0/3 [00:00<?, ?it/s]"
      ]
     },
     "metadata": {},
     "output_type": "display_data"
    },
    {
     "name": "stderr",
     "output_type": "stream",
     "text": [
      "ERROR: 2023-10-30 15:13:03,726: _geological_feature_builder.py:266 -- Not enough constraints for scalar field add more\n",
      "WARNING: 2023-10-30 15:13:03,800: _discrete_interpolator.py:735 -- No solution, s1__2 scalar field 0. Add more data.\n"
     ]
    },
    {
     "data": {
      "application/vnd.jupyter.widget-view+json": {
       "model_id": "9a0ddfc1a7a34aa683f1e2695fb91be9",
       "version_major": 2,
       "version_minor": 0
      },
      "text/plain": [
       "  0%|          | 0/3 [00:00<?, ?it/s]"
      ]
     },
     "metadata": {},
     "output_type": "display_data"
    },
    {
     "name": "stderr",
     "output_type": "stream",
     "text": [
      "ERROR: 2023-10-30 15:13:06,021: _geological_feature_builder.py:266 -- Not enough constraints for scalar field add more\n",
      "WARNING: 2023-10-30 15:13:06,096: _discrete_interpolator.py:735 -- No solution, s1__2 scalar field 0. Add more data.\n"
     ]
    },
    {
     "data": {
      "application/vnd.jupyter.widget-view+json": {
       "model_id": "877571bd032f49cbbabfaf25f24b38bd",
       "version_major": 2,
       "version_minor": 0
      },
      "text/plain": [
       "  0%|          | 0/3 [00:00<?, ?it/s]"
      ]
     },
     "metadata": {},
     "output_type": "display_data"
    },
    {
     "name": "stderr",
     "output_type": "stream",
     "text": [
      "ERROR: 2023-10-30 15:13:08,211: _geological_feature_builder.py:266 -- Not enough constraints for scalar field add more\n",
      "WARNING: 2023-10-30 15:13:08,293: _discrete_interpolator.py:735 -- No solution, s1__2 scalar field 0. Add more data.\n"
     ]
    },
    {
     "data": {
      "application/vnd.jupyter.widget-view+json": {
       "model_id": "d58dcba7387748c0bc6eeb228fdb8101",
       "version_major": 2,
       "version_minor": 0
      },
      "text/plain": [
       "  0%|          | 0/3 [00:00<?, ?it/s]"
      ]
     },
     "metadata": {},
     "output_type": "display_data"
    },
    {
     "name": "stderr",
     "output_type": "stream",
     "text": [
      "ERROR: 2023-10-30 15:13:10,276: _geological_feature_builder.py:266 -- Not enough constraints for scalar field add more\n",
      "WARNING: 2023-10-30 15:13:10,352: _discrete_interpolator.py:735 -- No solution, s1__2 scalar field 0. Add more data.\n"
     ]
    },
    {
     "data": {
      "application/vnd.jupyter.widget-view+json": {
       "model_id": "d3893ed1e81946a3a71d476da91898e3",
       "version_major": 2,
       "version_minor": 0
      },
      "text/plain": [
       "  0%|          | 0/3 [00:00<?, ?it/s]"
      ]
     },
     "metadata": {},
     "output_type": "display_data"
    },
    {
     "name": "stderr",
     "output_type": "stream",
     "text": [
      "ERROR: 2023-10-30 15:13:13,528: _geological_feature_builder.py:266 -- Not enough constraints for scalar field add more\n",
      "WARNING: 2023-10-30 15:13:13,604: _discrete_interpolator.py:735 -- No solution, s1__2 scalar field 0. Add more data.\n"
     ]
    },
    {
     "data": {
      "application/vnd.jupyter.widget-view+json": {
       "model_id": "40398efb970149e099c6fe1a44477257",
       "version_major": 2,
       "version_minor": 0
      },
      "text/plain": [
       "  0%|          | 0/3 [00:00<?, ?it/s]"
      ]
     },
     "metadata": {},
     "output_type": "display_data"
    },
    {
     "name": "stderr",
     "output_type": "stream",
     "text": [
      "ERROR: 2023-10-30 15:13:15,815: _geological_feature_builder.py:266 -- Not enough constraints for scalar field add more\n",
      "WARNING: 2023-10-30 15:13:15,893: _discrete_interpolator.py:735 -- No solution, s1__2 scalar field 0. Add more data.\n"
     ]
    },
    {
     "data": {
      "application/vnd.jupyter.widget-view+json": {
       "model_id": "433642ab57b94d1d8cbba86874055277",
       "version_major": 2,
       "version_minor": 0
      },
      "text/plain": [
       "  0%|          | 0/3 [00:00<?, ?it/s]"
      ]
     },
     "metadata": {},
     "output_type": "display_data"
    },
    {
     "name": "stderr",
     "output_type": "stream",
     "text": [
      "ERROR: 2023-10-30 15:13:18,009: _geological_feature_builder.py:266 -- Not enough constraints for scalar field add more\n",
      "WARNING: 2023-10-30 15:13:18,086: _discrete_interpolator.py:735 -- No solution, s1__2 scalar field 0. Add more data.\n"
     ]
    },
    {
     "data": {
      "application/vnd.jupyter.widget-view+json": {
       "model_id": "4d8f541cca4045b2b0fe85a0228ac1db",
       "version_major": 2,
       "version_minor": 0
      },
      "text/plain": [
       "  0%|          | 0/3 [00:00<?, ?it/s]"
      ]
     },
     "metadata": {},
     "output_type": "display_data"
    },
    {
     "name": "stderr",
     "output_type": "stream",
     "text": [
      "ERROR: 2023-10-30 15:13:20,428: _geological_feature_builder.py:266 -- Not enough constraints for scalar field add more\n",
      "WARNING: 2023-10-30 15:13:20,506: _discrete_interpolator.py:735 -- No solution, s1__2 scalar field 0. Add more data.\n"
     ]
    },
    {
     "data": {
      "application/vnd.jupyter.widget-view+json": {
       "model_id": "b5124e2c65b54bbb8c19e03518309ca1",
       "version_major": 2,
       "version_minor": 0
      },
      "text/plain": [
       "  0%|          | 0/3 [00:00<?, ?it/s]"
      ]
     },
     "metadata": {},
     "output_type": "display_data"
    },
    {
     "name": "stderr",
     "output_type": "stream",
     "text": [
      "ERROR: 2023-10-30 15:13:22,426: _geological_feature_builder.py:266 -- Not enough constraints for scalar field add more\n",
      "WARNING: 2023-10-30 15:13:22,504: _discrete_interpolator.py:735 -- No solution, s1__2 scalar field 0. Add more data.\n"
     ]
    },
    {
     "data": {
      "application/vnd.jupyter.widget-view+json": {
       "model_id": "b0652b67b2d441f4ade36da6a8e3a538",
       "version_major": 2,
       "version_minor": 0
      },
      "text/plain": [
       "  0%|          | 0/3 [00:00<?, ?it/s]"
      ]
     },
     "metadata": {},
     "output_type": "display_data"
    },
    {
     "name": "stderr",
     "output_type": "stream",
     "text": [
      "ERROR: 2023-10-30 15:13:26,724: _geological_feature_builder.py:266 -- Not enough constraints for scalar field add more\n",
      "WARNING: 2023-10-30 15:13:26,794: _discrete_interpolator.py:735 -- No solution, s1__2 scalar field 0. Add more data.\n"
     ]
    },
    {
     "data": {
      "application/vnd.jupyter.widget-view+json": {
       "model_id": "4e4b7c0960d44885a363dc806e6f433e",
       "version_major": 2,
       "version_minor": 0
      },
      "text/plain": [
       "  0%|          | 0/3 [00:00<?, ?it/s]"
      ]
     },
     "metadata": {},
     "output_type": "display_data"
    },
    {
     "name": "stderr",
     "output_type": "stream",
     "text": [
      "ERROR: 2023-10-30 15:13:28,705: _geological_feature_builder.py:266 -- Not enough constraints for scalar field add more\n",
      "WARNING: 2023-10-30 15:13:28,778: _discrete_interpolator.py:735 -- No solution, s1__2 scalar field 0. Add more data.\n"
     ]
    },
    {
     "data": {
      "application/vnd.jupyter.widget-view+json": {
       "model_id": "78ebfcd5ca4b4f0ebf6aeccd137bb252",
       "version_major": 2,
       "version_minor": 0
      },
      "text/plain": [
       "  0%|          | 0/3 [00:00<?, ?it/s]"
      ]
     },
     "metadata": {},
     "output_type": "display_data"
    },
    {
     "name": "stderr",
     "output_type": "stream",
     "text": [
      "ERROR: 2023-10-30 15:13:32,982: _geological_feature_builder.py:266 -- Not enough constraints for scalar field add more\n",
      "WARNING: 2023-10-30 15:13:33,066: _discrete_interpolator.py:735 -- No solution, s1__2 scalar field 0. Add more data.\n"
     ]
    },
    {
     "data": {
      "application/vnd.jupyter.widget-view+json": {
       "model_id": "a3ca6d25883f4979b9b6e64e01654b7c",
       "version_major": 2,
       "version_minor": 0
      },
      "text/plain": [
       "  0%|          | 0/3 [00:00<?, ?it/s]"
      ]
     },
     "metadata": {},
     "output_type": "display_data"
    },
    {
     "name": "stderr",
     "output_type": "stream",
     "text": [
      "ERROR: 2023-10-30 15:13:36,608: _geological_feature_builder.py:266 -- Not enough constraints for scalar field add more\n",
      "WARNING: 2023-10-30 15:13:36,685: _discrete_interpolator.py:735 -- No solution, s1__2 scalar field 0. Add more data.\n"
     ]
    },
    {
     "data": {
      "application/vnd.jupyter.widget-view+json": {
       "model_id": "1351c0f4b7d44cec885afc3f12266620",
       "version_major": 2,
       "version_minor": 0
      },
      "text/plain": [
       "  0%|          | 0/3 [00:00<?, ?it/s]"
      ]
     },
     "metadata": {},
     "output_type": "display_data"
    },
    {
     "name": "stderr",
     "output_type": "stream",
     "text": [
      "ERROR: 2023-10-30 15:13:38,527: _geological_feature_builder.py:266 -- Not enough constraints for scalar field add more\n",
      "WARNING: 2023-10-30 15:13:38,604: _discrete_interpolator.py:735 -- No solution, s1__2 scalar field 0. Add more data.\n"
     ]
    },
    {
     "data": {
      "application/vnd.jupyter.widget-view+json": {
       "model_id": "eefa1c83144c4b3dbb54fe92674bc11e",
       "version_major": 2,
       "version_minor": 0
      },
      "text/plain": [
       "  0%|          | 0/3 [00:00<?, ?it/s]"
      ]
     },
     "metadata": {},
     "output_type": "display_data"
    },
    {
     "name": "stderr",
     "output_type": "stream",
     "text": [
      "ERROR: 2023-10-30 15:13:40,892: _geological_feature_builder.py:266 -- Not enough constraints for scalar field add more\n",
      "WARNING: 2023-10-30 15:13:40,962: _discrete_interpolator.py:735 -- No solution, s1__2 scalar field 0. Add more data.\n"
     ]
    },
    {
     "data": {
      "application/vnd.jupyter.widget-view+json": {
       "model_id": "5c7de074557545c199b2df46f1e5d9a1",
       "version_major": 2,
       "version_minor": 0
      },
      "text/plain": [
       "  0%|          | 0/3 [00:00<?, ?it/s]"
      ]
     },
     "metadata": {},
     "output_type": "display_data"
    },
    {
     "name": "stderr",
     "output_type": "stream",
     "text": [
      "ERROR: 2023-10-30 15:13:45,811: _geological_feature_builder.py:266 -- Not enough constraints for scalar field add more\n",
      "WARNING: 2023-10-30 15:13:45,882: _discrete_interpolator.py:735 -- No solution, s1__2 scalar field 0. Add more data.\n"
     ]
    },
    {
     "data": {
      "application/vnd.jupyter.widget-view+json": {
       "model_id": "647a22ce13744837be45ecc644a6f767",
       "version_major": 2,
       "version_minor": 0
      },
      "text/plain": [
       "  0%|          | 0/3 [00:00<?, ?it/s]"
      ]
     },
     "metadata": {},
     "output_type": "display_data"
    },
    {
     "name": "stderr",
     "output_type": "stream",
     "text": [
      "ERROR: 2023-10-30 15:13:48,107: _geological_feature_builder.py:266 -- Not enough constraints for scalar field add more\n",
      "WARNING: 2023-10-30 15:13:48,190: _discrete_interpolator.py:735 -- No solution, s1__2 scalar field 0. Add more data.\n"
     ]
    },
    {
     "data": {
      "application/vnd.jupyter.widget-view+json": {
       "model_id": "212d4622a15b45c28b2f5ea4c523366d",
       "version_major": 2,
       "version_minor": 0
      },
      "text/plain": [
       "  0%|          | 0/3 [00:00<?, ?it/s]"
      ]
     },
     "metadata": {},
     "output_type": "display_data"
    },
    {
     "name": "stderr",
     "output_type": "stream",
     "text": [
      "ERROR: 2023-10-30 15:13:50,125: _geological_feature_builder.py:266 -- Not enough constraints for scalar field add more\n",
      "WARNING: 2023-10-30 15:13:50,204: _discrete_interpolator.py:735 -- No solution, s1__2 scalar field 0. Add more data.\n"
     ]
    },
    {
     "data": {
      "application/vnd.jupyter.widget-view+json": {
       "model_id": "29e13cd13e124e4a85821c051f7f45c0",
       "version_major": 2,
       "version_minor": 0
      },
      "text/plain": [
       "  0%|          | 0/3 [00:00<?, ?it/s]"
      ]
     },
     "metadata": {},
     "output_type": "display_data"
    },
    {
     "name": "stderr",
     "output_type": "stream",
     "text": [
      "ERROR: 2023-10-30 15:13:54,206: _geological_feature_builder.py:266 -- Not enough constraints for scalar field add more\n",
      "WARNING: 2023-10-30 15:13:54,276: _discrete_interpolator.py:735 -- No solution, s1__2 scalar field 0. Add more data.\n"
     ]
    },
    {
     "data": {
      "application/vnd.jupyter.widget-view+json": {
       "model_id": "399ddf5bd7aa443e835352cb05e320c5",
       "version_major": 2,
       "version_minor": 0
      },
      "text/plain": [
       "  0%|          | 0/3 [00:00<?, ?it/s]"
      ]
     },
     "metadata": {},
     "output_type": "display_data"
    },
    {
     "name": "stderr",
     "output_type": "stream",
     "text": [
      "ERROR: 2023-10-30 15:13:56,223: _geological_feature_builder.py:266 -- Not enough constraints for scalar field add more\n",
      "WARNING: 2023-10-30 15:13:56,298: _discrete_interpolator.py:735 -- No solution, s1__2 scalar field 0. Add more data.\n"
     ]
    },
    {
     "data": {
      "application/vnd.jupyter.widget-view+json": {
       "model_id": "6ccfeb6d7e484e57b3d8b6c27e155b24",
       "version_major": 2,
       "version_minor": 0
      },
      "text/plain": [
       "  0%|          | 0/3 [00:00<?, ?it/s]"
      ]
     },
     "metadata": {},
     "output_type": "display_data"
    },
    {
     "name": "stderr",
     "output_type": "stream",
     "text": [
      "ERROR: 2023-10-30 15:13:58,181: _geological_feature_builder.py:266 -- Not enough constraints for scalar field add more\n",
      "WARNING: 2023-10-30 15:13:58,250: _discrete_interpolator.py:735 -- No solution, s1__2 scalar field 0. Add more data.\n"
     ]
    },
    {
     "data": {
      "application/vnd.jupyter.widget-view+json": {
       "model_id": "e0b89f6f2ee44beb9e2792aac031698b",
       "version_major": 2,
       "version_minor": 0
      },
      "text/plain": [
       "  0%|          | 0/3 [00:00<?, ?it/s]"
      ]
     },
     "metadata": {},
     "output_type": "display_data"
    },
    {
     "name": "stderr",
     "output_type": "stream",
     "text": [
      "ERROR: 2023-10-30 15:14:00,045: _geological_feature_builder.py:266 -- Not enough constraints for scalar field add more\n",
      "WARNING: 2023-10-30 15:14:00,113: _discrete_interpolator.py:735 -- No solution, s1__2 scalar field 0. Add more data.\n"
     ]
    },
    {
     "data": {
      "application/vnd.jupyter.widget-view+json": {
       "model_id": "54cba927e6f94e749ef863ca8c948095",
       "version_major": 2,
       "version_minor": 0
      },
      "text/plain": [
       "  0%|          | 0/3 [00:00<?, ?it/s]"
      ]
     },
     "metadata": {},
     "output_type": "display_data"
    },
    {
     "name": "stderr",
     "output_type": "stream",
     "text": [
      "ERROR: 2023-10-30 15:14:01,837: _geological_feature_builder.py:266 -- Not enough constraints for scalar field add more\n",
      "WARNING: 2023-10-30 15:14:01,910: _discrete_interpolator.py:735 -- No solution, s1__2 scalar field 0. Add more data.\n"
     ]
    },
    {
     "data": {
      "application/vnd.jupyter.widget-view+json": {
       "model_id": "b521f59c92fc4d94b32130169dceec36",
       "version_major": 2,
       "version_minor": 0
      },
      "text/plain": [
       "  0%|          | 0/3 [00:00<?, ?it/s]"
      ]
     },
     "metadata": {},
     "output_type": "display_data"
    },
    {
     "name": "stderr",
     "output_type": "stream",
     "text": [
      "ERROR: 2023-10-30 15:14:05,357: _geological_feature_builder.py:266 -- Not enough constraints for scalar field add more\n",
      "WARNING: 2023-10-30 15:14:05,431: _discrete_interpolator.py:735 -- No solution, s1__2 scalar field 0. Add more data.\n"
     ]
    },
    {
     "data": {
      "application/vnd.jupyter.widget-view+json": {
       "model_id": "2d00918c489049548faaea31bbe6e58b",
       "version_major": 2,
       "version_minor": 0
      },
      "text/plain": [
       "  0%|          | 0/3 [00:00<?, ?it/s]"
      ]
     },
     "metadata": {},
     "output_type": "display_data"
    },
    {
     "name": "stderr",
     "output_type": "stream",
     "text": [
      "ERROR: 2023-10-30 15:14:07,575: _geological_feature_builder.py:266 -- Not enough constraints for scalar field add more\n",
      "WARNING: 2023-10-30 15:14:07,647: _discrete_interpolator.py:735 -- No solution, s1__2 scalar field 0. Add more data.\n"
     ]
    },
    {
     "data": {
      "application/vnd.jupyter.widget-view+json": {
       "model_id": "51e1a86998a940ea8c9f2916a814a1ec",
       "version_major": 2,
       "version_minor": 0
      },
      "text/plain": [
       "  0%|          | 0/3 [00:00<?, ?it/s]"
      ]
     },
     "metadata": {},
     "output_type": "display_data"
    },
    {
     "name": "stderr",
     "output_type": "stream",
     "text": [
      "ERROR: 2023-10-30 15:14:09,563: _geological_feature_builder.py:266 -- Not enough constraints for scalar field add more\n",
      "WARNING: 2023-10-30 15:14:09,638: _discrete_interpolator.py:735 -- No solution, s1__2 scalar field 0. Add more data.\n"
     ]
    },
    {
     "data": {
      "application/vnd.jupyter.widget-view+json": {
       "model_id": "b882cab8ec5a49e0a5ce2b0bf29e9300",
       "version_major": 2,
       "version_minor": 0
      },
      "text/plain": [
       "  0%|          | 0/3 [00:00<?, ?it/s]"
      ]
     },
     "metadata": {},
     "output_type": "display_data"
    },
    {
     "name": "stderr",
     "output_type": "stream",
     "text": [
      "ERROR: 2023-10-30 15:14:12,227: _geological_feature_builder.py:266 -- Not enough constraints for scalar field add more\n",
      "WARNING: 2023-10-30 15:14:12,307: _discrete_interpolator.py:735 -- No solution, s1__2 scalar field 0. Add more data.\n"
     ]
    },
    {
     "data": {
      "application/vnd.jupyter.widget-view+json": {
       "model_id": "9bc9fdbda5c0419486861c3cbeeb8c98",
       "version_major": 2,
       "version_minor": 0
      },
      "text/plain": [
       "  0%|          | 0/3 [00:00<?, ?it/s]"
      ]
     },
     "metadata": {},
     "output_type": "display_data"
    },
    {
     "name": "stderr",
     "output_type": "stream",
     "text": [
      "ERROR: 2023-10-30 15:14:14,318: _geological_feature_builder.py:266 -- Not enough constraints for scalar field add more\n",
      "WARNING: 2023-10-30 15:14:14,393: _discrete_interpolator.py:735 -- No solution, s1__2 scalar field 0. Add more data.\n"
     ]
    },
    {
     "data": {
      "application/vnd.jupyter.widget-view+json": {
       "model_id": "bd10d4327910411fb4837fa079d8c7a8",
       "version_major": 2,
       "version_minor": 0
      },
      "text/plain": [
       "  0%|          | 0/3 [00:00<?, ?it/s]"
      ]
     },
     "metadata": {},
     "output_type": "display_data"
    },
    {
     "name": "stderr",
     "output_type": "stream",
     "text": [
      "ERROR: 2023-10-30 15:14:16,326: _geological_feature_builder.py:266 -- Not enough constraints for scalar field add more\n",
      "WARNING: 2023-10-30 15:14:16,402: _discrete_interpolator.py:735 -- No solution, s1__2 scalar field 0. Add more data.\n"
     ]
    },
    {
     "data": {
      "application/vnd.jupyter.widget-view+json": {
       "model_id": "ec9381f92d45492a9acfad5a7b49ec95",
       "version_major": 2,
       "version_minor": 0
      },
      "text/plain": [
       "  0%|          | 0/3 [00:00<?, ?it/s]"
      ]
     },
     "metadata": {},
     "output_type": "display_data"
    },
    {
     "name": "stderr",
     "output_type": "stream",
     "text": [
      "ERROR: 2023-10-30 15:14:18,455: _geological_feature_builder.py:266 -- Not enough constraints for scalar field add more\n",
      "WARNING: 2023-10-30 15:14:18,532: _discrete_interpolator.py:735 -- No solution, s1__2 scalar field 0. Add more data.\n"
     ]
    },
    {
     "data": {
      "application/vnd.jupyter.widget-view+json": {
       "model_id": "8b6ec919e49f4d3691ca2cf7659ed536",
       "version_major": 2,
       "version_minor": 0
      },
      "text/plain": [
       "  0%|          | 0/3 [00:00<?, ?it/s]"
      ]
     },
     "metadata": {},
     "output_type": "display_data"
    },
    {
     "name": "stderr",
     "output_type": "stream",
     "text": [
      "ERROR: 2023-10-30 15:14:20,582: _geological_feature_builder.py:266 -- Not enough constraints for scalar field add more\n",
      "WARNING: 2023-10-30 15:14:20,655: _discrete_interpolator.py:735 -- No solution, s1__2 scalar field 0. Add more data.\n"
     ]
    },
    {
     "data": {
      "application/vnd.jupyter.widget-view+json": {
       "model_id": "2360b86e63fe4a5abd83e552261cff3b",
       "version_major": 2,
       "version_minor": 0
      },
      "text/plain": [
       "  0%|          | 0/3 [00:00<?, ?it/s]"
      ]
     },
     "metadata": {},
     "output_type": "display_data"
    },
    {
     "name": "stderr",
     "output_type": "stream",
     "text": [
      "ERROR: 2023-10-30 15:14:22,554: _geological_feature_builder.py:266 -- Not enough constraints for scalar field add more\n",
      "WARNING: 2023-10-30 15:14:22,635: _discrete_interpolator.py:735 -- No solution, s1__2 scalar field 0. Add more data.\n"
     ]
    },
    {
     "data": {
      "application/vnd.jupyter.widget-view+json": {
       "model_id": "df838e47738247dbaf5cf0354d3d7d41",
       "version_major": 2,
       "version_minor": 0
      },
      "text/plain": [
       "  0%|          | 0/3 [00:00<?, ?it/s]"
      ]
     },
     "metadata": {},
     "output_type": "display_data"
    },
    {
     "name": "stderr",
     "output_type": "stream",
     "text": [
      "ERROR: 2023-10-30 15:14:25,312: _geological_feature_builder.py:266 -- Not enough constraints for scalar field add more\n",
      "WARNING: 2023-10-30 15:14:25,388: _discrete_interpolator.py:735 -- No solution, s1__2 scalar field 0. Add more data.\n"
     ]
    },
    {
     "data": {
      "application/vnd.jupyter.widget-view+json": {
       "model_id": "65303cdfede448a2ad47f21540d4cd35",
       "version_major": 2,
       "version_minor": 0
      },
      "text/plain": [
       "  0%|          | 0/3 [00:00<?, ?it/s]"
      ]
     },
     "metadata": {},
     "output_type": "display_data"
    },
    {
     "name": "stderr",
     "output_type": "stream",
     "text": [
      "ERROR: 2023-10-30 15:14:27,615: _geological_feature_builder.py:266 -- Not enough constraints for scalar field add more\n",
      "WARNING: 2023-10-30 15:14:27,690: _discrete_interpolator.py:735 -- No solution, s1__2 scalar field 0. Add more data.\n"
     ]
    },
    {
     "data": {
      "application/vnd.jupyter.widget-view+json": {
       "model_id": "7f96505f41904b5daf4d260ef4155499",
       "version_major": 2,
       "version_minor": 0
      },
      "text/plain": [
       "  0%|          | 0/3 [00:00<?, ?it/s]"
      ]
     },
     "metadata": {},
     "output_type": "display_data"
    },
    {
     "name": "stderr",
     "output_type": "stream",
     "text": [
      "ERROR: 2023-10-30 15:14:29,769: _geological_feature_builder.py:266 -- Not enough constraints for scalar field add more\n",
      "WARNING: 2023-10-30 15:14:29,846: _discrete_interpolator.py:735 -- No solution, s1__2 scalar field 0. Add more data.\n"
     ]
    },
    {
     "data": {
      "application/vnd.jupyter.widget-view+json": {
       "model_id": "4579dff58bd343768a89ba7aa7f485dd",
       "version_major": 2,
       "version_minor": 0
      },
      "text/plain": [
       "  0%|          | 0/3 [00:00<?, ?it/s]"
      ]
     },
     "metadata": {},
     "output_type": "display_data"
    },
    {
     "name": "stderr",
     "output_type": "stream",
     "text": [
      "ERROR: 2023-10-30 15:14:31,821: _geological_feature_builder.py:266 -- Not enough constraints for scalar field add more\n",
      "WARNING: 2023-10-30 15:14:31,901: _discrete_interpolator.py:735 -- No solution, s1__2 scalar field 0. Add more data.\n"
     ]
    },
    {
     "data": {
      "application/vnd.jupyter.widget-view+json": {
       "model_id": "d86e936bb05f412a8d619a96e010bbb4",
       "version_major": 2,
       "version_minor": 0
      },
      "text/plain": [
       "  0%|          | 0/3 [00:00<?, ?it/s]"
      ]
     },
     "metadata": {},
     "output_type": "display_data"
    },
    {
     "name": "stderr",
     "output_type": "stream",
     "text": [
      "ERROR: 2023-10-30 15:14:35,200: _geological_feature_builder.py:266 -- Not enough constraints for scalar field add more\n",
      "WARNING: 2023-10-30 15:14:35,268: _discrete_interpolator.py:735 -- No solution, s1__2 scalar field 0. Add more data.\n"
     ]
    },
    {
     "data": {
      "application/vnd.jupyter.widget-view+json": {
       "model_id": "c9234bfa8c79411888a81cefb7cf0344",
       "version_major": 2,
       "version_minor": 0
      },
      "text/plain": [
       "  0%|          | 0/3 [00:00<?, ?it/s]"
      ]
     },
     "metadata": {},
     "output_type": "display_data"
    },
    {
     "name": "stderr",
     "output_type": "stream",
     "text": [
      "ERROR: 2023-10-30 15:14:37,232: _geological_feature_builder.py:266 -- Not enough constraints for scalar field add more\n",
      "WARNING: 2023-10-30 15:14:37,309: _discrete_interpolator.py:735 -- No solution, s1__2 scalar field 0. Add more data.\n"
     ]
    },
    {
     "data": {
      "application/vnd.jupyter.widget-view+json": {
       "model_id": "8eb8c7a043594157985e116cbde840f7",
       "version_major": 2,
       "version_minor": 0
      },
      "text/plain": [
       "  0%|          | 0/3 [00:00<?, ?it/s]"
      ]
     },
     "metadata": {},
     "output_type": "display_data"
    },
    {
     "name": "stderr",
     "output_type": "stream",
     "text": [
      "ERROR: 2023-10-30 15:14:39,428: _geological_feature_builder.py:266 -- Not enough constraints for scalar field add more\n",
      "WARNING: 2023-10-30 15:14:39,505: _discrete_interpolator.py:735 -- No solution, s1__2 scalar field 0. Add more data.\n"
     ]
    },
    {
     "data": {
      "application/vnd.jupyter.widget-view+json": {
       "model_id": "a324ef5990cb455d908569ae9f6bdcaa",
       "version_major": 2,
       "version_minor": 0
      },
      "text/plain": [
       "  0%|          | 0/3 [00:00<?, ?it/s]"
      ]
     },
     "metadata": {},
     "output_type": "display_data"
    },
    {
     "name": "stderr",
     "output_type": "stream",
     "text": [
      "ERROR: 2023-10-30 15:14:42,542: _geological_feature_builder.py:266 -- Not enough constraints for scalar field add more\n",
      "WARNING: 2023-10-30 15:14:42,631: _discrete_interpolator.py:735 -- No solution, s1__2 scalar field 0. Add more data.\n"
     ]
    },
    {
     "data": {
      "application/vnd.jupyter.widget-view+json": {
       "model_id": "ad729a99d2f44058bceb3204d299dd2d",
       "version_major": 2,
       "version_minor": 0
      },
      "text/plain": [
       "  0%|          | 0/3 [00:00<?, ?it/s]"
      ]
     },
     "metadata": {},
     "output_type": "display_data"
    },
    {
     "name": "stderr",
     "output_type": "stream",
     "text": [
      "ERROR: 2023-10-30 15:14:44,733: _geological_feature_builder.py:266 -- Not enough constraints for scalar field add more\n",
      "WARNING: 2023-10-30 15:14:44,809: _discrete_interpolator.py:735 -- No solution, s1__2 scalar field 0. Add more data.\n"
     ]
    },
    {
     "data": {
      "application/vnd.jupyter.widget-view+json": {
       "model_id": "e4b03b38f68a4c3b98c4d4e62d7a4fb8",
       "version_major": 2,
       "version_minor": 0
      },
      "text/plain": [
       "  0%|          | 0/3 [00:00<?, ?it/s]"
      ]
     },
     "metadata": {},
     "output_type": "display_data"
    },
    {
     "name": "stderr",
     "output_type": "stream",
     "text": [
      "ERROR: 2023-10-30 15:14:47,038: _geological_feature_builder.py:266 -- Not enough constraints for scalar field add more\n",
      "WARNING: 2023-10-30 15:14:47,115: _discrete_interpolator.py:735 -- No solution, s1__2 scalar field 0. Add more data.\n"
     ]
    },
    {
     "data": {
      "application/vnd.jupyter.widget-view+json": {
       "model_id": "a64939ae8fe547099e6f4a7a826fdf14",
       "version_major": 2,
       "version_minor": 0
      },
      "text/plain": [
       "  0%|          | 0/3 [00:00<?, ?it/s]"
      ]
     },
     "metadata": {},
     "output_type": "display_data"
    },
    {
     "name": "stderr",
     "output_type": "stream",
     "text": [
      "ERROR: 2023-10-30 15:14:49,329: _geological_feature_builder.py:266 -- Not enough constraints for scalar field add more\n",
      "WARNING: 2023-10-30 15:14:49,412: _discrete_interpolator.py:735 -- No solution, s1__2 scalar field 0. Add more data.\n"
     ]
    },
    {
     "data": {
      "application/vnd.jupyter.widget-view+json": {
       "model_id": "98d4e45b2d554c1b87ece7b159523c88",
       "version_major": 2,
       "version_minor": 0
      },
      "text/plain": [
       "  0%|          | 0/3 [00:00<?, ?it/s]"
      ]
     },
     "metadata": {},
     "output_type": "display_data"
    },
    {
     "name": "stderr",
     "output_type": "stream",
     "text": [
      "ERROR: 2023-10-30 15:14:51,491: _geological_feature_builder.py:266 -- Not enough constraints for scalar field add more\n",
      "WARNING: 2023-10-30 15:14:51,562: _discrete_interpolator.py:735 -- No solution, s1__2 scalar field 0. Add more data.\n"
     ]
    },
    {
     "data": {
      "application/vnd.jupyter.widget-view+json": {
       "model_id": "7ffe7ccddaa947a2a6a4d34feecdca7b",
       "version_major": 2,
       "version_minor": 0
      },
      "text/plain": [
       "  0%|          | 0/3 [00:00<?, ?it/s]"
      ]
     },
     "metadata": {},
     "output_type": "display_data"
    },
    {
     "name": "stderr",
     "output_type": "stream",
     "text": [
      "ERROR: 2023-10-30 15:14:54,081: _geological_feature_builder.py:266 -- Not enough constraints for scalar field add more\n",
      "WARNING: 2023-10-30 15:14:54,172: _discrete_interpolator.py:735 -- No solution, s1__2 scalar field 0. Add more data.\n"
     ]
    },
    {
     "data": {
      "application/vnd.jupyter.widget-view+json": {
       "model_id": "455657cacdc74076bc9f55f21c61b323",
       "version_major": 2,
       "version_minor": 0
      },
      "text/plain": [
       "  0%|          | 0/3 [00:00<?, ?it/s]"
      ]
     },
     "metadata": {},
     "output_type": "display_data"
    },
    {
     "name": "stderr",
     "output_type": "stream",
     "text": [
      "ERROR: 2023-10-30 15:14:55,869: _geological_feature_builder.py:266 -- Not enough constraints for scalar field add more\n",
      "WARNING: 2023-10-30 15:14:55,936: _discrete_interpolator.py:735 -- No solution, s1__2 scalar field 0. Add more data.\n"
     ]
    },
    {
     "data": {
      "application/vnd.jupyter.widget-view+json": {
       "model_id": "9f4470e1b01c4b00a418f4c0c2db4480",
       "version_major": 2,
       "version_minor": 0
      },
      "text/plain": [
       "  0%|          | 0/3 [00:00<?, ?it/s]"
      ]
     },
     "metadata": {},
     "output_type": "display_data"
    },
    {
     "name": "stderr",
     "output_type": "stream",
     "text": [
      "ERROR: 2023-10-30 15:14:57,897: _geological_feature_builder.py:266 -- Not enough constraints for scalar field add more\n",
      "WARNING: 2023-10-30 15:14:57,973: _discrete_interpolator.py:735 -- No solution, s1__2 scalar field 0. Add more data.\n"
     ]
    },
    {
     "data": {
      "application/vnd.jupyter.widget-view+json": {
       "model_id": "a0f579e076514dce9044633cc2e1c82e",
       "version_major": 2,
       "version_minor": 0
      },
      "text/plain": [
       "  0%|          | 0/3 [00:00<?, ?it/s]"
      ]
     },
     "metadata": {},
     "output_type": "display_data"
    },
    {
     "name": "stderr",
     "output_type": "stream",
     "text": [
      "ERROR: 2023-10-30 15:15:00,438: _geological_feature_builder.py:266 -- Not enough constraints for scalar field add more\n",
      "WARNING: 2023-10-30 15:15:00,528: _discrete_interpolator.py:735 -- No solution, s1__2 scalar field 0. Add more data.\n"
     ]
    },
    {
     "data": {
      "application/vnd.jupyter.widget-view+json": {
       "model_id": "92f7abe54e404a7e8af4c9d73927fca1",
       "version_major": 2,
       "version_minor": 0
      },
      "text/plain": [
       "  0%|          | 0/3 [00:00<?, ?it/s]"
      ]
     },
     "metadata": {},
     "output_type": "display_data"
    },
    {
     "name": "stderr",
     "output_type": "stream",
     "text": [
      "ERROR: 2023-10-30 15:15:02,627: _geological_feature_builder.py:266 -- Not enough constraints for scalar field add more\n",
      "WARNING: 2023-10-30 15:15:02,696: _discrete_interpolator.py:735 -- No solution, s1__2 scalar field 0. Add more data.\n"
     ]
    },
    {
     "data": {
      "application/vnd.jupyter.widget-view+json": {
       "model_id": "d52e342f81fd4d25809961431c2100c8",
       "version_major": 2,
       "version_minor": 0
      },
      "text/plain": [
       "  0%|          | 0/3 [00:00<?, ?it/s]"
      ]
     },
     "metadata": {},
     "output_type": "display_data"
    },
    {
     "name": "stderr",
     "output_type": "stream",
     "text": [
      "ERROR: 2023-10-30 15:15:04,776: _geological_feature_builder.py:266 -- Not enough constraints for scalar field add more\n",
      "WARNING: 2023-10-30 15:15:04,841: _discrete_interpolator.py:735 -- No solution, s1__2 scalar field 0. Add more data.\n"
     ]
    },
    {
     "data": {
      "application/vnd.jupyter.widget-view+json": {
       "model_id": "a05981dfaf154022bb0b18220816f245",
       "version_major": 2,
       "version_minor": 0
      },
      "text/plain": [
       "  0%|          | 0/3 [00:00<?, ?it/s]"
      ]
     },
     "metadata": {},
     "output_type": "display_data"
    },
    {
     "name": "stderr",
     "output_type": "stream",
     "text": [
      "ERROR: 2023-10-30 15:15:06,631: _geological_feature_builder.py:266 -- Not enough constraints for scalar field add more\n",
      "WARNING: 2023-10-30 15:15:06,694: _discrete_interpolator.py:735 -- No solution, s1__2 scalar field 0. Add more data.\n"
     ]
    },
    {
     "data": {
      "application/vnd.jupyter.widget-view+json": {
       "model_id": "0a7c81fbee414939af38803f7146a20a",
       "version_major": 2,
       "version_minor": 0
      },
      "text/plain": [
       "  0%|          | 0/3 [00:00<?, ?it/s]"
      ]
     },
     "metadata": {},
     "output_type": "display_data"
    },
    {
     "name": "stderr",
     "output_type": "stream",
     "text": [
      "ERROR: 2023-10-30 15:15:08,127: _geological_feature_builder.py:266 -- Not enough constraints for scalar field add more\n",
      "WARNING: 2023-10-30 15:15:08,195: _discrete_interpolator.py:735 -- No solution, s1__2 scalar field 0. Add more data.\n"
     ]
    },
    {
     "data": {
      "application/vnd.jupyter.widget-view+json": {
       "model_id": "5ab7fcee798148ba95e56944254b75ed",
       "version_major": 2,
       "version_minor": 0
      },
      "text/plain": [
       "  0%|          | 0/3 [00:00<?, ?it/s]"
      ]
     },
     "metadata": {},
     "output_type": "display_data"
    },
    {
     "name": "stderr",
     "output_type": "stream",
     "text": [
      "ERROR: 2023-10-30 15:15:10,447: _geological_feature_builder.py:266 -- Not enough constraints for scalar field add more\n",
      "WARNING: 2023-10-30 15:15:10,512: _discrete_interpolator.py:735 -- No solution, s1__2 scalar field 0. Add more data.\n"
     ]
    },
    {
     "data": {
      "application/vnd.jupyter.widget-view+json": {
       "model_id": "3bdf4919fc0f49e896d1206280aa8835",
       "version_major": 2,
       "version_minor": 0
      },
      "text/plain": [
       "  0%|          | 0/3 [00:00<?, ?it/s]"
      ]
     },
     "metadata": {},
     "output_type": "display_data"
    },
    {
     "name": "stderr",
     "output_type": "stream",
     "text": [
      "ERROR: 2023-10-30 15:15:14,201: _geological_feature_builder.py:266 -- Not enough constraints for scalar field add more\n",
      "WARNING: 2023-10-30 15:15:14,271: _discrete_interpolator.py:735 -- No solution, s1__2 scalar field 0. Add more data.\n"
     ]
    },
    {
     "data": {
      "application/vnd.jupyter.widget-view+json": {
       "model_id": "33898b30e9cc4a3c854a415e7908e7d8",
       "version_major": 2,
       "version_minor": 0
      },
      "text/plain": [
       "  0%|          | 0/3 [00:00<?, ?it/s]"
      ]
     },
     "metadata": {},
     "output_type": "display_data"
    },
    {
     "name": "stderr",
     "output_type": "stream",
     "text": [
      "ERROR: 2023-10-30 15:15:16,083: _geological_feature_builder.py:266 -- Not enough constraints for scalar field add more\n",
      "WARNING: 2023-10-30 15:15:16,153: _discrete_interpolator.py:735 -- No solution, s1__2 scalar field 0. Add more data.\n"
     ]
    },
    {
     "data": {
      "application/vnd.jupyter.widget-view+json": {
       "model_id": "ed3aa403ef9b48dc89a0ceecbf08c961",
       "version_major": 2,
       "version_minor": 0
      },
      "text/plain": [
       "  0%|          | 0/3 [00:00<?, ?it/s]"
      ]
     },
     "metadata": {},
     "output_type": "display_data"
    },
    {
     "name": "stderr",
     "output_type": "stream",
     "text": [
      "ERROR: 2023-10-30 15:15:17,773: _geological_feature_builder.py:266 -- Not enough constraints for scalar field add more\n",
      "WARNING: 2023-10-30 15:15:17,845: _discrete_interpolator.py:735 -- No solution, s1__2 scalar field 0. Add more data.\n"
     ]
    },
    {
     "data": {
      "application/vnd.jupyter.widget-view+json": {
       "model_id": "495b3f5df2ef4075877d971805f33267",
       "version_major": 2,
       "version_minor": 0
      },
      "text/plain": [
       "  0%|          | 0/3 [00:00<?, ?it/s]"
      ]
     },
     "metadata": {},
     "output_type": "display_data"
    },
    {
     "name": "stderr",
     "output_type": "stream",
     "text": [
      "ERROR: 2023-10-30 15:15:22,150: _geological_feature_builder.py:266 -- Not enough constraints for scalar field add more\n",
      "WARNING: 2023-10-30 15:15:22,220: _discrete_interpolator.py:735 -- No solution, s1__2 scalar field 0. Add more data.\n"
     ]
    },
    {
     "data": {
      "application/vnd.jupyter.widget-view+json": {
       "model_id": "a717df5e2a604df18068f8da6adbc398",
       "version_major": 2,
       "version_minor": 0
      },
      "text/plain": [
       "  0%|          | 0/3 [00:00<?, ?it/s]"
      ]
     },
     "metadata": {},
     "output_type": "display_data"
    },
    {
     "name": "stderr",
     "output_type": "stream",
     "text": [
      "ERROR: 2023-10-30 15:15:25,673: _geological_feature_builder.py:266 -- Not enough constraints for scalar field add more\n",
      "WARNING: 2023-10-30 15:15:25,753: _discrete_interpolator.py:735 -- No solution, s1__2 scalar field 0. Add more data.\n"
     ]
    },
    {
     "data": {
      "application/vnd.jupyter.widget-view+json": {
       "model_id": "a3415c6e07864db781c1e68b213e344f",
       "version_major": 2,
       "version_minor": 0
      },
      "text/plain": [
       "  0%|          | 0/3 [00:00<?, ?it/s]"
      ]
     },
     "metadata": {},
     "output_type": "display_data"
    },
    {
     "name": "stderr",
     "output_type": "stream",
     "text": [
      "ERROR: 2023-10-30 15:15:27,986: _geological_feature_builder.py:266 -- Not enough constraints for scalar field add more\n",
      "WARNING: 2023-10-30 15:15:28,062: _discrete_interpolator.py:735 -- No solution, s1__2 scalar field 0. Add more data.\n"
     ]
    },
    {
     "data": {
      "application/vnd.jupyter.widget-view+json": {
       "model_id": "106be096cc41468c84c9d4541b58ab10",
       "version_major": 2,
       "version_minor": 0
      },
      "text/plain": [
       "  0%|          | 0/3 [00:00<?, ?it/s]"
      ]
     },
     "metadata": {},
     "output_type": "display_data"
    },
    {
     "name": "stderr",
     "output_type": "stream",
     "text": [
      "ERROR: 2023-10-30 15:15:30,252: _geological_feature_builder.py:266 -- Not enough constraints for scalar field add more\n",
      "WARNING: 2023-10-30 15:15:30,324: _discrete_interpolator.py:735 -- No solution, s1__2 scalar field 0. Add more data.\n"
     ]
    },
    {
     "data": {
      "application/vnd.jupyter.widget-view+json": {
       "model_id": "f846ce47998341718417480fa14977dc",
       "version_major": 2,
       "version_minor": 0
      },
      "text/plain": [
       "  0%|          | 0/3 [00:00<?, ?it/s]"
      ]
     },
     "metadata": {},
     "output_type": "display_data"
    },
    {
     "name": "stderr",
     "output_type": "stream",
     "text": [
      "ERROR: 2023-10-30 15:15:32,671: _geological_feature_builder.py:266 -- Not enough constraints for scalar field add more\n",
      "WARNING: 2023-10-30 15:15:32,787: _discrete_interpolator.py:735 -- No solution, s1__2 scalar field 0. Add more data.\n"
     ]
    },
    {
     "data": {
      "application/vnd.jupyter.widget-view+json": {
       "model_id": "794b00acf53143a784d84d8092d92208",
       "version_major": 2,
       "version_minor": 0
      },
      "text/plain": [
       "  0%|          | 0/3 [00:00<?, ?it/s]"
      ]
     },
     "metadata": {},
     "output_type": "display_data"
    },
    {
     "name": "stderr",
     "output_type": "stream",
     "text": [
      "ERROR: 2023-10-30 15:15:36,791: _geological_feature_builder.py:266 -- Not enough constraints for scalar field add more\n",
      "WARNING: 2023-10-30 15:15:36,859: _discrete_interpolator.py:735 -- No solution, s1__2 scalar field 0. Add more data.\n"
     ]
    },
    {
     "data": {
      "application/vnd.jupyter.widget-view+json": {
       "model_id": "d33780e6280f4b99b41cc5e0e18c1d49",
       "version_major": 2,
       "version_minor": 0
      },
      "text/plain": [
       "  0%|          | 0/3 [00:00<?, ?it/s]"
      ]
     },
     "metadata": {},
     "output_type": "display_data"
    },
    {
     "name": "stderr",
     "output_type": "stream",
     "text": [
      "ERROR: 2023-10-30 15:15:39,027: _geological_feature_builder.py:266 -- Not enough constraints for scalar field add more\n",
      "WARNING: 2023-10-30 15:15:39,093: _discrete_interpolator.py:735 -- No solution, s1__2 scalar field 0. Add more data.\n"
     ]
    },
    {
     "data": {
      "application/vnd.jupyter.widget-view+json": {
       "model_id": "7063a6f547f9499dafd137d150d213da",
       "version_major": 2,
       "version_minor": 0
      },
      "text/plain": [
       "  0%|          | 0/3 [00:00<?, ?it/s]"
      ]
     },
     "metadata": {},
     "output_type": "display_data"
    },
    {
     "name": "stderr",
     "output_type": "stream",
     "text": [
      "ERROR: 2023-10-30 15:15:41,674: _geological_feature_builder.py:266 -- Not enough constraints for scalar field add more\n",
      "WARNING: 2023-10-30 15:15:41,741: _discrete_interpolator.py:735 -- No solution, s1__2 scalar field 0. Add more data.\n"
     ]
    },
    {
     "data": {
      "application/vnd.jupyter.widget-view+json": {
       "model_id": "ce9d1d5776e04f3d8f6c26bdeb92166d",
       "version_major": 2,
       "version_minor": 0
      },
      "text/plain": [
       "  0%|          | 0/3 [00:00<?, ?it/s]"
      ]
     },
     "metadata": {},
     "output_type": "display_data"
    },
    {
     "name": "stderr",
     "output_type": "stream",
     "text": [
      "ERROR: 2023-10-30 15:15:43,831: _geological_feature_builder.py:266 -- Not enough constraints for scalar field add more\n",
      "WARNING: 2023-10-30 15:15:43,902: _discrete_interpolator.py:735 -- No solution, s1__2 scalar field 0. Add more data.\n"
     ]
    },
    {
     "data": {
      "application/vnd.jupyter.widget-view+json": {
       "model_id": "f924e26a969c465e8013621e2f52c007",
       "version_major": 2,
       "version_minor": 0
      },
      "text/plain": [
       "  0%|          | 0/3 [00:00<?, ?it/s]"
      ]
     },
     "metadata": {},
     "output_type": "display_data"
    },
    {
     "name": "stderr",
     "output_type": "stream",
     "text": [
      "ERROR: 2023-10-30 15:15:45,900: _geological_feature_builder.py:266 -- Not enough constraints for scalar field add more\n",
      "WARNING: 2023-10-30 15:15:45,973: _discrete_interpolator.py:735 -- No solution, s1__2 scalar field 0. Add more data.\n"
     ]
    },
    {
     "data": {
      "application/vnd.jupyter.widget-view+json": {
       "model_id": "31d88c3d31dc44a78b5c2bee019e94ca",
       "version_major": 2,
       "version_minor": 0
      },
      "text/plain": [
       "  0%|          | 0/3 [00:00<?, ?it/s]"
      ]
     },
     "metadata": {},
     "output_type": "display_data"
    },
    {
     "name": "stderr",
     "output_type": "stream",
     "text": [
      "ERROR: 2023-10-30 15:15:47,835: _geological_feature_builder.py:266 -- Not enough constraints for scalar field add more\n",
      "WARNING: 2023-10-30 15:15:47,911: _discrete_interpolator.py:735 -- No solution, s1__2 scalar field 0. Add more data.\n"
     ]
    },
    {
     "data": {
      "application/vnd.jupyter.widget-view+json": {
       "model_id": "8596330e90c54b908593418331f1d87b",
       "version_major": 2,
       "version_minor": 0
      },
      "text/plain": [
       "  0%|          | 0/3 [00:00<?, ?it/s]"
      ]
     },
     "metadata": {},
     "output_type": "display_data"
    },
    {
     "name": "stderr",
     "output_type": "stream",
     "text": [
      "ERROR: 2023-10-30 15:15:49,940: _geological_feature_builder.py:266 -- Not enough constraints for scalar field add more\n",
      "WARNING: 2023-10-30 15:15:50,007: _discrete_interpolator.py:735 -- No solution, s1__2 scalar field 0. Add more data.\n"
     ]
    },
    {
     "data": {
      "application/vnd.jupyter.widget-view+json": {
       "model_id": "c17d108cfbd845e48b4e3784d4d58a3c",
       "version_major": 2,
       "version_minor": 0
      },
      "text/plain": [
       "  0%|          | 0/3 [00:00<?, ?it/s]"
      ]
     },
     "metadata": {},
     "output_type": "display_data"
    },
    {
     "name": "stderr",
     "output_type": "stream",
     "text": [
      "ERROR: 2023-10-30 15:15:51,996: _geological_feature_builder.py:266 -- Not enough constraints for scalar field add more\n",
      "WARNING: 2023-10-30 15:15:52,074: _discrete_interpolator.py:735 -- No solution, s1__2 scalar field 0. Add more data.\n"
     ]
    },
    {
     "data": {
      "application/vnd.jupyter.widget-view+json": {
       "model_id": "54be376a3fc74e55ab54ae833d890b97",
       "version_major": 2,
       "version_minor": 0
      },
      "text/plain": [
       "  0%|          | 0/3 [00:00<?, ?it/s]"
      ]
     },
     "metadata": {},
     "output_type": "display_data"
    },
    {
     "name": "stderr",
     "output_type": "stream",
     "text": [
      "ERROR: 2023-10-30 15:15:53,981: _geological_feature_builder.py:266 -- Not enough constraints for scalar field add more\n",
      "WARNING: 2023-10-30 15:15:54,056: _discrete_interpolator.py:735 -- No solution, s1__2 scalar field 0. Add more data.\n"
     ]
    },
    {
     "data": {
      "application/vnd.jupyter.widget-view+json": {
       "model_id": "802e7b00c3d9483885fbe5f124041325",
       "version_major": 2,
       "version_minor": 0
      },
      "text/plain": [
       "  0%|          | 0/3 [00:00<?, ?it/s]"
      ]
     },
     "metadata": {},
     "output_type": "display_data"
    },
    {
     "name": "stderr",
     "output_type": "stream",
     "text": [
      "ERROR: 2023-10-30 15:15:57,004: _geological_feature_builder.py:266 -- Not enough constraints for scalar field add more\n",
      "WARNING: 2023-10-30 15:15:57,075: _discrete_interpolator.py:735 -- No solution, s1__2 scalar field 0. Add more data.\n"
     ]
    },
    {
     "data": {
      "application/vnd.jupyter.widget-view+json": {
       "model_id": "6d4400db5e6248e3a8c6ba9b9a26f049",
       "version_major": 2,
       "version_minor": 0
      },
      "text/plain": [
       "  0%|          | 0/3 [00:00<?, ?it/s]"
      ]
     },
     "metadata": {},
     "output_type": "display_data"
    },
    {
     "name": "stderr",
     "output_type": "stream",
     "text": [
      "ERROR: 2023-10-30 15:15:58,919: _geological_feature_builder.py:266 -- Not enough constraints for scalar field add more\n",
      "WARNING: 2023-10-30 15:15:58,992: _discrete_interpolator.py:735 -- No solution, s1__2 scalar field 0. Add more data.\n"
     ]
    },
    {
     "data": {
      "application/vnd.jupyter.widget-view+json": {
       "model_id": "20a197d1f5754a7b9286455856264d97",
       "version_major": 2,
       "version_minor": 0
      },
      "text/plain": [
       "  0%|          | 0/3 [00:00<?, ?it/s]"
      ]
     },
     "metadata": {},
     "output_type": "display_data"
    },
    {
     "name": "stderr",
     "output_type": "stream",
     "text": [
      "ERROR: 2023-10-30 15:16:01,060: _geological_feature_builder.py:266 -- Not enough constraints for scalar field add more\n",
      "WARNING: 2023-10-30 15:16:01,125: _discrete_interpolator.py:735 -- No solution, s1__2 scalar field 0. Add more data.\n"
     ]
    },
    {
     "data": {
      "application/vnd.jupyter.widget-view+json": {
       "model_id": "0e99fc64c5e24f148639e09206e636a1",
       "version_major": 2,
       "version_minor": 0
      },
      "text/plain": [
       "  0%|          | 0/3 [00:00<?, ?it/s]"
      ]
     },
     "metadata": {},
     "output_type": "display_data"
    },
    {
     "name": "stderr",
     "output_type": "stream",
     "text": [
      "ERROR: 2023-10-30 15:16:02,997: _geological_feature_builder.py:266 -- Not enough constraints for scalar field add more\n",
      "WARNING: 2023-10-30 15:16:03,069: _discrete_interpolator.py:735 -- No solution, s1__2 scalar field 0. Add more data.\n"
     ]
    },
    {
     "data": {
      "application/vnd.jupyter.widget-view+json": {
       "model_id": "56322623aac04d7187e1aa07067191c8",
       "version_major": 2,
       "version_minor": 0
      },
      "text/plain": [
       "  0%|          | 0/3 [00:00<?, ?it/s]"
      ]
     },
     "metadata": {},
     "output_type": "display_data"
    },
    {
     "name": "stderr",
     "output_type": "stream",
     "text": [
      "ERROR: 2023-10-30 15:16:06,114: _geological_feature_builder.py:266 -- Not enough constraints for scalar field add more\n",
      "WARNING: 2023-10-30 15:16:06,185: _discrete_interpolator.py:735 -- No solution, s1__2 scalar field 0. Add more data.\n"
     ]
    },
    {
     "data": {
      "application/vnd.jupyter.widget-view+json": {
       "model_id": "a92e051dda6c46a58e4769943a5c52bc",
       "version_major": 2,
       "version_minor": 0
      },
      "text/plain": [
       "  0%|          | 0/3 [00:00<?, ?it/s]"
      ]
     },
     "metadata": {},
     "output_type": "display_data"
    },
    {
     "name": "stderr",
     "output_type": "stream",
     "text": [
      "ERROR: 2023-10-30 15:16:08,869: _geological_feature_builder.py:266 -- Not enough constraints for scalar field add more\n",
      "WARNING: 2023-10-30 15:16:08,936: _discrete_interpolator.py:735 -- No solution, s1__2 scalar field 0. Add more data.\n"
     ]
    },
    {
     "data": {
      "application/vnd.jupyter.widget-view+json": {
       "model_id": "ba9d1e6613894d39bf88f663f436681e",
       "version_major": 2,
       "version_minor": 0
      },
      "text/plain": [
       "  0%|          | 0/3 [00:00<?, ?it/s]"
      ]
     },
     "metadata": {},
     "output_type": "display_data"
    },
    {
     "name": "stderr",
     "output_type": "stream",
     "text": [
      "ERROR: 2023-10-30 15:16:10,647: _geological_feature_builder.py:266 -- Not enough constraints for scalar field add more\n",
      "WARNING: 2023-10-30 15:16:10,723: _discrete_interpolator.py:735 -- No solution, s1__2 scalar field 0. Add more data.\n"
     ]
    },
    {
     "data": {
      "application/vnd.jupyter.widget-view+json": {
       "model_id": "c9becb5dc1ab438e85ab3845fa37bc80",
       "version_major": 2,
       "version_minor": 0
      },
      "text/plain": [
       "  0%|          | 0/3 [00:00<?, ?it/s]"
      ]
     },
     "metadata": {},
     "output_type": "display_data"
    },
    {
     "name": "stderr",
     "output_type": "stream",
     "text": [
      "ERROR: 2023-10-30 15:16:13,659: _geological_feature_builder.py:266 -- Not enough constraints for scalar field add more\n",
      "WARNING: 2023-10-30 15:16:13,739: _discrete_interpolator.py:735 -- No solution, s1__2 scalar field 0. Add more data.\n"
     ]
    },
    {
     "data": {
      "application/vnd.jupyter.widget-view+json": {
       "model_id": "daa206b921784bc6b8cf4cc7144c351e",
       "version_major": 2,
       "version_minor": 0
      },
      "text/plain": [
       "  0%|          | 0/3 [00:00<?, ?it/s]"
      ]
     },
     "metadata": {},
     "output_type": "display_data"
    },
    {
     "name": "stderr",
     "output_type": "stream",
     "text": [
      "ERROR: 2023-10-30 15:16:16,018: _geological_feature_builder.py:266 -- Not enough constraints for scalar field add more\n",
      "WARNING: 2023-10-30 15:16:16,087: _discrete_interpolator.py:735 -- No solution, s1__2 scalar field 0. Add more data.\n"
     ]
    },
    {
     "data": {
      "application/vnd.jupyter.widget-view+json": {
       "model_id": "66b99212969643ec9353ad80c19929fd",
       "version_major": 2,
       "version_minor": 0
      },
      "text/plain": [
       "  0%|          | 0/3 [00:00<?, ?it/s]"
      ]
     },
     "metadata": {},
     "output_type": "display_data"
    },
    {
     "name": "stderr",
     "output_type": "stream",
     "text": [
      "ERROR: 2023-10-30 15:16:18,050: _geological_feature_builder.py:266 -- Not enough constraints for scalar field add more\n",
      "WARNING: 2023-10-30 15:16:18,118: _discrete_interpolator.py:735 -- No solution, s1__2 scalar field 0. Add more data.\n"
     ]
    },
    {
     "data": {
      "application/vnd.jupyter.widget-view+json": {
       "model_id": "944b07f02f274e64963d66059c53a976",
       "version_major": 2,
       "version_minor": 0
      },
      "text/plain": [
       "  0%|          | 0/3 [00:00<?, ?it/s]"
      ]
     },
     "metadata": {},
     "output_type": "display_data"
    },
    {
     "name": "stderr",
     "output_type": "stream",
     "text": [
      "ERROR: 2023-10-30 15:16:19,909: _geological_feature_builder.py:266 -- Not enough constraints for scalar field add more\n",
      "WARNING: 2023-10-30 15:16:19,983: _discrete_interpolator.py:735 -- No solution, s1__2 scalar field 0. Add more data.\n"
     ]
    },
    {
     "data": {
      "application/vnd.jupyter.widget-view+json": {
       "model_id": "b8fcbb9575644979a661f8ba080ebc61",
       "version_major": 2,
       "version_minor": 0
      },
      "text/plain": [
       "  0%|          | 0/3 [00:00<?, ?it/s]"
      ]
     },
     "metadata": {},
     "output_type": "display_data"
    },
    {
     "name": "stderr",
     "output_type": "stream",
     "text": [
      "ERROR: 2023-10-30 15:16:22,681: _geological_feature_builder.py:266 -- Not enough constraints for scalar field add more\n",
      "WARNING: 2023-10-30 15:16:22,756: _discrete_interpolator.py:735 -- No solution, s1__2 scalar field 0. Add more data.\n"
     ]
    },
    {
     "data": {
      "application/vnd.jupyter.widget-view+json": {
       "model_id": "91dbf8d2a9d241299af4278a29e81ff0",
       "version_major": 2,
       "version_minor": 0
      },
      "text/plain": [
       "  0%|          | 0/3 [00:00<?, ?it/s]"
      ]
     },
     "metadata": {},
     "output_type": "display_data"
    },
    {
     "name": "stderr",
     "output_type": "stream",
     "text": [
      "ERROR: 2023-10-30 15:16:24,962: _geological_feature_builder.py:266 -- Not enough constraints for scalar field add more\n",
      "WARNING: 2023-10-30 15:16:25,038: _discrete_interpolator.py:735 -- No solution, s1__2 scalar field 0. Add more data.\n"
     ]
    },
    {
     "data": {
      "application/vnd.jupyter.widget-view+json": {
       "model_id": "33192302a67141749d55c06b098a437b",
       "version_major": 2,
       "version_minor": 0
      },
      "text/plain": [
       "  0%|          | 0/3 [00:00<?, ?it/s]"
      ]
     },
     "metadata": {},
     "output_type": "display_data"
    },
    {
     "name": "stderr",
     "output_type": "stream",
     "text": [
      "ERROR: 2023-10-30 15:16:27,371: _geological_feature_builder.py:266 -- Not enough constraints for scalar field add more\n",
      "WARNING: 2023-10-30 15:16:27,448: _discrete_interpolator.py:735 -- No solution, s1__2 scalar field 0. Add more data.\n"
     ]
    },
    {
     "data": {
      "application/vnd.jupyter.widget-view+json": {
       "model_id": "17d3d7d8347045cba25556da2465e4a3",
       "version_major": 2,
       "version_minor": 0
      },
      "text/plain": [
       "  0%|          | 0/3 [00:00<?, ?it/s]"
      ]
     },
     "metadata": {},
     "output_type": "display_data"
    },
    {
     "name": "stderr",
     "output_type": "stream",
     "text": [
      "ERROR: 2023-10-30 15:16:30,203: _geological_feature_builder.py:266 -- Not enough constraints for scalar field add more\n",
      "WARNING: 2023-10-30 15:16:30,282: _discrete_interpolator.py:735 -- No solution, s1__2 scalar field 0. Add more data.\n"
     ]
    },
    {
     "data": {
      "application/vnd.jupyter.widget-view+json": {
       "model_id": "ae3c363e681048b0b43e8d08c4b232b5",
       "version_major": 2,
       "version_minor": 0
      },
      "text/plain": [
       "  0%|          | 0/3 [00:00<?, ?it/s]"
      ]
     },
     "metadata": {},
     "output_type": "display_data"
    },
    {
     "name": "stderr",
     "output_type": "stream",
     "text": [
      "ERROR: 2023-10-30 15:16:32,593: _geological_feature_builder.py:266 -- Not enough constraints for scalar field add more\n",
      "WARNING: 2023-10-30 15:16:32,676: _discrete_interpolator.py:735 -- No solution, s1__2 scalar field 0. Add more data.\n"
     ]
    },
    {
     "data": {
      "application/vnd.jupyter.widget-view+json": {
       "model_id": "306ee790113744b792b7c2db14ed441b",
       "version_major": 2,
       "version_minor": 0
      },
      "text/plain": [
       "  0%|          | 0/3 [00:00<?, ?it/s]"
      ]
     },
     "metadata": {},
     "output_type": "display_data"
    },
    {
     "name": "stderr",
     "output_type": "stream",
     "text": [
      "ERROR: 2023-10-30 15:16:36,068: _geological_feature_builder.py:266 -- Not enough constraints for scalar field add more\n",
      "WARNING: 2023-10-30 15:16:36,144: _discrete_interpolator.py:735 -- No solution, s1__2 scalar field 0. Add more data.\n"
     ]
    },
    {
     "data": {
      "application/vnd.jupyter.widget-view+json": {
       "model_id": "61f2382bd89a43d086ca9f44378deeee",
       "version_major": 2,
       "version_minor": 0
      },
      "text/plain": [
       "  0%|          | 0/3 [00:00<?, ?it/s]"
      ]
     },
     "metadata": {},
     "output_type": "display_data"
    },
    {
     "name": "stderr",
     "output_type": "stream",
     "text": [
      "ERROR: 2023-10-30 15:16:38,222: _geological_feature_builder.py:266 -- Not enough constraints for scalar field add more\n",
      "WARNING: 2023-10-30 15:16:38,297: _discrete_interpolator.py:735 -- No solution, s1__2 scalar field 0. Add more data.\n"
     ]
    },
    {
     "data": {
      "application/vnd.jupyter.widget-view+json": {
       "model_id": "9dda623eab114198849cd8d747609035",
       "version_major": 2,
       "version_minor": 0
      },
      "text/plain": [
       "  0%|          | 0/3 [00:00<?, ?it/s]"
      ]
     },
     "metadata": {},
     "output_type": "display_data"
    },
    {
     "name": "stderr",
     "output_type": "stream",
     "text": [
      "ERROR: 2023-10-30 15:16:40,934: _geological_feature_builder.py:266 -- Not enough constraints for scalar field add more\n",
      "WARNING: 2023-10-30 15:16:41,012: _discrete_interpolator.py:735 -- No solution, s1__2 scalar field 0. Add more data.\n"
     ]
    },
    {
     "data": {
      "application/vnd.jupyter.widget-view+json": {
       "model_id": "79887a785efb4a079b0bb2399b5494af",
       "version_major": 2,
       "version_minor": 0
      },
      "text/plain": [
       "  0%|          | 0/3 [00:00<?, ?it/s]"
      ]
     },
     "metadata": {},
     "output_type": "display_data"
    },
    {
     "name": "stderr",
     "output_type": "stream",
     "text": [
      "ERROR: 2023-10-30 15:16:43,926: _geological_feature_builder.py:266 -- Not enough constraints for scalar field add more\n",
      "WARNING: 2023-10-30 15:16:43,989: _discrete_interpolator.py:735 -- No solution, s1__2 scalar field 0. Add more data.\n"
     ]
    },
    {
     "data": {
      "application/vnd.jupyter.widget-view+json": {
       "model_id": "6d35a92abd0945f5a28ba81d58e5708b",
       "version_major": 2,
       "version_minor": 0
      },
      "text/plain": [
       "  0%|          | 0/3 [00:00<?, ?it/s]"
      ]
     },
     "metadata": {},
     "output_type": "display_data"
    },
    {
     "name": "stderr",
     "output_type": "stream",
     "text": [
      "ERROR: 2023-10-30 15:16:47,696: _geological_feature_builder.py:266 -- Not enough constraints for scalar field add more\n",
      "WARNING: 2023-10-30 15:16:47,765: _discrete_interpolator.py:735 -- No solution, s1__2 scalar field 0. Add more data.\n"
     ]
    },
    {
     "data": {
      "application/vnd.jupyter.widget-view+json": {
       "model_id": "e60620c0e4834a8cb7bcce2d8a45484e",
       "version_major": 2,
       "version_minor": 0
      },
      "text/plain": [
       "  0%|          | 0/3 [00:00<?, ?it/s]"
      ]
     },
     "metadata": {},
     "output_type": "display_data"
    },
    {
     "name": "stderr",
     "output_type": "stream",
     "text": [
      "ERROR: 2023-10-30 15:16:49,495: _geological_feature_builder.py:266 -- Not enough constraints for scalar field add more\n",
      "WARNING: 2023-10-30 15:16:49,560: _discrete_interpolator.py:735 -- No solution, s1__2 scalar field 0. Add more data.\n"
     ]
    },
    {
     "data": {
      "application/vnd.jupyter.widget-view+json": {
       "model_id": "d39d4b81b5d54bfbbb68a2fb11459e79",
       "version_major": 2,
       "version_minor": 0
      },
      "text/plain": [
       "  0%|          | 0/3 [00:00<?, ?it/s]"
      ]
     },
     "metadata": {},
     "output_type": "display_data"
    },
    {
     "name": "stderr",
     "output_type": "stream",
     "text": [
      "ERROR: 2023-10-30 15:16:52,684: _geological_feature_builder.py:266 -- Not enough constraints for scalar field add more\n",
      "WARNING: 2023-10-30 15:16:52,758: _discrete_interpolator.py:735 -- No solution, s1__2 scalar field 0. Add more data.\n"
     ]
    },
    {
     "data": {
      "application/vnd.jupyter.widget-view+json": {
       "model_id": "4ca17b91e8ec4f6786ed17c397720996",
       "version_major": 2,
       "version_minor": 0
      },
      "text/plain": [
       "  0%|          | 0/3 [00:00<?, ?it/s]"
      ]
     },
     "metadata": {},
     "output_type": "display_data"
    },
    {
     "name": "stderr",
     "output_type": "stream",
     "text": [
      "ERROR: 2023-10-30 15:16:54,902: _geological_feature_builder.py:266 -- Not enough constraints for scalar field add more\n",
      "WARNING: 2023-10-30 15:16:54,976: _discrete_interpolator.py:735 -- No solution, s1__2 scalar field 0. Add more data.\n"
     ]
    },
    {
     "data": {
      "application/vnd.jupyter.widget-view+json": {
       "model_id": "6547ba03df1f4d428a18905f01efcdad",
       "version_major": 2,
       "version_minor": 0
      },
      "text/plain": [
       "  0%|          | 0/3 [00:00<?, ?it/s]"
      ]
     },
     "metadata": {},
     "output_type": "display_data"
    },
    {
     "name": "stderr",
     "output_type": "stream",
     "text": [
      "ERROR: 2023-10-30 15:16:58,829: _geological_feature_builder.py:266 -- Not enough constraints for scalar field add more\n",
      "WARNING: 2023-10-30 15:16:58,902: _discrete_interpolator.py:735 -- No solution, s1__2 scalar field 0. Add more data.\n"
     ]
    },
    {
     "data": {
      "application/vnd.jupyter.widget-view+json": {
       "model_id": "680f3ba3bfdd409ba17cd3c899626653",
       "version_major": 2,
       "version_minor": 0
      },
      "text/plain": [
       "  0%|          | 0/3 [00:00<?, ?it/s]"
      ]
     },
     "metadata": {},
     "output_type": "display_data"
    },
    {
     "name": "stderr",
     "output_type": "stream",
     "text": [
      "ERROR: 2023-10-30 15:17:01,351: _geological_feature_builder.py:266 -- Not enough constraints for scalar field add more\n",
      "WARNING: 2023-10-30 15:17:01,434: _discrete_interpolator.py:735 -- No solution, s1__2 scalar field 0. Add more data.\n"
     ]
    },
    {
     "data": {
      "application/vnd.jupyter.widget-view+json": {
       "model_id": "952543f62faa4384981057f5bc0ff021",
       "version_major": 2,
       "version_minor": 0
      },
      "text/plain": [
       "  0%|          | 0/3 [00:00<?, ?it/s]"
      ]
     },
     "metadata": {},
     "output_type": "display_data"
    },
    {
     "name": "stderr",
     "output_type": "stream",
     "text": [
      "ERROR: 2023-10-30 15:17:03,606: _geological_feature_builder.py:266 -- Not enough constraints for scalar field add more\n",
      "WARNING: 2023-10-30 15:17:03,676: _discrete_interpolator.py:735 -- No solution, s1__2 scalar field 0. Add more data.\n"
     ]
    },
    {
     "data": {
      "application/vnd.jupyter.widget-view+json": {
       "model_id": "612288d2df7e4256aa37cda2d472e950",
       "version_major": 2,
       "version_minor": 0
      },
      "text/plain": [
       "  0%|          | 0/3 [00:00<?, ?it/s]"
      ]
     },
     "metadata": {},
     "output_type": "display_data"
    },
    {
     "name": "stderr",
     "output_type": "stream",
     "text": [
      "ERROR: 2023-10-30 15:17:05,594: _geological_feature_builder.py:266 -- Not enough constraints for scalar field add more\n",
      "WARNING: 2023-10-30 15:17:05,665: _discrete_interpolator.py:735 -- No solution, s1__2 scalar field 0. Add more data.\n"
     ]
    },
    {
     "data": {
      "application/vnd.jupyter.widget-view+json": {
       "model_id": "9d28c40ba7f546e5abb1c6c00bd28fdf",
       "version_major": 2,
       "version_minor": 0
      },
      "text/plain": [
       "  0%|          | 0/3 [00:00<?, ?it/s]"
      ]
     },
     "metadata": {},
     "output_type": "display_data"
    },
    {
     "name": "stderr",
     "output_type": "stream",
     "text": [
      "ERROR: 2023-10-30 15:17:07,862: _geological_feature_builder.py:266 -- Not enough constraints for scalar field add more\n",
      "WARNING: 2023-10-30 15:17:07,937: _discrete_interpolator.py:735 -- No solution, s1__2 scalar field 0. Add more data.\n"
     ]
    },
    {
     "data": {
      "application/vnd.jupyter.widget-view+json": {
       "model_id": "1b29a9a4cb12418f82e6bf6b44c33bc8",
       "version_major": 2,
       "version_minor": 0
      },
      "text/plain": [
       "  0%|          | 0/3 [00:00<?, ?it/s]"
      ]
     },
     "metadata": {},
     "output_type": "display_data"
    },
    {
     "name": "stderr",
     "output_type": "stream",
     "text": [
      "ERROR: 2023-10-30 15:17:10,163: _geological_feature_builder.py:266 -- Not enough constraints for scalar field add more\n",
      "WARNING: 2023-10-30 15:17:10,243: _discrete_interpolator.py:735 -- No solution, s1__2 scalar field 0. Add more data.\n"
     ]
    },
    {
     "data": {
      "application/vnd.jupyter.widget-view+json": {
       "model_id": "73e7d04e3e964c7faac404b39553063a",
       "version_major": 2,
       "version_minor": 0
      },
      "text/plain": [
       "  0%|          | 0/3 [00:00<?, ?it/s]"
      ]
     },
     "metadata": {},
     "output_type": "display_data"
    },
    {
     "name": "stderr",
     "output_type": "stream",
     "text": [
      "ERROR: 2023-10-30 15:17:12,116: _geological_feature_builder.py:266 -- Not enough constraints for scalar field add more\n",
      "WARNING: 2023-10-30 15:17:12,189: _discrete_interpolator.py:735 -- No solution, s1__2 scalar field 0. Add more data.\n"
     ]
    },
    {
     "data": {
      "application/vnd.jupyter.widget-view+json": {
       "model_id": "248824515b6141c38dac4c767b4c2d36",
       "version_major": 2,
       "version_minor": 0
      },
      "text/plain": [
       "  0%|          | 0/3 [00:00<?, ?it/s]"
      ]
     },
     "metadata": {},
     "output_type": "display_data"
    },
    {
     "name": "stderr",
     "output_type": "stream",
     "text": [
      "ERROR: 2023-10-30 15:17:15,141: _geological_feature_builder.py:266 -- Not enough constraints for scalar field add more\n",
      "WARNING: 2023-10-30 15:17:15,209: _discrete_interpolator.py:735 -- No solution, s1__2 scalar field 0. Add more data.\n"
     ]
    },
    {
     "data": {
      "application/vnd.jupyter.widget-view+json": {
       "model_id": "06827437585b4301b2d7399b14a24e50",
       "version_major": 2,
       "version_minor": 0
      },
      "text/plain": [
       "  0%|          | 0/3 [00:00<?, ?it/s]"
      ]
     },
     "metadata": {},
     "output_type": "display_data"
    },
    {
     "name": "stderr",
     "output_type": "stream",
     "text": [
      "ERROR: 2023-10-30 15:17:17,145: _geological_feature_builder.py:266 -- Not enough constraints for scalar field add more\n",
      "WARNING: 2023-10-30 15:17:17,217: _discrete_interpolator.py:735 -- No solution, s1__2 scalar field 0. Add more data.\n"
     ]
    },
    {
     "data": {
      "application/vnd.jupyter.widget-view+json": {
       "model_id": "5c61efedf69f4e168202ebf80fdf8872",
       "version_major": 2,
       "version_minor": 0
      },
      "text/plain": [
       "  0%|          | 0/3 [00:00<?, ?it/s]"
      ]
     },
     "metadata": {},
     "output_type": "display_data"
    },
    {
     "name": "stderr",
     "output_type": "stream",
     "text": [
      "ERROR: 2023-10-30 15:17:19,022: _geological_feature_builder.py:266 -- Not enough constraints for scalar field add more\n",
      "WARNING: 2023-10-30 15:17:19,091: _discrete_interpolator.py:735 -- No solution, s1__2 scalar field 0. Add more data.\n"
     ]
    },
    {
     "data": {
      "application/vnd.jupyter.widget-view+json": {
       "model_id": "ab06cc80714941a597d7f99a7cd435c0",
       "version_major": 2,
       "version_minor": 0
      },
      "text/plain": [
       "  0%|          | 0/3 [00:00<?, ?it/s]"
      ]
     },
     "metadata": {},
     "output_type": "display_data"
    },
    {
     "name": "stderr",
     "output_type": "stream",
     "text": [
      "ERROR: 2023-10-30 15:17:20,991: _geological_feature_builder.py:266 -- Not enough constraints for scalar field add more\n",
      "WARNING: 2023-10-30 15:17:21,063: _discrete_interpolator.py:735 -- No solution, s1__2 scalar field 0. Add more data.\n"
     ]
    },
    {
     "data": {
      "application/vnd.jupyter.widget-view+json": {
       "model_id": "f74f4f598c4f40489e2dc2d46f6ab631",
       "version_major": 2,
       "version_minor": 0
      },
      "text/plain": [
       "  0%|          | 0/3 [00:00<?, ?it/s]"
      ]
     },
     "metadata": {},
     "output_type": "display_data"
    },
    {
     "name": "stderr",
     "output_type": "stream",
     "text": [
      "ERROR: 2023-10-30 15:17:22,991: _geological_feature_builder.py:266 -- Not enough constraints for scalar field add more\n",
      "WARNING: 2023-10-30 15:17:23,062: _discrete_interpolator.py:735 -- No solution, s1__2 scalar field 0. Add more data.\n"
     ]
    },
    {
     "data": {
      "application/vnd.jupyter.widget-view+json": {
       "model_id": "256290ca4a8f4482807574361892dd48",
       "version_major": 2,
       "version_minor": 0
      },
      "text/plain": [
       "  0%|          | 0/3 [00:00<?, ?it/s]"
      ]
     },
     "metadata": {},
     "output_type": "display_data"
    },
    {
     "name": "stderr",
     "output_type": "stream",
     "text": [
      "ERROR: 2023-10-30 15:17:25,031: _geological_feature_builder.py:266 -- Not enough constraints for scalar field add more\n",
      "WARNING: 2023-10-30 15:17:25,101: _discrete_interpolator.py:735 -- No solution, s1__2 scalar field 0. Add more data.\n"
     ]
    },
    {
     "data": {
      "application/vnd.jupyter.widget-view+json": {
       "model_id": "fd48aa84c03544e195c180675aba2863",
       "version_major": 2,
       "version_minor": 0
      },
      "text/plain": [
       "  0%|          | 0/3 [00:00<?, ?it/s]"
      ]
     },
     "metadata": {},
     "output_type": "display_data"
    },
    {
     "name": "stderr",
     "output_type": "stream",
     "text": [
      "ERROR: 2023-10-30 15:17:28,326: _geological_feature_builder.py:266 -- Not enough constraints for scalar field add more\n",
      "WARNING: 2023-10-30 15:17:28,393: _discrete_interpolator.py:735 -- No solution, s1__2 scalar field 0. Add more data.\n"
     ]
    },
    {
     "data": {
      "application/vnd.jupyter.widget-view+json": {
       "model_id": "97a64a4856eb40d5ac5bb18ffb8f4a68",
       "version_major": 2,
       "version_minor": 0
      },
      "text/plain": [
       "  0%|          | 0/3 [00:00<?, ?it/s]"
      ]
     },
     "metadata": {},
     "output_type": "display_data"
    },
    {
     "name": "stderr",
     "output_type": "stream",
     "text": [
      "ERROR: 2023-10-30 15:17:30,085: _geological_feature_builder.py:266 -- Not enough constraints for scalar field add more\n",
      "WARNING: 2023-10-30 15:17:30,151: _discrete_interpolator.py:735 -- No solution, s1__2 scalar field 0. Add more data.\n"
     ]
    },
    {
     "data": {
      "application/vnd.jupyter.widget-view+json": {
       "model_id": "93f40b25365e4cd49cb39357d84fdaf4",
       "version_major": 2,
       "version_minor": 0
      },
      "text/plain": [
       "  0%|          | 0/3 [00:00<?, ?it/s]"
      ]
     },
     "metadata": {},
     "output_type": "display_data"
    },
    {
     "name": "stderr",
     "output_type": "stream",
     "text": [
      "ERROR: 2023-10-30 15:17:31,760: _geological_feature_builder.py:266 -- Not enough constraints for scalar field add more\n",
      "WARNING: 2023-10-30 15:17:31,827: _discrete_interpolator.py:735 -- No solution, s1__2 scalar field 0. Add more data.\n"
     ]
    },
    {
     "data": {
      "application/vnd.jupyter.widget-view+json": {
       "model_id": "bf4c3f3678ad4fd2b994d0963257876c",
       "version_major": 2,
       "version_minor": 0
      },
      "text/plain": [
       "  0%|          | 0/3 [00:00<?, ?it/s]"
      ]
     },
     "metadata": {},
     "output_type": "display_data"
    },
    {
     "name": "stderr",
     "output_type": "stream",
     "text": [
      "ERROR: 2023-10-30 15:17:35,234: _geological_feature_builder.py:266 -- Not enough constraints for scalar field add more\n",
      "WARNING: 2023-10-30 15:17:35,300: _discrete_interpolator.py:735 -- No solution, s1__2 scalar field 0. Add more data.\n"
     ]
    },
    {
     "data": {
      "application/vnd.jupyter.widget-view+json": {
       "model_id": "dfcbefecb92f4cfdb30164c35394e7ff",
       "version_major": 2,
       "version_minor": 0
      },
      "text/plain": [
       "  0%|          | 0/3 [00:00<?, ?it/s]"
      ]
     },
     "metadata": {},
     "output_type": "display_data"
    },
    {
     "name": "stderr",
     "output_type": "stream",
     "text": [
      "ERROR: 2023-10-30 15:17:37,302: _geological_feature_builder.py:266 -- Not enough constraints for scalar field add more\n",
      "WARNING: 2023-10-30 15:17:37,368: _discrete_interpolator.py:735 -- No solution, s1__2 scalar field 0. Add more data.\n"
     ]
    },
    {
     "data": {
      "application/vnd.jupyter.widget-view+json": {
       "model_id": "28187fc5ab46452c8745b31da229dcc7",
       "version_major": 2,
       "version_minor": 0
      },
      "text/plain": [
       "  0%|          | 0/3 [00:00<?, ?it/s]"
      ]
     },
     "metadata": {},
     "output_type": "display_data"
    },
    {
     "name": "stderr",
     "output_type": "stream",
     "text": [
      "ERROR: 2023-10-30 15:17:39,258: _geological_feature_builder.py:266 -- Not enough constraints for scalar field add more\n",
      "WARNING: 2023-10-30 15:17:39,328: _discrete_interpolator.py:735 -- No solution, s1__2 scalar field 0. Add more data.\n"
     ]
    },
    {
     "data": {
      "application/vnd.jupyter.widget-view+json": {
       "model_id": "5160ecb022c74deaa480cd8b20e1ca55",
       "version_major": 2,
       "version_minor": 0
      },
      "text/plain": [
       "  0%|          | 0/3 [00:00<?, ?it/s]"
      ]
     },
     "metadata": {},
     "output_type": "display_data"
    },
    {
     "name": "stderr",
     "output_type": "stream",
     "text": [
      "ERROR: 2023-10-30 15:17:40,968: _geological_feature_builder.py:266 -- Not enough constraints for scalar field add more\n",
      "WARNING: 2023-10-30 15:17:41,029: _discrete_interpolator.py:735 -- No solution, s1__2 scalar field 0. Add more data.\n"
     ]
    },
    {
     "data": {
      "application/vnd.jupyter.widget-view+json": {
       "model_id": "b3ae08e1df25489ea62d22b25030d502",
       "version_major": 2,
       "version_minor": 0
      },
      "text/plain": [
       "  0%|          | 0/3 [00:00<?, ?it/s]"
      ]
     },
     "metadata": {},
     "output_type": "display_data"
    },
    {
     "name": "stderr",
     "output_type": "stream",
     "text": [
      "ERROR: 2023-10-30 15:17:42,725: _geological_feature_builder.py:266 -- Not enough constraints for scalar field add more\n",
      "WARNING: 2023-10-30 15:17:42,790: _discrete_interpolator.py:735 -- No solution, s1__2 scalar field 0. Add more data.\n"
     ]
    },
    {
     "data": {
      "application/vnd.jupyter.widget-view+json": {
       "model_id": "803578c9f4a543c3bf0e42e596ea6361",
       "version_major": 2,
       "version_minor": 0
      },
      "text/plain": [
       "  0%|          | 0/3 [00:00<?, ?it/s]"
      ]
     },
     "metadata": {},
     "output_type": "display_data"
    },
    {
     "name": "stderr",
     "output_type": "stream",
     "text": [
      "ERROR: 2023-10-30 15:17:45,027: _geological_feature_builder.py:266 -- Not enough constraints for scalar field add more\n",
      "WARNING: 2023-10-30 15:17:45,092: _discrete_interpolator.py:735 -- No solution, s1__2 scalar field 0. Add more data.\n"
     ]
    },
    {
     "data": {
      "application/vnd.jupyter.widget-view+json": {
       "model_id": "f8ab69fdd1d844bebce928fa9b2e7e30",
       "version_major": 2,
       "version_minor": 0
      },
      "text/plain": [
       "  0%|          | 0/3 [00:00<?, ?it/s]"
      ]
     },
     "metadata": {},
     "output_type": "display_data"
    },
    {
     "name": "stderr",
     "output_type": "stream",
     "text": [
      "ERROR: 2023-10-30 15:17:49,357: _geological_feature_builder.py:266 -- Not enough constraints for scalar field add more\n",
      "WARNING: 2023-10-30 15:17:49,424: _discrete_interpolator.py:735 -- No solution, s1__2 scalar field 0. Add more data.\n"
     ]
    },
    {
     "data": {
      "application/vnd.jupyter.widget-view+json": {
       "model_id": "b046b541bc704a99a524dd71e73c724e",
       "version_major": 2,
       "version_minor": 0
      },
      "text/plain": [
       "  0%|          | 0/3 [00:00<?, ?it/s]"
      ]
     },
     "metadata": {},
     "output_type": "display_data"
    },
    {
     "name": "stderr",
     "output_type": "stream",
     "text": [
      "ERROR: 2023-10-30 15:17:51,135: _geological_feature_builder.py:266 -- Not enough constraints for scalar field add more\n",
      "WARNING: 2023-10-30 15:17:51,204: _discrete_interpolator.py:735 -- No solution, s1__2 scalar field 0. Add more data.\n"
     ]
    },
    {
     "data": {
      "application/vnd.jupyter.widget-view+json": {
       "model_id": "c8b143b82f934e99a50b0a17d46d6f01",
       "version_major": 2,
       "version_minor": 0
      },
      "text/plain": [
       "  0%|          | 0/3 [00:00<?, ?it/s]"
      ]
     },
     "metadata": {},
     "output_type": "display_data"
    },
    {
     "name": "stderr",
     "output_type": "stream",
     "text": [
      "ERROR: 2023-10-30 15:17:52,880: _geological_feature_builder.py:266 -- Not enough constraints for scalar field add more\n",
      "WARNING: 2023-10-30 15:17:52,947: _discrete_interpolator.py:735 -- No solution, s1__2 scalar field 0. Add more data.\n"
     ]
    },
    {
     "data": {
      "application/vnd.jupyter.widget-view+json": {
       "model_id": "d2e89301c0e64765995266a044d0ecf9",
       "version_major": 2,
       "version_minor": 0
      },
      "text/plain": [
       "  0%|          | 0/3 [00:00<?, ?it/s]"
      ]
     },
     "metadata": {},
     "output_type": "display_data"
    },
    {
     "name": "stderr",
     "output_type": "stream",
     "text": [
      "ERROR: 2023-10-30 15:17:55,003: _geological_feature_builder.py:266 -- Not enough constraints for scalar field add more\n",
      "WARNING: 2023-10-30 15:17:55,072: _discrete_interpolator.py:735 -- No solution, s1__2 scalar field 0. Add more data.\n"
     ]
    },
    {
     "data": {
      "application/vnd.jupyter.widget-view+json": {
       "model_id": "b3607f5f4cec467990bb298189cbcdf1",
       "version_major": 2,
       "version_minor": 0
      },
      "text/plain": [
       "  0%|          | 0/3 [00:00<?, ?it/s]"
      ]
     },
     "metadata": {},
     "output_type": "display_data"
    },
    {
     "name": "stderr",
     "output_type": "stream",
     "text": [
      "ERROR: 2023-10-30 15:17:59,008: _geological_feature_builder.py:266 -- Not enough constraints for scalar field add more\n",
      "WARNING: 2023-10-30 15:17:59,080: _discrete_interpolator.py:735 -- No solution, s1__2 scalar field 0. Add more data.\n"
     ]
    },
    {
     "data": {
      "application/vnd.jupyter.widget-view+json": {
       "model_id": "64a27cb2da1942d78f8d6c5d57ea234f",
       "version_major": 2,
       "version_minor": 0
      },
      "text/plain": [
       "  0%|          | 0/3 [00:00<?, ?it/s]"
      ]
     },
     "metadata": {},
     "output_type": "display_data"
    },
    {
     "name": "stderr",
     "output_type": "stream",
     "text": [
      "ERROR: 2023-10-30 15:18:00,919: _geological_feature_builder.py:266 -- Not enough constraints for scalar field add more\n",
      "WARNING: 2023-10-30 15:18:00,990: _discrete_interpolator.py:735 -- No solution, s1__2 scalar field 0. Add more data.\n"
     ]
    },
    {
     "data": {
      "application/vnd.jupyter.widget-view+json": {
       "model_id": "b7169bde2e3f4143b11201d687210bf4",
       "version_major": 2,
       "version_minor": 0
      },
      "text/plain": [
       "  0%|          | 0/3 [00:00<?, ?it/s]"
      ]
     },
     "metadata": {},
     "output_type": "display_data"
    },
    {
     "name": "stderr",
     "output_type": "stream",
     "text": [
      "ERROR: 2023-10-30 15:18:05,238: _geological_feature_builder.py:266 -- Not enough constraints for scalar field add more\n",
      "WARNING: 2023-10-30 15:18:05,304: _discrete_interpolator.py:735 -- No solution, s1__2 scalar field 0. Add more data.\n"
     ]
    },
    {
     "data": {
      "application/vnd.jupyter.widget-view+json": {
       "model_id": "65d94d0d4ee64728b60dc8e54f64e5ba",
       "version_major": 2,
       "version_minor": 0
      },
      "text/plain": [
       "  0%|          | 0/3 [00:00<?, ?it/s]"
      ]
     },
     "metadata": {},
     "output_type": "display_data"
    },
    {
     "name": "stderr",
     "output_type": "stream",
     "text": [
      "ERROR: 2023-10-30 15:18:06,866: _geological_feature_builder.py:266 -- Not enough constraints for scalar field add more\n",
      "WARNING: 2023-10-30 15:18:06,938: _discrete_interpolator.py:735 -- No solution, s1__2 scalar field 0. Add more data.\n"
     ]
    },
    {
     "data": {
      "application/vnd.jupyter.widget-view+json": {
       "model_id": "e4404003a2e443239397a764726ac0a4",
       "version_major": 2,
       "version_minor": 0
      },
      "text/plain": [
       "  0%|          | 0/3 [00:00<?, ?it/s]"
      ]
     },
     "metadata": {},
     "output_type": "display_data"
    },
    {
     "name": "stderr",
     "output_type": "stream",
     "text": [
      "ERROR: 2023-10-30 15:18:08,678: _geological_feature_builder.py:266 -- Not enough constraints for scalar field add more\n",
      "WARNING: 2023-10-30 15:18:08,746: _discrete_interpolator.py:735 -- No solution, s1__2 scalar field 0. Add more data.\n"
     ]
    },
    {
     "data": {
      "application/vnd.jupyter.widget-view+json": {
       "model_id": "dd4236ebdac14b4a876a69af28d2ab73",
       "version_major": 2,
       "version_minor": 0
      },
      "text/plain": [
       "  0%|          | 0/3 [00:00<?, ?it/s]"
      ]
     },
     "metadata": {},
     "output_type": "display_data"
    },
    {
     "name": "stderr",
     "output_type": "stream",
     "text": [
      "ERROR: 2023-10-30 15:18:11,004: _geological_feature_builder.py:266 -- Not enough constraints for scalar field add more\n",
      "WARNING: 2023-10-30 15:18:11,071: _discrete_interpolator.py:735 -- No solution, s1__2 scalar field 0. Add more data.\n"
     ]
    },
    {
     "data": {
      "application/vnd.jupyter.widget-view+json": {
       "model_id": "e99b6eff1fd1420299ad4ffb67c981c3",
       "version_major": 2,
       "version_minor": 0
      },
      "text/plain": [
       "  0%|          | 0/3 [00:00<?, ?it/s]"
      ]
     },
     "metadata": {},
     "output_type": "display_data"
    },
    {
     "name": "stderr",
     "output_type": "stream",
     "text": [
      "ERROR: 2023-10-30 15:18:13,065: _geological_feature_builder.py:266 -- Not enough constraints for scalar field add more\n",
      "WARNING: 2023-10-30 15:18:13,128: _discrete_interpolator.py:735 -- No solution, s1__2 scalar field 0. Add more data.\n"
     ]
    },
    {
     "data": {
      "application/vnd.jupyter.widget-view+json": {
       "model_id": "79d0c0da9d184c5e81a5b9fe2c1253d1",
       "version_major": 2,
       "version_minor": 0
      },
      "text/plain": [
       "  0%|          | 0/3 [00:00<?, ?it/s]"
      ]
     },
     "metadata": {},
     "output_type": "display_data"
    },
    {
     "name": "stderr",
     "output_type": "stream",
     "text": [
      "ERROR: 2023-10-30 15:18:14,674: _geological_feature_builder.py:266 -- Not enough constraints for scalar field add more\n",
      "WARNING: 2023-10-30 15:18:14,742: _discrete_interpolator.py:735 -- No solution, s1__2 scalar field 0. Add more data.\n"
     ]
    },
    {
     "data": {
      "application/vnd.jupyter.widget-view+json": {
       "model_id": "cc7c671fe8f94e99954ebc87537f9905",
       "version_major": 2,
       "version_minor": 0
      },
      "text/plain": [
       "  0%|          | 0/3 [00:00<?, ?it/s]"
      ]
     },
     "metadata": {},
     "output_type": "display_data"
    },
    {
     "name": "stderr",
     "output_type": "stream",
     "text": [
      "ERROR: 2023-10-30 15:18:19,835: _geological_feature_builder.py:266 -- Not enough constraints for scalar field add more\n",
      "WARNING: 2023-10-30 15:18:19,914: _discrete_interpolator.py:735 -- No solution, s1__2 scalar field 0. Add more data.\n"
     ]
    },
    {
     "data": {
      "application/vnd.jupyter.widget-view+json": {
       "model_id": "2758cea50c174305b53d5ad8c8e2d266",
       "version_major": 2,
       "version_minor": 0
      },
      "text/plain": [
       "  0%|          | 0/3 [00:00<?, ?it/s]"
      ]
     },
     "metadata": {},
     "output_type": "display_data"
    },
    {
     "name": "stderr",
     "output_type": "stream",
     "text": [
      "ERROR: 2023-10-30 15:18:21,994: _geological_feature_builder.py:266 -- Not enough constraints for scalar field add more\n",
      "WARNING: 2023-10-30 15:18:22,076: _discrete_interpolator.py:735 -- No solution, s1__2 scalar field 0. Add more data.\n"
     ]
    },
    {
     "data": {
      "application/vnd.jupyter.widget-view+json": {
       "model_id": "ecf2288d5ab942f1b63a93b024d6b675",
       "version_major": 2,
       "version_minor": 0
      },
      "text/plain": [
       "  0%|          | 0/3 [00:00<?, ?it/s]"
      ]
     },
     "metadata": {},
     "output_type": "display_data"
    },
    {
     "name": "stderr",
     "output_type": "stream",
     "text": [
      "ERROR: 2023-10-30 15:18:25,387: _geological_feature_builder.py:266 -- Not enough constraints for scalar field add more\n",
      "WARNING: 2023-10-30 15:18:25,469: _discrete_interpolator.py:735 -- No solution, s1__2 scalar field 0. Add more data.\n"
     ]
    },
    {
     "data": {
      "application/vnd.jupyter.widget-view+json": {
       "model_id": "d2881e3a34574f2385597f462b275047",
       "version_major": 2,
       "version_minor": 0
      },
      "text/plain": [
       "  0%|          | 0/3 [00:00<?, ?it/s]"
      ]
     },
     "metadata": {},
     "output_type": "display_data"
    },
    {
     "name": "stderr",
     "output_type": "stream",
     "text": [
      "ERROR: 2023-10-30 15:18:28,581: _geological_feature_builder.py:266 -- Not enough constraints for scalar field add more\n",
      "WARNING: 2023-10-30 15:18:28,660: _discrete_interpolator.py:735 -- No solution, s1__2 scalar field 0. Add more data.\n"
     ]
    },
    {
     "data": {
      "application/vnd.jupyter.widget-view+json": {
       "model_id": "aea075accee849c8bb9abbd4755df08b",
       "version_major": 2,
       "version_minor": 0
      },
      "text/plain": [
       "  0%|          | 0/3 [00:00<?, ?it/s]"
      ]
     },
     "metadata": {},
     "output_type": "display_data"
    },
    {
     "name": "stderr",
     "output_type": "stream",
     "text": [
      "ERROR: 2023-10-30 15:18:30,975: _geological_feature_builder.py:266 -- Not enough constraints for scalar field add more\n",
      "WARNING: 2023-10-30 15:18:31,053: _discrete_interpolator.py:735 -- No solution, s1__2 scalar field 0. Add more data.\n"
     ]
    },
    {
     "data": {
      "application/vnd.jupyter.widget-view+json": {
       "model_id": "4c7453abad70488a8781828f992ead6e",
       "version_major": 2,
       "version_minor": 0
      },
      "text/plain": [
       "  0%|          | 0/3 [00:00<?, ?it/s]"
      ]
     },
     "metadata": {},
     "output_type": "display_data"
    },
    {
     "name": "stderr",
     "output_type": "stream",
     "text": [
      "ERROR: 2023-10-30 15:18:33,814: _geological_feature_builder.py:266 -- Not enough constraints for scalar field add more\n",
      "WARNING: 2023-10-30 15:18:33,910: _discrete_interpolator.py:735 -- No solution, s1__2 scalar field 0. Add more data.\n"
     ]
    },
    {
     "data": {
      "application/vnd.jupyter.widget-view+json": {
       "model_id": "3cf3c416f1ca489cbf7ffa66693f9a4a",
       "version_major": 2,
       "version_minor": 0
      },
      "text/plain": [
       "  0%|          | 0/3 [00:00<?, ?it/s]"
      ]
     },
     "metadata": {},
     "output_type": "display_data"
    },
    {
     "name": "stderr",
     "output_type": "stream",
     "text": [
      "ERROR: 2023-10-30 15:18:36,542: _geological_feature_builder.py:266 -- Not enough constraints for scalar field add more\n",
      "WARNING: 2023-10-30 15:18:36,612: _discrete_interpolator.py:735 -- No solution, s1__2 scalar field 0. Add more data.\n"
     ]
    },
    {
     "data": {
      "application/vnd.jupyter.widget-view+json": {
       "model_id": "7bed4ba3b98142728c7dd6b2c7b9e88f",
       "version_major": 2,
       "version_minor": 0
      },
      "text/plain": [
       "  0%|          | 0/3 [00:00<?, ?it/s]"
      ]
     },
     "metadata": {},
     "output_type": "display_data"
    },
    {
     "name": "stderr",
     "output_type": "stream",
     "text": [
      "ERROR: 2023-10-30 15:18:40,743: _geological_feature_builder.py:266 -- Not enough constraints for scalar field add more\n",
      "WARNING: 2023-10-30 15:18:40,815: _discrete_interpolator.py:735 -- No solution, s1__2 scalar field 0. Add more data.\n"
     ]
    },
    {
     "data": {
      "application/vnd.jupyter.widget-view+json": {
       "model_id": "07071236e16e4c60b3526974b2bd16a1",
       "version_major": 2,
       "version_minor": 0
      },
      "text/plain": [
       "  0%|          | 0/3 [00:00<?, ?it/s]"
      ]
     },
     "metadata": {},
     "output_type": "display_data"
    },
    {
     "name": "stderr",
     "output_type": "stream",
     "text": [
      "ERROR: 2023-10-30 15:18:43,219: _geological_feature_builder.py:266 -- Not enough constraints for scalar field add more\n",
      "WARNING: 2023-10-30 15:18:43,295: _discrete_interpolator.py:735 -- No solution, s1__2 scalar field 0. Add more data.\n"
     ]
    },
    {
     "data": {
      "application/vnd.jupyter.widget-view+json": {
       "model_id": "a6e586958fda41d39c6b9893a59219e8",
       "version_major": 2,
       "version_minor": 0
      },
      "text/plain": [
       "  0%|          | 0/3 [00:00<?, ?it/s]"
      ]
     },
     "metadata": {},
     "output_type": "display_data"
    },
    {
     "name": "stderr",
     "output_type": "stream",
     "text": [
      "ERROR: 2023-10-30 15:18:45,688: _geological_feature_builder.py:266 -- Not enough constraints for scalar field add more\n",
      "WARNING: 2023-10-30 15:18:45,756: _discrete_interpolator.py:735 -- No solution, s1__2 scalar field 0. Add more data.\n"
     ]
    },
    {
     "data": {
      "application/vnd.jupyter.widget-view+json": {
       "model_id": "c1b8d097ba3941d0ae45893cba07588b",
       "version_major": 2,
       "version_minor": 0
      },
      "text/plain": [
       "  0%|          | 0/3 [00:00<?, ?it/s]"
      ]
     },
     "metadata": {},
     "output_type": "display_data"
    },
    {
     "name": "stderr",
     "output_type": "stream",
     "text": [
      "ERROR: 2023-10-30 15:18:47,611: _geological_feature_builder.py:266 -- Not enough constraints for scalar field add more\n",
      "WARNING: 2023-10-30 15:18:47,682: _discrete_interpolator.py:735 -- No solution, s1__2 scalar field 0. Add more data.\n"
     ]
    },
    {
     "data": {
      "application/vnd.jupyter.widget-view+json": {
       "model_id": "15adafdf54564908809971db5f83d53e",
       "version_major": 2,
       "version_minor": 0
      },
      "text/plain": [
       "  0%|          | 0/3 [00:00<?, ?it/s]"
      ]
     },
     "metadata": {},
     "output_type": "display_data"
    },
    {
     "name": "stderr",
     "output_type": "stream",
     "text": [
      "ERROR: 2023-10-30 15:18:49,885: _geological_feature_builder.py:266 -- Not enough constraints for scalar field add more\n",
      "WARNING: 2023-10-30 15:18:49,966: _discrete_interpolator.py:735 -- No solution, s1__2 scalar field 0. Add more data.\n"
     ]
    },
    {
     "data": {
      "application/vnd.jupyter.widget-view+json": {
       "model_id": "95e7d3c226674212af50287781189344",
       "version_major": 2,
       "version_minor": 0
      },
      "text/plain": [
       "  0%|          | 0/3 [00:00<?, ?it/s]"
      ]
     },
     "metadata": {},
     "output_type": "display_data"
    },
    {
     "name": "stderr",
     "output_type": "stream",
     "text": [
      "ERROR: 2023-10-30 15:18:51,918: _geological_feature_builder.py:266 -- Not enough constraints for scalar field add more\n",
      "WARNING: 2023-10-30 15:18:51,991: _discrete_interpolator.py:735 -- No solution, s1__2 scalar field 0. Add more data.\n"
     ]
    },
    {
     "data": {
      "application/vnd.jupyter.widget-view+json": {
       "model_id": "0f2258f9cb5a4e0e9caa6cfe6529fba8",
       "version_major": 2,
       "version_minor": 0
      },
      "text/plain": [
       "  0%|          | 0/3 [00:00<?, ?it/s]"
      ]
     },
     "metadata": {},
     "output_type": "display_data"
    },
    {
     "name": "stderr",
     "output_type": "stream",
     "text": [
      "ERROR: 2023-10-30 15:18:57,752: _geological_feature_builder.py:266 -- Not enough constraints for scalar field add more\n",
      "WARNING: 2023-10-30 15:18:57,823: _discrete_interpolator.py:735 -- No solution, s1__2 scalar field 0. Add more data.\n"
     ]
    },
    {
     "data": {
      "application/vnd.jupyter.widget-view+json": {
       "model_id": "83e28683ce3c48c38a3f3ee674ff49a5",
       "version_major": 2,
       "version_minor": 0
      },
      "text/plain": [
       "  0%|          | 0/3 [00:00<?, ?it/s]"
      ]
     },
     "metadata": {},
     "output_type": "display_data"
    },
    {
     "name": "stderr",
     "output_type": "stream",
     "text": [
      "ERROR: 2023-10-30 15:19:00,130: _geological_feature_builder.py:266 -- Not enough constraints for scalar field add more\n",
      "WARNING: 2023-10-30 15:19:00,202: _discrete_interpolator.py:735 -- No solution, s1__2 scalar field 0. Add more data.\n"
     ]
    },
    {
     "data": {
      "application/vnd.jupyter.widget-view+json": {
       "model_id": "dbee8c1f421a40b6ac92fe85b0088639",
       "version_major": 2,
       "version_minor": 0
      },
      "text/plain": [
       "  0%|          | 0/3 [00:00<?, ?it/s]"
      ]
     },
     "metadata": {},
     "output_type": "display_data"
    },
    {
     "name": "stderr",
     "output_type": "stream",
     "text": [
      "ERROR: 2023-10-30 15:19:02,245: _geological_feature_builder.py:266 -- Not enough constraints for scalar field add more\n",
      "WARNING: 2023-10-30 15:19:02,315: _discrete_interpolator.py:735 -- No solution, s1__2 scalar field 0. Add more data.\n"
     ]
    },
    {
     "data": {
      "application/vnd.jupyter.widget-view+json": {
       "model_id": "1246bed9087a4654a73dedfa87ba865e",
       "version_major": 2,
       "version_minor": 0
      },
      "text/plain": [
       "  0%|          | 0/3 [00:00<?, ?it/s]"
      ]
     },
     "metadata": {},
     "output_type": "display_data"
    },
    {
     "name": "stderr",
     "output_type": "stream",
     "text": [
      "ERROR: 2023-10-30 15:19:04,511: _geological_feature_builder.py:266 -- Not enough constraints for scalar field add more\n",
      "WARNING: 2023-10-30 15:19:04,581: _discrete_interpolator.py:735 -- No solution, s1__2 scalar field 0. Add more data.\n"
     ]
    },
    {
     "data": {
      "application/vnd.jupyter.widget-view+json": {
       "model_id": "9d2ab7f8ed474fe489bfb038ca095048",
       "version_major": 2,
       "version_minor": 0
      },
      "text/plain": [
       "  0%|          | 0/3 [00:00<?, ?it/s]"
      ]
     },
     "metadata": {},
     "output_type": "display_data"
    },
    {
     "name": "stderr",
     "output_type": "stream",
     "text": [
      "ERROR: 2023-10-30 15:19:06,346: _geological_feature_builder.py:266 -- Not enough constraints for scalar field add more\n",
      "WARNING: 2023-10-30 15:19:06,415: _discrete_interpolator.py:735 -- No solution, s1__2 scalar field 0. Add more data.\n"
     ]
    },
    {
     "data": {
      "application/vnd.jupyter.widget-view+json": {
       "model_id": "c08e999d88314dc694c548969ca4feb7",
       "version_major": 2,
       "version_minor": 0
      },
      "text/plain": [
       "  0%|          | 0/3 [00:00<?, ?it/s]"
      ]
     },
     "metadata": {},
     "output_type": "display_data"
    },
    {
     "name": "stderr",
     "output_type": "stream",
     "text": [
      "ERROR: 2023-10-30 15:19:08,430: _geological_feature_builder.py:266 -- Not enough constraints for scalar field add more\n",
      "WARNING: 2023-10-30 15:19:08,503: _discrete_interpolator.py:735 -- No solution, s1__2 scalar field 0. Add more data.\n"
     ]
    },
    {
     "data": {
      "application/vnd.jupyter.widget-view+json": {
       "model_id": "8577c3281a5f40f19717193b6d94a217",
       "version_major": 2,
       "version_minor": 0
      },
      "text/plain": [
       "  0%|          | 0/3 [00:00<?, ?it/s]"
      ]
     },
     "metadata": {},
     "output_type": "display_data"
    },
    {
     "name": "stderr",
     "output_type": "stream",
     "text": [
      "ERROR: 2023-10-30 15:19:10,562: _geological_feature_builder.py:266 -- Not enough constraints for scalar field add more\n",
      "WARNING: 2023-10-30 15:19:10,634: _discrete_interpolator.py:735 -- No solution, s1__2 scalar field 0. Add more data.\n"
     ]
    },
    {
     "data": {
      "application/vnd.jupyter.widget-view+json": {
       "model_id": "30d6f95ee5c04451b0d0a04f5d479fab",
       "version_major": 2,
       "version_minor": 0
      },
      "text/plain": [
       "  0%|          | 0/3 [00:00<?, ?it/s]"
      ]
     },
     "metadata": {},
     "output_type": "display_data"
    },
    {
     "name": "stderr",
     "output_type": "stream",
     "text": [
      "ERROR: 2023-10-30 15:19:12,810: _geological_feature_builder.py:266 -- Not enough constraints for scalar field add more\n",
      "WARNING: 2023-10-30 15:19:12,883: _discrete_interpolator.py:735 -- No solution, s1__2 scalar field 0. Add more data.\n"
     ]
    },
    {
     "data": {
      "application/vnd.jupyter.widget-view+json": {
       "model_id": "1f48e30587fa400cb2e824e8b0a9db2c",
       "version_major": 2,
       "version_minor": 0
      },
      "text/plain": [
       "  0%|          | 0/3 [00:00<?, ?it/s]"
      ]
     },
     "metadata": {},
     "output_type": "display_data"
    },
    {
     "name": "stderr",
     "output_type": "stream",
     "text": [
      "ERROR: 2023-10-30 15:19:15,163: _geological_feature_builder.py:266 -- Not enough constraints for scalar field add more\n",
      "WARNING: 2023-10-30 15:19:15,240: _discrete_interpolator.py:735 -- No solution, s1__2 scalar field 0. Add more data.\n"
     ]
    },
    {
     "data": {
      "application/vnd.jupyter.widget-view+json": {
       "model_id": "c606fe76f494411c945e1274e34da80d",
       "version_major": 2,
       "version_minor": 0
      },
      "text/plain": [
       "  0%|          | 0/3 [00:00<?, ?it/s]"
      ]
     },
     "metadata": {},
     "output_type": "display_data"
    },
    {
     "name": "stderr",
     "output_type": "stream",
     "text": [
      "ERROR: 2023-10-30 15:19:18,795: _geological_feature_builder.py:266 -- Not enough constraints for scalar field add more\n",
      "WARNING: 2023-10-30 15:19:18,867: _discrete_interpolator.py:735 -- No solution, s1__2 scalar field 0. Add more data.\n"
     ]
    },
    {
     "data": {
      "application/vnd.jupyter.widget-view+json": {
       "model_id": "da59c051a9824f1f98e40e3e7b22b33f",
       "version_major": 2,
       "version_minor": 0
      },
      "text/plain": [
       "  0%|          | 0/3 [00:00<?, ?it/s]"
      ]
     },
     "metadata": {},
     "output_type": "display_data"
    },
    {
     "name": "stderr",
     "output_type": "stream",
     "text": [
      "ERROR: 2023-10-30 15:19:20,887: _geological_feature_builder.py:266 -- Not enough constraints for scalar field add more\n",
      "WARNING: 2023-10-30 15:19:20,957: _discrete_interpolator.py:735 -- No solution, s1__2 scalar field 0. Add more data.\n"
     ]
    },
    {
     "data": {
      "application/vnd.jupyter.widget-view+json": {
       "model_id": "920dce8684d2418990c604ef76921a27",
       "version_major": 2,
       "version_minor": 0
      },
      "text/plain": [
       "  0%|          | 0/3 [00:00<?, ?it/s]"
      ]
     },
     "metadata": {},
     "output_type": "display_data"
    },
    {
     "name": "stderr",
     "output_type": "stream",
     "text": [
      "ERROR: 2023-10-30 15:19:22,740: _geological_feature_builder.py:266 -- Not enough constraints for scalar field add more\n",
      "WARNING: 2023-10-30 15:19:22,808: _discrete_interpolator.py:735 -- No solution, s1__2 scalar field 0. Add more data.\n"
     ]
    },
    {
     "data": {
      "application/vnd.jupyter.widget-view+json": {
       "model_id": "fd933bc3f1a04ceaaea96a714a5ba4a6",
       "version_major": 2,
       "version_minor": 0
      },
      "text/plain": [
       "  0%|          | 0/3 [00:00<?, ?it/s]"
      ]
     },
     "metadata": {},
     "output_type": "display_data"
    },
    {
     "name": "stderr",
     "output_type": "stream",
     "text": [
      "ERROR: 2023-10-30 15:19:35,971: _geological_feature_builder.py:266 -- Not enough constraints for scalar field add more\n",
      "WARNING: 2023-10-30 15:19:36,049: _discrete_interpolator.py:735 -- No solution, s1__2 scalar field 0. Add more data.\n"
     ]
    },
    {
     "data": {
      "application/vnd.jupyter.widget-view+json": {
       "model_id": "46844f1b02d8402db96e5955f45b03ad",
       "version_major": 2,
       "version_minor": 0
      },
      "text/plain": [
       "  0%|          | 0/3 [00:00<?, ?it/s]"
      ]
     },
     "metadata": {},
     "output_type": "display_data"
    },
    {
     "name": "stderr",
     "output_type": "stream",
     "text": [
      "ERROR: 2023-10-30 15:19:38,034: _geological_feature_builder.py:266 -- Not enough constraints for scalar field add more\n",
      "WARNING: 2023-10-30 15:19:38,112: _discrete_interpolator.py:735 -- No solution, s1__2 scalar field 0. Add more data.\n"
     ]
    },
    {
     "data": {
      "application/vnd.jupyter.widget-view+json": {
       "model_id": "041f3f1c1a99421fa3408bef3d6e5e03",
       "version_major": 2,
       "version_minor": 0
      },
      "text/plain": [
       "  0%|          | 0/3 [00:00<?, ?it/s]"
      ]
     },
     "metadata": {},
     "output_type": "display_data"
    },
    {
     "name": "stderr",
     "output_type": "stream",
     "text": [
      "ERROR: 2023-10-30 15:19:40,494: _geological_feature_builder.py:266 -- Not enough constraints for scalar field add more\n",
      "WARNING: 2023-10-30 15:19:40,575: _discrete_interpolator.py:735 -- No solution, s1__2 scalar field 0. Add more data.\n"
     ]
    },
    {
     "data": {
      "application/vnd.jupyter.widget-view+json": {
       "model_id": "1213965af5a54dd4a15dfb3d737286c5",
       "version_major": 2,
       "version_minor": 0
      },
      "text/plain": [
       "  0%|          | 0/3 [00:00<?, ?it/s]"
      ]
     },
     "metadata": {},
     "output_type": "display_data"
    },
    {
     "name": "stderr",
     "output_type": "stream",
     "text": [
      "ERROR: 2023-10-30 15:19:44,468: _geological_feature_builder.py:266 -- Not enough constraints for scalar field add more\n",
      "WARNING: 2023-10-30 15:19:44,542: _discrete_interpolator.py:735 -- No solution, s1__2 scalar field 0. Add more data.\n"
     ]
    },
    {
     "data": {
      "application/vnd.jupyter.widget-view+json": {
       "model_id": "c6371da74592406695b0da3a942596ee",
       "version_major": 2,
       "version_minor": 0
      },
      "text/plain": [
       "  0%|          | 0/3 [00:00<?, ?it/s]"
      ]
     },
     "metadata": {},
     "output_type": "display_data"
    },
    {
     "name": "stderr",
     "output_type": "stream",
     "text": [
      "ERROR: 2023-10-30 15:19:47,384: _geological_feature_builder.py:266 -- Not enough constraints for scalar field add more\n",
      "WARNING: 2023-10-30 15:19:47,454: _discrete_interpolator.py:735 -- No solution, s1__2 scalar field 0. Add more data.\n"
     ]
    },
    {
     "data": {
      "application/vnd.jupyter.widget-view+json": {
       "model_id": "cd838795cba94caf84ddce78e2d6644d",
       "version_major": 2,
       "version_minor": 0
      },
      "text/plain": [
       "  0%|          | 0/3 [00:00<?, ?it/s]"
      ]
     },
     "metadata": {},
     "output_type": "display_data"
    },
    {
     "name": "stderr",
     "output_type": "stream",
     "text": [
      "ERROR: 2023-10-30 15:19:51,593: _geological_feature_builder.py:266 -- Not enough constraints for scalar field add more\n",
      "WARNING: 2023-10-30 15:19:51,670: _discrete_interpolator.py:735 -- No solution, s1__2 scalar field 0. Add more data.\n"
     ]
    },
    {
     "data": {
      "application/vnd.jupyter.widget-view+json": {
       "model_id": "ade6075d92ba4cf1bf2cd6c49d02ec13",
       "version_major": 2,
       "version_minor": 0
      },
      "text/plain": [
       "  0%|          | 0/3 [00:00<?, ?it/s]"
      ]
     },
     "metadata": {},
     "output_type": "display_data"
    },
    {
     "name": "stderr",
     "output_type": "stream",
     "text": [
      "ERROR: 2023-10-30 15:19:55,070: _geological_feature_builder.py:266 -- Not enough constraints for scalar field add more\n",
      "WARNING: 2023-10-30 15:19:55,129: _discrete_interpolator.py:735 -- No solution, s1__2 scalar field 0. Add more data.\n"
     ]
    },
    {
     "data": {
      "application/vnd.jupyter.widget-view+json": {
       "model_id": "df4811797e524c2c87ac042aae0a1170",
       "version_major": 2,
       "version_minor": 0
      },
      "text/plain": [
       "  0%|          | 0/3 [00:00<?, ?it/s]"
      ]
     },
     "metadata": {},
     "output_type": "display_data"
    },
    {
     "name": "stderr",
     "output_type": "stream",
     "text": [
      "ERROR: 2023-10-30 15:19:56,797: _geological_feature_builder.py:266 -- Not enough constraints for scalar field add more\n",
      "WARNING: 2023-10-30 15:19:56,864: _discrete_interpolator.py:735 -- No solution, s1__2 scalar field 0. Add more data.\n"
     ]
    },
    {
     "data": {
      "application/vnd.jupyter.widget-view+json": {
       "model_id": "e9b000f042a24130a7c5f64e14df037c",
       "version_major": 2,
       "version_minor": 0
      },
      "text/plain": [
       "  0%|          | 0/3 [00:00<?, ?it/s]"
      ]
     },
     "metadata": {},
     "output_type": "display_data"
    },
    {
     "name": "stderr",
     "output_type": "stream",
     "text": [
      "ERROR: 2023-10-30 15:19:58,711: _geological_feature_builder.py:266 -- Not enough constraints for scalar field add more\n",
      "WARNING: 2023-10-30 15:19:58,788: _discrete_interpolator.py:735 -- No solution, s1__2 scalar field 0. Add more data.\n"
     ]
    },
    {
     "data": {
      "application/vnd.jupyter.widget-view+json": {
       "model_id": "ac769b7a6bdd4d7096529c95b35d7ee5",
       "version_major": 2,
       "version_minor": 0
      },
      "text/plain": [
       "  0%|          | 0/3 [00:00<?, ?it/s]"
      ]
     },
     "metadata": {},
     "output_type": "display_data"
    },
    {
     "name": "stderr",
     "output_type": "stream",
     "text": [
      "ERROR: 2023-10-30 15:20:00,990: _geological_feature_builder.py:266 -- Not enough constraints for scalar field add more\n",
      "WARNING: 2023-10-30 15:20:01,065: _discrete_interpolator.py:735 -- No solution, s1__2 scalar field 0. Add more data.\n"
     ]
    },
    {
     "data": {
      "application/vnd.jupyter.widget-view+json": {
       "model_id": "0f86895f05d844308a0dc4473a7dd839",
       "version_major": 2,
       "version_minor": 0
      },
      "text/plain": [
       "  0%|          | 0/3 [00:00<?, ?it/s]"
      ]
     },
     "metadata": {},
     "output_type": "display_data"
    },
    {
     "name": "stderr",
     "output_type": "stream",
     "text": [
      "ERROR: 2023-10-30 15:20:02,765: _geological_feature_builder.py:266 -- Not enough constraints for scalar field add more\n",
      "WARNING: 2023-10-30 15:20:02,833: _discrete_interpolator.py:735 -- No solution, s1__2 scalar field 0. Add more data.\n"
     ]
    },
    {
     "data": {
      "application/vnd.jupyter.widget-view+json": {
       "model_id": "4cfc9190b782479db2f1c1cf5341ded0",
       "version_major": 2,
       "version_minor": 0
      },
      "text/plain": [
       "  0%|          | 0/3 [00:00<?, ?it/s]"
      ]
     },
     "metadata": {},
     "output_type": "display_data"
    },
    {
     "name": "stderr",
     "output_type": "stream",
     "text": [
      "ERROR: 2023-10-30 15:20:04,733: _geological_feature_builder.py:266 -- Not enough constraints for scalar field add more\n",
      "WARNING: 2023-10-30 15:20:04,803: _discrete_interpolator.py:735 -- No solution, s1__2 scalar field 0. Add more data.\n"
     ]
    },
    {
     "data": {
      "application/vnd.jupyter.widget-view+json": {
       "model_id": "c200870a72bd4b24b3d4dda93ec537d2",
       "version_major": 2,
       "version_minor": 0
      },
      "text/plain": [
       "  0%|          | 0/3 [00:00<?, ?it/s]"
      ]
     },
     "metadata": {},
     "output_type": "display_data"
    },
    {
     "name": "stderr",
     "output_type": "stream",
     "text": [
      "ERROR: 2023-10-30 15:20:06,429: _geological_feature_builder.py:266 -- Not enough constraints for scalar field add more\n",
      "WARNING: 2023-10-30 15:20:06,502: _discrete_interpolator.py:735 -- No solution, s1__2 scalar field 0. Add more data.\n"
     ]
    },
    {
     "data": {
      "application/vnd.jupyter.widget-view+json": {
       "model_id": "946ef5d8d5a54d06a855448606ffa604",
       "version_major": 2,
       "version_minor": 0
      },
      "text/plain": [
       "  0%|          | 0/3 [00:00<?, ?it/s]"
      ]
     },
     "metadata": {},
     "output_type": "display_data"
    },
    {
     "name": "stderr",
     "output_type": "stream",
     "text": [
      "ERROR: 2023-10-30 15:20:12,045: _geological_feature_builder.py:266 -- Not enough constraints for scalar field add more\n",
      "WARNING: 2023-10-30 15:20:12,113: _discrete_interpolator.py:735 -- No solution, s1__2 scalar field 0. Add more data.\n"
     ]
    },
    {
     "data": {
      "application/vnd.jupyter.widget-view+json": {
       "model_id": "ea8b3d4d7735424584af8519fc0ccb11",
       "version_major": 2,
       "version_minor": 0
      },
      "text/plain": [
       "  0%|          | 0/3 [00:00<?, ?it/s]"
      ]
     },
     "metadata": {},
     "output_type": "display_data"
    },
    {
     "name": "stderr",
     "output_type": "stream",
     "text": [
      "ERROR: 2023-10-30 15:20:14,575: _geological_feature_builder.py:266 -- Not enough constraints for scalar field add more\n",
      "WARNING: 2023-10-30 15:20:14,643: _discrete_interpolator.py:735 -- No solution, s1__2 scalar field 0. Add more data.\n"
     ]
    },
    {
     "data": {
      "application/vnd.jupyter.widget-view+json": {
       "model_id": "497491d0d0154d7f830bc4b119c18a8d",
       "version_major": 2,
       "version_minor": 0
      },
      "text/plain": [
       "  0%|          | 0/3 [00:00<?, ?it/s]"
      ]
     },
     "metadata": {},
     "output_type": "display_data"
    },
    {
     "name": "stderr",
     "output_type": "stream",
     "text": [
      "ERROR: 2023-10-30 15:20:16,576: _geological_feature_builder.py:266 -- Not enough constraints for scalar field add more\n",
      "WARNING: 2023-10-30 15:20:16,646: _discrete_interpolator.py:735 -- No solution, s1__2 scalar field 0. Add more data.\n"
     ]
    },
    {
     "data": {
      "application/vnd.jupyter.widget-view+json": {
       "model_id": "3e5e13a5fbfb489e92666628eee34498",
       "version_major": 2,
       "version_minor": 0
      },
      "text/plain": [
       "  0%|          | 0/3 [00:00<?, ?it/s]"
      ]
     },
     "metadata": {},
     "output_type": "display_data"
    },
    {
     "name": "stderr",
     "output_type": "stream",
     "text": [
      "ERROR: 2023-10-30 15:20:18,536: _geological_feature_builder.py:266 -- Not enough constraints for scalar field add more\n",
      "WARNING: 2023-10-30 15:20:18,604: _discrete_interpolator.py:735 -- No solution, s1__2 scalar field 0. Add more data.\n"
     ]
    },
    {
     "data": {
      "application/vnd.jupyter.widget-view+json": {
       "model_id": "c7937ac3ecad47a6b4361fac57fc30ea",
       "version_major": 2,
       "version_minor": 0
      },
      "text/plain": [
       "  0%|          | 0/3 [00:00<?, ?it/s]"
      ]
     },
     "metadata": {},
     "output_type": "display_data"
    },
    {
     "name": "stderr",
     "output_type": "stream",
     "text": [
      "ERROR: 2023-10-30 15:20:20,497: _geological_feature_builder.py:266 -- Not enough constraints for scalar field add more\n",
      "WARNING: 2023-10-30 15:20:20,571: _discrete_interpolator.py:735 -- No solution, s1__2 scalar field 0. Add more data.\n"
     ]
    },
    {
     "data": {
      "application/vnd.jupyter.widget-view+json": {
       "model_id": "21e012d382a84c69a8e52bd89aff582c",
       "version_major": 2,
       "version_minor": 0
      },
      "text/plain": [
       "  0%|          | 0/3 [00:00<?, ?it/s]"
      ]
     },
     "metadata": {},
     "output_type": "display_data"
    },
    {
     "name": "stderr",
     "output_type": "stream",
     "text": [
      "ERROR: 2023-10-30 15:20:22,408: _geological_feature_builder.py:266 -- Not enough constraints for scalar field add more\n",
      "WARNING: 2023-10-30 15:20:22,475: _discrete_interpolator.py:735 -- No solution, s1__2 scalar field 0. Add more data.\n"
     ]
    },
    {
     "data": {
      "application/vnd.jupyter.widget-view+json": {
       "model_id": "5829b14043eb441088c26f0c7a30ccfe",
       "version_major": 2,
       "version_minor": 0
      },
      "text/plain": [
       "  0%|          | 0/3 [00:00<?, ?it/s]"
      ]
     },
     "metadata": {},
     "output_type": "display_data"
    },
    {
     "name": "stderr",
     "output_type": "stream",
     "text": [
      "ERROR: 2023-10-30 15:20:24,578: _geological_feature_builder.py:266 -- Not enough constraints for scalar field add more\n",
      "WARNING: 2023-10-30 15:20:24,650: _discrete_interpolator.py:735 -- No solution, s1__2 scalar field 0. Add more data.\n"
     ]
    },
    {
     "data": {
      "application/vnd.jupyter.widget-view+json": {
       "model_id": "7aebec96a98b4644b63e27d30a4c1483",
       "version_major": 2,
       "version_minor": 0
      },
      "text/plain": [
       "  0%|          | 0/3 [00:00<?, ?it/s]"
      ]
     },
     "metadata": {},
     "output_type": "display_data"
    },
    {
     "name": "stderr",
     "output_type": "stream",
     "text": [
      "ERROR: 2023-10-30 15:20:26,337: _geological_feature_builder.py:266 -- Not enough constraints for scalar field add more\n",
      "WARNING: 2023-10-30 15:20:26,406: _discrete_interpolator.py:735 -- No solution, s1__2 scalar field 0. Add more data.\n"
     ]
    },
    {
     "data": {
      "application/vnd.jupyter.widget-view+json": {
       "model_id": "22e73b6fc6bb44ad8fd24c1ed24fe0d2",
       "version_major": 2,
       "version_minor": 0
      },
      "text/plain": [
       "  0%|          | 0/3 [00:00<?, ?it/s]"
      ]
     },
     "metadata": {},
     "output_type": "display_data"
    },
    {
     "name": "stderr",
     "output_type": "stream",
     "text": [
      "ERROR: 2023-10-30 15:20:28,180: _geological_feature_builder.py:266 -- Not enough constraints for scalar field add more\n",
      "WARNING: 2023-10-30 15:20:28,249: _discrete_interpolator.py:735 -- No solution, s1__2 scalar field 0. Add more data.\n"
     ]
    },
    {
     "data": {
      "application/vnd.jupyter.widget-view+json": {
       "model_id": "6e38804290934d85b93b325e98b1f91c",
       "version_major": 2,
       "version_minor": 0
      },
      "text/plain": [
       "  0%|          | 0/3 [00:00<?, ?it/s]"
      ]
     },
     "metadata": {},
     "output_type": "display_data"
    },
    {
     "name": "stderr",
     "output_type": "stream",
     "text": [
      "ERROR: 2023-10-30 15:20:30,353: _geological_feature_builder.py:266 -- Not enough constraints for scalar field add more\n",
      "WARNING: 2023-10-30 15:20:30,422: _discrete_interpolator.py:735 -- No solution, s1__2 scalar field 0. Add more data.\n"
     ]
    },
    {
     "data": {
      "application/vnd.jupyter.widget-view+json": {
       "model_id": "240cce19b36f49128f5eb156d4935a40",
       "version_major": 2,
       "version_minor": 0
      },
      "text/plain": [
       "  0%|          | 0/3 [00:00<?, ?it/s]"
      ]
     },
     "metadata": {},
     "output_type": "display_data"
    },
    {
     "name": "stderr",
     "output_type": "stream",
     "text": [
      "ERROR: 2023-10-30 15:20:32,533: _geological_feature_builder.py:266 -- Not enough constraints for scalar field add more\n",
      "WARNING: 2023-10-30 15:20:32,606: _discrete_interpolator.py:735 -- No solution, s1__2 scalar field 0. Add more data.\n"
     ]
    },
    {
     "data": {
      "application/vnd.jupyter.widget-view+json": {
       "model_id": "7e4ea2601c5f4ea490beea7b74af67fb",
       "version_major": 2,
       "version_minor": 0
      },
      "text/plain": [
       "  0%|          | 0/3 [00:00<?, ?it/s]"
      ]
     },
     "metadata": {},
     "output_type": "display_data"
    },
    {
     "name": "stderr",
     "output_type": "stream",
     "text": [
      "ERROR: 2023-10-30 15:20:34,410: _geological_feature_builder.py:266 -- Not enough constraints for scalar field add more\n",
      "WARNING: 2023-10-30 15:20:34,486: _discrete_interpolator.py:735 -- No solution, s1__2 scalar field 0. Add more data.\n"
     ]
    },
    {
     "data": {
      "application/vnd.jupyter.widget-view+json": {
       "model_id": "9ccc5ef9ed21490a93cd9e6e08c65aa1",
       "version_major": 2,
       "version_minor": 0
      },
      "text/plain": [
       "  0%|          | 0/3 [00:00<?, ?it/s]"
      ]
     },
     "metadata": {},
     "output_type": "display_data"
    },
    {
     "name": "stderr",
     "output_type": "stream",
     "text": [
      "ERROR: 2023-10-30 15:20:36,597: _geological_feature_builder.py:266 -- Not enough constraints for scalar field add more\n",
      "WARNING: 2023-10-30 15:20:36,669: _discrete_interpolator.py:735 -- No solution, s1__2 scalar field 0. Add more data.\n"
     ]
    },
    {
     "data": {
      "application/vnd.jupyter.widget-view+json": {
       "model_id": "c7bf2ce0d4fb40f78815feeff47c58e3",
       "version_major": 2,
       "version_minor": 0
      },
      "text/plain": [
       "  0%|          | 0/3 [00:00<?, ?it/s]"
      ]
     },
     "metadata": {},
     "output_type": "display_data"
    },
    {
     "name": "stderr",
     "output_type": "stream",
     "text": [
      "ERROR: 2023-10-30 15:20:38,778: _geological_feature_builder.py:266 -- Not enough constraints for scalar field add more\n",
      "WARNING: 2023-10-30 15:20:38,851: _discrete_interpolator.py:735 -- No solution, s1__2 scalar field 0. Add more data.\n"
     ]
    },
    {
     "data": {
      "application/vnd.jupyter.widget-view+json": {
       "model_id": "ede06063e96e4a7b98bd7ae2b48ef316",
       "version_major": 2,
       "version_minor": 0
      },
      "text/plain": [
       "  0%|          | 0/3 [00:00<?, ?it/s]"
      ]
     },
     "metadata": {},
     "output_type": "display_data"
    },
    {
     "name": "stderr",
     "output_type": "stream",
     "text": [
      "ERROR: 2023-10-30 15:20:41,087: _geological_feature_builder.py:266 -- Not enough constraints for scalar field add more\n",
      "WARNING: 2023-10-30 15:20:41,155: _discrete_interpolator.py:735 -- No solution, s1__2 scalar field 0. Add more data.\n"
     ]
    },
    {
     "data": {
      "application/vnd.jupyter.widget-view+json": {
       "model_id": "f28f5d8a25244cabafa9a4faaff46912",
       "version_major": 2,
       "version_minor": 0
      },
      "text/plain": [
       "  0%|          | 0/3 [00:00<?, ?it/s]"
      ]
     },
     "metadata": {},
     "output_type": "display_data"
    },
    {
     "name": "stderr",
     "output_type": "stream",
     "text": [
      "ERROR: 2023-10-30 15:20:43,083: _geological_feature_builder.py:266 -- Not enough constraints for scalar field add more\n",
      "WARNING: 2023-10-30 15:20:43,156: _discrete_interpolator.py:735 -- No solution, s1__2 scalar field 0. Add more data.\n"
     ]
    },
    {
     "data": {
      "application/vnd.jupyter.widget-view+json": {
       "model_id": "dfe93c34aac24912befad9343ba7315b",
       "version_major": 2,
       "version_minor": 0
      },
      "text/plain": [
       "  0%|          | 0/3 [00:00<?, ?it/s]"
      ]
     },
     "metadata": {},
     "output_type": "display_data"
    },
    {
     "name": "stderr",
     "output_type": "stream",
     "text": [
      "ERROR: 2023-10-30 15:20:45,113: _geological_feature_builder.py:266 -- Not enough constraints for scalar field add more\n",
      "WARNING: 2023-10-30 15:20:45,187: _discrete_interpolator.py:735 -- No solution, s1__2 scalar field 0. Add more data.\n"
     ]
    },
    {
     "data": {
      "application/vnd.jupyter.widget-view+json": {
       "model_id": "a73d2a0a754b4449813cee739aeb3799",
       "version_major": 2,
       "version_minor": 0
      },
      "text/plain": [
       "  0%|          | 0/3 [00:00<?, ?it/s]"
      ]
     },
     "metadata": {},
     "output_type": "display_data"
    },
    {
     "name": "stderr",
     "output_type": "stream",
     "text": [
      "ERROR: 2023-10-30 15:20:47,421: _geological_feature_builder.py:266 -- Not enough constraints for scalar field add more\n",
      "WARNING: 2023-10-30 15:20:47,489: _discrete_interpolator.py:735 -- No solution, s1__2 scalar field 0. Add more data.\n"
     ]
    },
    {
     "data": {
      "application/vnd.jupyter.widget-view+json": {
       "model_id": "f6076a695d674294b39d4769b62546f1",
       "version_major": 2,
       "version_minor": 0
      },
      "text/plain": [
       "  0%|          | 0/3 [00:00<?, ?it/s]"
      ]
     },
     "metadata": {},
     "output_type": "display_data"
    },
    {
     "name": "stderr",
     "output_type": "stream",
     "text": [
      "ERROR: 2023-10-30 15:20:49,425: _geological_feature_builder.py:266 -- Not enough constraints for scalar field add more\n",
      "WARNING: 2023-10-30 15:20:49,490: _discrete_interpolator.py:735 -- No solution, s1__2 scalar field 0. Add more data.\n"
     ]
    },
    {
     "data": {
      "application/vnd.jupyter.widget-view+json": {
       "model_id": "791eaddff50b42bd9a822244a6da2b29",
       "version_major": 2,
       "version_minor": 0
      },
      "text/plain": [
       "  0%|          | 0/3 [00:00<?, ?it/s]"
      ]
     },
     "metadata": {},
     "output_type": "display_data"
    },
    {
     "name": "stderr",
     "output_type": "stream",
     "text": [
      "ERROR: 2023-10-30 15:20:54,441: _geological_feature_builder.py:266 -- Not enough constraints for scalar field add more\n",
      "WARNING: 2023-10-30 15:20:54,507: _discrete_interpolator.py:735 -- No solution, s1__2 scalar field 0. Add more data.\n"
     ]
    },
    {
     "data": {
      "application/vnd.jupyter.widget-view+json": {
       "model_id": "b438b63624a64685a89a443b847d4494",
       "version_major": 2,
       "version_minor": 0
      },
      "text/plain": [
       "  0%|          | 0/3 [00:00<?, ?it/s]"
      ]
     },
     "metadata": {},
     "output_type": "display_data"
    },
    {
     "name": "stderr",
     "output_type": "stream",
     "text": [
      "ERROR: 2023-10-30 15:20:56,342: _geological_feature_builder.py:266 -- Not enough constraints for scalar field add more\n",
      "WARNING: 2023-10-30 15:20:56,408: _discrete_interpolator.py:735 -- No solution, s1__2 scalar field 0. Add more data.\n"
     ]
    },
    {
     "data": {
      "application/vnd.jupyter.widget-view+json": {
       "model_id": "e613a1d088b04d3eb031d2369cfb667b",
       "version_major": 2,
       "version_minor": 0
      },
      "text/plain": [
       "  0%|          | 0/3 [00:00<?, ?it/s]"
      ]
     },
     "metadata": {},
     "output_type": "display_data"
    },
    {
     "name": "stderr",
     "output_type": "stream",
     "text": [
      "ERROR: 2023-10-30 15:20:58,577: _geological_feature_builder.py:266 -- Not enough constraints for scalar field add more\n",
      "WARNING: 2023-10-30 15:20:58,653: _discrete_interpolator.py:735 -- No solution, s1__2 scalar field 0. Add more data.\n"
     ]
    },
    {
     "data": {
      "application/vnd.jupyter.widget-view+json": {
       "model_id": "f04d2a1301384a9e8a20a61bf54b7ca2",
       "version_major": 2,
       "version_minor": 0
      },
      "text/plain": [
       "  0%|          | 0/3 [00:00<?, ?it/s]"
      ]
     },
     "metadata": {},
     "output_type": "display_data"
    },
    {
     "name": "stderr",
     "output_type": "stream",
     "text": [
      "ERROR: 2023-10-30 15:21:00,888: _geological_feature_builder.py:266 -- Not enough constraints for scalar field add more\n",
      "WARNING: 2023-10-30 15:21:00,960: _discrete_interpolator.py:735 -- No solution, s1__2 scalar field 0. Add more data.\n"
     ]
    },
    {
     "data": {
      "application/vnd.jupyter.widget-view+json": {
       "model_id": "680cca0f3b8843fdb9cac47ba0407dc2",
       "version_major": 2,
       "version_minor": 0
      },
      "text/plain": [
       "  0%|          | 0/3 [00:00<?, ?it/s]"
      ]
     },
     "metadata": {},
     "output_type": "display_data"
    },
    {
     "name": "stderr",
     "output_type": "stream",
     "text": [
      "ERROR: 2023-10-30 15:21:03,196: _geological_feature_builder.py:266 -- Not enough constraints for scalar field add more\n",
      "WARNING: 2023-10-30 15:21:03,271: _discrete_interpolator.py:735 -- No solution, s1__2 scalar field 0. Add more data.\n"
     ]
    },
    {
     "data": {
      "application/vnd.jupyter.widget-view+json": {
       "model_id": "1e973758cc7543a5945a4a3e7ffa90a4",
       "version_major": 2,
       "version_minor": 0
      },
      "text/plain": [
       "  0%|          | 0/3 [00:00<?, ?it/s]"
      ]
     },
     "metadata": {},
     "output_type": "display_data"
    },
    {
     "name": "stderr",
     "output_type": "stream",
     "text": [
      "ERROR: 2023-10-30 15:21:05,311: _geological_feature_builder.py:266 -- Not enough constraints for scalar field add more\n",
      "WARNING: 2023-10-30 15:21:05,395: _discrete_interpolator.py:735 -- No solution, s1__2 scalar field 0. Add more data.\n"
     ]
    },
    {
     "data": {
      "application/vnd.jupyter.widget-view+json": {
       "model_id": "8d93271b314b4658a532bc810db0dc78",
       "version_major": 2,
       "version_minor": 0
      },
      "text/plain": [
       "  0%|          | 0/3 [00:00<?, ?it/s]"
      ]
     },
     "metadata": {},
     "output_type": "display_data"
    },
    {
     "name": "stderr",
     "output_type": "stream",
     "text": [
      "ERROR: 2023-10-30 15:21:07,701: _geological_feature_builder.py:266 -- Not enough constraints for scalar field add more\n",
      "WARNING: 2023-10-30 15:21:07,771: _discrete_interpolator.py:735 -- No solution, s1__2 scalar field 0. Add more data.\n"
     ]
    },
    {
     "data": {
      "application/vnd.jupyter.widget-view+json": {
       "model_id": "d73e7c891e5f4a57bc824683a537399f",
       "version_major": 2,
       "version_minor": 0
      },
      "text/plain": [
       "  0%|          | 0/3 [00:00<?, ?it/s]"
      ]
     },
     "metadata": {},
     "output_type": "display_data"
    },
    {
     "name": "stderr",
     "output_type": "stream",
     "text": [
      "ERROR: 2023-10-30 15:21:09,898: _geological_feature_builder.py:266 -- Not enough constraints for scalar field add more\n",
      "WARNING: 2023-10-30 15:21:09,976: _discrete_interpolator.py:735 -- No solution, s1__2 scalar field 0. Add more data.\n"
     ]
    },
    {
     "data": {
      "application/vnd.jupyter.widget-view+json": {
       "model_id": "1d16eca072a44bb9a022c12b29e6cfd4",
       "version_major": 2,
       "version_minor": 0
      },
      "text/plain": [
       "  0%|          | 0/3 [00:00<?, ?it/s]"
      ]
     },
     "metadata": {},
     "output_type": "display_data"
    },
    {
     "name": "stderr",
     "output_type": "stream",
     "text": [
      "ERROR: 2023-10-30 15:21:12,294: _geological_feature_builder.py:266 -- Not enough constraints for scalar field add more\n",
      "WARNING: 2023-10-30 15:21:12,361: _discrete_interpolator.py:735 -- No solution, s1__2 scalar field 0. Add more data.\n"
     ]
    },
    {
     "data": {
      "application/vnd.jupyter.widget-view+json": {
       "model_id": "a57fe377699c47478ded94efa8a18be5",
       "version_major": 2,
       "version_minor": 0
      },
      "text/plain": [
       "  0%|          | 0/3 [00:00<?, ?it/s]"
      ]
     },
     "metadata": {},
     "output_type": "display_data"
    },
    {
     "name": "stderr",
     "output_type": "stream",
     "text": [
      "ERROR: 2023-10-30 15:21:15,310: _geological_feature_builder.py:266 -- Not enough constraints for scalar field add more\n",
      "WARNING: 2023-10-30 15:21:15,389: _discrete_interpolator.py:735 -- No solution, s1__2 scalar field 0. Add more data.\n"
     ]
    },
    {
     "data": {
      "application/vnd.jupyter.widget-view+json": {
       "model_id": "d892c6ed093b4417a4b60d820ebd5096",
       "version_major": 2,
       "version_minor": 0
      },
      "text/plain": [
       "  0%|          | 0/3 [00:00<?, ?it/s]"
      ]
     },
     "metadata": {},
     "output_type": "display_data"
    },
    {
     "name": "stderr",
     "output_type": "stream",
     "text": [
      "ERROR: 2023-10-30 15:21:18,142: _geological_feature_builder.py:266 -- Not enough constraints for scalar field add more\n",
      "WARNING: 2023-10-30 15:21:18,218: _discrete_interpolator.py:735 -- No solution, s1__2 scalar field 0. Add more data.\n"
     ]
    },
    {
     "data": {
      "application/vnd.jupyter.widget-view+json": {
       "model_id": "1a680246d4b14de692c8b29475bc4a72",
       "version_major": 2,
       "version_minor": 0
      },
      "text/plain": [
       "  0%|          | 0/3 [00:00<?, ?it/s]"
      ]
     },
     "metadata": {},
     "output_type": "display_data"
    },
    {
     "name": "stderr",
     "output_type": "stream",
     "text": [
      "ERROR: 2023-10-30 15:21:20,184: _geological_feature_builder.py:266 -- Not enough constraints for scalar field add more\n",
      "WARNING: 2023-10-30 15:21:20,259: _discrete_interpolator.py:735 -- No solution, s1__2 scalar field 0. Add more data.\n"
     ]
    },
    {
     "data": {
      "application/vnd.jupyter.widget-view+json": {
       "model_id": "83eedf711b1c4487ba0480858afb715d",
       "version_major": 2,
       "version_minor": 0
      },
      "text/plain": [
       "  0%|          | 0/3 [00:00<?, ?it/s]"
      ]
     },
     "metadata": {},
     "output_type": "display_data"
    },
    {
     "name": "stderr",
     "output_type": "stream",
     "text": [
      "ERROR: 2023-10-30 15:21:22,842: _geological_feature_builder.py:266 -- Not enough constraints for scalar field add more\n",
      "WARNING: 2023-10-30 15:21:22,919: _discrete_interpolator.py:735 -- No solution, s1__2 scalar field 0. Add more data.\n"
     ]
    },
    {
     "data": {
      "application/vnd.jupyter.widget-view+json": {
       "model_id": "c8f941f651e947c9a057dcace79ed37d",
       "version_major": 2,
       "version_minor": 0
      },
      "text/plain": [
       "  0%|          | 0/3 [00:00<?, ?it/s]"
      ]
     },
     "metadata": {},
     "output_type": "display_data"
    },
    {
     "name": "stderr",
     "output_type": "stream",
     "text": [
      "ERROR: 2023-10-30 15:21:25,919: _geological_feature_builder.py:266 -- Not enough constraints for scalar field add more\n",
      "WARNING: 2023-10-30 15:21:25,996: _discrete_interpolator.py:735 -- No solution, s1__2 scalar field 0. Add more data.\n"
     ]
    },
    {
     "data": {
      "application/vnd.jupyter.widget-view+json": {
       "model_id": "8c06ccf29a044e37978fbea663175d8e",
       "version_major": 2,
       "version_minor": 0
      },
      "text/plain": [
       "  0%|          | 0/3 [00:00<?, ?it/s]"
      ]
     },
     "metadata": {},
     "output_type": "display_data"
    },
    {
     "name": "stderr",
     "output_type": "stream",
     "text": [
      "ERROR: 2023-10-30 15:21:28,108: _geological_feature_builder.py:266 -- Not enough constraints for scalar field add more\n",
      "WARNING: 2023-10-30 15:21:28,188: _discrete_interpolator.py:735 -- No solution, s1__2 scalar field 0. Add more data.\n"
     ]
    },
    {
     "data": {
      "application/vnd.jupyter.widget-view+json": {
       "model_id": "413ca7eec07c4a14b47f59857691e2d3",
       "version_major": 2,
       "version_minor": 0
      },
      "text/plain": [
       "  0%|          | 0/3 [00:00<?, ?it/s]"
      ]
     },
     "metadata": {},
     "output_type": "display_data"
    },
    {
     "name": "stderr",
     "output_type": "stream",
     "text": [
      "ERROR: 2023-10-30 15:21:31,461: _geological_feature_builder.py:266 -- Not enough constraints for scalar field add more\n",
      "WARNING: 2023-10-30 15:21:31,534: _discrete_interpolator.py:735 -- No solution, s1__2 scalar field 0. Add more data.\n"
     ]
    },
    {
     "data": {
      "application/vnd.jupyter.widget-view+json": {
       "model_id": "f16cee4d88a24af2bc36ff2c00ab9c1e",
       "version_major": 2,
       "version_minor": 0
      },
      "text/plain": [
       "  0%|          | 0/3 [00:00<?, ?it/s]"
      ]
     },
     "metadata": {},
     "output_type": "display_data"
    },
    {
     "name": "stderr",
     "output_type": "stream",
     "text": [
      "ERROR: 2023-10-30 15:21:34,192: _geological_feature_builder.py:266 -- Not enough constraints for scalar field add more\n",
      "WARNING: 2023-10-30 15:21:34,267: _discrete_interpolator.py:735 -- No solution, s1__2 scalar field 0. Add more data.\n"
     ]
    },
    {
     "data": {
      "application/vnd.jupyter.widget-view+json": {
       "model_id": "f5506cdf83bd459e81cd427915d3a43a",
       "version_major": 2,
       "version_minor": 0
      },
      "text/plain": [
       "  0%|          | 0/3 [00:00<?, ?it/s]"
      ]
     },
     "metadata": {},
     "output_type": "display_data"
    },
    {
     "name": "stderr",
     "output_type": "stream",
     "text": [
      "ERROR: 2023-10-30 15:21:36,737: _geological_feature_builder.py:266 -- Not enough constraints for scalar field add more\n",
      "WARNING: 2023-10-30 15:21:36,816: _discrete_interpolator.py:735 -- No solution, s1__2 scalar field 0. Add more data.\n"
     ]
    },
    {
     "data": {
      "application/vnd.jupyter.widget-view+json": {
       "model_id": "07dacf9485db4c6b8746dd4dd8fe112b",
       "version_major": 2,
       "version_minor": 0
      },
      "text/plain": [
       "  0%|          | 0/3 [00:00<?, ?it/s]"
      ]
     },
     "metadata": {},
     "output_type": "display_data"
    },
    {
     "name": "stderr",
     "output_type": "stream",
     "text": [
      "ERROR: 2023-10-30 15:21:38,855: _geological_feature_builder.py:266 -- Not enough constraints for scalar field add more\n",
      "WARNING: 2023-10-30 15:21:38,932: _discrete_interpolator.py:735 -- No solution, s1__2 scalar field 0. Add more data.\n"
     ]
    },
    {
     "data": {
      "application/vnd.jupyter.widget-view+json": {
       "model_id": "17f356e0cb464e10ad50ac4b5ad925d0",
       "version_major": 2,
       "version_minor": 0
      },
      "text/plain": [
       "  0%|          | 0/3 [00:00<?, ?it/s]"
      ]
     },
     "metadata": {},
     "output_type": "display_data"
    },
    {
     "name": "stderr",
     "output_type": "stream",
     "text": [
      "ERROR: 2023-10-30 15:21:41,113: _geological_feature_builder.py:266 -- Not enough constraints for scalar field add more\n",
      "WARNING: 2023-10-30 15:21:41,190: _discrete_interpolator.py:735 -- No solution, s1__2 scalar field 0. Add more data.\n"
     ]
    },
    {
     "data": {
      "application/vnd.jupyter.widget-view+json": {
       "model_id": "39ecbde641d44b0c89198516ad748e96",
       "version_major": 2,
       "version_minor": 0
      },
      "text/plain": [
       "  0%|          | 0/3 [00:00<?, ?it/s]"
      ]
     },
     "metadata": {},
     "output_type": "display_data"
    },
    {
     "name": "stderr",
     "output_type": "stream",
     "text": [
      "ERROR: 2023-10-30 15:21:43,886: _geological_feature_builder.py:266 -- Not enough constraints for scalar field add more\n",
      "WARNING: 2023-10-30 15:21:43,968: _discrete_interpolator.py:735 -- No solution, s1__2 scalar field 0. Add more data.\n"
     ]
    },
    {
     "data": {
      "application/vnd.jupyter.widget-view+json": {
       "model_id": "801658e471c2406eb162d845b189df8d",
       "version_major": 2,
       "version_minor": 0
      },
      "text/plain": [
       "  0%|          | 0/3 [00:00<?, ?it/s]"
      ]
     },
     "metadata": {},
     "output_type": "display_data"
    },
    {
     "name": "stderr",
     "output_type": "stream",
     "text": [
      "ERROR: 2023-10-30 15:21:46,509: _geological_feature_builder.py:266 -- Not enough constraints for scalar field add more\n",
      "WARNING: 2023-10-30 15:21:46,576: _discrete_interpolator.py:735 -- No solution, s1__2 scalar field 0. Add more data.\n"
     ]
    },
    {
     "data": {
      "application/vnd.jupyter.widget-view+json": {
       "model_id": "2dfdae6cb0da4f958fb32a2b5ffdba87",
       "version_major": 2,
       "version_minor": 0
      },
      "text/plain": [
       "  0%|          | 0/3 [00:00<?, ?it/s]"
      ]
     },
     "metadata": {},
     "output_type": "display_data"
    },
    {
     "name": "stderr",
     "output_type": "stream",
     "text": [
      "ERROR: 2023-10-30 15:21:48,895: _geological_feature_builder.py:266 -- Not enough constraints for scalar field add more\n",
      "WARNING: 2023-10-30 15:21:48,972: _discrete_interpolator.py:735 -- No solution, s1__2 scalar field 0. Add more data.\n"
     ]
    },
    {
     "data": {
      "application/vnd.jupyter.widget-view+json": {
       "model_id": "cae10f079227402e8361a861befe3d9a",
       "version_major": 2,
       "version_minor": 0
      },
      "text/plain": [
       "  0%|          | 0/3 [00:00<?, ?it/s]"
      ]
     },
     "metadata": {},
     "output_type": "display_data"
    },
    {
     "name": "stderr",
     "output_type": "stream",
     "text": [
      "ERROR: 2023-10-30 15:21:50,874: _geological_feature_builder.py:266 -- Not enough constraints for scalar field add more\n",
      "WARNING: 2023-10-30 15:21:50,949: _discrete_interpolator.py:735 -- No solution, s1__2 scalar field 0. Add more data.\n"
     ]
    },
    {
     "data": {
      "application/vnd.jupyter.widget-view+json": {
       "model_id": "454547850e0845a2bb0ff459379e68c1",
       "version_major": 2,
       "version_minor": 0
      },
      "text/plain": [
       "  0%|          | 0/3 [00:00<?, ?it/s]"
      ]
     },
     "metadata": {},
     "output_type": "display_data"
    },
    {
     "name": "stderr",
     "output_type": "stream",
     "text": [
      "ERROR: 2023-10-30 15:21:53,369: _geological_feature_builder.py:266 -- Not enough constraints for scalar field add more\n",
      "WARNING: 2023-10-30 15:21:53,452: _discrete_interpolator.py:735 -- No solution, s1__2 scalar field 0. Add more data.\n"
     ]
    },
    {
     "data": {
      "application/vnd.jupyter.widget-view+json": {
       "model_id": "744b69c1172f4834afbe6a536f9ec949",
       "version_major": 2,
       "version_minor": 0
      },
      "text/plain": [
       "  0%|          | 0/3 [00:00<?, ?it/s]"
      ]
     },
     "metadata": {},
     "output_type": "display_data"
    },
    {
     "name": "stderr",
     "output_type": "stream",
     "text": [
      "ERROR: 2023-10-30 15:21:55,797: _geological_feature_builder.py:266 -- Not enough constraints for scalar field add more\n",
      "WARNING: 2023-10-30 15:21:55,875: _discrete_interpolator.py:735 -- No solution, s1__2 scalar field 0. Add more data.\n"
     ]
    },
    {
     "data": {
      "application/vnd.jupyter.widget-view+json": {
       "model_id": "23707d44751b423da2cb79723c1be178",
       "version_major": 2,
       "version_minor": 0
      },
      "text/plain": [
       "  0%|          | 0/3 [00:00<?, ?it/s]"
      ]
     },
     "metadata": {},
     "output_type": "display_data"
    },
    {
     "name": "stderr",
     "output_type": "stream",
     "text": [
      "ERROR: 2023-10-30 15:21:58,124: _geological_feature_builder.py:266 -- Not enough constraints for scalar field add more\n",
      "WARNING: 2023-10-30 15:21:58,200: _discrete_interpolator.py:735 -- No solution, s1__2 scalar field 0. Add more data.\n"
     ]
    },
    {
     "data": {
      "application/vnd.jupyter.widget-view+json": {
       "model_id": "66eba1e4dd38456faa57bc0f7d2e3dca",
       "version_major": 2,
       "version_minor": 0
      },
      "text/plain": [
       "  0%|          | 0/3 [00:00<?, ?it/s]"
      ]
     },
     "metadata": {},
     "output_type": "display_data"
    },
    {
     "name": "stderr",
     "output_type": "stream",
     "text": [
      "ERROR: 2023-10-30 15:22:02,233: _geological_feature_builder.py:266 -- Not enough constraints for scalar field add more\n",
      "WARNING: 2023-10-30 15:22:02,300: _discrete_interpolator.py:735 -- No solution, s1__2 scalar field 0. Add more data.\n"
     ]
    },
    {
     "data": {
      "application/vnd.jupyter.widget-view+json": {
       "model_id": "1894186a19264f9c912771e01786e93b",
       "version_major": 2,
       "version_minor": 0
      },
      "text/plain": [
       "  0%|          | 0/3 [00:00<?, ?it/s]"
      ]
     },
     "metadata": {},
     "output_type": "display_data"
    },
    {
     "name": "stderr",
     "output_type": "stream",
     "text": [
      "ERROR: 2023-10-30 15:22:04,679: _geological_feature_builder.py:266 -- Not enough constraints for scalar field add more\n",
      "WARNING: 2023-10-30 15:22:04,753: _discrete_interpolator.py:735 -- No solution, s1__2 scalar field 0. Add more data.\n"
     ]
    },
    {
     "data": {
      "application/vnd.jupyter.widget-view+json": {
       "model_id": "9d25ca330f5f403bb0898171feb4892c",
       "version_major": 2,
       "version_minor": 0
      },
      "text/plain": [
       "  0%|          | 0/3 [00:00<?, ?it/s]"
      ]
     },
     "metadata": {},
     "output_type": "display_data"
    },
    {
     "name": "stderr",
     "output_type": "stream",
     "text": [
      "ERROR: 2023-10-30 15:22:06,823: _geological_feature_builder.py:266 -- Not enough constraints for scalar field add more\n",
      "WARNING: 2023-10-30 15:22:06,887: _discrete_interpolator.py:735 -- No solution, s1__2 scalar field 0. Add more data.\n"
     ]
    },
    {
     "data": {
      "application/vnd.jupyter.widget-view+json": {
       "model_id": "1f577d7d6aa94c36802f0bcec1c6cfcd",
       "version_major": 2,
       "version_minor": 0
      },
      "text/plain": [
       "  0%|          | 0/3 [00:00<?, ?it/s]"
      ]
     },
     "metadata": {},
     "output_type": "display_data"
    },
    {
     "name": "stderr",
     "output_type": "stream",
     "text": [
      "ERROR: 2023-10-30 15:22:09,326: _geological_feature_builder.py:266 -- Not enough constraints for scalar field add more\n",
      "WARNING: 2023-10-30 15:22:09,408: _discrete_interpolator.py:735 -- No solution, s1__2 scalar field 0. Add more data.\n"
     ]
    },
    {
     "data": {
      "application/vnd.jupyter.widget-view+json": {
       "model_id": "9b11a1566dcf4331bda589419421e369",
       "version_major": 2,
       "version_minor": 0
      },
      "text/plain": [
       "  0%|          | 0/3 [00:00<?, ?it/s]"
      ]
     },
     "metadata": {},
     "output_type": "display_data"
    },
    {
     "name": "stderr",
     "output_type": "stream",
     "text": [
      "ERROR: 2023-10-30 15:22:11,974: _geological_feature_builder.py:266 -- Not enough constraints for scalar field add more\n",
      "WARNING: 2023-10-30 15:22:12,056: _discrete_interpolator.py:735 -- No solution, s1__2 scalar field 0. Add more data.\n"
     ]
    },
    {
     "data": {
      "application/vnd.jupyter.widget-view+json": {
       "model_id": "77df4cc07b8d4817a2cccc3a4bef5e3b",
       "version_major": 2,
       "version_minor": 0
      },
      "text/plain": [
       "  0%|          | 0/3 [00:00<?, ?it/s]"
      ]
     },
     "metadata": {},
     "output_type": "display_data"
    },
    {
     "name": "stderr",
     "output_type": "stream",
     "text": [
      "ERROR: 2023-10-30 15:22:15,092: _geological_feature_builder.py:266 -- Not enough constraints for scalar field add more\n",
      "WARNING: 2023-10-30 15:22:15,168: _discrete_interpolator.py:735 -- No solution, s1__2 scalar field 0. Add more data.\n"
     ]
    },
    {
     "data": {
      "application/vnd.jupyter.widget-view+json": {
       "model_id": "bef6a09b8a6f4b8682e942e570e32bae",
       "version_major": 2,
       "version_minor": 0
      },
      "text/plain": [
       "  0%|          | 0/3 [00:00<?, ?it/s]"
      ]
     },
     "metadata": {},
     "output_type": "display_data"
    },
    {
     "name": "stderr",
     "output_type": "stream",
     "text": [
      "ERROR: 2023-10-30 15:22:17,295: _geological_feature_builder.py:266 -- Not enough constraints for scalar field add more\n",
      "WARNING: 2023-10-30 15:22:17,378: _discrete_interpolator.py:735 -- No solution, s1__2 scalar field 0. Add more data.\n"
     ]
    },
    {
     "data": {
      "application/vnd.jupyter.widget-view+json": {
       "model_id": "55b3cd9aea7144c085196ac4452aeebc",
       "version_major": 2,
       "version_minor": 0
      },
      "text/plain": [
       "  0%|          | 0/3 [00:00<?, ?it/s]"
      ]
     },
     "metadata": {},
     "output_type": "display_data"
    },
    {
     "name": "stderr",
     "output_type": "stream",
     "text": [
      "ERROR: 2023-10-30 15:22:19,969: _geological_feature_builder.py:266 -- Not enough constraints for scalar field add more\n",
      "WARNING: 2023-10-30 15:22:20,043: _discrete_interpolator.py:735 -- No solution, s1__2 scalar field 0. Add more data.\n"
     ]
    },
    {
     "data": {
      "application/vnd.jupyter.widget-view+json": {
       "model_id": "c1560b523a174cbba94d93c1ec9dc4fe",
       "version_major": 2,
       "version_minor": 0
      },
      "text/plain": [
       "  0%|          | 0/3 [00:00<?, ?it/s]"
      ]
     },
     "metadata": {},
     "output_type": "display_data"
    },
    {
     "name": "stderr",
     "output_type": "stream",
     "text": [
      "ERROR: 2023-10-30 15:22:21,975: _geological_feature_builder.py:266 -- Not enough constraints for scalar field add more\n",
      "WARNING: 2023-10-30 15:22:22,046: _discrete_interpolator.py:735 -- No solution, s1__2 scalar field 0. Add more data.\n"
     ]
    },
    {
     "data": {
      "application/vnd.jupyter.widget-view+json": {
       "model_id": "5b78536f9a494fd396cbcf20989b609c",
       "version_major": 2,
       "version_minor": 0
      },
      "text/plain": [
       "  0%|          | 0/3 [00:00<?, ?it/s]"
      ]
     },
     "metadata": {},
     "output_type": "display_data"
    },
    {
     "name": "stderr",
     "output_type": "stream",
     "text": [
      "ERROR: 2023-10-30 15:22:24,150: _geological_feature_builder.py:266 -- Not enough constraints for scalar field add more\n",
      "WARNING: 2023-10-30 15:22:24,229: _discrete_interpolator.py:735 -- No solution, s1__2 scalar field 0. Add more data.\n"
     ]
    },
    {
     "data": {
      "application/vnd.jupyter.widget-view+json": {
       "model_id": "1515d34717a34d64ad7af53ca34bf4ed",
       "version_major": 2,
       "version_minor": 0
      },
      "text/plain": [
       "  0%|          | 0/3 [00:00<?, ?it/s]"
      ]
     },
     "metadata": {},
     "output_type": "display_data"
    },
    {
     "name": "stderr",
     "output_type": "stream",
     "text": [
      "ERROR: 2023-10-30 15:22:26,615: _geological_feature_builder.py:266 -- Not enough constraints for scalar field add more\n",
      "WARNING: 2023-10-30 15:22:26,696: _discrete_interpolator.py:735 -- No solution, s1__2 scalar field 0. Add more data.\n"
     ]
    },
    {
     "data": {
      "application/vnd.jupyter.widget-view+json": {
       "model_id": "d3160159a8cf430bbd44a94c8227a8ce",
       "version_major": 2,
       "version_minor": 0
      },
      "text/plain": [
       "  0%|          | 0/3 [00:00<?, ?it/s]"
      ]
     },
     "metadata": {},
     "output_type": "display_data"
    },
    {
     "name": "stderr",
     "output_type": "stream",
     "text": [
      "ERROR: 2023-10-30 15:22:28,692: _geological_feature_builder.py:266 -- Not enough constraints for scalar field add more\n",
      "WARNING: 2023-10-30 15:22:28,769: _discrete_interpolator.py:735 -- No solution, s1__2 scalar field 0. Add more data.\n"
     ]
    },
    {
     "data": {
      "application/vnd.jupyter.widget-view+json": {
       "model_id": "d8e889e43d47460084f4fadf114482f4",
       "version_major": 2,
       "version_minor": 0
      },
      "text/plain": [
       "  0%|          | 0/3 [00:00<?, ?it/s]"
      ]
     },
     "metadata": {},
     "output_type": "display_data"
    },
    {
     "name": "stderr",
     "output_type": "stream",
     "text": [
      "ERROR: 2023-10-30 15:22:30,935: _geological_feature_builder.py:266 -- Not enough constraints for scalar field add more\n",
      "WARNING: 2023-10-30 15:22:31,015: _discrete_interpolator.py:735 -- No solution, s1__2 scalar field 0. Add more data.\n"
     ]
    },
    {
     "data": {
      "application/vnd.jupyter.widget-view+json": {
       "model_id": "2a7c3b9b3e654ffc83eacef202ba6174",
       "version_major": 2,
       "version_minor": 0
      },
      "text/plain": [
       "  0%|          | 0/3 [00:00<?, ?it/s]"
      ]
     },
     "metadata": {},
     "output_type": "display_data"
    },
    {
     "name": "stderr",
     "output_type": "stream",
     "text": [
      "ERROR: 2023-10-30 15:22:33,630: _geological_feature_builder.py:266 -- Not enough constraints for scalar field add more\n",
      "WARNING: 2023-10-30 15:22:33,728: _discrete_interpolator.py:735 -- No solution, s1__2 scalar field 0. Add more data.\n"
     ]
    },
    {
     "data": {
      "application/vnd.jupyter.widget-view+json": {
       "model_id": "27306b0094664229abc23945ddb0bfea",
       "version_major": 2,
       "version_minor": 0
      },
      "text/plain": [
       "  0%|          | 0/3 [00:00<?, ?it/s]"
      ]
     },
     "metadata": {},
     "output_type": "display_data"
    },
    {
     "name": "stderr",
     "output_type": "stream",
     "text": [
      "ERROR: 2023-10-30 15:22:35,877: _geological_feature_builder.py:266 -- Not enough constraints for scalar field add more\n",
      "WARNING: 2023-10-30 15:22:35,945: _discrete_interpolator.py:735 -- No solution, s1__2 scalar field 0. Add more data.\n"
     ]
    },
    {
     "data": {
      "application/vnd.jupyter.widget-view+json": {
       "model_id": "92cd223cce47431fb0600e68014b4ad5",
       "version_major": 2,
       "version_minor": 0
      },
      "text/plain": [
       "  0%|          | 0/3 [00:00<?, ?it/s]"
      ]
     },
     "metadata": {},
     "output_type": "display_data"
    },
    {
     "name": "stderr",
     "output_type": "stream",
     "text": [
      "ERROR: 2023-10-30 15:22:37,677: _geological_feature_builder.py:266 -- Not enough constraints for scalar field add more\n",
      "WARNING: 2023-10-30 15:22:37,748: _discrete_interpolator.py:735 -- No solution, s1__2 scalar field 0. Add more data.\n"
     ]
    },
    {
     "data": {
      "application/vnd.jupyter.widget-view+json": {
       "model_id": "052bb71573f24733b5be3cc875753dfb",
       "version_major": 2,
       "version_minor": 0
      },
      "text/plain": [
       "  0%|          | 0/3 [00:00<?, ?it/s]"
      ]
     },
     "metadata": {},
     "output_type": "display_data"
    },
    {
     "name": "stderr",
     "output_type": "stream",
     "text": [
      "ERROR: 2023-10-30 15:22:39,517: _geological_feature_builder.py:266 -- Not enough constraints for scalar field add more\n",
      "WARNING: 2023-10-30 15:22:39,587: _discrete_interpolator.py:735 -- No solution, s1__2 scalar field 0. Add more data.\n"
     ]
    },
    {
     "data": {
      "application/vnd.jupyter.widget-view+json": {
       "model_id": "189be51846f940fcb27229b6b2dc0d4f",
       "version_major": 2,
       "version_minor": 0
      },
      "text/plain": [
       "  0%|          | 0/3 [00:00<?, ?it/s]"
      ]
     },
     "metadata": {},
     "output_type": "display_data"
    },
    {
     "name": "stderr",
     "output_type": "stream",
     "text": [
      "ERROR: 2023-10-30 15:22:43,959: _geological_feature_builder.py:266 -- Not enough constraints for scalar field add more\n",
      "WARNING: 2023-10-30 15:22:44,036: _discrete_interpolator.py:735 -- No solution, s1__2 scalar field 0. Add more data.\n"
     ]
    },
    {
     "data": {
      "application/vnd.jupyter.widget-view+json": {
       "model_id": "c39c4d2a3e024fa8bd5059160ddceac4",
       "version_major": 2,
       "version_minor": 0
      },
      "text/plain": [
       "  0%|          | 0/3 [00:00<?, ?it/s]"
      ]
     },
     "metadata": {},
     "output_type": "display_data"
    },
    {
     "name": "stderr",
     "output_type": "stream",
     "text": [
      "ERROR: 2023-10-30 15:22:46,164: _geological_feature_builder.py:266 -- Not enough constraints for scalar field add more\n",
      "WARNING: 2023-10-30 15:22:46,237: _discrete_interpolator.py:735 -- No solution, s1__2 scalar field 0. Add more data.\n"
     ]
    },
    {
     "data": {
      "application/vnd.jupyter.widget-view+json": {
       "model_id": "f3da16eacaa24ba1bd139d6267c5f993",
       "version_major": 2,
       "version_minor": 0
      },
      "text/plain": [
       "  0%|          | 0/3 [00:00<?, ?it/s]"
      ]
     },
     "metadata": {},
     "output_type": "display_data"
    },
    {
     "name": "stderr",
     "output_type": "stream",
     "text": [
      "ERROR: 2023-10-30 15:22:48,097: _geological_feature_builder.py:266 -- Not enough constraints for scalar field add more\n",
      "WARNING: 2023-10-30 15:22:48,172: _discrete_interpolator.py:735 -- No solution, s1__2 scalar field 0. Add more data.\n"
     ]
    },
    {
     "data": {
      "application/vnd.jupyter.widget-view+json": {
       "model_id": "b60fc10254e24fd3a11e42fe8e22ea9c",
       "version_major": 2,
       "version_minor": 0
      },
      "text/plain": [
       "  0%|          | 0/3 [00:00<?, ?it/s]"
      ]
     },
     "metadata": {},
     "output_type": "display_data"
    },
    {
     "name": "stderr",
     "output_type": "stream",
     "text": [
      "ERROR: 2023-10-30 15:22:50,081: _geological_feature_builder.py:266 -- Not enough constraints for scalar field add more\n",
      "WARNING: 2023-10-30 15:22:50,148: _discrete_interpolator.py:735 -- No solution, s1__2 scalar field 0. Add more data.\n"
     ]
    },
    {
     "data": {
      "application/vnd.jupyter.widget-view+json": {
       "model_id": "45fe708359644ce4bdd8ffe12cbb3ebc",
       "version_major": 2,
       "version_minor": 0
      },
      "text/plain": [
       "  0%|          | 0/3 [00:00<?, ?it/s]"
      ]
     },
     "metadata": {},
     "output_type": "display_data"
    },
    {
     "name": "stderr",
     "output_type": "stream",
     "text": [
      "ERROR: 2023-10-30 15:22:52,026: _geological_feature_builder.py:266 -- Not enough constraints for scalar field add more\n",
      "WARNING: 2023-10-30 15:22:52,096: _discrete_interpolator.py:735 -- No solution, s1__2 scalar field 0. Add more data.\n"
     ]
    },
    {
     "data": {
      "application/vnd.jupyter.widget-view+json": {
       "model_id": "803e409127c84546ae132f92cfb2b712",
       "version_major": 2,
       "version_minor": 0
      },
      "text/plain": [
       "  0%|          | 0/3 [00:00<?, ?it/s]"
      ]
     },
     "metadata": {},
     "output_type": "display_data"
    },
    {
     "name": "stderr",
     "output_type": "stream",
     "text": [
      "ERROR: 2023-10-30 15:22:53,895: _geological_feature_builder.py:266 -- Not enough constraints for scalar field add more\n",
      "WARNING: 2023-10-30 15:22:53,969: _discrete_interpolator.py:735 -- No solution, s1__2 scalar field 0. Add more data.\n"
     ]
    },
    {
     "data": {
      "application/vnd.jupyter.widget-view+json": {
       "model_id": "82ffeff0301a4ac1b4587f62e8968067",
       "version_major": 2,
       "version_minor": 0
      },
      "text/plain": [
       "  0%|          | 0/3 [00:00<?, ?it/s]"
      ]
     },
     "metadata": {},
     "output_type": "display_data"
    },
    {
     "name": "stderr",
     "output_type": "stream",
     "text": [
      "ERROR: 2023-10-30 15:22:55,650: _geological_feature_builder.py:266 -- Not enough constraints for scalar field add more\n",
      "WARNING: 2023-10-30 15:22:55,721: _discrete_interpolator.py:735 -- No solution, s1__2 scalar field 0. Add more data.\n"
     ]
    },
    {
     "data": {
      "application/vnd.jupyter.widget-view+json": {
       "model_id": "76a3d547aa59460aa1b4f16c289428fb",
       "version_major": 2,
       "version_minor": 0
      },
      "text/plain": [
       "  0%|          | 0/3 [00:00<?, ?it/s]"
      ]
     },
     "metadata": {},
     "output_type": "display_data"
    },
    {
     "name": "stderr",
     "output_type": "stream",
     "text": [
      "ERROR: 2023-10-30 15:22:57,579: _geological_feature_builder.py:266 -- Not enough constraints for scalar field add more\n",
      "WARNING: 2023-10-30 15:22:57,649: _discrete_interpolator.py:735 -- No solution, s1__2 scalar field 0. Add more data.\n"
     ]
    },
    {
     "data": {
      "application/vnd.jupyter.widget-view+json": {
       "model_id": "71a31fd38dce450ca9f3832ad6b7373b",
       "version_major": 2,
       "version_minor": 0
      },
      "text/plain": [
       "  0%|          | 0/3 [00:00<?, ?it/s]"
      ]
     },
     "metadata": {},
     "output_type": "display_data"
    },
    {
     "name": "stderr",
     "output_type": "stream",
     "text": [
      "ERROR: 2023-10-30 15:22:59,418: _geological_feature_builder.py:266 -- Not enough constraints for scalar field add more\n",
      "WARNING: 2023-10-30 15:22:59,484: _discrete_interpolator.py:735 -- No solution, s1__2 scalar field 0. Add more data.\n"
     ]
    },
    {
     "data": {
      "application/vnd.jupyter.widget-view+json": {
       "model_id": "8f2e288845ef4df39caa618aede1e712",
       "version_major": 2,
       "version_minor": 0
      },
      "text/plain": [
       "  0%|          | 0/3 [00:00<?, ?it/s]"
      ]
     },
     "metadata": {},
     "output_type": "display_data"
    },
    {
     "name": "stderr",
     "output_type": "stream",
     "text": [
      "ERROR: 2023-10-30 15:23:01,409: _geological_feature_builder.py:266 -- Not enough constraints for scalar field add more\n",
      "WARNING: 2023-10-30 15:23:01,474: _discrete_interpolator.py:735 -- No solution, s1__2 scalar field 0. Add more data.\n"
     ]
    },
    {
     "data": {
      "application/vnd.jupyter.widget-view+json": {
       "model_id": "f8ae4eecd79247919316bdbb747143ee",
       "version_major": 2,
       "version_minor": 0
      },
      "text/plain": [
       "  0%|          | 0/3 [00:00<?, ?it/s]"
      ]
     },
     "metadata": {},
     "output_type": "display_data"
    },
    {
     "name": "stderr",
     "output_type": "stream",
     "text": [
      "ERROR: 2023-10-30 15:23:03,093: _geological_feature_builder.py:266 -- Not enough constraints for scalar field add more\n",
      "WARNING: 2023-10-30 15:23:03,159: _discrete_interpolator.py:735 -- No solution, s1__2 scalar field 0. Add more data.\n"
     ]
    },
    {
     "data": {
      "application/vnd.jupyter.widget-view+json": {
       "model_id": "7d9049b8c48e47009aaf0c33daaa3a34",
       "version_major": 2,
       "version_minor": 0
      },
      "text/plain": [
       "  0%|          | 0/3 [00:00<?, ?it/s]"
      ]
     },
     "metadata": {},
     "output_type": "display_data"
    },
    {
     "name": "stderr",
     "output_type": "stream",
     "text": [
      "ERROR: 2023-10-30 15:23:05,109: _geological_feature_builder.py:266 -- Not enough constraints for scalar field add more\n",
      "WARNING: 2023-10-30 15:23:05,177: _discrete_interpolator.py:735 -- No solution, s1__2 scalar field 0. Add more data.\n"
     ]
    },
    {
     "data": {
      "application/vnd.jupyter.widget-view+json": {
       "model_id": "72cf40a84d364486a54c41ea756ceb34",
       "version_major": 2,
       "version_minor": 0
      },
      "text/plain": [
       "  0%|          | 0/3 [00:00<?, ?it/s]"
      ]
     },
     "metadata": {},
     "output_type": "display_data"
    },
    {
     "name": "stderr",
     "output_type": "stream",
     "text": [
      "ERROR: 2023-10-30 15:23:06,846: _geological_feature_builder.py:266 -- Not enough constraints for scalar field add more\n",
      "WARNING: 2023-10-30 15:23:06,916: _discrete_interpolator.py:735 -- No solution, s1__2 scalar field 0. Add more data.\n"
     ]
    },
    {
     "data": {
      "application/vnd.jupyter.widget-view+json": {
       "model_id": "b2e531d408a243b89e22179b9e7ea839",
       "version_major": 2,
       "version_minor": 0
      },
      "text/plain": [
       "  0%|          | 0/3 [00:00<?, ?it/s]"
      ]
     },
     "metadata": {},
     "output_type": "display_data"
    },
    {
     "name": "stderr",
     "output_type": "stream",
     "text": [
      "ERROR: 2023-10-30 15:23:08,583: _geological_feature_builder.py:266 -- Not enough constraints for scalar field add more\n",
      "WARNING: 2023-10-30 15:23:08,653: _discrete_interpolator.py:735 -- No solution, s1__2 scalar field 0. Add more data.\n"
     ]
    },
    {
     "data": {
      "application/vnd.jupyter.widget-view+json": {
       "model_id": "a5b1f0e14d434f2bb67b2decd2e98b15",
       "version_major": 2,
       "version_minor": 0
      },
      "text/plain": [
       "  0%|          | 0/3 [00:00<?, ?it/s]"
      ]
     },
     "metadata": {},
     "output_type": "display_data"
    },
    {
     "name": "stderr",
     "output_type": "stream",
     "text": [
      "ERROR: 2023-10-30 15:23:10,389: _geological_feature_builder.py:266 -- Not enough constraints for scalar field add more\n",
      "WARNING: 2023-10-30 15:23:10,456: _discrete_interpolator.py:735 -- No solution, s1__2 scalar field 0. Add more data.\n"
     ]
    },
    {
     "data": {
      "application/vnd.jupyter.widget-view+json": {
       "model_id": "f54284ff664c4c7d866343e91ea91061",
       "version_major": 2,
       "version_minor": 0
      },
      "text/plain": [
       "  0%|          | 0/3 [00:00<?, ?it/s]"
      ]
     },
     "metadata": {},
     "output_type": "display_data"
    },
    {
     "name": "stderr",
     "output_type": "stream",
     "text": [
      "ERROR: 2023-10-30 15:23:12,208: _geological_feature_builder.py:266 -- Not enough constraints for scalar field add more\n",
      "WARNING: 2023-10-30 15:23:12,275: _discrete_interpolator.py:735 -- No solution, s1__2 scalar field 0. Add more data.\n"
     ]
    },
    {
     "data": {
      "application/vnd.jupyter.widget-view+json": {
       "model_id": "2a3566fe323f4384bce2777180831766",
       "version_major": 2,
       "version_minor": 0
      },
      "text/plain": [
       "  0%|          | 0/3 [00:00<?, ?it/s]"
      ]
     },
     "metadata": {},
     "output_type": "display_data"
    },
    {
     "name": "stderr",
     "output_type": "stream",
     "text": [
      "ERROR: 2023-10-30 15:23:15,867: _geological_feature_builder.py:266 -- Not enough constraints for scalar field add more\n",
      "WARNING: 2023-10-30 15:23:15,945: _discrete_interpolator.py:735 -- No solution, s1__2 scalar field 0. Add more data.\n"
     ]
    },
    {
     "data": {
      "application/vnd.jupyter.widget-view+json": {
       "model_id": "53d7c3cf392e4e3c968f26f318ad0067",
       "version_major": 2,
       "version_minor": 0
      },
      "text/plain": [
       "  0%|          | 0/3 [00:00<?, ?it/s]"
      ]
     },
     "metadata": {},
     "output_type": "display_data"
    },
    {
     "name": "stderr",
     "output_type": "stream",
     "text": [
      "ERROR: 2023-10-30 15:23:18,086: _geological_feature_builder.py:266 -- Not enough constraints for scalar field add more\n",
      "WARNING: 2023-10-30 15:23:18,170: _discrete_interpolator.py:735 -- No solution, s1__2 scalar field 0. Add more data.\n"
     ]
    },
    {
     "data": {
      "application/vnd.jupyter.widget-view+json": {
       "model_id": "c7d8586de7b1448581a6ea58fac2a33e",
       "version_major": 2,
       "version_minor": 0
      },
      "text/plain": [
       "  0%|          | 0/3 [00:00<?, ?it/s]"
      ]
     },
     "metadata": {},
     "output_type": "display_data"
    },
    {
     "name": "stderr",
     "output_type": "stream",
     "text": [
      "ERROR: 2023-10-30 15:23:20,509: _geological_feature_builder.py:266 -- Not enough constraints for scalar field add more\n",
      "WARNING: 2023-10-30 15:23:20,584: _discrete_interpolator.py:735 -- No solution, s1__2 scalar field 0. Add more data.\n"
     ]
    },
    {
     "data": {
      "application/vnd.jupyter.widget-view+json": {
       "model_id": "2fd104a36b7e4a5eb1f954f41db3b536",
       "version_major": 2,
       "version_minor": 0
      },
      "text/plain": [
       "  0%|          | 0/3 [00:00<?, ?it/s]"
      ]
     },
     "metadata": {},
     "output_type": "display_data"
    },
    {
     "name": "stderr",
     "output_type": "stream",
     "text": [
      "ERROR: 2023-10-30 15:23:22,831: _geological_feature_builder.py:266 -- Not enough constraints for scalar field add more\n",
      "WARNING: 2023-10-30 15:23:22,912: _discrete_interpolator.py:735 -- No solution, s1__2 scalar field 0. Add more data.\n"
     ]
    },
    {
     "data": {
      "application/vnd.jupyter.widget-view+json": {
       "model_id": "329f274b2db14b3f8145b2445cd625aa",
       "version_major": 2,
       "version_minor": 0
      },
      "text/plain": [
       "  0%|          | 0/3 [00:00<?, ?it/s]"
      ]
     },
     "metadata": {},
     "output_type": "display_data"
    },
    {
     "name": "stderr",
     "output_type": "stream",
     "text": [
      "ERROR: 2023-10-30 15:23:25,059: _geological_feature_builder.py:266 -- Not enough constraints for scalar field add more\n",
      "WARNING: 2023-10-30 15:23:25,131: _discrete_interpolator.py:735 -- No solution, s1__2 scalar field 0. Add more data.\n"
     ]
    },
    {
     "data": {
      "application/vnd.jupyter.widget-view+json": {
       "model_id": "8a24c1ecaffd48ed938b8783972f3817",
       "version_major": 2,
       "version_minor": 0
      },
      "text/plain": [
       "  0%|          | 0/3 [00:00<?, ?it/s]"
      ]
     },
     "metadata": {},
     "output_type": "display_data"
    },
    {
     "name": "stderr",
     "output_type": "stream",
     "text": [
      "ERROR: 2023-10-30 15:23:27,185: _geological_feature_builder.py:266 -- Not enough constraints for scalar field add more\n",
      "WARNING: 2023-10-30 15:23:27,257: _discrete_interpolator.py:735 -- No solution, s1__2 scalar field 0. Add more data.\n"
     ]
    },
    {
     "data": {
      "application/vnd.jupyter.widget-view+json": {
       "model_id": "88490daf72294a338832e40a545f7058",
       "version_major": 2,
       "version_minor": 0
      },
      "text/plain": [
       "  0%|          | 0/3 [00:00<?, ?it/s]"
      ]
     },
     "metadata": {},
     "output_type": "display_data"
    },
    {
     "name": "stderr",
     "output_type": "stream",
     "text": [
      "ERROR: 2023-10-30 15:23:29,637: _geological_feature_builder.py:266 -- Not enough constraints for scalar field add more\n",
      "WARNING: 2023-10-30 15:23:29,715: _discrete_interpolator.py:735 -- No solution, s1__2 scalar field 0. Add more data.\n"
     ]
    },
    {
     "data": {
      "application/vnd.jupyter.widget-view+json": {
       "model_id": "e46c4c83b3134857b3b7f24b708b4490",
       "version_major": 2,
       "version_minor": 0
      },
      "text/plain": [
       "  0%|          | 0/3 [00:00<?, ?it/s]"
      ]
     },
     "metadata": {},
     "output_type": "display_data"
    },
    {
     "name": "stderr",
     "output_type": "stream",
     "text": [
      "ERROR: 2023-10-30 15:23:31,809: _geological_feature_builder.py:266 -- Not enough constraints for scalar field add more\n",
      "WARNING: 2023-10-30 15:23:31,892: _discrete_interpolator.py:735 -- No solution, s1__2 scalar field 0. Add more data.\n"
     ]
    },
    {
     "data": {
      "application/vnd.jupyter.widget-view+json": {
       "model_id": "e7dda7de9a2d44d494e55af3ddd44099",
       "version_major": 2,
       "version_minor": 0
      },
      "text/plain": [
       "  0%|          | 0/3 [00:00<?, ?it/s]"
      ]
     },
     "metadata": {},
     "output_type": "display_data"
    },
    {
     "name": "stderr",
     "output_type": "stream",
     "text": [
      "ERROR: 2023-10-30 15:23:33,968: _geological_feature_builder.py:266 -- Not enough constraints for scalar field add more\n",
      "WARNING: 2023-10-30 15:23:34,041: _discrete_interpolator.py:735 -- No solution, s1__2 scalar field 0. Add more data.\n"
     ]
    },
    {
     "data": {
      "application/vnd.jupyter.widget-view+json": {
       "model_id": "876351c557024868a14b766ae4dcf26f",
       "version_major": 2,
       "version_minor": 0
      },
      "text/plain": [
       "  0%|          | 0/3 [00:00<?, ?it/s]"
      ]
     },
     "metadata": {},
     "output_type": "display_data"
    },
    {
     "name": "stderr",
     "output_type": "stream",
     "text": [
      "ERROR: 2023-10-30 15:23:36,822: _geological_feature_builder.py:266 -- Not enough constraints for scalar field add more\n",
      "WARNING: 2023-10-30 15:23:36,898: _discrete_interpolator.py:735 -- No solution, s1__2 scalar field 0. Add more data.\n"
     ]
    },
    {
     "data": {
      "application/vnd.jupyter.widget-view+json": {
       "model_id": "eff34e6551d9493ebec87271e7c98702",
       "version_major": 2,
       "version_minor": 0
      },
      "text/plain": [
       "  0%|          | 0/3 [00:00<?, ?it/s]"
      ]
     },
     "metadata": {},
     "output_type": "display_data"
    },
    {
     "name": "stderr",
     "output_type": "stream",
     "text": [
      "ERROR: 2023-10-30 15:23:38,736: _geological_feature_builder.py:266 -- Not enough constraints for scalar field add more\n",
      "WARNING: 2023-10-30 15:23:38,809: _discrete_interpolator.py:735 -- No solution, s1__2 scalar field 0. Add more data.\n"
     ]
    },
    {
     "data": {
      "application/vnd.jupyter.widget-view+json": {
       "model_id": "81802a933f48493ab94319b268490497",
       "version_major": 2,
       "version_minor": 0
      },
      "text/plain": [
       "  0%|          | 0/3 [00:00<?, ?it/s]"
      ]
     },
     "metadata": {},
     "output_type": "display_data"
    },
    {
     "name": "stderr",
     "output_type": "stream",
     "text": [
      "ERROR: 2023-10-30 15:23:40,504: _geological_feature_builder.py:266 -- Not enough constraints for scalar field add more\n",
      "WARNING: 2023-10-30 15:23:40,570: _discrete_interpolator.py:735 -- No solution, s1__2 scalar field 0. Add more data.\n"
     ]
    },
    {
     "data": {
      "application/vnd.jupyter.widget-view+json": {
       "model_id": "7dec5ee34a82440d842930bd641f294c",
       "version_major": 2,
       "version_minor": 0
      },
      "text/plain": [
       "  0%|          | 0/3 [00:00<?, ?it/s]"
      ]
     },
     "metadata": {},
     "output_type": "display_data"
    },
    {
     "name": "stderr",
     "output_type": "stream",
     "text": [
      "ERROR: 2023-10-30 15:23:42,247: _geological_feature_builder.py:266 -- Not enough constraints for scalar field add more\n",
      "WARNING: 2023-10-30 15:23:42,311: _discrete_interpolator.py:735 -- No solution, s1__2 scalar field 0. Add more data.\n"
     ]
    },
    {
     "data": {
      "application/vnd.jupyter.widget-view+json": {
       "model_id": "b305000097aa43b185a57c508ac03f84",
       "version_major": 2,
       "version_minor": 0
      },
      "text/plain": [
       "  0%|          | 0/3 [00:00<?, ?it/s]"
      ]
     },
     "metadata": {},
     "output_type": "display_data"
    },
    {
     "name": "stderr",
     "output_type": "stream",
     "text": [
      "ERROR: 2023-10-30 15:23:44,252: _geological_feature_builder.py:266 -- Not enough constraints for scalar field add more\n",
      "WARNING: 2023-10-30 15:23:44,321: _discrete_interpolator.py:735 -- No solution, s1__2 scalar field 0. Add more data.\n"
     ]
    },
    {
     "data": {
      "application/vnd.jupyter.widget-view+json": {
       "model_id": "e24efc555b1e4bbc889e6ef2600bff24",
       "version_major": 2,
       "version_minor": 0
      },
      "text/plain": [
       "  0%|          | 0/3 [00:00<?, ?it/s]"
      ]
     },
     "metadata": {},
     "output_type": "display_data"
    },
    {
     "name": "stderr",
     "output_type": "stream",
     "text": [
      "ERROR: 2023-10-30 15:23:46,172: _geological_feature_builder.py:266 -- Not enough constraints for scalar field add more\n",
      "WARNING: 2023-10-30 15:23:46,236: _discrete_interpolator.py:735 -- No solution, s1__2 scalar field 0. Add more data.\n"
     ]
    },
    {
     "data": {
      "application/vnd.jupyter.widget-view+json": {
       "model_id": "4a72a3334732403cac486277e41d6b12",
       "version_major": 2,
       "version_minor": 0
      },
      "text/plain": [
       "  0%|          | 0/3 [00:00<?, ?it/s]"
      ]
     },
     "metadata": {},
     "output_type": "display_data"
    },
    {
     "name": "stderr",
     "output_type": "stream",
     "text": [
      "ERROR: 2023-10-30 15:23:47,876: _geological_feature_builder.py:266 -- Not enough constraints for scalar field add more\n",
      "WARNING: 2023-10-30 15:23:47,945: _discrete_interpolator.py:735 -- No solution, s1__2 scalar field 0. Add more data.\n"
     ]
    },
    {
     "data": {
      "application/vnd.jupyter.widget-view+json": {
       "model_id": "bdf6fb4f59034cb5a3503647b54aa44a",
       "version_major": 2,
       "version_minor": 0
      },
      "text/plain": [
       "  0%|          | 0/3 [00:00<?, ?it/s]"
      ]
     },
     "metadata": {},
     "output_type": "display_data"
    },
    {
     "name": "stderr",
     "output_type": "stream",
     "text": [
      "ERROR: 2023-10-30 15:23:50,877: _geological_feature_builder.py:266 -- Not enough constraints for scalar field add more\n",
      "WARNING: 2023-10-30 15:23:50,949: _discrete_interpolator.py:735 -- No solution, s1__2 scalar field 0. Add more data.\n"
     ]
    },
    {
     "data": {
      "application/vnd.jupyter.widget-view+json": {
       "model_id": "c7cbefdf13454508b0676cc3679c402f",
       "version_major": 2,
       "version_minor": 0
      },
      "text/plain": [
       "  0%|          | 0/3 [00:00<?, ?it/s]"
      ]
     },
     "metadata": {},
     "output_type": "display_data"
    },
    {
     "name": "stderr",
     "output_type": "stream",
     "text": [
      "ERROR: 2023-10-30 15:23:53,054: _geological_feature_builder.py:266 -- Not enough constraints for scalar field add more\n",
      "WARNING: 2023-10-30 15:23:53,124: _discrete_interpolator.py:735 -- No solution, s1__2 scalar field 0. Add more data.\n"
     ]
    },
    {
     "data": {
      "application/vnd.jupyter.widget-view+json": {
       "model_id": "5d5e9fea543e4549a920f910dafc0022",
       "version_major": 2,
       "version_minor": 0
      },
      "text/plain": [
       "  0%|          | 0/3 [00:00<?, ?it/s]"
      ]
     },
     "metadata": {},
     "output_type": "display_data"
    },
    {
     "name": "stderr",
     "output_type": "stream",
     "text": [
      "ERROR: 2023-10-30 15:23:55,009: _geological_feature_builder.py:266 -- Not enough constraints for scalar field add more\n",
      "WARNING: 2023-10-30 15:23:55,072: _discrete_interpolator.py:735 -- No solution, s1__2 scalar field 0. Add more data.\n"
     ]
    },
    {
     "data": {
      "application/vnd.jupyter.widget-view+json": {
       "model_id": "7a19b57bdc224bc090dc7bcf0826b8ef",
       "version_major": 2,
       "version_minor": 0
      },
      "text/plain": [
       "  0%|          | 0/3 [00:00<?, ?it/s]"
      ]
     },
     "metadata": {},
     "output_type": "display_data"
    },
    {
     "name": "stderr",
     "output_type": "stream",
     "text": [
      "ERROR: 2023-10-30 15:23:56,990: _geological_feature_builder.py:266 -- Not enough constraints for scalar field add more\n",
      "WARNING: 2023-10-30 15:23:57,062: _discrete_interpolator.py:735 -- No solution, s1__2 scalar field 0. Add more data.\n"
     ]
    },
    {
     "data": {
      "application/vnd.jupyter.widget-view+json": {
       "model_id": "65b571ce82bb4cd28f4315500cfadd73",
       "version_major": 2,
       "version_minor": 0
      },
      "text/plain": [
       "  0%|          | 0/3 [00:00<?, ?it/s]"
      ]
     },
     "metadata": {},
     "output_type": "display_data"
    },
    {
     "name": "stderr",
     "output_type": "stream",
     "text": [
      "ERROR: 2023-10-30 15:23:59,082: _geological_feature_builder.py:266 -- Not enough constraints for scalar field add more\n",
      "WARNING: 2023-10-30 15:23:59,157: _discrete_interpolator.py:735 -- No solution, s1__2 scalar field 0. Add more data.\n"
     ]
    },
    {
     "data": {
      "application/vnd.jupyter.widget-view+json": {
       "model_id": "d8c67786d055404fbb425abbcf116d70",
       "version_major": 2,
       "version_minor": 0
      },
      "text/plain": [
       "  0%|          | 0/3 [00:00<?, ?it/s]"
      ]
     },
     "metadata": {},
     "output_type": "display_data"
    },
    {
     "name": "stderr",
     "output_type": "stream",
     "text": [
      "ERROR: 2023-10-30 15:24:00,980: _geological_feature_builder.py:266 -- Not enough constraints for scalar field add more\n",
      "WARNING: 2023-10-30 15:24:01,054: _discrete_interpolator.py:735 -- No solution, s1__2 scalar field 0. Add more data.\n"
     ]
    },
    {
     "data": {
      "application/vnd.jupyter.widget-view+json": {
       "model_id": "c204997e0f2c4194b4c1768f17dd3f35",
       "version_major": 2,
       "version_minor": 0
      },
      "text/plain": [
       "  0%|          | 0/3 [00:00<?, ?it/s]"
      ]
     },
     "metadata": {},
     "output_type": "display_data"
    },
    {
     "name": "stderr",
     "output_type": "stream",
     "text": [
      "ERROR: 2023-10-30 15:24:02,826: _geological_feature_builder.py:266 -- Not enough constraints for scalar field add more\n",
      "WARNING: 2023-10-30 15:24:02,905: _discrete_interpolator.py:735 -- No solution, s1__2 scalar field 0. Add more data.\n"
     ]
    },
    {
     "data": {
      "application/vnd.jupyter.widget-view+json": {
       "model_id": "8b567ec8801446819f5877a8bde1966f",
       "version_major": 2,
       "version_minor": 0
      },
      "text/plain": [
       "  0%|          | 0/3 [00:00<?, ?it/s]"
      ]
     },
     "metadata": {},
     "output_type": "display_data"
    },
    {
     "name": "stderr",
     "output_type": "stream",
     "text": [
      "ERROR: 2023-10-30 15:24:05,980: _geological_feature_builder.py:266 -- Not enough constraints for scalar field add more\n",
      "WARNING: 2023-10-30 15:24:06,051: _discrete_interpolator.py:735 -- No solution, s1__2 scalar field 0. Add more data.\n"
     ]
    },
    {
     "data": {
      "application/vnd.jupyter.widget-view+json": {
       "model_id": "6ac46ae8dde34e4e8c1f671103384f33",
       "version_major": 2,
       "version_minor": 0
      },
      "text/plain": [
       "  0%|          | 0/3 [00:00<?, ?it/s]"
      ]
     },
     "metadata": {},
     "output_type": "display_data"
    },
    {
     "name": "stderr",
     "output_type": "stream",
     "text": [
      "ERROR: 2023-10-30 15:24:08,039: _geological_feature_builder.py:266 -- Not enough constraints for scalar field add more\n",
      "WARNING: 2023-10-30 15:24:08,110: _discrete_interpolator.py:735 -- No solution, s1__2 scalar field 0. Add more data.\n"
     ]
    },
    {
     "data": {
      "application/vnd.jupyter.widget-view+json": {
       "model_id": "af5ae307ae74492ebdf704356c225e0a",
       "version_major": 2,
       "version_minor": 0
      },
      "text/plain": [
       "  0%|          | 0/3 [00:00<?, ?it/s]"
      ]
     },
     "metadata": {},
     "output_type": "display_data"
    },
    {
     "name": "stderr",
     "output_type": "stream",
     "text": [
      "ERROR: 2023-10-30 15:24:09,829: _geological_feature_builder.py:266 -- Not enough constraints for scalar field add more\n",
      "WARNING: 2023-10-30 15:24:09,900: _discrete_interpolator.py:735 -- No solution, s1__2 scalar field 0. Add more data.\n"
     ]
    },
    {
     "data": {
      "application/vnd.jupyter.widget-view+json": {
       "model_id": "ad9b962d65d94208a7ffea7a59dba91c",
       "version_major": 2,
       "version_minor": 0
      },
      "text/plain": [
       "  0%|          | 0/3 [00:00<?, ?it/s]"
      ]
     },
     "metadata": {},
     "output_type": "display_data"
    },
    {
     "name": "stderr",
     "output_type": "stream",
     "text": [
      "ERROR: 2023-10-30 15:24:11,979: _geological_feature_builder.py:266 -- Not enough constraints for scalar field add more\n",
      "WARNING: 2023-10-30 15:24:12,050: _discrete_interpolator.py:735 -- No solution, s1__2 scalar field 0. Add more data.\n"
     ]
    },
    {
     "data": {
      "application/vnd.jupyter.widget-view+json": {
       "model_id": "2ccfc72ca56f41528148a8ba20f80a8c",
       "version_major": 2,
       "version_minor": 0
      },
      "text/plain": [
       "  0%|          | 0/3 [00:00<?, ?it/s]"
      ]
     },
     "metadata": {},
     "output_type": "display_data"
    },
    {
     "name": "stderr",
     "output_type": "stream",
     "text": [
      "ERROR: 2023-10-30 15:24:13,809: _geological_feature_builder.py:266 -- Not enough constraints for scalar field add more\n",
      "WARNING: 2023-10-30 15:24:13,880: _discrete_interpolator.py:735 -- No solution, s1__2 scalar field 0. Add more data.\n"
     ]
    },
    {
     "data": {
      "application/vnd.jupyter.widget-view+json": {
       "model_id": "132d3c3c2d8047228fddc6c7e227807f",
       "version_major": 2,
       "version_minor": 0
      },
      "text/plain": [
       "  0%|          | 0/3 [00:00<?, ?it/s]"
      ]
     },
     "metadata": {},
     "output_type": "display_data"
    },
    {
     "name": "stderr",
     "output_type": "stream",
     "text": [
      "ERROR: 2023-10-30 15:24:15,901: _geological_feature_builder.py:266 -- Not enough constraints for scalar field add more\n",
      "WARNING: 2023-10-30 15:24:15,971: _discrete_interpolator.py:735 -- No solution, s1__2 scalar field 0. Add more data.\n"
     ]
    },
    {
     "data": {
      "application/vnd.jupyter.widget-view+json": {
       "model_id": "bde90b7a76ad460c8ffe0702f986a7a8",
       "version_major": 2,
       "version_minor": 0
      },
      "text/plain": [
       "  0%|          | 0/3 [00:00<?, ?it/s]"
      ]
     },
     "metadata": {},
     "output_type": "display_data"
    },
    {
     "name": "stderr",
     "output_type": "stream",
     "text": [
      "ERROR: 2023-10-30 15:24:18,035: _geological_feature_builder.py:266 -- Not enough constraints for scalar field add more\n",
      "WARNING: 2023-10-30 15:24:18,112: _discrete_interpolator.py:735 -- No solution, s1__2 scalar field 0. Add more data.\n"
     ]
    },
    {
     "data": {
      "application/vnd.jupyter.widget-view+json": {
       "model_id": "317b5c28cba64c4fa33c19c10f6674c5",
       "version_major": 2,
       "version_minor": 0
      },
      "text/plain": [
       "  0%|          | 0/3 [00:00<?, ?it/s]"
      ]
     },
     "metadata": {},
     "output_type": "display_data"
    },
    {
     "name": "stderr",
     "output_type": "stream",
     "text": [
      "ERROR: 2023-10-30 15:24:20,238: _geological_feature_builder.py:266 -- Not enough constraints for scalar field add more\n",
      "WARNING: 2023-10-30 15:24:20,321: _discrete_interpolator.py:735 -- No solution, s1__2 scalar field 0. Add more data.\n"
     ]
    },
    {
     "data": {
      "application/vnd.jupyter.widget-view+json": {
       "model_id": "0ffcafcc40644c90ac5fd032e712e064",
       "version_major": 2,
       "version_minor": 0
      },
      "text/plain": [
       "  0%|          | 0/3 [00:00<?, ?it/s]"
      ]
     },
     "metadata": {},
     "output_type": "display_data"
    },
    {
     "name": "stderr",
     "output_type": "stream",
     "text": [
      "ERROR: 2023-10-30 15:24:22,659: _geological_feature_builder.py:266 -- Not enough constraints for scalar field add more\n",
      "WARNING: 2023-10-30 15:24:22,735: _discrete_interpolator.py:735 -- No solution, s1__2 scalar field 0. Add more data.\n"
     ]
    },
    {
     "data": {
      "application/vnd.jupyter.widget-view+json": {
       "model_id": "8379c3c053924e42be736aa041efb0ec",
       "version_major": 2,
       "version_minor": 0
      },
      "text/plain": [
       "  0%|          | 0/3 [00:00<?, ?it/s]"
      ]
     },
     "metadata": {},
     "output_type": "display_data"
    },
    {
     "name": "stderr",
     "output_type": "stream",
     "text": [
      "ERROR: 2023-10-30 15:24:25,152: _geological_feature_builder.py:266 -- Not enough constraints for scalar field add more\n",
      "WARNING: 2023-10-30 15:24:25,234: _discrete_interpolator.py:735 -- No solution, s1__2 scalar field 0. Add more data.\n"
     ]
    },
    {
     "data": {
      "application/vnd.jupyter.widget-view+json": {
       "model_id": "b54dd136221546dba9a0a2976087ba7e",
       "version_major": 2,
       "version_minor": 0
      },
      "text/plain": [
       "  0%|          | 0/3 [00:00<?, ?it/s]"
      ]
     },
     "metadata": {},
     "output_type": "display_data"
    },
    {
     "name": "stderr",
     "output_type": "stream",
     "text": [
      "ERROR: 2023-10-30 15:24:27,472: _geological_feature_builder.py:266 -- Not enough constraints for scalar field add more\n",
      "WARNING: 2023-10-30 15:24:27,542: _discrete_interpolator.py:735 -- No solution, s1__2 scalar field 0. Add more data.\n"
     ]
    },
    {
     "data": {
      "application/vnd.jupyter.widget-view+json": {
       "model_id": "77ed10ee299849b18dd68ced83479ff9",
       "version_major": 2,
       "version_minor": 0
      },
      "text/plain": [
       "  0%|          | 0/3 [00:00<?, ?it/s]"
      ]
     },
     "metadata": {},
     "output_type": "display_data"
    },
    {
     "name": "stderr",
     "output_type": "stream",
     "text": [
      "ERROR: 2023-10-30 15:24:29,567: _geological_feature_builder.py:266 -- Not enough constraints for scalar field add more\n",
      "WARNING: 2023-10-30 15:24:29,645: _discrete_interpolator.py:735 -- No solution, s1__2 scalar field 0. Add more data.\n"
     ]
    },
    {
     "data": {
      "application/vnd.jupyter.widget-view+json": {
       "model_id": "9b0e31ad3f5f427bb30e183b9821282e",
       "version_major": 2,
       "version_minor": 0
      },
      "text/plain": [
       "  0%|          | 0/3 [00:00<?, ?it/s]"
      ]
     },
     "metadata": {},
     "output_type": "display_data"
    },
    {
     "name": "stderr",
     "output_type": "stream",
     "text": [
      "ERROR: 2023-10-30 15:24:31,860: _geological_feature_builder.py:266 -- Not enough constraints for scalar field add more\n",
      "WARNING: 2023-10-30 15:24:31,928: _discrete_interpolator.py:735 -- No solution, s1__2 scalar field 0. Add more data.\n"
     ]
    },
    {
     "data": {
      "application/vnd.jupyter.widget-view+json": {
       "model_id": "33cf4feaf3204ee0b7ddb0945a8c8a9b",
       "version_major": 2,
       "version_minor": 0
      },
      "text/plain": [
       "  0%|          | 0/3 [00:00<?, ?it/s]"
      ]
     },
     "metadata": {},
     "output_type": "display_data"
    },
    {
     "name": "stderr",
     "output_type": "stream",
     "text": [
      "ERROR: 2023-10-30 15:24:33,787: _geological_feature_builder.py:266 -- Not enough constraints for scalar field add more\n",
      "WARNING: 2023-10-30 15:24:33,859: _discrete_interpolator.py:735 -- No solution, s1__2 scalar field 0. Add more data.\n"
     ]
    },
    {
     "data": {
      "application/vnd.jupyter.widget-view+json": {
       "model_id": "ede7edd0bbde4432aec40365bace8795",
       "version_major": 2,
       "version_minor": 0
      },
      "text/plain": [
       "  0%|          | 0/3 [00:00<?, ?it/s]"
      ]
     },
     "metadata": {},
     "output_type": "display_data"
    },
    {
     "name": "stderr",
     "output_type": "stream",
     "text": [
      "ERROR: 2023-10-30 15:24:35,659: _geological_feature_builder.py:266 -- Not enough constraints for scalar field add more\n",
      "WARNING: 2023-10-30 15:24:35,735: _discrete_interpolator.py:735 -- No solution, s1__2 scalar field 0. Add more data.\n"
     ]
    },
    {
     "data": {
      "application/vnd.jupyter.widget-view+json": {
       "model_id": "ab404a15bbf848bb86900824811619f2",
       "version_major": 2,
       "version_minor": 0
      },
      "text/plain": [
       "  0%|          | 0/3 [00:00<?, ?it/s]"
      ]
     },
     "metadata": {},
     "output_type": "display_data"
    },
    {
     "name": "stderr",
     "output_type": "stream",
     "text": [
      "ERROR: 2023-10-30 15:24:38,013: _geological_feature_builder.py:266 -- Not enough constraints for scalar field add more\n",
      "WARNING: 2023-10-30 15:24:38,094: _discrete_interpolator.py:735 -- No solution, s1__2 scalar field 0. Add more data.\n"
     ]
    },
    {
     "data": {
      "application/vnd.jupyter.widget-view+json": {
       "model_id": "c9dbb3f720584aea9b8ee546428996c4",
       "version_major": 2,
       "version_minor": 0
      },
      "text/plain": [
       "  0%|          | 0/3 [00:00<?, ?it/s]"
      ]
     },
     "metadata": {},
     "output_type": "display_data"
    },
    {
     "name": "stderr",
     "output_type": "stream",
     "text": [
      "ERROR: 2023-10-30 15:24:40,457: _geological_feature_builder.py:266 -- Not enough constraints for scalar field add more\n",
      "WARNING: 2023-10-30 15:24:40,532: _discrete_interpolator.py:735 -- No solution, s1__2 scalar field 0. Add more data.\n"
     ]
    },
    {
     "data": {
      "application/vnd.jupyter.widget-view+json": {
       "model_id": "710c6ee20d7949d6b274af692271122d",
       "version_major": 2,
       "version_minor": 0
      },
      "text/plain": [
       "  0%|          | 0/3 [00:00<?, ?it/s]"
      ]
     },
     "metadata": {},
     "output_type": "display_data"
    },
    {
     "name": "stderr",
     "output_type": "stream",
     "text": [
      "ERROR: 2023-10-30 15:24:42,463: _geological_feature_builder.py:266 -- Not enough constraints for scalar field add more\n",
      "WARNING: 2023-10-30 15:24:42,542: _discrete_interpolator.py:735 -- No solution, s1__2 scalar field 0. Add more data.\n"
     ]
    },
    {
     "data": {
      "application/vnd.jupyter.widget-view+json": {
       "model_id": "d1d86d775bd740f281553ac4994fd6f7",
       "version_major": 2,
       "version_minor": 0
      },
      "text/plain": [
       "  0%|          | 0/3 [00:00<?, ?it/s]"
      ]
     },
     "metadata": {},
     "output_type": "display_data"
    },
    {
     "name": "stderr",
     "output_type": "stream",
     "text": [
      "ERROR: 2023-10-30 15:24:46,212: _geological_feature_builder.py:266 -- Not enough constraints for scalar field add more\n",
      "WARNING: 2023-10-30 15:24:46,285: _discrete_interpolator.py:735 -- No solution, s1__2 scalar field 0. Add more data.\n"
     ]
    },
    {
     "data": {
      "application/vnd.jupyter.widget-view+json": {
       "model_id": "1363959183d9430e97139010482efcba",
       "version_major": 2,
       "version_minor": 0
      },
      "text/plain": [
       "  0%|          | 0/3 [00:00<?, ?it/s]"
      ]
     },
     "metadata": {},
     "output_type": "display_data"
    },
    {
     "name": "stderr",
     "output_type": "stream",
     "text": [
      "ERROR: 2023-10-30 15:24:48,078: _geological_feature_builder.py:266 -- Not enough constraints for scalar field add more\n",
      "WARNING: 2023-10-30 15:24:48,146: _discrete_interpolator.py:735 -- No solution, s1__2 scalar field 0. Add more data.\n"
     ]
    },
    {
     "data": {
      "application/vnd.jupyter.widget-view+json": {
       "model_id": "dcfdf50c6e77474cbaa8c05b2ecde488",
       "version_major": 2,
       "version_minor": 0
      },
      "text/plain": [
       "  0%|          | 0/3 [00:00<?, ?it/s]"
      ]
     },
     "metadata": {},
     "output_type": "display_data"
    },
    {
     "name": "stderr",
     "output_type": "stream",
     "text": [
      "ERROR: 2023-10-30 15:24:49,819: _geological_feature_builder.py:266 -- Not enough constraints for scalar field add more\n",
      "WARNING: 2023-10-30 15:24:49,887: _discrete_interpolator.py:735 -- No solution, s1__2 scalar field 0. Add more data.\n"
     ]
    },
    {
     "data": {
      "application/vnd.jupyter.widget-view+json": {
       "model_id": "afaaf8362c3f4d8391070394f2d06f6d",
       "version_major": 2,
       "version_minor": 0
      },
      "text/plain": [
       "  0%|          | 0/3 [00:00<?, ?it/s]"
      ]
     },
     "metadata": {},
     "output_type": "display_data"
    },
    {
     "name": "stderr",
     "output_type": "stream",
     "text": [
      "ERROR: 2023-10-30 15:24:51,346: _geological_feature_builder.py:266 -- Not enough constraints for scalar field add more\n",
      "WARNING: 2023-10-30 15:24:51,416: _discrete_interpolator.py:735 -- No solution, s1__2 scalar field 0. Add more data.\n"
     ]
    },
    {
     "data": {
      "application/vnd.jupyter.widget-view+json": {
       "model_id": "c7b091f1a24e4006ab988298e54c8817",
       "version_major": 2,
       "version_minor": 0
      },
      "text/plain": [
       "  0%|          | 0/3 [00:00<?, ?it/s]"
      ]
     },
     "metadata": {},
     "output_type": "display_data"
    },
    {
     "name": "stderr",
     "output_type": "stream",
     "text": [
      "ERROR: 2023-10-30 15:24:53,227: _geological_feature_builder.py:266 -- Not enough constraints for scalar field add more\n",
      "WARNING: 2023-10-30 15:24:53,291: _discrete_interpolator.py:735 -- No solution, s1__2 scalar field 0. Add more data.\n"
     ]
    },
    {
     "data": {
      "application/vnd.jupyter.widget-view+json": {
       "model_id": "b71d9fbf0fe4496ca74cc38a1fc9dbbd",
       "version_major": 2,
       "version_minor": 0
      },
      "text/plain": [
       "  0%|          | 0/3 [00:00<?, ?it/s]"
      ]
     },
     "metadata": {},
     "output_type": "display_data"
    },
    {
     "name": "stderr",
     "output_type": "stream",
     "text": [
      "ERROR: 2023-10-30 15:24:55,266: _geological_feature_builder.py:266 -- Not enough constraints for scalar field add more\n",
      "WARNING: 2023-10-30 15:24:55,332: _discrete_interpolator.py:735 -- No solution, s1__2 scalar field 0. Add more data.\n"
     ]
    },
    {
     "data": {
      "application/vnd.jupyter.widget-view+json": {
       "model_id": "d88b4db97ce54e90a4d92fcf9bbc8538",
       "version_major": 2,
       "version_minor": 0
      },
      "text/plain": [
       "  0%|          | 0/3 [00:00<?, ?it/s]"
      ]
     },
     "metadata": {},
     "output_type": "display_data"
    },
    {
     "name": "stderr",
     "output_type": "stream",
     "text": [
      "ERROR: 2023-10-30 15:24:56,986: _geological_feature_builder.py:266 -- Not enough constraints for scalar field add more\n",
      "WARNING: 2023-10-30 15:24:57,055: _discrete_interpolator.py:735 -- No solution, s1__2 scalar field 0. Add more data.\n"
     ]
    },
    {
     "data": {
      "application/vnd.jupyter.widget-view+json": {
       "model_id": "61da126e2db54d2f8790a47456683b6b",
       "version_major": 2,
       "version_minor": 0
      },
      "text/plain": [
       "  0%|          | 0/3 [00:00<?, ?it/s]"
      ]
     },
     "metadata": {},
     "output_type": "display_data"
    },
    {
     "name": "stderr",
     "output_type": "stream",
     "text": [
      "ERROR: 2023-10-30 15:24:58,743: _geological_feature_builder.py:266 -- Not enough constraints for scalar field add more\n",
      "WARNING: 2023-10-30 15:24:58,811: _discrete_interpolator.py:735 -- No solution, s1__2 scalar field 0. Add more data.\n"
     ]
    },
    {
     "data": {
      "application/vnd.jupyter.widget-view+json": {
       "model_id": "802281f265ce49b3a889f7bc96331392",
       "version_major": 2,
       "version_minor": 0
      },
      "text/plain": [
       "  0%|          | 0/3 [00:00<?, ?it/s]"
      ]
     },
     "metadata": {},
     "output_type": "display_data"
    },
    {
     "name": "stderr",
     "output_type": "stream",
     "text": [
      "ERROR: 2023-10-30 15:25:00,342: _geological_feature_builder.py:266 -- Not enough constraints for scalar field add more\n",
      "WARNING: 2023-10-30 15:25:00,405: _discrete_interpolator.py:735 -- No solution, s1__2 scalar field 0. Add more data.\n"
     ]
    },
    {
     "data": {
      "application/vnd.jupyter.widget-view+json": {
       "model_id": "a11c3a5e1bfa4e0a9bec552d4d6211aa",
       "version_major": 2,
       "version_minor": 0
      },
      "text/plain": [
       "  0%|          | 0/3 [00:00<?, ?it/s]"
      ]
     },
     "metadata": {},
     "output_type": "display_data"
    },
    {
     "name": "stderr",
     "output_type": "stream",
     "text": [
      "ERROR: 2023-10-30 15:25:02,165: _geological_feature_builder.py:266 -- Not enough constraints for scalar field add more\n",
      "WARNING: 2023-10-30 15:25:02,228: _discrete_interpolator.py:735 -- No solution, s1__2 scalar field 0. Add more data.\n"
     ]
    },
    {
     "data": {
      "application/vnd.jupyter.widget-view+json": {
       "model_id": "26a1f61e29f94ac0ba6e375f22b31ef7",
       "version_major": 2,
       "version_minor": 0
      },
      "text/plain": [
       "  0%|          | 0/3 [00:00<?, ?it/s]"
      ]
     },
     "metadata": {},
     "output_type": "display_data"
    },
    {
     "name": "stderr",
     "output_type": "stream",
     "text": [
      "ERROR: 2023-10-30 15:25:03,873: _geological_feature_builder.py:266 -- Not enough constraints for scalar field add more\n",
      "WARNING: 2023-10-30 15:25:03,938: _discrete_interpolator.py:735 -- No solution, s1__2 scalar field 0. Add more data.\n"
     ]
    },
    {
     "data": {
      "application/vnd.jupyter.widget-view+json": {
       "model_id": "2c2142805d8d487f84248c1b63a9b783",
       "version_major": 2,
       "version_minor": 0
      },
      "text/plain": [
       "  0%|          | 0/3 [00:00<?, ?it/s]"
      ]
     },
     "metadata": {},
     "output_type": "display_data"
    },
    {
     "name": "stderr",
     "output_type": "stream",
     "text": [
      "ERROR: 2023-10-30 15:25:06,936: _geological_feature_builder.py:266 -- Not enough constraints for scalar field add more\n",
      "WARNING: 2023-10-30 15:25:07,009: _discrete_interpolator.py:735 -- No solution, s1__2 scalar field 0. Add more data.\n"
     ]
    },
    {
     "data": {
      "application/vnd.jupyter.widget-view+json": {
       "model_id": "4c42123f0652494e8d5aa517dddf3670",
       "version_major": 2,
       "version_minor": 0
      },
      "text/plain": [
       "  0%|          | 0/3 [00:00<?, ?it/s]"
      ]
     },
     "metadata": {},
     "output_type": "display_data"
    },
    {
     "name": "stderr",
     "output_type": "stream",
     "text": [
      "ERROR: 2023-10-30 15:25:08,828: _geological_feature_builder.py:266 -- Not enough constraints for scalar field add more\n",
      "WARNING: 2023-10-30 15:25:08,903: _discrete_interpolator.py:735 -- No solution, s1__2 scalar field 0. Add more data.\n"
     ]
    },
    {
     "data": {
      "application/vnd.jupyter.widget-view+json": {
       "model_id": "34a9ae10d52b4e93b9b6f0cf65b90350",
       "version_major": 2,
       "version_minor": 0
      },
      "text/plain": [
       "  0%|          | 0/3 [00:00<?, ?it/s]"
      ]
     },
     "metadata": {},
     "output_type": "display_data"
    },
    {
     "name": "stderr",
     "output_type": "stream",
     "text": [
      "ERROR: 2023-10-30 15:25:10,747: _geological_feature_builder.py:266 -- Not enough constraints for scalar field add more\n",
      "WARNING: 2023-10-30 15:25:10,816: _discrete_interpolator.py:735 -- No solution, s1__2 scalar field 0. Add more data.\n"
     ]
    },
    {
     "data": {
      "application/vnd.jupyter.widget-view+json": {
       "model_id": "d2f6588282fa4d74a04ca3e617784b3e",
       "version_major": 2,
       "version_minor": 0
      },
      "text/plain": [
       "  0%|          | 0/3 [00:00<?, ?it/s]"
      ]
     },
     "metadata": {},
     "output_type": "display_data"
    },
    {
     "name": "stderr",
     "output_type": "stream",
     "text": [
      "ERROR: 2023-10-30 15:25:13,714: _geological_feature_builder.py:266 -- Not enough constraints for scalar field add more\n",
      "WARNING: 2023-10-30 15:25:13,779: _discrete_interpolator.py:735 -- No solution, s1__2 scalar field 0. Add more data.\n"
     ]
    },
    {
     "data": {
      "application/vnd.jupyter.widget-view+json": {
       "model_id": "3dd2bb4e611544efba93b30a5edc0866",
       "version_major": 2,
       "version_minor": 0
      },
      "text/plain": [
       "  0%|          | 0/3 [00:00<?, ?it/s]"
      ]
     },
     "metadata": {},
     "output_type": "display_data"
    },
    {
     "name": "stderr",
     "output_type": "stream",
     "text": [
      "ERROR: 2023-10-30 15:25:17,102: _geological_feature_builder.py:266 -- Not enough constraints for scalar field add more\n",
      "WARNING: 2023-10-30 15:25:17,182: _discrete_interpolator.py:735 -- No solution, s1__2 scalar field 0. Add more data.\n"
     ]
    },
    {
     "data": {
      "application/vnd.jupyter.widget-view+json": {
       "model_id": "db1897d3a5914632b9f1f0314e722959",
       "version_major": 2,
       "version_minor": 0
      },
      "text/plain": [
       "  0%|          | 0/3 [00:00<?, ?it/s]"
      ]
     },
     "metadata": {},
     "output_type": "display_data"
    },
    {
     "name": "stderr",
     "output_type": "stream",
     "text": [
      "ERROR: 2023-10-30 15:25:19,487: _geological_feature_builder.py:266 -- Not enough constraints for scalar field add more\n",
      "WARNING: 2023-10-30 15:25:19,562: _discrete_interpolator.py:735 -- No solution, s1__2 scalar field 0. Add more data.\n"
     ]
    },
    {
     "data": {
      "application/vnd.jupyter.widget-view+json": {
       "model_id": "6f709941e31a48bfb838036d131875ec",
       "version_major": 2,
       "version_minor": 0
      },
      "text/plain": [
       "  0%|          | 0/3 [00:00<?, ?it/s]"
      ]
     },
     "metadata": {},
     "output_type": "display_data"
    },
    {
     "name": "stderr",
     "output_type": "stream",
     "text": [
      "ERROR: 2023-10-30 15:25:21,514: _geological_feature_builder.py:266 -- Not enough constraints for scalar field add more\n",
      "WARNING: 2023-10-30 15:25:21,593: _discrete_interpolator.py:735 -- No solution, s1__2 scalar field 0. Add more data.\n"
     ]
    },
    {
     "data": {
      "application/vnd.jupyter.widget-view+json": {
       "model_id": "4ae13c2a0db24e7490cc8eec205c98a3",
       "version_major": 2,
       "version_minor": 0
      },
      "text/plain": [
       "  0%|          | 0/3 [00:00<?, ?it/s]"
      ]
     },
     "metadata": {},
     "output_type": "display_data"
    },
    {
     "name": "stderr",
     "output_type": "stream",
     "text": [
      "ERROR: 2023-10-30 15:25:23,678: _geological_feature_builder.py:266 -- Not enough constraints for scalar field add more\n",
      "WARNING: 2023-10-30 15:25:23,750: _discrete_interpolator.py:735 -- No solution, s1__2 scalar field 0. Add more data.\n"
     ]
    },
    {
     "data": {
      "application/vnd.jupyter.widget-view+json": {
       "model_id": "a7f4041cc58641f58156caa5cbbd4e1a",
       "version_major": 2,
       "version_minor": 0
      },
      "text/plain": [
       "  0%|          | 0/3 [00:00<?, ?it/s]"
      ]
     },
     "metadata": {},
     "output_type": "display_data"
    },
    {
     "name": "stderr",
     "output_type": "stream",
     "text": [
      "ERROR: 2023-10-30 15:25:25,963: _geological_feature_builder.py:266 -- Not enough constraints for scalar field add more\n",
      "WARNING: 2023-10-30 15:25:26,038: _discrete_interpolator.py:735 -- No solution, s1__2 scalar field 0. Add more data.\n"
     ]
    },
    {
     "data": {
      "application/vnd.jupyter.widget-view+json": {
       "model_id": "9adeef14ac4645049b544b6e3b9c4fd8",
       "version_major": 2,
       "version_minor": 0
      },
      "text/plain": [
       "  0%|          | 0/3 [00:00<?, ?it/s]"
      ]
     },
     "metadata": {},
     "output_type": "display_data"
    },
    {
     "name": "stderr",
     "output_type": "stream",
     "text": [
      "ERROR: 2023-10-30 15:25:30,084: _geological_feature_builder.py:266 -- Not enough constraints for scalar field add more\n",
      "WARNING: 2023-10-30 15:25:30,158: _discrete_interpolator.py:735 -- No solution, s1__2 scalar field 0. Add more data.\n"
     ]
    },
    {
     "data": {
      "application/vnd.jupyter.widget-view+json": {
       "model_id": "56e3cdb70131476fa9dda6b0f6bbbed2",
       "version_major": 2,
       "version_minor": 0
      },
      "text/plain": [
       "  0%|          | 0/3 [00:00<?, ?it/s]"
      ]
     },
     "metadata": {},
     "output_type": "display_data"
    },
    {
     "name": "stderr",
     "output_type": "stream",
     "text": [
      "ERROR: 2023-10-30 15:25:32,124: _geological_feature_builder.py:266 -- Not enough constraints for scalar field add more\n",
      "WARNING: 2023-10-30 15:25:32,199: _discrete_interpolator.py:735 -- No solution, s1__2 scalar field 0. Add more data.\n"
     ]
    },
    {
     "data": {
      "application/vnd.jupyter.widget-view+json": {
       "model_id": "94ff1cb14d2e4dcb9ac251ce4e63d294",
       "version_major": 2,
       "version_minor": 0
      },
      "text/plain": [
       "  0%|          | 0/3 [00:00<?, ?it/s]"
      ]
     },
     "metadata": {},
     "output_type": "display_data"
    },
    {
     "name": "stderr",
     "output_type": "stream",
     "text": [
      "ERROR: 2023-10-30 15:25:34,141: _geological_feature_builder.py:266 -- Not enough constraints for scalar field add more\n",
      "WARNING: 2023-10-30 15:25:34,213: _discrete_interpolator.py:735 -- No solution, s1__2 scalar field 0. Add more data.\n"
     ]
    },
    {
     "data": {
      "application/vnd.jupyter.widget-view+json": {
       "model_id": "721288174d3f4afea91f6a6dfb370399",
       "version_major": 2,
       "version_minor": 0
      },
      "text/plain": [
       "  0%|          | 0/3 [00:00<?, ?it/s]"
      ]
     },
     "metadata": {},
     "output_type": "display_data"
    },
    {
     "name": "stderr",
     "output_type": "stream",
     "text": [
      "ERROR: 2023-10-30 15:25:37,977: _geological_feature_builder.py:266 -- Not enough constraints for scalar field add more\n",
      "WARNING: 2023-10-30 15:25:38,048: _discrete_interpolator.py:735 -- No solution, s1__2 scalar field 0. Add more data.\n"
     ]
    },
    {
     "data": {
      "application/vnd.jupyter.widget-view+json": {
       "model_id": "3a5d602736824bae80456dc91338868d",
       "version_major": 2,
       "version_minor": 0
      },
      "text/plain": [
       "  0%|          | 0/3 [00:00<?, ?it/s]"
      ]
     },
     "metadata": {},
     "output_type": "display_data"
    },
    {
     "name": "stderr",
     "output_type": "stream",
     "text": [
      "ERROR: 2023-10-30 15:25:40,383: _geological_feature_builder.py:266 -- Not enough constraints for scalar field add more\n",
      "WARNING: 2023-10-30 15:25:40,467: _discrete_interpolator.py:735 -- No solution, s1__2 scalar field 0. Add more data.\n"
     ]
    },
    {
     "data": {
      "application/vnd.jupyter.widget-view+json": {
       "model_id": "543104393cc845e8bb573cdb271687c5",
       "version_major": 2,
       "version_minor": 0
      },
      "text/plain": [
       "  0%|          | 0/3 [00:00<?, ?it/s]"
      ]
     },
     "metadata": {},
     "output_type": "display_data"
    },
    {
     "name": "stderr",
     "output_type": "stream",
     "text": [
      "ERROR: 2023-10-30 15:25:42,723: _geological_feature_builder.py:266 -- Not enough constraints for scalar field add more\n",
      "WARNING: 2023-10-30 15:25:42,794: _discrete_interpolator.py:735 -- No solution, s1__2 scalar field 0. Add more data.\n"
     ]
    },
    {
     "data": {
      "application/vnd.jupyter.widget-view+json": {
       "model_id": "db908f5cc0964966a5ee0fcee28dc1ea",
       "version_major": 2,
       "version_minor": 0
      },
      "text/plain": [
       "  0%|          | 0/3 [00:00<?, ?it/s]"
      ]
     },
     "metadata": {},
     "output_type": "display_data"
    },
    {
     "name": "stderr",
     "output_type": "stream",
     "text": [
      "ERROR: 2023-10-30 15:25:44,836: _geological_feature_builder.py:266 -- Not enough constraints for scalar field add more\n",
      "WARNING: 2023-10-30 15:25:44,918: _discrete_interpolator.py:735 -- No solution, s1__2 scalar field 0. Add more data.\n"
     ]
    },
    {
     "data": {
      "application/vnd.jupyter.widget-view+json": {
       "model_id": "3cfd9668b1744910a891cd914e8f1773",
       "version_major": 2,
       "version_minor": 0
      },
      "text/plain": [
       "  0%|          | 0/3 [00:00<?, ?it/s]"
      ]
     },
     "metadata": {},
     "output_type": "display_data"
    },
    {
     "name": "stderr",
     "output_type": "stream",
     "text": [
      "ERROR: 2023-10-30 15:25:46,946: _geological_feature_builder.py:266 -- Not enough constraints for scalar field add more\n",
      "WARNING: 2023-10-30 15:25:47,026: _discrete_interpolator.py:735 -- No solution, s1__2 scalar field 0. Add more data.\n"
     ]
    },
    {
     "data": {
      "application/vnd.jupyter.widget-view+json": {
       "model_id": "c382a4bcf2524db4aaefd805e83bf88d",
       "version_major": 2,
       "version_minor": 0
      },
      "text/plain": [
       "  0%|          | 0/3 [00:00<?, ?it/s]"
      ]
     },
     "metadata": {},
     "output_type": "display_data"
    },
    {
     "name": "stderr",
     "output_type": "stream",
     "text": [
      "ERROR: 2023-10-30 15:25:49,345: _geological_feature_builder.py:266 -- Not enough constraints for scalar field add more\n",
      "WARNING: 2023-10-30 15:25:49,429: _discrete_interpolator.py:735 -- No solution, s1__2 scalar field 0. Add more data.\n"
     ]
    },
    {
     "data": {
      "application/vnd.jupyter.widget-view+json": {
       "model_id": "1007fa9c134b4992803b17350dab8a07",
       "version_major": 2,
       "version_minor": 0
      },
      "text/plain": [
       "  0%|          | 0/3 [00:00<?, ?it/s]"
      ]
     },
     "metadata": {},
     "output_type": "display_data"
    },
    {
     "name": "stderr",
     "output_type": "stream",
     "text": [
      "ERROR: 2023-10-30 15:25:51,265: _geological_feature_builder.py:266 -- Not enough constraints for scalar field add more\n",
      "WARNING: 2023-10-30 15:25:51,337: _discrete_interpolator.py:735 -- No solution, s1__2 scalar field 0. Add more data.\n"
     ]
    },
    {
     "data": {
      "application/vnd.jupyter.widget-view+json": {
       "model_id": "68802ccf65cd4ee09d532654dac80cd5",
       "version_major": 2,
       "version_minor": 0
      },
      "text/plain": [
       "  0%|          | 0/3 [00:00<?, ?it/s]"
      ]
     },
     "metadata": {},
     "output_type": "display_data"
    },
    {
     "name": "stderr",
     "output_type": "stream",
     "text": [
      "ERROR: 2023-10-30 15:25:53,228: _geological_feature_builder.py:266 -- Not enough constraints for scalar field add more\n",
      "WARNING: 2023-10-30 15:25:53,296: _discrete_interpolator.py:735 -- No solution, s1__2 scalar field 0. Add more data.\n"
     ]
    },
    {
     "data": {
      "application/vnd.jupyter.widget-view+json": {
       "model_id": "349ec9ed8b51427a965060148b5a35f1",
       "version_major": 2,
       "version_minor": 0
      },
      "text/plain": [
       "  0%|          | 0/3 [00:00<?, ?it/s]"
      ]
     },
     "metadata": {},
     "output_type": "display_data"
    },
    {
     "name": "stderr",
     "output_type": "stream",
     "text": [
      "ERROR: 2023-10-30 15:25:55,260: _geological_feature_builder.py:266 -- Not enough constraints for scalar field add more\n",
      "WARNING: 2023-10-30 15:25:55,330: _discrete_interpolator.py:735 -- No solution, s1__2 scalar field 0. Add more data.\n"
     ]
    },
    {
     "data": {
      "application/vnd.jupyter.widget-view+json": {
       "model_id": "9ca4e4a752de4083bc8c5024e6671c04",
       "version_major": 2,
       "version_minor": 0
      },
      "text/plain": [
       "  0%|          | 0/3 [00:00<?, ?it/s]"
      ]
     },
     "metadata": {},
     "output_type": "display_data"
    },
    {
     "name": "stderr",
     "output_type": "stream",
     "text": [
      "ERROR: 2023-10-30 15:25:57,411: _geological_feature_builder.py:266 -- Not enough constraints for scalar field add more\n",
      "WARNING: 2023-10-30 15:25:57,489: _discrete_interpolator.py:735 -- No solution, s1__2 scalar field 0. Add more data.\n"
     ]
    },
    {
     "data": {
      "application/vnd.jupyter.widget-view+json": {
       "model_id": "08647a4b024244678c4863228d50969f",
       "version_major": 2,
       "version_minor": 0
      },
      "text/plain": [
       "  0%|          | 0/3 [00:00<?, ?it/s]"
      ]
     },
     "metadata": {},
     "output_type": "display_data"
    },
    {
     "name": "stderr",
     "output_type": "stream",
     "text": [
      "ERROR: 2023-10-30 15:25:59,602: _geological_feature_builder.py:266 -- Not enough constraints for scalar field add more\n",
      "WARNING: 2023-10-30 15:25:59,677: _discrete_interpolator.py:735 -- No solution, s1__2 scalar field 0. Add more data.\n"
     ]
    },
    {
     "data": {
      "application/vnd.jupyter.widget-view+json": {
       "model_id": "548d4ae377074588b9d3451a4d7a6359",
       "version_major": 2,
       "version_minor": 0
      },
      "text/plain": [
       "  0%|          | 0/3 [00:00<?, ?it/s]"
      ]
     },
     "metadata": {},
     "output_type": "display_data"
    },
    {
     "name": "stderr",
     "output_type": "stream",
     "text": [
      "ERROR: 2023-10-30 15:26:01,790: _geological_feature_builder.py:266 -- Not enough constraints for scalar field add more\n",
      "WARNING: 2023-10-30 15:26:01,866: _discrete_interpolator.py:735 -- No solution, s1__2 scalar field 0. Add more data.\n"
     ]
    },
    {
     "data": {
      "application/vnd.jupyter.widget-view+json": {
       "model_id": "b4bbaedffb0d4c13b78805487e7740cb",
       "version_major": 2,
       "version_minor": 0
      },
      "text/plain": [
       "  0%|          | 0/3 [00:00<?, ?it/s]"
      ]
     },
     "metadata": {},
     "output_type": "display_data"
    },
    {
     "name": "stderr",
     "output_type": "stream",
     "text": [
      "ERROR: 2023-10-30 15:26:03,762: _geological_feature_builder.py:266 -- Not enough constraints for scalar field add more\n",
      "WARNING: 2023-10-30 15:26:03,836: _discrete_interpolator.py:735 -- No solution, s1__2 scalar field 0. Add more data.\n"
     ]
    },
    {
     "data": {
      "application/vnd.jupyter.widget-view+json": {
       "model_id": "afa900fac6c84f78b5082ab284ad1a37",
       "version_major": 2,
       "version_minor": 0
      },
      "text/plain": [
       "  0%|          | 0/3 [00:00<?, ?it/s]"
      ]
     },
     "metadata": {},
     "output_type": "display_data"
    },
    {
     "name": "stderr",
     "output_type": "stream",
     "text": [
      "ERROR: 2023-10-30 15:26:05,561: _geological_feature_builder.py:266 -- Not enough constraints for scalar field add more\n",
      "WARNING: 2023-10-30 15:26:05,638: _discrete_interpolator.py:735 -- No solution, s1__2 scalar field 0. Add more data.\n"
     ]
    },
    {
     "data": {
      "application/vnd.jupyter.widget-view+json": {
       "model_id": "acc355f521244eb18f53045a75537738",
       "version_major": 2,
       "version_minor": 0
      },
      "text/plain": [
       "  0%|          | 0/3 [00:00<?, ?it/s]"
      ]
     },
     "metadata": {},
     "output_type": "display_data"
    },
    {
     "name": "stderr",
     "output_type": "stream",
     "text": [
      "ERROR: 2023-10-30 15:26:07,271: _geological_feature_builder.py:266 -- Not enough constraints for scalar field add more\n",
      "WARNING: 2023-10-30 15:26:07,341: _discrete_interpolator.py:735 -- No solution, s1__2 scalar field 0. Add more data.\n"
     ]
    },
    {
     "data": {
      "application/vnd.jupyter.widget-view+json": {
       "model_id": "53ab43a0075c495a8af39c21c74994e3",
       "version_major": 2,
       "version_minor": 0
      },
      "text/plain": [
       "  0%|          | 0/3 [00:00<?, ?it/s]"
      ]
     },
     "metadata": {},
     "output_type": "display_data"
    },
    {
     "name": "stderr",
     "output_type": "stream",
     "text": [
      "ERROR: 2023-10-30 15:26:09,126: _geological_feature_builder.py:266 -- Not enough constraints for scalar field add more\n",
      "WARNING: 2023-10-30 15:26:09,197: _discrete_interpolator.py:735 -- No solution, s1__2 scalar field 0. Add more data.\n"
     ]
    },
    {
     "data": {
      "application/vnd.jupyter.widget-view+json": {
       "model_id": "e95f536ecc944446b7c18d82261ce4df",
       "version_major": 2,
       "version_minor": 0
      },
      "text/plain": [
       "  0%|          | 0/3 [00:00<?, ?it/s]"
      ]
     },
     "metadata": {},
     "output_type": "display_data"
    },
    {
     "name": "stderr",
     "output_type": "stream",
     "text": [
      "ERROR: 2023-10-30 15:26:10,926: _geological_feature_builder.py:266 -- Not enough constraints for scalar field add more\n",
      "WARNING: 2023-10-30 15:26:10,995: _discrete_interpolator.py:735 -- No solution, s1__2 scalar field 0. Add more data.\n"
     ]
    },
    {
     "data": {
      "application/vnd.jupyter.widget-view+json": {
       "model_id": "33f8fa08bf2045efa80d8dc7521f001c",
       "version_major": 2,
       "version_minor": 0
      },
      "text/plain": [
       "  0%|          | 0/3 [00:00<?, ?it/s]"
      ]
     },
     "metadata": {},
     "output_type": "display_data"
    },
    {
     "name": "stderr",
     "output_type": "stream",
     "text": [
      "ERROR: 2023-10-30 15:26:12,760: _geological_feature_builder.py:266 -- Not enough constraints for scalar field add more\n",
      "WARNING: 2023-10-30 15:26:12,826: _discrete_interpolator.py:735 -- No solution, s1__2 scalar field 0. Add more data.\n"
     ]
    },
    {
     "data": {
      "application/vnd.jupyter.widget-view+json": {
       "model_id": "3591488d7b334c2983d7671b6d270af0",
       "version_major": 2,
       "version_minor": 0
      },
      "text/plain": [
       "  0%|          | 0/3 [00:00<?, ?it/s]"
      ]
     },
     "metadata": {},
     "output_type": "display_data"
    },
    {
     "name": "stderr",
     "output_type": "stream",
     "text": [
      "ERROR: 2023-10-30 15:26:14,420: _geological_feature_builder.py:266 -- Not enough constraints for scalar field add more\n",
      "WARNING: 2023-10-30 15:26:14,483: _discrete_interpolator.py:735 -- No solution, s1__2 scalar field 0. Add more data.\n"
     ]
    },
    {
     "data": {
      "application/vnd.jupyter.widget-view+json": {
       "model_id": "a6d0c36ac0e54b19a82018f000ac6b5e",
       "version_major": 2,
       "version_minor": 0
      },
      "text/plain": [
       "  0%|          | 0/3 [00:00<?, ?it/s]"
      ]
     },
     "metadata": {},
     "output_type": "display_data"
    },
    {
     "name": "stderr",
     "output_type": "stream",
     "text": [
      "ERROR: 2023-10-30 15:26:16,271: _geological_feature_builder.py:266 -- Not enough constraints for scalar field add more\n",
      "WARNING: 2023-10-30 15:26:16,337: _discrete_interpolator.py:735 -- No solution, s1__2 scalar field 0. Add more data.\n"
     ]
    },
    {
     "data": {
      "application/vnd.jupyter.widget-view+json": {
       "model_id": "4635e4d2832a4cf1a7702a6714057232",
       "version_major": 2,
       "version_minor": 0
      },
      "text/plain": [
       "  0%|          | 0/3 [00:00<?, ?it/s]"
      ]
     },
     "metadata": {},
     "output_type": "display_data"
    },
    {
     "name": "stderr",
     "output_type": "stream",
     "text": [
      "ERROR: 2023-10-30 15:26:18,008: _geological_feature_builder.py:266 -- Not enough constraints for scalar field add more\n",
      "WARNING: 2023-10-30 15:26:18,079: _discrete_interpolator.py:735 -- No solution, s1__2 scalar field 0. Add more data.\n"
     ]
    },
    {
     "data": {
      "application/vnd.jupyter.widget-view+json": {
       "model_id": "a2a42c0db05745a09c29f271d42dffd9",
       "version_major": 2,
       "version_minor": 0
      },
      "text/plain": [
       "  0%|          | 0/3 [00:00<?, ?it/s]"
      ]
     },
     "metadata": {},
     "output_type": "display_data"
    },
    {
     "name": "stderr",
     "output_type": "stream",
     "text": [
      "ERROR: 2023-10-30 15:26:20,076: _geological_feature_builder.py:266 -- Not enough constraints for scalar field add more\n",
      "WARNING: 2023-10-30 15:26:20,149: _discrete_interpolator.py:735 -- No solution, s1__2 scalar field 0. Add more data.\n"
     ]
    },
    {
     "data": {
      "application/vnd.jupyter.widget-view+json": {
       "model_id": "4ece6cd5b0e84d84af1c43a6cd5be8a4",
       "version_major": 2,
       "version_minor": 0
      },
      "text/plain": [
       "  0%|          | 0/3 [00:00<?, ?it/s]"
      ]
     },
     "metadata": {},
     "output_type": "display_data"
    },
    {
     "name": "stderr",
     "output_type": "stream",
     "text": [
      "ERROR: 2023-10-30 15:26:21,950: _geological_feature_builder.py:266 -- Not enough constraints for scalar field add more\n",
      "WARNING: 2023-10-30 15:26:22,024: _discrete_interpolator.py:735 -- No solution, s1__2 scalar field 0. Add more data.\n"
     ]
    },
    {
     "data": {
      "application/vnd.jupyter.widget-view+json": {
       "model_id": "549fba442c7a4bb384bdb27570659e58",
       "version_major": 2,
       "version_minor": 0
      },
      "text/plain": [
       "  0%|          | 0/3 [00:00<?, ?it/s]"
      ]
     },
     "metadata": {},
     "output_type": "display_data"
    },
    {
     "name": "stderr",
     "output_type": "stream",
     "text": [
      "ERROR: 2023-10-30 15:26:23,729: _geological_feature_builder.py:266 -- Not enough constraints for scalar field add more\n",
      "WARNING: 2023-10-30 15:26:23,796: _discrete_interpolator.py:735 -- No solution, s1__2 scalar field 0. Add more data.\n"
     ]
    },
    {
     "data": {
      "application/vnd.jupyter.widget-view+json": {
       "model_id": "622a3f03b17b4afe90eb22a5808c6800",
       "version_major": 2,
       "version_minor": 0
      },
      "text/plain": [
       "  0%|          | 0/3 [00:00<?, ?it/s]"
      ]
     },
     "metadata": {},
     "output_type": "display_data"
    },
    {
     "name": "stderr",
     "output_type": "stream",
     "text": [
      "ERROR: 2023-10-30 15:26:25,569: _geological_feature_builder.py:266 -- Not enough constraints for scalar field add more\n",
      "WARNING: 2023-10-30 15:26:25,639: _discrete_interpolator.py:735 -- No solution, s1__2 scalar field 0. Add more data.\n"
     ]
    },
    {
     "data": {
      "application/vnd.jupyter.widget-view+json": {
       "model_id": "1bd6a5aeb85047048eb960e2f5162f03",
       "version_major": 2,
       "version_minor": 0
      },
      "text/plain": [
       "  0%|          | 0/3 [00:00<?, ?it/s]"
      ]
     },
     "metadata": {},
     "output_type": "display_data"
    },
    {
     "name": "stderr",
     "output_type": "stream",
     "text": [
      "ERROR: 2023-10-30 15:26:27,807: _geological_feature_builder.py:266 -- Not enough constraints for scalar field add more\n",
      "WARNING: 2023-10-30 15:26:27,878: _discrete_interpolator.py:735 -- No solution, s1__2 scalar field 0. Add more data.\n"
     ]
    },
    {
     "data": {
      "application/vnd.jupyter.widget-view+json": {
       "model_id": "a88717252e9e467bacc5aaa6bc7617aa",
       "version_major": 2,
       "version_minor": 0
      },
      "text/plain": [
       "  0%|          | 0/3 [00:00<?, ?it/s]"
      ]
     },
     "metadata": {},
     "output_type": "display_data"
    },
    {
     "name": "stderr",
     "output_type": "stream",
     "text": [
      "ERROR: 2023-10-30 15:26:29,962: _geological_feature_builder.py:266 -- Not enough constraints for scalar field add more\n",
      "WARNING: 2023-10-30 15:26:30,039: _discrete_interpolator.py:735 -- No solution, s1__2 scalar field 0. Add more data.\n"
     ]
    },
    {
     "data": {
      "application/vnd.jupyter.widget-view+json": {
       "model_id": "0eae96fededd4cdab8105e14bf343090",
       "version_major": 2,
       "version_minor": 0
      },
      "text/plain": [
       "  0%|          | 0/3 [00:00<?, ?it/s]"
      ]
     },
     "metadata": {},
     "output_type": "display_data"
    },
    {
     "name": "stderr",
     "output_type": "stream",
     "text": [
      "ERROR: 2023-10-30 15:26:32,054: _geological_feature_builder.py:266 -- Not enough constraints for scalar field add more\n",
      "WARNING: 2023-10-30 15:26:32,124: _discrete_interpolator.py:735 -- No solution, s1__2 scalar field 0. Add more data.\n"
     ]
    },
    {
     "data": {
      "application/vnd.jupyter.widget-view+json": {
       "model_id": "a1b8626f0f834991ad8dd7aad79c486a",
       "version_major": 2,
       "version_minor": 0
      },
      "text/plain": [
       "  0%|          | 0/3 [00:00<?, ?it/s]"
      ]
     },
     "metadata": {},
     "output_type": "display_data"
    },
    {
     "name": "stderr",
     "output_type": "stream",
     "text": [
      "ERROR: 2023-10-30 15:26:34,303: _geological_feature_builder.py:266 -- Not enough constraints for scalar field add more\n",
      "WARNING: 2023-10-30 15:26:34,382: _discrete_interpolator.py:735 -- No solution, s1__2 scalar field 0. Add more data.\n"
     ]
    },
    {
     "data": {
      "application/vnd.jupyter.widget-view+json": {
       "model_id": "a98a1f7c91dd405684dfbe5786ae194c",
       "version_major": 2,
       "version_minor": 0
      },
      "text/plain": [
       "  0%|          | 0/3 [00:00<?, ?it/s]"
      ]
     },
     "metadata": {},
     "output_type": "display_data"
    },
    {
     "name": "stderr",
     "output_type": "stream",
     "text": [
      "ERROR: 2023-10-30 15:26:36,320: _geological_feature_builder.py:266 -- Not enough constraints for scalar field add more\n",
      "WARNING: 2023-10-30 15:26:36,383: _discrete_interpolator.py:735 -- No solution, s1__2 scalar field 0. Add more data.\n"
     ]
    },
    {
     "data": {
      "application/vnd.jupyter.widget-view+json": {
       "model_id": "5514335a26ba4a7e81200bc5b7886536",
       "version_major": 2,
       "version_minor": 0
      },
      "text/plain": [
       "  0%|          | 0/3 [00:00<?, ?it/s]"
      ]
     },
     "metadata": {},
     "output_type": "display_data"
    },
    {
     "name": "stderr",
     "output_type": "stream",
     "text": [
      "ERROR: 2023-10-30 15:26:38,412: _geological_feature_builder.py:266 -- Not enough constraints for scalar field add more\n",
      "WARNING: 2023-10-30 15:26:38,490: _discrete_interpolator.py:735 -- No solution, s1__2 scalar field 0. Add more data.\n"
     ]
    },
    {
     "data": {
      "application/vnd.jupyter.widget-view+json": {
       "model_id": "dae4407340604403921d352998a97b89",
       "version_major": 2,
       "version_minor": 0
      },
      "text/plain": [
       "  0%|          | 0/3 [00:00<?, ?it/s]"
      ]
     },
     "metadata": {},
     "output_type": "display_data"
    },
    {
     "name": "stderr",
     "output_type": "stream",
     "text": [
      "ERROR: 2023-10-30 15:26:40,726: _geological_feature_builder.py:266 -- Not enough constraints for scalar field add more\n",
      "WARNING: 2023-10-30 15:26:40,811: _discrete_interpolator.py:735 -- No solution, s1__2 scalar field 0. Add more data.\n"
     ]
    },
    {
     "data": {
      "application/vnd.jupyter.widget-view+json": {
       "model_id": "d5320a2099664951a0e7ae307f1a5613",
       "version_major": 2,
       "version_minor": 0
      },
      "text/plain": [
       "  0%|          | 0/3 [00:00<?, ?it/s]"
      ]
     },
     "metadata": {},
     "output_type": "display_data"
    },
    {
     "name": "stderr",
     "output_type": "stream",
     "text": [
      "ERROR: 2023-10-30 15:26:43,296: _geological_feature_builder.py:266 -- Not enough constraints for scalar field add more\n",
      "WARNING: 2023-10-30 15:26:43,377: _discrete_interpolator.py:735 -- No solution, s1__2 scalar field 0. Add more data.\n"
     ]
    },
    {
     "data": {
      "application/vnd.jupyter.widget-view+json": {
       "model_id": "374355905caf440785473a0efc75595e",
       "version_major": 2,
       "version_minor": 0
      },
      "text/plain": [
       "  0%|          | 0/3 [00:00<?, ?it/s]"
      ]
     },
     "metadata": {},
     "output_type": "display_data"
    },
    {
     "name": "stderr",
     "output_type": "stream",
     "text": [
      "ERROR: 2023-10-30 15:26:45,800: _geological_feature_builder.py:266 -- Not enough constraints for scalar field add more\n",
      "WARNING: 2023-10-30 15:26:45,874: _discrete_interpolator.py:735 -- No solution, s1__2 scalar field 0. Add more data.\n"
     ]
    },
    {
     "data": {
      "application/vnd.jupyter.widget-view+json": {
       "model_id": "79b86d3ff8634d7b81ee55360f300ad3",
       "version_major": 2,
       "version_minor": 0
      },
      "text/plain": [
       "  0%|          | 0/3 [00:00<?, ?it/s]"
      ]
     },
     "metadata": {},
     "output_type": "display_data"
    },
    {
     "name": "stderr",
     "output_type": "stream",
     "text": [
      "ERROR: 2023-10-30 15:26:47,773: _geological_feature_builder.py:266 -- Not enough constraints for scalar field add more\n",
      "WARNING: 2023-10-30 15:26:47,847: _discrete_interpolator.py:735 -- No solution, s1__2 scalar field 0. Add more data.\n"
     ]
    },
    {
     "data": {
      "application/vnd.jupyter.widget-view+json": {
       "model_id": "64dbc09a7f0543018f508bd2cd6373f0",
       "version_major": 2,
       "version_minor": 0
      },
      "text/plain": [
       "  0%|          | 0/3 [00:00<?, ?it/s]"
      ]
     },
     "metadata": {},
     "output_type": "display_data"
    },
    {
     "name": "stderr",
     "output_type": "stream",
     "text": [
      "ERROR: 2023-10-30 15:26:49,866: _geological_feature_builder.py:266 -- Not enough constraints for scalar field add more\n",
      "WARNING: 2023-10-30 15:26:49,935: _discrete_interpolator.py:735 -- No solution, s1__2 scalar field 0. Add more data.\n"
     ]
    },
    {
     "data": {
      "application/vnd.jupyter.widget-view+json": {
       "model_id": "1c2db9aa10d741a5991e4683d2711f18",
       "version_major": 2,
       "version_minor": 0
      },
      "text/plain": [
       "  0%|          | 0/3 [00:00<?, ?it/s]"
      ]
     },
     "metadata": {},
     "output_type": "display_data"
    },
    {
     "name": "stderr",
     "output_type": "stream",
     "text": [
      "ERROR: 2023-10-30 15:26:54,501: _geological_feature_builder.py:266 -- Not enough constraints for scalar field add more\n",
      "WARNING: 2023-10-30 15:26:54,571: _discrete_interpolator.py:735 -- No solution, s1__2 scalar field 0. Add more data.\n"
     ]
    },
    {
     "data": {
      "application/vnd.jupyter.widget-view+json": {
       "model_id": "399e57117b9a438fa200a3f51d84132e",
       "version_major": 2,
       "version_minor": 0
      },
      "text/plain": [
       "  0%|          | 0/3 [00:00<?, ?it/s]"
      ]
     },
     "metadata": {},
     "output_type": "display_data"
    },
    {
     "name": "stderr",
     "output_type": "stream",
     "text": [
      "ERROR: 2023-10-30 15:26:56,368: _geological_feature_builder.py:266 -- Not enough constraints for scalar field add more\n",
      "WARNING: 2023-10-30 15:26:56,438: _discrete_interpolator.py:735 -- No solution, s1__2 scalar field 0. Add more data.\n"
     ]
    },
    {
     "data": {
      "application/vnd.jupyter.widget-view+json": {
       "model_id": "626ac1121efd40e692e10506b7fbae63",
       "version_major": 2,
       "version_minor": 0
      },
      "text/plain": [
       "  0%|          | 0/3 [00:00<?, ?it/s]"
      ]
     },
     "metadata": {},
     "output_type": "display_data"
    },
    {
     "name": "stderr",
     "output_type": "stream",
     "text": [
      "ERROR: 2023-10-30 15:26:58,377: _geological_feature_builder.py:266 -- Not enough constraints for scalar field add more\n",
      "WARNING: 2023-10-30 15:26:58,444: _discrete_interpolator.py:735 -- No solution, s1__2 scalar field 0. Add more data.\n"
     ]
    },
    {
     "data": {
      "application/vnd.jupyter.widget-view+json": {
       "model_id": "66ac6b3aff2e45b49307109465c4ed4d",
       "version_major": 2,
       "version_minor": 0
      },
      "text/plain": [
       "  0%|          | 0/3 [00:00<?, ?it/s]"
      ]
     },
     "metadata": {},
     "output_type": "display_data"
    },
    {
     "name": "stderr",
     "output_type": "stream",
     "text": [
      "ERROR: 2023-10-30 15:27:00,078: _geological_feature_builder.py:266 -- Not enough constraints for scalar field add more\n",
      "WARNING: 2023-10-30 15:27:00,145: _discrete_interpolator.py:735 -- No solution, s1__2 scalar field 0. Add more data.\n"
     ]
    },
    {
     "data": {
      "application/vnd.jupyter.widget-view+json": {
       "model_id": "26366c83db984df4ab78add40e8e9c2a",
       "version_major": 2,
       "version_minor": 0
      },
      "text/plain": [
       "  0%|          | 0/3 [00:00<?, ?it/s]"
      ]
     },
     "metadata": {},
     "output_type": "display_data"
    },
    {
     "name": "stderr",
     "output_type": "stream",
     "text": [
      "ERROR: 2023-10-30 15:27:02,002: _geological_feature_builder.py:266 -- Not enough constraints for scalar field add more\n",
      "WARNING: 2023-10-30 15:27:02,068: _discrete_interpolator.py:735 -- No solution, s1__2 scalar field 0. Add more data.\n"
     ]
    },
    {
     "data": {
      "application/vnd.jupyter.widget-view+json": {
       "model_id": "d88b459ca6484fb3b84cd1928850f7da",
       "version_major": 2,
       "version_minor": 0
      },
      "text/plain": [
       "  0%|          | 0/3 [00:00<?, ?it/s]"
      ]
     },
     "metadata": {},
     "output_type": "display_data"
    },
    {
     "name": "stderr",
     "output_type": "stream",
     "text": [
      "ERROR: 2023-10-30 15:27:03,846: _geological_feature_builder.py:266 -- Not enough constraints for scalar field add more\n",
      "WARNING: 2023-10-30 15:27:03,914: _discrete_interpolator.py:735 -- No solution, s1__2 scalar field 0. Add more data.\n"
     ]
    },
    {
     "data": {
      "application/vnd.jupyter.widget-view+json": {
       "model_id": "c26a5d66455049f9b40c802a4287e705",
       "version_major": 2,
       "version_minor": 0
      },
      "text/plain": [
       "  0%|          | 0/3 [00:00<?, ?it/s]"
      ]
     },
     "metadata": {},
     "output_type": "display_data"
    },
    {
     "name": "stderr",
     "output_type": "stream",
     "text": [
      "ERROR: 2023-10-30 15:27:05,650: _geological_feature_builder.py:266 -- Not enough constraints for scalar field add more\n",
      "WARNING: 2023-10-30 15:27:05,719: _discrete_interpolator.py:735 -- No solution, s1__2 scalar field 0. Add more data.\n"
     ]
    },
    {
     "data": {
      "application/vnd.jupyter.widget-view+json": {
       "model_id": "432d11329b824961a71ba43da42ce0a0",
       "version_major": 2,
       "version_minor": 0
      },
      "text/plain": [
       "  0%|          | 0/3 [00:00<?, ?it/s]"
      ]
     },
     "metadata": {},
     "output_type": "display_data"
    },
    {
     "name": "stderr",
     "output_type": "stream",
     "text": [
      "ERROR: 2023-10-30 15:27:07,656: _geological_feature_builder.py:266 -- Not enough constraints for scalar field add more\n",
      "WARNING: 2023-10-30 15:27:07,726: _discrete_interpolator.py:735 -- No solution, s1__2 scalar field 0. Add more data.\n"
     ]
    },
    {
     "data": {
      "application/vnd.jupyter.widget-view+json": {
       "model_id": "b0bb63549c7f44fdb8c75e750ac6561f",
       "version_major": 2,
       "version_minor": 0
      },
      "text/plain": [
       "  0%|          | 0/3 [00:00<?, ?it/s]"
      ]
     },
     "metadata": {},
     "output_type": "display_data"
    },
    {
     "name": "stderr",
     "output_type": "stream",
     "text": [
      "ERROR: 2023-10-30 15:27:09,563: _geological_feature_builder.py:266 -- Not enough constraints for scalar field add more\n",
      "WARNING: 2023-10-30 15:27:09,630: _discrete_interpolator.py:735 -- No solution, s1__2 scalar field 0. Add more data.\n"
     ]
    },
    {
     "data": {
      "application/vnd.jupyter.widget-view+json": {
       "model_id": "bfc0dedf0dc447e4b47c7f1183d5fee6",
       "version_major": 2,
       "version_minor": 0
      },
      "text/plain": [
       "  0%|          | 0/3 [00:00<?, ?it/s]"
      ]
     },
     "metadata": {},
     "output_type": "display_data"
    },
    {
     "name": "stderr",
     "output_type": "stream",
     "text": [
      "ERROR: 2023-10-30 15:27:11,235: _geological_feature_builder.py:266 -- Not enough constraints for scalar field add more\n",
      "WARNING: 2023-10-30 15:27:11,301: _discrete_interpolator.py:735 -- No solution, s1__2 scalar field 0. Add more data.\n"
     ]
    },
    {
     "data": {
      "application/vnd.jupyter.widget-view+json": {
       "model_id": "16071a9ffe2348f98062116e07e536b0",
       "version_major": 2,
       "version_minor": 0
      },
      "text/plain": [
       "  0%|          | 0/3 [00:00<?, ?it/s]"
      ]
     },
     "metadata": {},
     "output_type": "display_data"
    },
    {
     "name": "stderr",
     "output_type": "stream",
     "text": [
      "ERROR: 2023-10-30 15:27:12,923: _geological_feature_builder.py:266 -- Not enough constraints for scalar field add more\n",
      "WARNING: 2023-10-30 15:27:12,986: _discrete_interpolator.py:735 -- No solution, s1__2 scalar field 0. Add more data.\n"
     ]
    },
    {
     "data": {
      "application/vnd.jupyter.widget-view+json": {
       "model_id": "731e9c7d933c46a3881b705b6b2ddf53",
       "version_major": 2,
       "version_minor": 0
      },
      "text/plain": [
       "  0%|          | 0/3 [00:00<?, ?it/s]"
      ]
     },
     "metadata": {},
     "output_type": "display_data"
    },
    {
     "name": "stderr",
     "output_type": "stream",
     "text": [
      "ERROR: 2023-10-30 15:27:14,980: _geological_feature_builder.py:266 -- Not enough constraints for scalar field add more\n",
      "WARNING: 2023-10-30 15:27:15,048: _discrete_interpolator.py:735 -- No solution, s1__2 scalar field 0. Add more data.\n"
     ]
    },
    {
     "data": {
      "application/vnd.jupyter.widget-view+json": {
       "model_id": "fd57c7b774d141129de99b0801d62a93",
       "version_major": 2,
       "version_minor": 0
      },
      "text/plain": [
       "  0%|          | 0/3 [00:00<?, ?it/s]"
      ]
     },
     "metadata": {},
     "output_type": "display_data"
    },
    {
     "name": "stderr",
     "output_type": "stream",
     "text": [
      "ERROR: 2023-10-30 15:27:16,904: _geological_feature_builder.py:266 -- Not enough constraints for scalar field add more\n",
      "WARNING: 2023-10-30 15:27:16,972: _discrete_interpolator.py:735 -- No solution, s1__2 scalar field 0. Add more data.\n"
     ]
    },
    {
     "data": {
      "application/vnd.jupyter.widget-view+json": {
       "model_id": "325f68d780934bcb980da2be7ad0b07e",
       "version_major": 2,
       "version_minor": 0
      },
      "text/plain": [
       "  0%|          | 0/3 [00:00<?, ?it/s]"
      ]
     },
     "metadata": {},
     "output_type": "display_data"
    },
    {
     "name": "stderr",
     "output_type": "stream",
     "text": [
      "ERROR: 2023-10-30 15:27:18,686: _geological_feature_builder.py:266 -- Not enough constraints for scalar field add more\n",
      "WARNING: 2023-10-30 15:27:18,752: _discrete_interpolator.py:735 -- No solution, s1__2 scalar field 0. Add more data.\n"
     ]
    },
    {
     "data": {
      "application/vnd.jupyter.widget-view+json": {
       "model_id": "cc0ae3f88a84431bbb5d4c1d4435228d",
       "version_major": 2,
       "version_minor": 0
      },
      "text/plain": [
       "  0%|          | 0/3 [00:00<?, ?it/s]"
      ]
     },
     "metadata": {},
     "output_type": "display_data"
    },
    {
     "name": "stderr",
     "output_type": "stream",
     "text": [
      "ERROR: 2023-10-30 15:27:20,770: _geological_feature_builder.py:266 -- Not enough constraints for scalar field add more\n",
      "WARNING: 2023-10-30 15:27:20,839: _discrete_interpolator.py:735 -- No solution, s1__2 scalar field 0. Add more data.\n"
     ]
    },
    {
     "data": {
      "application/vnd.jupyter.widget-view+json": {
       "model_id": "323b2df1f76c45839277950127ec7a6b",
       "version_major": 2,
       "version_minor": 0
      },
      "text/plain": [
       "  0%|          | 0/3 [00:00<?, ?it/s]"
      ]
     },
     "metadata": {},
     "output_type": "display_data"
    },
    {
     "name": "stderr",
     "output_type": "stream",
     "text": [
      "ERROR: 2023-10-30 15:27:22,717: _geological_feature_builder.py:266 -- Not enough constraints for scalar field add more\n",
      "WARNING: 2023-10-30 15:27:22,787: _discrete_interpolator.py:735 -- No solution, s1__2 scalar field 0. Add more data.\n"
     ]
    },
    {
     "data": {
      "application/vnd.jupyter.widget-view+json": {
       "model_id": "84e5ed91d36f4585b5390e030cd43b61",
       "version_major": 2,
       "version_minor": 0
      },
      "text/plain": [
       "  0%|          | 0/3 [00:00<?, ?it/s]"
      ]
     },
     "metadata": {},
     "output_type": "display_data"
    },
    {
     "name": "stderr",
     "output_type": "stream",
     "text": [
      "ERROR: 2023-10-30 15:27:24,573: _geological_feature_builder.py:266 -- Not enough constraints for scalar field add more\n",
      "WARNING: 2023-10-30 15:27:24,645: _discrete_interpolator.py:735 -- No solution, s1__2 scalar field 0. Add more data.\n"
     ]
    },
    {
     "data": {
      "application/vnd.jupyter.widget-view+json": {
       "model_id": "9450d358bd3a483aaa37d2c6701cda94",
       "version_major": 2,
       "version_minor": 0
      },
      "text/plain": [
       "  0%|          | 0/3 [00:00<?, ?it/s]"
      ]
     },
     "metadata": {},
     "output_type": "display_data"
    },
    {
     "name": "stderr",
     "output_type": "stream",
     "text": [
      "ERROR: 2023-10-30 15:27:26,446: _geological_feature_builder.py:266 -- Not enough constraints for scalar field add more\n",
      "WARNING: 2023-10-30 15:27:26,517: _discrete_interpolator.py:735 -- No solution, s1__2 scalar field 0. Add more data.\n"
     ]
    }
   ],
   "source": [
    "results = aso.optimise()"
   ]
  },
  {
   "cell_type": "code",
   "execution_count": 50,
   "id": "aca0b748-d57a-4f16-a64c-be0308cb37d7",
   "metadata": {},
   "outputs": [
    {
     "name": "stdout",
     "output_type": "stream",
     "text": [
      "Axial surface optimisation results: \n",
      "strike:  179.66712613353283\n",
      "dip:  89.09938148459082\n"
     ]
    }
   ],
   "source": [
    "print('Axial surface optimisation results: ')\n",
    "print('strike: ', results.x[0])\n",
    "print('dip: ', results.x[1])"
   ]
  },
  {
   "cell_type": "code",
   "execution_count": null,
   "id": "caf6b91f-1ece-4326-ad68-a1aa2c3031f6",
   "metadata": {},
   "outputs": [],
   "source": []
  }
 ],
 "metadata": {
  "kernelspec": {
   "display_name": "Python 3 (ipykernel)",
   "language": "python",
   "name": "python3"
  },
  "language_info": {
   "codemirror_mode": {
    "name": "ipython",
    "version": 3
   },
   "file_extension": ".py",
   "mimetype": "text/x-python",
   "name": "python",
   "nbconvert_exporter": "python",
   "pygments_lexer": "ipython3",
   "version": "3.9.5"
  }
 },
 "nbformat": 4,
 "nbformat_minor": 5
}
