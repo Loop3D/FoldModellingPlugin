{
 "cells": [
  {
   "cell_type": "markdown",
   "id": "ace2df85-24c5-451e-b152-d042e6e229b9",
   "metadata": {},
   "source": [
    "<h1 align=\"center\">Fold modelling - Axial surface optimisation tutorial Part I</h1>\n"
   ]
  },
  {
   "cell_type": "markdown",
   "id": "ed171f34-7cee-4f4b-af67-909a4ef259af",
   "metadata": {},
   "source": [
    "#### Overview\n",
    "\n",
    "This tutorial demonstrates the use of a newly developed computational method for approximating fold axial surfaces. This section integrates algorithms proposed by Laurent et al. (2016) [Laurent et al. (2016)](https://linkinghub.elsevier.com/retrieve/pii/S0012821X16305209) with a data-driven approach from [Grose et al. (2017)](https://gmd.copernicus.org/articles/14/3915/2021/) and the geological likelihood functions of [Grose et al. (2019)](https://linkinghub.elsevier.com/retrieve/pii/S0191814118303638) to address the challenge of estimating planar fold axial surfaces in poorly outcropping regions.\n",
    "\n",
    "#### Solving the Axial Surface Optimization Problem\n",
    "\n",
    "The axial surface optimization problem is addressed through a multi-step computational algorithm that involves:\n",
    "\n",
    "1. **Maximum Likelihood Estimation (MLE)**: The method uses MLE to estimate model parameters that define the axial surface: strike and dip or a 3D unit vector. MLE finds the most probable parameters (like the 3D unit vector representing the axial surface) by maximizing a likelihood function based on the observed data and/or geological knowledge.\n",
    "\n",
    "2. **Algorithm Steps**: The algorithm proceeds through several steps, including defining geological knowledge constraints, calculating fold rotation angles, fitting Fourier series parameters to these angles, and optimizing the normal log-likelihood function to find the best axial surface representation.\n",
    "\n",
    "3. **Incorporating Geological Knowledge**: A key aspect of this approach is the inclusion of geological knowledge constraints, such as fold tightness, asymmetry, and axial traces. These constraints are used to guide the optimization process, ensuring that the resulting model aligns with known geological principles and observations.\n",
    "\n",
    "4. **Optimization Techniques**: The method leverages advanced optimization techniques like the Differential Evolution algorithm, which helps in navigating complex parameter spaces and ensures a robust search for the optimal axial surface. This is crucial in handling the intricacies of fold geometry and the variability in geological data.\n",
    "\n",
    "5. **Objective Function for Geometrical Relationship**: An objective function is used to evaluate the geometrical relationship between the axial surface and the folded surface, ensuring that the model honours real-world geological structures and data.\n",
    "\n",
    "6. **Final Solution**: The culmination of this method is a refined, data-driven, and geologically informed model of the axial surface, which is crucial for accurate fold modelling.\n",
    "\n",
    "#### Tutorial Style Explanation\n",
    "\n",
    "This chapter provides a step-by-step tutorial on implementing the proposed approach, from the initial problem statement to the final optimization and model evaluation. Each step is explained in detail, focusing on both the theoretical underpinnings and practical implementation, making it accessible for both academic researchers and industry professionals. Practical examples, along with algorithmic and methodological insights, guide the reader through the complexities of fold geometry modeling, demonstrating the approach's efficacy in solving real-world geological problems.\n",
    "  \n",
    "\n",
    "This tutorial will demonstrate the use of the `FourierSerieOptimiser` class, part of the FoldModellingPlugin that can be integrated into `LoopStructural`  [(Grose et al., 2021)](https://gmd.copernicus.org/articles/14/3915/2021/). This tutorial assumes you are familiar with the concepts of fold frame and fold rotation angles [(Laurent et al., 2016)](https://linkinghub.elsevier.com/retrieve/pii/S0012821X16305209) and the S-Plot  [(Grose et al., 2017)](https://linkinghub.elsevier.com/retrieve/pii/S0191814117301864) as well as the basic use of LoopStructural for fold modelling. In case you are not familiar with these concepts, it is recommended to do the following tutorials before moving forward with this tutorial: [LoopStructural fold modelling Examples](https://github.com/Loop3D/LoopStructural/tree/master/examples/2_fold)."
   ]
  },
  {
   "cell_type": "code",
   "execution_count": 1,
   "id": "85151442-4ba4-4668-bca3-c8bdd7e2ded9",
   "metadata": {},
   "outputs": [
    {
     "name": "stderr",
     "output_type": "stream",
     "text": [
      "WARNING: 2023-10-26 11:08:47,928: __init__.py:18 -- Cannot use LoopProjectfileProcessor: Loop project file cannot be imported, try installing LoopProjectFile\n",
      "WARNING: 2023-10-26 11:08:48,005: __init__.py:64 -- Can't import surfepy - to install \"pip install surfe\"\n",
      "WARNING: 2023-10-26 11:08:48,006: __init__.py:66 -- Using experimental interpolators: P1Interpolator and P2Interpolator\n",
      "ERROR: 2023-10-26 11:08:50,046: __init__.py:21 -- Cannot use sphinx scraper, pip install -r docs/requirements.txt\n",
      "ERROR: 2023-10-26 11:08:50,050: __init__.py:25 -- Missing lavavu, can't import LavaVuModelViewer\n"
     ]
    }
   ],
   "source": [
    "from misc_functions import sample_random_dataset\n",
    "from FoldOptLib.FoldOptLib.optimisers import AxialSurfaceOptimiser as ASO\n",
    "from FoldOptLib.FoldOptLib.optimisers import FourierSeriesOptimiser as FSO\n",
    "from FoldOptLib.FoldOptLib.helper.utils import create_fold_frame_dataset, create_dataset, clean_knowledge_dict\n",
    "from LoopStructural import GeologicalModel\n",
    "from LoopStructural.modelling.features.fold import FoldEvent\n",
    "# from LoopStructural.visualisation import LavaVuModelViewer\n",
    "# from custom_model_visualisation import LavaVuModelViewer\n",
    "from LoopStructural.visualisation import MapView\n",
    "from LoopStructural.visualisation import RotationAnglePlotter\n",
    "from LoopStructural.modelling.features.fold import FoldRotationAngle, SVariogram\n",
    "from LoopStructural.modelling.features import StructuralFrame, GeologicalFeature\n",
    "from LoopStructural.modelling.features.fold import fourier_series\n",
    "from LoopStructural.utils.helper import create_surface, create_box, get_data_bounding_box, normal_vector_to_strike_and_dip, plunge_and_plunge_dir_to_vector\n",
    "import os\n",
    "import time\n",
    "import numpy as np\n",
    "import pandas as pd\n",
    "from scipy.optimize import least_squares\n",
    "import seaborn as sns \n",
    "import matplotlib\n",
    "import matplotlib.pyplot as plt\n",
    "%matplotlib inline \n",
    "from sklearn.neighbors import NearestNeighbors\n",
    "from IPython.display import display, clear_output\n",
    "import ipywidgets as widgets\n",
    "from ipywidgets import IntProgress, interact, interactive"
   ]
  },
  {
   "cell_type": "markdown",
   "id": "2d36a9e4-799d-4db0-821a-e48052b7abea",
   "metadata": {},
   "source": [
    "# I. Creation of a synthetic model  \n",
    "\n",
    "Like the Fourier series tutorial, we will start by creating a synthetic model. The synthetic model is the reference from within which we will sample data points that will be used to infer the axial surface.  \n",
    "\n",
    "1. Define model bounding box"
   ]
  },
  {
   "cell_type": "code",
   "execution_count": 2,
   "id": "70b780ab-9d29-4222-a70c-b7d2781c7e72",
   "metadata": {},
   "outputs": [],
   "source": [
    "# define the maximum value of xyz model box boundaries\n",
    "xmin, ymin, zmin = 0, 0, 0\n",
    "xmax, ymax, zmax = 1000, 1000, 1000\n",
    "\n",
    "bounding_box = np.array([[xmin, ymin, zmin],\n",
    "               [xmax, ymax, zmax]])"
   ]
  },
  {
   "cell_type": "markdown",
   "id": "373fd7fb-4cd0-4d0b-a7d3-2233fd9797f7",
   "metadata": {},
   "source": [
    "2. Initialise a geological model "
   ]
  },
  {
   "cell_type": "code",
   "execution_count": 3,
   "id": "175e633d-7ab1-4653-92a4-5cccf958f71c",
   "metadata": {},
   "outputs": [],
   "source": [
    "# initiliase geological model by initialising GeologicalModel class\n",
    "model = GeologicalModel(bounding_box[0, :], \n",
    "                        bounding_box[1, :])"
   ]
  },
  {
   "cell_type": "markdown",
   "id": "0fd45e6b-60ea-4aaf-a29a-65c54c9e3c7c",
   "metadata": {},
   "source": [
    "3. Build a fold frame"
   ]
  },
  {
   "cell_type": "code",
   "execution_count": 4,
   "id": "d62fb253-e826-4590-83f3-785677d5551d",
   "metadata": {},
   "outputs": [],
   "source": [
    "# Create a dataset for s1 to build a fold frame \n",
    "dataset, xyz = create_fold_frame_dataset(model, strike=0, dip=90)\n",
    "# add data to the initiliased geological model\n",
    "model.data = dataset"
   ]
  },
  {
   "cell_type": "code",
   "execution_count": 5,
   "id": "d6244f0e-6a06-4ff6-a23d-c9015300ed67",
   "metadata": {
    "scrolled": true
   },
   "outputs": [
    {
     "data": {
      "application/vnd.jupyter.widget-view+json": {
       "model_id": "d9ad4f8b5e454f3bb1547032f643867d",
       "version_major": 2,
       "version_minor": 0
      },
      "text/plain": [
       "  0%|          | 0/3 [00:00<?, ?it/s]"
      ]
     },
     "metadata": {},
     "output_type": "display_data"
    },
    {
     "name": "stderr",
     "output_type": "stream",
     "text": [
      "ERROR: 2023-10-26 11:09:23,161: _geological_feature_builder.py:266 -- Not enough constraints for scalar field add more\n",
      "WARNING: 2023-10-26 11:09:24,039: _discrete_interpolator.py:735 -- No solution, s1__2 scalar field 0. Add more data.\n"
     ]
    }
   ],
   "source": [
    "# build the s1 fold frame\n",
    "s1 = model.create_and_add_fold_frame('s1',\n",
    "                                          buffer=0.3,\n",
    "                                          solver='cg',\n",
    "                                          nelements=2e4,\n",
    "                                        damp=True)\n",
    "model.update()"
   ]
  },
  {
   "cell_type": "code",
   "execution_count": 6,
   "id": "545bef65-f692-4a68-8196-8cc97ceea65a",
   "metadata": {},
   "outputs": [],
   "source": [
    "# # 3D displaying the s1 fold frame\n",
    "# # import lavavu\n",
    "# viewer = LavaVuModelViewer(model, background='white')\n",
    "# viewer.add_isosurface(s1[0], colour='red')\n",
    "# viewer.add_isosurface(s1[1], colour='blue')\n",
    "# viewer.add_data(s1[0], disks=False, vectors=True, colour='red')\n",
    "# viewer.add_data(s1[1], disks=False, vectors=True, colour='blue')\n",
    "# # t = viewer.add_scalar_field(s1[0], cmap='prism')\n",
    "# # viewer.lv.colourbar(t, align=(\"bottom\"))\n",
    "# viewer.lv.rotate([-63.015506744384766, -24.475210189819336, -8.501092910766602])\n",
    "# viewer.display()\n",
    "# viewer.interactive()"
   ]
  },
  {
   "cell_type": "markdown",
   "id": "231264f0-bfc7-4eb3-b9bd-8090b9e6bf93",
   "metadata": {},
   "source": [
    "4. Define the fold limb rotation angle profile"
   ]
  },
  {
   "cell_type": "code",
   "execution_count": 7,
   "id": "3904cf00-a060-4af1-be4a-1fe1dd8bde2e",
   "metadata": {},
   "outputs": [],
   "source": [
    "def fold_limb_rotation_profile(c0, c1, c2, wl):\n",
    "\n",
    "    theta = [c0, c1, c2, wl]\n",
    "    x = np.linspace(s1[0].min(), s1[0].max(), 100)\n",
    "    flr = np.rad2deg(np.arctan(fourier_series(x, *theta)))\n",
    "    fold_limb_rotation = FoldRotationAngle(flr, x) \n",
    "    fold_limb_rotation.fitted_params = theta\n",
    "    fold_limb_rotation.set_function(lambda x: np.rad2deg(\n",
    "                    np.arctan(fourier_series(x, *theta))))\n",
    "    plt.ylim(-90, 90)\n",
    "    plt.xlabel('Fold Axial Surface Field')\n",
    "    plt.ylabel('Fold Limb Rotation Angle')\n",
    "    plt.title('Fold Limb S-Plot')\n",
    "    plt.plot(x, flr)\n",
    "    plt.show()\n",
    "    \n",
    "    return fold_limb_rotation\n",
    "\n",
    "def define_fold_axis_orientation(plunge_direction, plunge): \n",
    "    \n",
    "    fold_axis = plunge_and_plunge_dir_to_vector(plunge, plunge_direction)\n",
    "    \n",
    "    return fold_axis"
   ]
  },
  {
   "cell_type": "code",
   "execution_count": 8,
   "id": "4e2caf61-a3be-4b6c-885c-3a6f6c94ebec",
   "metadata": {},
   "outputs": [
    {
     "data": {
      "image/png": "[encoded data removed]",
      "text/plain": [
       "<Figure size 640x480 with 1 Axes>"
      ]
     },
     "metadata": {},
     "output_type": "display_data"
    }
   ],
   "source": [
    "theta = [0, 2e-2, 2e-2, 500]\n",
    "fold_limb_rotation = fold_limb_rotation_profile(*theta)"
   ]
  },
  {
   "cell_type": "markdown",
   "id": "b97e280b-d104-4409-93c4-44090f57edb9",
   "metadata": {},
   "source": [
    "5. Calculate the normal vectors to the folded foliation\n",
    "\n"
   ]
  },
  {
   "cell_type": "code",
   "execution_count": 9,
   "id": "90798020-6a14-4723-bc9f-b2553cc514a1",
   "metadata": {},
   "outputs": [],
   "source": [
    "plunge_direction = 0\n",
    "plunge = 0\n",
    "fold_axis = define_fold_axis_orientation(plunge_direction, plunge)\n",
    "fold = FoldEvent(s1, fold_limb_rotation=fold_limb_rotation)\n",
    "fold.fold_axis = fold_axis \n",
    "fold_direction, fold_axis, dgz = fold.get_deformed_orientation(xyz)\n",
    "dgx = s1[0].evaluate_gradient(xyz)\n",
    "dgx /= np.linalg.norm(dgx, axis=1)[:, None]\n",
    "# make sure fold direction vectors are normalised\n",
    "fold_direction /= np.linalg.norm(fold_direction, axis=1)[:, None]\n",
    "# calculate the dot product of the s1 and the fold direction\n",
    "dot = np.einsum('ij,ij->i', dgx, fold_direction)\n",
    "# correct the orientation of the fold direction vectors to be consistent\n",
    "# with the direction of the axial surface \n",
    "fold_direction[dot<0] *= -1\n",
    "# calculate the normal vectors of the folded foliation \n",
    "# which are the cross product of the fold axis and \n",
    "# the fold direction vectors\n",
    "s0n = np.cross(fold_axis, fold_direction)\n",
    "# normalise s0 normal vectors\n",
    "s0n /= np.linalg.norm(s0n, axis=1)[:, None]"
   ]
  },
  {
   "cell_type": "markdown",
   "id": "65457e15-18cb-41cb-84f0-d174afc441a5",
   "metadata": {},
   "source": [
    "6. Create a dataset for s0"
   ]
  },
  {
   "cell_type": "code",
   "execution_count": 10,
   "id": "45b87406-2785-4c76-b5cf-03ec5892eba1",
   "metadata": {},
   "outputs": [],
   "source": [
    "dataset = pd.DataFrame()\n",
    "dataset['X'] = xyz[:, 0]\n",
    "dataset['Y'] = xyz[:, 1]\n",
    "dataset['Z'] = xyz[:, 2]\n",
    "dataset['gx'] = s0n[:, 0]\n",
    "dataset['gy'] = s0n[:, 1]\n",
    "dataset['gz'] = s0n[:, 2]\n",
    "dataset['feature_name'] = 's0'\n",
    "dataset['coord'] = 0"
   ]
  },
  {
   "cell_type": "markdown",
   "id": "17a4e97e-5dab-4749-9c0e-70ff641aab95",
   "metadata": {},
   "source": [
    "7. Build a 3D model of s0"
   ]
  },
  {
   "cell_type": "code",
   "execution_count": 11,
   "id": "dcb49116-9275-40a5-8f6a-23244fb342d1",
   "metadata": {
    "scrolled": true
   },
   "outputs": [
    {
     "data": {
      "application/vnd.jupyter.widget-view+json": {
       "model_id": "7e8d023c9ec84e0ab09e0c685fd773e6",
       "version_major": 2,
       "version_minor": 0
      },
      "text/plain": [
       "  0%|          | 0/4 [00:00<?, ?it/s]"
      ]
     },
     "metadata": {},
     "output_type": "display_data"
    }
   ],
   "source": [
    "fold_function = fold_limb_rotation.fold_rotation_function\n",
    "model.data = dataset.sample(frac=0.2)\n",
    "s0 = model.create_and_add_folded_foliation('s0',\n",
    "                                           fold_frame=s1,\n",
    "                                            # limb_wl=500,\n",
    "                                            av_fold_axis=True,\n",
    "                                            limb_function=fold_function,\n",
    "                                            nelements=1e5,\n",
    "                                            solver='cg',\n",
    "                                            buffer=0.3,\n",
    "                                            damp=True)\n",
    "model.update()\n",
    "# s0.fold.fold_limb_rotation.fitted_params = theta"
   ]
  },
  {
   "cell_type": "markdown",
   "id": "df1df1cc-90a0-441a-b797-61e7cbe5e4e9",
   "metadata": {},
   "source": [
    "- Check the fold limb rotation angle if it is correct"
   ]
  },
  {
   "cell_type": "code",
   "execution_count": 12,
   "id": "4699a51d-e8c5-45fc-b278-de7a841f1ac6",
   "metadata": {},
   "outputs": [
    {
     "data": {
      "image/png": "[encoded data removed]",
      "text/plain": [
       "<Figure size 3000x1500 with 4 Axes>"
      ]
     },
     "metadata": {},
     "output_type": "display_data"
    }
   ],
   "source": [
    "s0.set_model(model)\n",
    "plotter = RotationAnglePlotter(s0)\n",
    "plotter.default_titles()\n",
    "plotter.add_fold_limb_data()\n",
    "plotter.add_fold_limb_curve()\n",
    "# plotter.add_limb_svariogram()\n",
    "plt.show()"
   ]
  },
  {
   "cell_type": "markdown",
   "id": "4fcd7eac-aebd-4ea1-bd00-5b59d43db34c",
   "metadata": {},
   "source": [
    "- Visualise the 3D model of s0"
   ]
  },
  {
   "cell_type": "code",
   "execution_count": 13,
   "id": "56c1c6ce-9ae3-47a3-9d98-597d5987a26f",
   "metadata": {
    "scrolled": true
   },
   "outputs": [],
   "source": [
    "# viewer = LavaVuModelViewer(model, background='white')\n",
    "# viewer.nsteps = np.array([100, 100, 100])\n",
    "# t = viewer.add_scalar_field(s0, cmap='prism')\n",
    "# # viewer.lv.colourbar(t, align=(\"bottom\"))\n",
    "# viewer.lv.rotate([-63.015506744384766, -24.475210189819336, -8.501092910766602])\n",
    "# viewer.display()\n",
    "# viewer.interactive()"
   ]
  },
  {
   "cell_type": "markdown",
   "id": "987c0d9d-22d2-480f-b6f1-3ca362ca3159",
   "metadata": {},
   "source": [
    "# II. Axial surface optimisation"
   ]
  },
  {
   "cell_type": "markdown",
   "id": "ed20f250-526b-4e69-bcb4-63b7efca10da",
   "metadata": {},
   "source": [
    "- **write a brief intro of what will happen in this section**"
   ]
  },
  {
   "cell_type": "markdown",
   "id": "66831c2b-e0b5-4905-9d6e-c9fd9aef1e34",
   "metadata": {},
   "source": [
    "###### **1. Sampling S<sub>0</sub> from the reference model**  \n"
   ]
  },
  {
   "cell_type": "code",
   "execution_count": 14,
   "id": "6f6b2bac-ea96-40f3-9f9b-a324db4c4133",
   "metadata": {},
   "outputs": [],
   "source": [
    "# generate random locations within the model bouding box\n",
    "points = sample_random_dataset(xyz, sample_size=10, seed=180)\n",
    "# Evaluate the gradient of the folded foliation using points \n",
    "s0g = s0.evaluate_gradient(points) \n",
    "# normalise the gradient \n",
    "s0g /= np.linalg.norm(s0g, axis=1)[:, None] "
   ]
  },
  {
   "cell_type": "code",
   "execution_count": 15,
   "id": "e0656a9a-ddcf-4dd1-83c3-03280565311a",
   "metadata": {},
   "outputs": [],
   "source": [
    "test_data = pd.DataFrame()\n",
    "test_data['X'] = points[:, 0]\n",
    "test_data['Y'] = points[:, 1]\n",
    "test_data['Z'] = points[:, 2]\n",
    "test_data['gx'] = s0g[:, 0]\n",
    "test_data['gy'] = s0g[:, 1]\n",
    "test_data['gz'] = s0g[:, 2]\n",
    "test_data['feature_name'] = 's0'\n",
    "test_data['coord'] = 0"
   ]
  },
  {
   "cell_type": "code",
   "execution_count": 16,
   "id": "00d9bd2e-17a1-4f12-81dd-e716010f6c92",
   "metadata": {},
   "outputs": [],
   "source": [
    "aso = ASO(test_data, \n",
    "          bounding_box, \n",
    "          method='differential_evolution', \n",
    "          axial_surface_guess=[0, 90], \n",
    "          av_fold_axis=True\n",
    "         )"
   ]
  },
  {
   "cell_type": "code",
   "execution_count": 18,
   "id": "bd762c7b-1283-46cb-9c31-c4bfed342ade",
   "metadata": {
    "collapsed": true,
    "jupyter": {
     "outputs_hidden": true
    },
    "scrolled": true
   },
   "outputs": [
    {
     "data": {
      "application/vnd.jupyter.widget-view+json": {
       "model_id": "176130ab39804277b1428534d28d11fd",
       "version_major": 2,
       "version_minor": 0
      },
      "text/plain": [
       "  0%|          | 0/3 [00:00<?, ?it/s]"
      ]
     },
     "metadata": {},
     "output_type": "display_data"
    },
    {
     "name": "stderr",
     "output_type": "stream",
     "text": [
      "ERROR: 2023-10-26 11:25:18,427: _geological_feature_builder.py:266 -- Not enough constraints for scalar field add more\n",
      "WARNING: 2023-10-26 11:25:18,472: _discrete_interpolator.py:735 -- No solution, s1__2 scalar field 0. Add more data.\n"
     ]
    },
    {
     "data": {
      "application/vnd.jupyter.widget-view+json": {
       "model_id": "9b397fcc5ee442a59c9b48345f45647c",
       "version_major": 2,
       "version_minor": 0
      },
      "text/plain": [
       "  0%|          | 0/3 [00:00<?, ?it/s]"
      ]
     },
     "metadata": {},
     "output_type": "display_data"
    },
    {
     "name": "stderr",
     "output_type": "stream",
     "text": [
      "ERROR: 2023-10-26 11:25:20,026: _geological_feature_builder.py:266 -- Not enough constraints for scalar field add more\n",
      "WARNING: 2023-10-26 11:25:20,069: _discrete_interpolator.py:735 -- No solution, s1__2 scalar field 0. Add more data.\n"
     ]
    },
    {
     "data": {
      "application/vnd.jupyter.widget-view+json": {
       "model_id": "c7b15001f37b45bcbb8a858af009bd50",
       "version_major": 2,
       "version_minor": 0
      },
      "text/plain": [
       "  0%|          | 0/3 [00:00<?, ?it/s]"
      ]
     },
     "metadata": {},
     "output_type": "display_data"
    },
    {
     "name": "stderr",
     "output_type": "stream",
     "text": [
      "ERROR: 2023-10-26 11:25:21,503: _geological_feature_builder.py:266 -- Not enough constraints for scalar field add more\n",
      "WARNING: 2023-10-26 11:25:21,546: _discrete_interpolator.py:735 -- No solution, s1__2 scalar field 0. Add more data.\n"
     ]
    },
    {
     "data": {
      "application/vnd.jupyter.widget-view+json": {
       "model_id": "49cb8c209cc54ddd9b4203d2c2539d18",
       "version_major": 2,
       "version_minor": 0
      },
      "text/plain": [
       "  0%|          | 0/3 [00:00<?, ?it/s]"
      ]
     },
     "metadata": {},
     "output_type": "display_data"
    },
    {
     "name": "stderr",
     "output_type": "stream",
     "text": [
      "ERROR: 2023-10-26 11:25:22,852: _geological_feature_builder.py:266 -- Not enough constraints for scalar field add more\n",
      "WARNING: 2023-10-26 11:25:22,895: _discrete_interpolator.py:735 -- No solution, s1__2 scalar field 0. Add more data.\n"
     ]
    },
    {
     "data": {
      "application/vnd.jupyter.widget-view+json": {
       "model_id": "7b2f4c3d393f49978802c5673296cf83",
       "version_major": 2,
       "version_minor": 0
      },
      "text/plain": [
       "  0%|          | 0/3 [00:00<?, ?it/s]"
      ]
     },
     "metadata": {},
     "output_type": "display_data"
    },
    {
     "name": "stderr",
     "output_type": "stream",
     "text": [
      "ERROR: 2023-10-26 11:25:24,206: _geological_feature_builder.py:266 -- Not enough constraints for scalar field add more\n",
      "WARNING: 2023-10-26 11:25:24,250: _discrete_interpolator.py:735 -- No solution, s1__2 scalar field 0. Add more data.\n"
     ]
    },
    {
     "data": {
      "application/vnd.jupyter.widget-view+json": {
       "model_id": "d54e0de007624b4da121cc2e37b0404b",
       "version_major": 2,
       "version_minor": 0
      },
      "text/plain": [
       "  0%|          | 0/3 [00:00<?, ?it/s]"
      ]
     },
     "metadata": {},
     "output_type": "display_data"
    },
    {
     "name": "stderr",
     "output_type": "stream",
     "text": [
      "ERROR: 2023-10-26 11:25:25,623: _geological_feature_builder.py:266 -- Not enough constraints for scalar field add more\n",
      "WARNING: 2023-10-26 11:25:25,668: _discrete_interpolator.py:735 -- No solution, s1__2 scalar field 0. Add more data.\n"
     ]
    },
    {
     "data": {
      "application/vnd.jupyter.widget-view+json": {
       "model_id": "f3dddde70435424488c462035b98683c",
       "version_major": 2,
       "version_minor": 0
      },
      "text/plain": [
       "  0%|          | 0/3 [00:00<?, ?it/s]"
      ]
     },
     "metadata": {},
     "output_type": "display_data"
    },
    {
     "name": "stderr",
     "output_type": "stream",
     "text": [
      "ERROR: 2023-10-26 11:25:27,106: _geological_feature_builder.py:266 -- Not enough constraints for scalar field add more\n",
      "WARNING: 2023-10-26 11:25:27,156: _discrete_interpolator.py:735 -- No solution, s1__2 scalar field 0. Add more data.\n"
     ]
    },
    {
     "data": {
      "application/vnd.jupyter.widget-view+json": {
       "model_id": "d080785638024aab937dfd581121106e",
       "version_major": 2,
       "version_minor": 0
      },
      "text/plain": [
       "  0%|          | 0/3 [00:00<?, ?it/s]"
      ]
     },
     "metadata": {},
     "output_type": "display_data"
    },
    {
     "name": "stderr",
     "output_type": "stream",
     "text": [
      "ERROR: 2023-10-26 11:25:28,611: _geological_feature_builder.py:266 -- Not enough constraints for scalar field add more\n",
      "WARNING: 2023-10-26 11:25:28,660: _discrete_interpolator.py:735 -- No solution, s1__2 scalar field 0. Add more data.\n"
     ]
    },
    {
     "data": {
      "application/vnd.jupyter.widget-view+json": {
       "model_id": "c580471672714452bce600060eada8c3",
       "version_major": 2,
       "version_minor": 0
      },
      "text/plain": [
       "  0%|          | 0/3 [00:00<?, ?it/s]"
      ]
     },
     "metadata": {},
     "output_type": "display_data"
    },
    {
     "name": "stderr",
     "output_type": "stream",
     "text": [
      "ERROR: 2023-10-26 11:25:30,107: _geological_feature_builder.py:266 -- Not enough constraints for scalar field add more\n",
      "WARNING: 2023-10-26 11:25:30,155: _discrete_interpolator.py:735 -- No solution, s1__2 scalar field 0. Add more data.\n"
     ]
    },
    {
     "data": {
      "application/vnd.jupyter.widget-view+json": {
       "model_id": "46e0a7b6d01f4533967ba627518e00ca",
       "version_major": 2,
       "version_minor": 0
      },
      "text/plain": [
       "  0%|          | 0/3 [00:00<?, ?it/s]"
      ]
     },
     "metadata": {},
     "output_type": "display_data"
    },
    {
     "name": "stderr",
     "output_type": "stream",
     "text": [
      "ERROR: 2023-10-26 11:25:31,610: _geological_feature_builder.py:266 -- Not enough constraints for scalar field add more\n",
      "WARNING: 2023-10-26 11:25:31,656: _discrete_interpolator.py:735 -- No solution, s1__2 scalar field 0. Add more data.\n"
     ]
    },
    {
     "data": {
      "application/vnd.jupyter.widget-view+json": {
       "model_id": "3e2bd80b60a74a098bb1eb19ee59b8bc",
       "version_major": 2,
       "version_minor": 0
      },
      "text/plain": [
       "  0%|          | 0/3 [00:00<?, ?it/s]"
      ]
     },
     "metadata": {},
     "output_type": "display_data"
    },
    {
     "name": "stderr",
     "output_type": "stream",
     "text": [
      "ERROR: 2023-10-26 11:25:32,959: _geological_feature_builder.py:266 -- Not enough constraints for scalar field add more\n",
      "WARNING: 2023-10-26 11:25:33,006: _discrete_interpolator.py:735 -- No solution, s1__2 scalar field 0. Add more data.\n"
     ]
    },
    {
     "data": {
      "application/vnd.jupyter.widget-view+json": {
       "model_id": "9a9a6836b709467fa35cfbe233ec38af",
       "version_major": 2,
       "version_minor": 0
      },
      "text/plain": [
       "  0%|          | 0/3 [00:00<?, ?it/s]"
      ]
     },
     "metadata": {},
     "output_type": "display_data"
    },
    {
     "name": "stderr",
     "output_type": "stream",
     "text": [
      "ERROR: 2023-10-26 11:25:34,507: _geological_feature_builder.py:266 -- Not enough constraints for scalar field add more\n",
      "WARNING: 2023-10-26 11:25:34,554: _discrete_interpolator.py:735 -- No solution, s1__2 scalar field 0. Add more data.\n"
     ]
    },
    {
     "data": {
      "application/vnd.jupyter.widget-view+json": {
       "model_id": "eb2df3035af440c4888a8651078bfb87",
       "version_major": 2,
       "version_minor": 0
      },
      "text/plain": [
       "  0%|          | 0/3 [00:00<?, ?it/s]"
      ]
     },
     "metadata": {},
     "output_type": "display_data"
    },
    {
     "name": "stderr",
     "output_type": "stream",
     "text": [
      "ERROR: 2023-10-26 11:25:35,897: _geological_feature_builder.py:266 -- Not enough constraints for scalar field add more\n",
      "WARNING: 2023-10-26 11:25:35,945: _discrete_interpolator.py:735 -- No solution, s1__2 scalar field 0. Add more data.\n"
     ]
    },
    {
     "data": {
      "application/vnd.jupyter.widget-view+json": {
       "model_id": "8b9df491a13141bf9d265aecf0a85216",
       "version_major": 2,
       "version_minor": 0
      },
      "text/plain": [
       "  0%|          | 0/3 [00:00<?, ?it/s]"
      ]
     },
     "metadata": {},
     "output_type": "display_data"
    },
    {
     "name": "stderr",
     "output_type": "stream",
     "text": [
      "ERROR: 2023-10-26 11:25:37,279: _geological_feature_builder.py:266 -- Not enough constraints for scalar field add more\n",
      "WARNING: 2023-10-26 11:25:37,327: _discrete_interpolator.py:735 -- No solution, s1__2 scalar field 0. Add more data.\n"
     ]
    },
    {
     "data": {
      "application/vnd.jupyter.widget-view+json": {
       "model_id": "96b8a92b0a89482b8bf8c7942ffa0e87",
       "version_major": 2,
       "version_minor": 0
      },
      "text/plain": [
       "  0%|          | 0/3 [00:00<?, ?it/s]"
      ]
     },
     "metadata": {},
     "output_type": "display_data"
    },
    {
     "name": "stderr",
     "output_type": "stream",
     "text": [
      "ERROR: 2023-10-26 11:25:38,724: _geological_feature_builder.py:266 -- Not enough constraints for scalar field add more\n",
      "WARNING: 2023-10-26 11:25:38,774: _discrete_interpolator.py:735 -- No solution, s1__2 scalar field 0. Add more data.\n"
     ]
    },
    {
     "data": {
      "application/vnd.jupyter.widget-view+json": {
       "model_id": "b8acc79479d14fb08854927a7a58444d",
       "version_major": 2,
       "version_minor": 0
      },
      "text/plain": [
       "  0%|          | 0/3 [00:00<?, ?it/s]"
      ]
     },
     "metadata": {},
     "output_type": "display_data"
    },
    {
     "name": "stderr",
     "output_type": "stream",
     "text": [
      "ERROR: 2023-10-26 11:25:40,180: _geological_feature_builder.py:266 -- Not enough constraints for scalar field add more\n",
      "WARNING: 2023-10-26 11:25:40,226: _discrete_interpolator.py:735 -- No solution, s1__2 scalar field 0. Add more data.\n"
     ]
    },
    {
     "data": {
      "application/vnd.jupyter.widget-view+json": {
       "model_id": "928ad12bd69c4f7394a4b5957320e97c",
       "version_major": 2,
       "version_minor": 0
      },
      "text/plain": [
       "  0%|          | 0/3 [00:00<?, ?it/s]"
      ]
     },
     "metadata": {},
     "output_type": "display_data"
    },
    {
     "name": "stderr",
     "output_type": "stream",
     "text": [
      "ERROR: 2023-10-26 11:25:41,390: _geological_feature_builder.py:266 -- Not enough constraints for scalar field add more\n",
      "WARNING: 2023-10-26 11:25:41,435: _discrete_interpolator.py:735 -- No solution, s1__2 scalar field 0. Add more data.\n"
     ]
    },
    {
     "data": {
      "application/vnd.jupyter.widget-view+json": {
       "model_id": "c4b3fdc931dd441a9c4b4cca8c951325",
       "version_major": 2,
       "version_minor": 0
      },
      "text/plain": [
       "  0%|          | 0/3 [00:00<?, ?it/s]"
      ]
     },
     "metadata": {},
     "output_type": "display_data"
    },
    {
     "name": "stderr",
     "output_type": "stream",
     "text": [
      "ERROR: 2023-10-26 11:25:42,702: _geological_feature_builder.py:266 -- Not enough constraints for scalar field add more\n",
      "WARNING: 2023-10-26 11:25:42,751: _discrete_interpolator.py:735 -- No solution, s1__2 scalar field 0. Add more data.\n"
     ]
    },
    {
     "data": {
      "application/vnd.jupyter.widget-view+json": {
       "model_id": "a534ca3120424e76b0246815bf795348",
       "version_major": 2,
       "version_minor": 0
      },
      "text/plain": [
       "  0%|          | 0/3 [00:00<?, ?it/s]"
      ]
     },
     "metadata": {},
     "output_type": "display_data"
    },
    {
     "name": "stderr",
     "output_type": "stream",
     "text": [
      "ERROR: 2023-10-26 11:25:44,102: _geological_feature_builder.py:266 -- Not enough constraints for scalar field add more\n",
      "WARNING: 2023-10-26 11:25:44,150: _discrete_interpolator.py:735 -- No solution, s1__2 scalar field 0. Add more data.\n"
     ]
    },
    {
     "data": {
      "application/vnd.jupyter.widget-view+json": {
       "model_id": "11d321bae34f4d9db13e2646cb8887a9",
       "version_major": 2,
       "version_minor": 0
      },
      "text/plain": [
       "  0%|          | 0/3 [00:00<?, ?it/s]"
      ]
     },
     "metadata": {},
     "output_type": "display_data"
    },
    {
     "name": "stderr",
     "output_type": "stream",
     "text": [
      "ERROR: 2023-10-26 11:25:45,565: _geological_feature_builder.py:266 -- Not enough constraints for scalar field add more\n",
      "WARNING: 2023-10-26 11:25:45,613: _discrete_interpolator.py:735 -- No solution, s1__2 scalar field 0. Add more data.\n"
     ]
    },
    {
     "data": {
      "application/vnd.jupyter.widget-view+json": {
       "model_id": "898dd059e3954121bc5370ba88307162",
       "version_major": 2,
       "version_minor": 0
      },
      "text/plain": [
       "  0%|          | 0/3 [00:00<?, ?it/s]"
      ]
     },
     "metadata": {},
     "output_type": "display_data"
    },
    {
     "name": "stderr",
     "output_type": "stream",
     "text": [
      "ERROR: 2023-10-26 11:25:47,471: _geological_feature_builder.py:266 -- Not enough constraints for scalar field add more\n",
      "WARNING: 2023-10-26 11:25:47,518: _discrete_interpolator.py:735 -- No solution, s1__2 scalar field 0. Add more data.\n"
     ]
    },
    {
     "data": {
      "application/vnd.jupyter.widget-view+json": {
       "model_id": "581ab0ef9ac14109be76fa9831401d0b",
       "version_major": 2,
       "version_minor": 0
      },
      "text/plain": [
       "  0%|          | 0/3 [00:00<?, ?it/s]"
      ]
     },
     "metadata": {},
     "output_type": "display_data"
    },
    {
     "name": "stderr",
     "output_type": "stream",
     "text": [
      "ERROR: 2023-10-26 11:26:01,744: _geological_feature_builder.py:266 -- Not enough constraints for scalar field add more\n",
      "WARNING: 2023-10-26 11:26:01,791: _discrete_interpolator.py:735 -- No solution, s1__2 scalar field 0. Add more data.\n"
     ]
    },
    {
     "data": {
      "application/vnd.jupyter.widget-view+json": {
       "model_id": "f702256773774d6085a7d48e40776b84",
       "version_major": 2,
       "version_minor": 0
      },
      "text/plain": [
       "  0%|          | 0/3 [00:00<?, ?it/s]"
      ]
     },
     "metadata": {},
     "output_type": "display_data"
    },
    {
     "name": "stderr",
     "output_type": "stream",
     "text": [
      "ERROR: 2023-10-26 11:26:03,271: _geological_feature_builder.py:266 -- Not enough constraints for scalar field add more\n",
      "WARNING: 2023-10-26 11:26:03,320: _discrete_interpolator.py:735 -- No solution, s1__2 scalar field 0. Add more data.\n"
     ]
    },
    {
     "data": {
      "application/vnd.jupyter.widget-view+json": {
       "model_id": "f28cd348bb074452b516d82a6ac597d2",
       "version_major": 2,
       "version_minor": 0
      },
      "text/plain": [
       "  0%|          | 0/3 [00:00<?, ?it/s]"
      ]
     },
     "metadata": {},
     "output_type": "display_data"
    },
    {
     "name": "stderr",
     "output_type": "stream",
     "text": [
      "ERROR: 2023-10-26 11:26:04,881: _geological_feature_builder.py:266 -- Not enough constraints for scalar field add more\n",
      "WARNING: 2023-10-26 11:26:04,946: _discrete_interpolator.py:735 -- No solution, s1__2 scalar field 0. Add more data.\n"
     ]
    },
    {
     "data": {
      "application/vnd.jupyter.widget-view+json": {
       "model_id": "e873f69e6b10436d9f22d3b1b455b019",
       "version_major": 2,
       "version_minor": 0
      },
      "text/plain": [
       "  0%|          | 0/3 [00:00<?, ?it/s]"
      ]
     },
     "metadata": {},
     "output_type": "display_data"
    },
    {
     "name": "stderr",
     "output_type": "stream",
     "text": [
      "ERROR: 2023-10-26 11:26:06,850: _geological_feature_builder.py:266 -- Not enough constraints for scalar field add more\n",
      "WARNING: 2023-10-26 11:26:06,911: _discrete_interpolator.py:735 -- No solution, s1__2 scalar field 0. Add more data.\n"
     ]
    },
    {
     "data": {
      "application/vnd.jupyter.widget-view+json": {
       "model_id": "808d72743af5478cb2970cd487f11153",
       "version_major": 2,
       "version_minor": 0
      },
      "text/plain": [
       "  0%|          | 0/3 [00:00<?, ?it/s]"
      ]
     },
     "metadata": {},
     "output_type": "display_data"
    },
    {
     "name": "stderr",
     "output_type": "stream",
     "text": [
      "ERROR: 2023-10-26 11:26:11,977: _geological_feature_builder.py:266 -- Not enough constraints for scalar field add more\n",
      "WARNING: 2023-10-26 11:26:12,042: _discrete_interpolator.py:735 -- No solution, s1__2 scalar field 0. Add more data.\n"
     ]
    },
    {
     "data": {
      "application/vnd.jupyter.widget-view+json": {
       "model_id": "0dca36fa55074c5db814522c9bbc24e6",
       "version_major": 2,
       "version_minor": 0
      },
      "text/plain": [
       "  0%|          | 0/3 [00:00<?, ?it/s]"
      ]
     },
     "metadata": {},
     "output_type": "display_data"
    },
    {
     "name": "stderr",
     "output_type": "stream",
     "text": [
      "ERROR: 2023-10-26 11:26:13,837: _geological_feature_builder.py:266 -- Not enough constraints for scalar field add more\n",
      "WARNING: 2023-10-26 11:26:13,900: _discrete_interpolator.py:735 -- No solution, s1__2 scalar field 0. Add more data.\n"
     ]
    },
    {
     "data": {
      "application/vnd.jupyter.widget-view+json": {
       "model_id": "d85216e91aa04bf182f5896e26fa1589",
       "version_major": 2,
       "version_minor": 0
      },
      "text/plain": [
       "  0%|          | 0/3 [00:00<?, ?it/s]"
      ]
     },
     "metadata": {},
     "output_type": "display_data"
    },
    {
     "name": "stderr",
     "output_type": "stream",
     "text": [
      "ERROR: 2023-10-26 11:26:15,540: _geological_feature_builder.py:266 -- Not enough constraints for scalar field add more\n",
      "WARNING: 2023-10-26 11:26:15,609: _discrete_interpolator.py:735 -- No solution, s1__2 scalar field 0. Add more data.\n"
     ]
    },
    {
     "data": {
      "application/vnd.jupyter.widget-view+json": {
       "model_id": "e1ae0daa5692426284267a0855fe4df1",
       "version_major": 2,
       "version_minor": 0
      },
      "text/plain": [
       "  0%|          | 0/3 [00:00<?, ?it/s]"
      ]
     },
     "metadata": {},
     "output_type": "display_data"
    },
    {
     "name": "stderr",
     "output_type": "stream",
     "text": [
      "ERROR: 2023-10-26 11:26:17,442: _geological_feature_builder.py:266 -- Not enough constraints for scalar field add more\n",
      "WARNING: 2023-10-26 11:26:17,515: _discrete_interpolator.py:735 -- No solution, s1__2 scalar field 0. Add more data.\n"
     ]
    },
    {
     "data": {
      "application/vnd.jupyter.widget-view+json": {
       "model_id": "b7cc26e5c7ee4deebf6bf4b467d79862",
       "version_major": 2,
       "version_minor": 0
      },
      "text/plain": [
       "  0%|          | 0/3 [00:00<?, ?it/s]"
      ]
     },
     "metadata": {},
     "output_type": "display_data"
    },
    {
     "name": "stderr",
     "output_type": "stream",
     "text": [
      "ERROR: 2023-10-26 11:26:19,125: _geological_feature_builder.py:266 -- Not enough constraints for scalar field add more\n",
      "WARNING: 2023-10-26 11:26:19,196: _discrete_interpolator.py:735 -- No solution, s1__2 scalar field 0. Add more data.\n"
     ]
    },
    {
     "data": {
      "application/vnd.jupyter.widget-view+json": {
       "model_id": "505f0a55b5c047a1b6e593554d70330b",
       "version_major": 2,
       "version_minor": 0
      },
      "text/plain": [
       "  0%|          | 0/3 [00:00<?, ?it/s]"
      ]
     },
     "metadata": {},
     "output_type": "display_data"
    },
    {
     "name": "stderr",
     "output_type": "stream",
     "text": [
      "ERROR: 2023-10-26 11:26:21,544: _geological_feature_builder.py:266 -- Not enough constraints for scalar field add more\n",
      "WARNING: 2023-10-26 11:26:21,613: _discrete_interpolator.py:735 -- No solution, s1__2 scalar field 0. Add more data.\n"
     ]
    },
    {
     "data": {
      "application/vnd.jupyter.widget-view+json": {
       "model_id": "2a9fce2ad2c34e7a91cdaa739626887f",
       "version_major": 2,
       "version_minor": 0
      },
      "text/plain": [
       "  0%|          | 0/3 [00:00<?, ?it/s]"
      ]
     },
     "metadata": {},
     "output_type": "display_data"
    },
    {
     "name": "stderr",
     "output_type": "stream",
     "text": [
      "ERROR: 2023-10-26 11:26:23,988: _geological_feature_builder.py:266 -- Not enough constraints for scalar field add more\n",
      "WARNING: 2023-10-26 11:26:24,059: _discrete_interpolator.py:735 -- No solution, s1__2 scalar field 0. Add more data.\n"
     ]
    },
    {
     "data": {
      "application/vnd.jupyter.widget-view+json": {
       "model_id": "53f50f92cbd84c2680012dab16be8f2c",
       "version_major": 2,
       "version_minor": 0
      },
      "text/plain": [
       "  0%|          | 0/3 [00:00<?, ?it/s]"
      ]
     },
     "metadata": {},
     "output_type": "display_data"
    },
    {
     "name": "stderr",
     "output_type": "stream",
     "text": [
      "ERROR: 2023-10-26 11:26:26,897: _geological_feature_builder.py:266 -- Not enough constraints for scalar field add more\n",
      "WARNING: 2023-10-26 11:26:26,971: _discrete_interpolator.py:735 -- No solution, s1__2 scalar field 0. Add more data.\n"
     ]
    },
    {
     "data": {
      "application/vnd.jupyter.widget-view+json": {
       "model_id": "59b99aef6a514d7fbdcddefa97881e92",
       "version_major": 2,
       "version_minor": 0
      },
      "text/plain": [
       "  0%|          | 0/3 [00:00<?, ?it/s]"
      ]
     },
     "metadata": {},
     "output_type": "display_data"
    },
    {
     "name": "stderr",
     "output_type": "stream",
     "text": [
      "ERROR: 2023-10-26 11:26:35,141: _geological_feature_builder.py:266 -- Not enough constraints for scalar field add more\n",
      "WARNING: 2023-10-26 11:26:35,209: _discrete_interpolator.py:735 -- No solution, s1__2 scalar field 0. Add more data.\n"
     ]
    },
    {
     "data": {
      "application/vnd.jupyter.widget-view+json": {
       "model_id": "86a171a489c44cc1a7ac107dc5980714",
       "version_major": 2,
       "version_minor": 0
      },
      "text/plain": [
       "  0%|          | 0/3 [00:00<?, ?it/s]"
      ]
     },
     "metadata": {},
     "output_type": "display_data"
    },
    {
     "name": "stderr",
     "output_type": "stream",
     "text": [
      "ERROR: 2023-10-26 11:26:37,846: _geological_feature_builder.py:266 -- Not enough constraints for scalar field add more\n",
      "WARNING: 2023-10-26 11:26:37,917: _discrete_interpolator.py:735 -- No solution, s1__2 scalar field 0. Add more data.\n"
     ]
    },
    {
     "data": {
      "application/vnd.jupyter.widget-view+json": {
       "model_id": "fe345c9f84964e9796f87aed078416cc",
       "version_major": 2,
       "version_minor": 0
      },
      "text/plain": [
       "  0%|          | 0/3 [00:00<?, ?it/s]"
      ]
     },
     "metadata": {},
     "output_type": "display_data"
    },
    {
     "name": "stderr",
     "output_type": "stream",
     "text": [
      "ERROR: 2023-10-26 11:26:40,006: _geological_feature_builder.py:266 -- Not enough constraints for scalar field add more\n",
      "WARNING: 2023-10-26 11:26:40,075: _discrete_interpolator.py:735 -- No solution, s1__2 scalar field 0. Add more data.\n"
     ]
    },
    {
     "data": {
      "application/vnd.jupyter.widget-view+json": {
       "model_id": "109647be0db64d19ac8c7a8dd0bb50d5",
       "version_major": 2,
       "version_minor": 0
      },
      "text/plain": [
       "  0%|          | 0/3 [00:00<?, ?it/s]"
      ]
     },
     "metadata": {},
     "output_type": "display_data"
    },
    {
     "name": "stderr",
     "output_type": "stream",
     "text": [
      "ERROR: 2023-10-26 11:26:42,152: _geological_feature_builder.py:266 -- Not enough constraints for scalar field add more\n",
      "WARNING: 2023-10-26 11:26:42,219: _discrete_interpolator.py:735 -- No solution, s1__2 scalar field 0. Add more data.\n"
     ]
    },
    {
     "data": {
      "application/vnd.jupyter.widget-view+json": {
       "model_id": "d8bbaa39aea3427fa8184d9c01f6eb33",
       "version_major": 2,
       "version_minor": 0
      },
      "text/plain": [
       "  0%|          | 0/3 [00:00<?, ?it/s]"
      ]
     },
     "metadata": {},
     "output_type": "display_data"
    },
    {
     "name": "stderr",
     "output_type": "stream",
     "text": [
      "ERROR: 2023-10-26 11:26:44,107: _geological_feature_builder.py:266 -- Not enough constraints for scalar field add more\n",
      "WARNING: 2023-10-26 11:26:44,176: _discrete_interpolator.py:735 -- No solution, s1__2 scalar field 0. Add more data.\n"
     ]
    },
    {
     "data": {
      "application/vnd.jupyter.widget-view+json": {
       "model_id": "592ec78da2cd4bc885b41eba6550bc8a",
       "version_major": 2,
       "version_minor": 0
      },
      "text/plain": [
       "  0%|          | 0/3 [00:00<?, ?it/s]"
      ]
     },
     "metadata": {},
     "output_type": "display_data"
    },
    {
     "name": "stderr",
     "output_type": "stream",
     "text": [
      "ERROR: 2023-10-26 11:26:46,136: _geological_feature_builder.py:266 -- Not enough constraints for scalar field add more\n",
      "WARNING: 2023-10-26 11:26:46,205: _discrete_interpolator.py:735 -- No solution, s1__2 scalar field 0. Add more data.\n"
     ]
    },
    {
     "data": {
      "application/vnd.jupyter.widget-view+json": {
       "model_id": "5e2d8614a4a44ab48cb30d6387885756",
       "version_major": 2,
       "version_minor": 0
      },
      "text/plain": [
       "  0%|          | 0/3 [00:00<?, ?it/s]"
      ]
     },
     "metadata": {},
     "output_type": "display_data"
    },
    {
     "name": "stderr",
     "output_type": "stream",
     "text": [
      "ERROR: 2023-10-26 11:26:50,159: _geological_feature_builder.py:266 -- Not enough constraints for scalar field add more\n",
      "WARNING: 2023-10-26 11:26:50,235: _discrete_interpolator.py:735 -- No solution, s1__2 scalar field 0. Add more data.\n"
     ]
    },
    {
     "data": {
      "application/vnd.jupyter.widget-view+json": {
       "model_id": "7159049ad4f8476c8317711f0db809bd",
       "version_major": 2,
       "version_minor": 0
      },
      "text/plain": [
       "  0%|          | 0/3 [00:00<?, ?it/s]"
      ]
     },
     "metadata": {},
     "output_type": "display_data"
    },
    {
     "name": "stderr",
     "output_type": "stream",
     "text": [
      "ERROR: 2023-10-26 11:26:52,441: _geological_feature_builder.py:266 -- Not enough constraints for scalar field add more\n",
      "WARNING: 2023-10-26 11:26:52,505: _discrete_interpolator.py:735 -- No solution, s1__2 scalar field 0. Add more data.\n"
     ]
    },
    {
     "data": {
      "application/vnd.jupyter.widget-view+json": {
       "model_id": "e1715591047a488f8feb1f3fe9c08738",
       "version_major": 2,
       "version_minor": 0
      },
      "text/plain": [
       "  0%|          | 0/3 [00:00<?, ?it/s]"
      ]
     },
     "metadata": {},
     "output_type": "display_data"
    },
    {
     "name": "stderr",
     "output_type": "stream",
     "text": [
      "ERROR: 2023-10-26 11:26:54,265: _geological_feature_builder.py:266 -- Not enough constraints for scalar field add more\n",
      "WARNING: 2023-10-26 11:26:54,336: _discrete_interpolator.py:735 -- No solution, s1__2 scalar field 0. Add more data.\n"
     ]
    },
    {
     "data": {
      "application/vnd.jupyter.widget-view+json": {
       "model_id": "bf485221cdd74f9ebce90707d15b2634",
       "version_major": 2,
       "version_minor": 0
      },
      "text/plain": [
       "  0%|          | 0/3 [00:00<?, ?it/s]"
      ]
     },
     "metadata": {},
     "output_type": "display_data"
    },
    {
     "name": "stderr",
     "output_type": "stream",
     "text": [
      "ERROR: 2023-10-26 11:26:56,082: _geological_feature_builder.py:266 -- Not enough constraints for scalar field add more\n",
      "WARNING: 2023-10-26 11:26:56,152: _discrete_interpolator.py:735 -- No solution, s1__2 scalar field 0. Add more data.\n"
     ]
    },
    {
     "data": {
      "application/vnd.jupyter.widget-view+json": {
       "model_id": "ea6d151496884800955f0d89a37ce832",
       "version_major": 2,
       "version_minor": 0
      },
      "text/plain": [
       "  0%|          | 0/3 [00:00<?, ?it/s]"
      ]
     },
     "metadata": {},
     "output_type": "display_data"
    },
    {
     "name": "stderr",
     "output_type": "stream",
     "text": [
      "ERROR: 2023-10-26 11:26:58,289: _geological_feature_builder.py:266 -- Not enough constraints for scalar field add more\n",
      "WARNING: 2023-10-26 11:26:58,358: _discrete_interpolator.py:735 -- No solution, s1__2 scalar field 0. Add more data.\n"
     ]
    },
    {
     "data": {
      "application/vnd.jupyter.widget-view+json": {
       "model_id": "f73198b7840f4e5a82a921b5d11e5199",
       "version_major": 2,
       "version_minor": 0
      },
      "text/plain": [
       "  0%|          | 0/3 [00:00<?, ?it/s]"
      ]
     },
     "metadata": {},
     "output_type": "display_data"
    },
    {
     "name": "stderr",
     "output_type": "stream",
     "text": [
      "ERROR: 2023-10-26 11:27:00,501: _geological_feature_builder.py:266 -- Not enough constraints for scalar field add more\n",
      "WARNING: 2023-10-26 11:27:00,574: _discrete_interpolator.py:735 -- No solution, s1__2 scalar field 0. Add more data.\n"
     ]
    },
    {
     "data": {
      "application/vnd.jupyter.widget-view+json": {
       "model_id": "b30eb1a993ce44bab64edc04dacc6da7",
       "version_major": 2,
       "version_minor": 0
      },
      "text/plain": [
       "  0%|          | 0/3 [00:00<?, ?it/s]"
      ]
     },
     "metadata": {},
     "output_type": "display_data"
    },
    {
     "name": "stderr",
     "output_type": "stream",
     "text": [
      "ERROR: 2023-10-26 11:27:02,388: _geological_feature_builder.py:266 -- Not enough constraints for scalar field add more\n",
      "WARNING: 2023-10-26 11:27:02,459: _discrete_interpolator.py:735 -- No solution, s1__2 scalar field 0. Add more data.\n"
     ]
    },
    {
     "data": {
      "application/vnd.jupyter.widget-view+json": {
       "model_id": "26e307b981f94e1e8c6596854fabc114",
       "version_major": 2,
       "version_minor": 0
      },
      "text/plain": [
       "  0%|          | 0/3 [00:00<?, ?it/s]"
      ]
     },
     "metadata": {},
     "output_type": "display_data"
    },
    {
     "name": "stderr",
     "output_type": "stream",
     "text": [
      "ERROR: 2023-10-26 11:27:04,332: _geological_feature_builder.py:266 -- Not enough constraints for scalar field add more\n",
      "WARNING: 2023-10-26 11:27:04,402: _discrete_interpolator.py:735 -- No solution, s1__2 scalar field 0. Add more data.\n"
     ]
    },
    {
     "data": {
      "application/vnd.jupyter.widget-view+json": {
       "model_id": "e8b362e6de214f48a8f6f13bcd6f7d18",
       "version_major": 2,
       "version_minor": 0
      },
      "text/plain": [
       "  0%|          | 0/3 [00:00<?, ?it/s]"
      ]
     },
     "metadata": {},
     "output_type": "display_data"
    },
    {
     "name": "stderr",
     "output_type": "stream",
     "text": [
      "ERROR: 2023-10-26 11:27:06,109: _geological_feature_builder.py:266 -- Not enough constraints for scalar field add more\n",
      "WARNING: 2023-10-26 11:27:06,182: _discrete_interpolator.py:735 -- No solution, s1__2 scalar field 0. Add more data.\n"
     ]
    },
    {
     "data": {
      "application/vnd.jupyter.widget-view+json": {
       "model_id": "36d9d1b3a5b34a0ebc94a44548174419",
       "version_major": 2,
       "version_minor": 0
      },
      "text/plain": [
       "  0%|          | 0/3 [00:00<?, ?it/s]"
      ]
     },
     "metadata": {},
     "output_type": "display_data"
    },
    {
     "name": "stderr",
     "output_type": "stream",
     "text": [
      "ERROR: 2023-10-26 11:27:10,504: _geological_feature_builder.py:266 -- Not enough constraints for scalar field add more\n",
      "WARNING: 2023-10-26 11:27:10,572: _discrete_interpolator.py:735 -- No solution, s1__2 scalar field 0. Add more data.\n"
     ]
    },
    {
     "data": {
      "application/vnd.jupyter.widget-view+json": {
       "model_id": "a4eb987202f74880be3abd6599a6ea05",
       "version_major": 2,
       "version_minor": 0
      },
      "text/plain": [
       "  0%|          | 0/3 [00:00<?, ?it/s]"
      ]
     },
     "metadata": {},
     "output_type": "display_data"
    },
    {
     "name": "stderr",
     "output_type": "stream",
     "text": [
      "ERROR: 2023-10-26 11:27:13,660: _geological_feature_builder.py:266 -- Not enough constraints for scalar field add more\n",
      "WARNING: 2023-10-26 11:27:13,721: _discrete_interpolator.py:735 -- No solution, s1__2 scalar field 0. Add more data.\n"
     ]
    },
    {
     "data": {
      "application/vnd.jupyter.widget-view+json": {
       "model_id": "108d3639c3c5441eb7d78bdfeab5b90e",
       "version_major": 2,
       "version_minor": 0
      },
      "text/plain": [
       "  0%|          | 0/3 [00:00<?, ?it/s]"
      ]
     },
     "metadata": {},
     "output_type": "display_data"
    },
    {
     "name": "stderr",
     "output_type": "stream",
     "text": [
      "ERROR: 2023-10-26 11:27:15,516: _geological_feature_builder.py:266 -- Not enough constraints for scalar field add more\n",
      "WARNING: 2023-10-26 11:27:15,586: _discrete_interpolator.py:735 -- No solution, s1__2 scalar field 0. Add more data.\n"
     ]
    },
    {
     "data": {
      "application/vnd.jupyter.widget-view+json": {
       "model_id": "b3b8cb62a729441ab66156f4014c7ac1",
       "version_major": 2,
       "version_minor": 0
      },
      "text/plain": [
       "  0%|          | 0/3 [00:00<?, ?it/s]"
      ]
     },
     "metadata": {},
     "output_type": "display_data"
    },
    {
     "name": "stderr",
     "output_type": "stream",
     "text": [
      "ERROR: 2023-10-26 11:27:17,246: _geological_feature_builder.py:266 -- Not enough constraints for scalar field add more\n",
      "WARNING: 2023-10-26 11:27:17,310: _discrete_interpolator.py:735 -- No solution, s1__2 scalar field 0. Add more data.\n"
     ]
    },
    {
     "data": {
      "application/vnd.jupyter.widget-view+json": {
       "model_id": "fd8324572d904fa6bb0b51cbf0525c3a",
       "version_major": 2,
       "version_minor": 0
      },
      "text/plain": [
       "  0%|          | 0/3 [00:00<?, ?it/s]"
      ]
     },
     "metadata": {},
     "output_type": "display_data"
    },
    {
     "name": "stderr",
     "output_type": "stream",
     "text": [
      "ERROR: 2023-10-26 11:27:20,599: _geological_feature_builder.py:266 -- Not enough constraints for scalar field add more\n",
      "WARNING: 2023-10-26 11:27:20,670: _discrete_interpolator.py:735 -- No solution, s1__2 scalar field 0. Add more data.\n"
     ]
    },
    {
     "data": {
      "application/vnd.jupyter.widget-view+json": {
       "model_id": "0ddf7a8abee14d0690c1124fdf975f98",
       "version_major": 2,
       "version_minor": 0
      },
      "text/plain": [
       "  0%|          | 0/3 [00:00<?, ?it/s]"
      ]
     },
     "metadata": {},
     "output_type": "display_data"
    },
    {
     "name": "stderr",
     "output_type": "stream",
     "text": [
      "ERROR: 2023-10-26 11:27:24,002: _geological_feature_builder.py:266 -- Not enough constraints for scalar field add more\n",
      "WARNING: 2023-10-26 11:27:24,071: _discrete_interpolator.py:735 -- No solution, s1__2 scalar field 0. Add more data.\n"
     ]
    },
    {
     "data": {
      "application/vnd.jupyter.widget-view+json": {
       "model_id": "54087cefcf0948cea58ef41cca3b081c",
       "version_major": 2,
       "version_minor": 0
      },
      "text/plain": [
       "  0%|          | 0/3 [00:00<?, ?it/s]"
      ]
     },
     "metadata": {},
     "output_type": "display_data"
    },
    {
     "name": "stderr",
     "output_type": "stream",
     "text": [
      "ERROR: 2023-10-26 11:27:25,816: _geological_feature_builder.py:266 -- Not enough constraints for scalar field add more\n",
      "WARNING: 2023-10-26 11:27:25,888: _discrete_interpolator.py:735 -- No solution, s1__2 scalar field 0. Add more data.\n"
     ]
    },
    {
     "data": {
      "application/vnd.jupyter.widget-view+json": {
       "model_id": "4b4ec71509054b41ae93d30fcc6e105f",
       "version_major": 2,
       "version_minor": 0
      },
      "text/plain": [
       "  0%|          | 0/3 [00:00<?, ?it/s]"
      ]
     },
     "metadata": {},
     "output_type": "display_data"
    },
    {
     "name": "stderr",
     "output_type": "stream",
     "text": [
      "ERROR: 2023-10-26 11:27:29,006: _geological_feature_builder.py:266 -- Not enough constraints for scalar field add more\n",
      "WARNING: 2023-10-26 11:27:29,079: _discrete_interpolator.py:735 -- No solution, s1__2 scalar field 0. Add more data.\n"
     ]
    },
    {
     "data": {
      "application/vnd.jupyter.widget-view+json": {
       "model_id": "6925891dd6a745499b4c231228cd4a1f",
       "version_major": 2,
       "version_minor": 0
      },
      "text/plain": [
       "  0%|          | 0/3 [00:00<?, ?it/s]"
      ]
     },
     "metadata": {},
     "output_type": "display_data"
    },
    {
     "name": "stderr",
     "output_type": "stream",
     "text": [
      "ERROR: 2023-10-26 11:27:37,136: _geological_feature_builder.py:266 -- Not enough constraints for scalar field add more\n",
      "WARNING: 2023-10-26 11:27:37,203: _discrete_interpolator.py:735 -- No solution, s1__2 scalar field 0. Add more data.\n"
     ]
    },
    {
     "data": {
      "application/vnd.jupyter.widget-view+json": {
       "model_id": "d3dc33d2460a46e0b186c8fe6152af47",
       "version_major": 2,
       "version_minor": 0
      },
      "text/plain": [
       "  0%|          | 0/3 [00:00<?, ?it/s]"
      ]
     },
     "metadata": {},
     "output_type": "display_data"
    },
    {
     "name": "stderr",
     "output_type": "stream",
     "text": [
      "ERROR: 2023-10-26 11:27:39,048: _geological_feature_builder.py:266 -- Not enough constraints for scalar field add more\n",
      "WARNING: 2023-10-26 11:27:39,111: _discrete_interpolator.py:735 -- No solution, s1__2 scalar field 0. Add more data.\n"
     ]
    },
    {
     "data": {
      "application/vnd.jupyter.widget-view+json": {
       "model_id": "f2b0953dca9f4394bf443a6e24f46436",
       "version_major": 2,
       "version_minor": 0
      },
      "text/plain": [
       "  0%|          | 0/3 [00:00<?, ?it/s]"
      ]
     },
     "metadata": {},
     "output_type": "display_data"
    },
    {
     "name": "stderr",
     "output_type": "stream",
     "text": [
      "ERROR: 2023-10-26 11:27:44,030: _geological_feature_builder.py:266 -- Not enough constraints for scalar field add more\n",
      "WARNING: 2023-10-26 11:27:44,093: _discrete_interpolator.py:735 -- No solution, s1__2 scalar field 0. Add more data.\n"
     ]
    },
    {
     "data": {
      "application/vnd.jupyter.widget-view+json": {
       "model_id": "100187857f894ef2a3c125804b33028a",
       "version_major": 2,
       "version_minor": 0
      },
      "text/plain": [
       "  0%|          | 0/3 [00:00<?, ?it/s]"
      ]
     },
     "metadata": {},
     "output_type": "display_data"
    },
    {
     "name": "stderr",
     "output_type": "stream",
     "text": [
      "ERROR: 2023-10-26 11:27:45,663: _geological_feature_builder.py:266 -- Not enough constraints for scalar field add more\n",
      "WARNING: 2023-10-26 11:27:45,725: _discrete_interpolator.py:735 -- No solution, s1__2 scalar field 0. Add more data.\n"
     ]
    },
    {
     "data": {
      "application/vnd.jupyter.widget-view+json": {
       "model_id": "55fb361aec654f64bc0c05a1dd9624e0",
       "version_major": 2,
       "version_minor": 0
      },
      "text/plain": [
       "  0%|          | 0/3 [00:00<?, ?it/s]"
      ]
     },
     "metadata": {},
     "output_type": "display_data"
    },
    {
     "name": "stderr",
     "output_type": "stream",
     "text": [
      "ERROR: 2023-10-26 11:27:47,683: _geological_feature_builder.py:266 -- Not enough constraints for scalar field add more\n",
      "WARNING: 2023-10-26 11:27:47,754: _discrete_interpolator.py:735 -- No solution, s1__2 scalar field 0. Add more data.\n"
     ]
    },
    {
     "data": {
      "application/vnd.jupyter.widget-view+json": {
       "model_id": "7991eec4d8754372bea0a354e3f86167",
       "version_major": 2,
       "version_minor": 0
      },
      "text/plain": [
       "  0%|          | 0/3 [00:00<?, ?it/s]"
      ]
     },
     "metadata": {},
     "output_type": "display_data"
    },
    {
     "name": "stderr",
     "output_type": "stream",
     "text": [
      "ERROR: 2023-10-26 11:27:49,459: _geological_feature_builder.py:266 -- Not enough constraints for scalar field add more\n",
      "WARNING: 2023-10-26 11:27:49,521: _discrete_interpolator.py:735 -- No solution, s1__2 scalar field 0. Add more data.\n"
     ]
    },
    {
     "data": {
      "application/vnd.jupyter.widget-view+json": {
       "model_id": "d62b72b7e85244d4bbc4400369db4695",
       "version_major": 2,
       "version_minor": 0
      },
      "text/plain": [
       "  0%|          | 0/3 [00:00<?, ?it/s]"
      ]
     },
     "metadata": {},
     "output_type": "display_data"
    },
    {
     "name": "stderr",
     "output_type": "stream",
     "text": [
      "ERROR: 2023-10-26 11:27:54,275: _geological_feature_builder.py:266 -- Not enough constraints for scalar field add more\n",
      "WARNING: 2023-10-26 11:27:54,341: _discrete_interpolator.py:735 -- No solution, s1__2 scalar field 0. Add more data.\n"
     ]
    },
    {
     "data": {
      "application/vnd.jupyter.widget-view+json": {
       "model_id": "5fdb6c36ef674a3a98f38d8a4225e426",
       "version_major": 2,
       "version_minor": 0
      },
      "text/plain": [
       "  0%|          | 0/3 [00:00<?, ?it/s]"
      ]
     },
     "metadata": {},
     "output_type": "display_data"
    },
    {
     "name": "stderr",
     "output_type": "stream",
     "text": [
      "ERROR: 2023-10-26 11:27:56,131: _geological_feature_builder.py:266 -- Not enough constraints for scalar field add more\n",
      "WARNING: 2023-10-26 11:27:56,196: _discrete_interpolator.py:735 -- No solution, s1__2 scalar field 0. Add more data.\n"
     ]
    },
    {
     "data": {
      "application/vnd.jupyter.widget-view+json": {
       "model_id": "7f011012555d4aadb2e497da5557437b",
       "version_major": 2,
       "version_minor": 0
      },
      "text/plain": [
       "  0%|          | 0/3 [00:00<?, ?it/s]"
      ]
     },
     "metadata": {},
     "output_type": "display_data"
    },
    {
     "name": "stderr",
     "output_type": "stream",
     "text": [
      "ERROR: 2023-10-26 11:27:57,914: _geological_feature_builder.py:266 -- Not enough constraints for scalar field add more\n",
      "WARNING: 2023-10-26 11:27:57,994: _discrete_interpolator.py:735 -- No solution, s1__2 scalar field 0. Add more data.\n"
     ]
    },
    {
     "data": {
      "application/vnd.jupyter.widget-view+json": {
       "model_id": "27ae4d71d18348fa954770bac60dc515",
       "version_major": 2,
       "version_minor": 0
      },
      "text/plain": [
       "  0%|          | 0/3 [00:00<?, ?it/s]"
      ]
     },
     "metadata": {},
     "output_type": "display_data"
    },
    {
     "name": "stderr",
     "output_type": "stream",
     "text": [
      "ERROR: 2023-10-26 11:27:59,656: _geological_feature_builder.py:266 -- Not enough constraints for scalar field add more\n",
      "WARNING: 2023-10-26 11:27:59,719: _discrete_interpolator.py:735 -- No solution, s1__2 scalar field 0. Add more data.\n"
     ]
    },
    {
     "data": {
      "application/vnd.jupyter.widget-view+json": {
       "model_id": "c27a98ab0d154ded82ea3300bc0c0de2",
       "version_major": 2,
       "version_minor": 0
      },
      "text/plain": [
       "  0%|          | 0/3 [00:00<?, ?it/s]"
      ]
     },
     "metadata": {},
     "output_type": "display_data"
    },
    {
     "name": "stderr",
     "output_type": "stream",
     "text": [
      "ERROR: 2023-10-26 11:28:01,550: _geological_feature_builder.py:266 -- Not enough constraints for scalar field add more\n",
      "WARNING: 2023-10-26 11:28:01,618: _discrete_interpolator.py:735 -- No solution, s1__2 scalar field 0. Add more data.\n"
     ]
    },
    {
     "data": {
      "application/vnd.jupyter.widget-view+json": {
       "model_id": "acb465b83dd44b859571c1f54defe194",
       "version_major": 2,
       "version_minor": 0
      },
      "text/plain": [
       "  0%|          | 0/3 [00:00<?, ?it/s]"
      ]
     },
     "metadata": {},
     "output_type": "display_data"
    },
    {
     "name": "stderr",
     "output_type": "stream",
     "text": [
      "ERROR: 2023-10-26 11:28:03,225: _geological_feature_builder.py:266 -- Not enough constraints for scalar field add more\n",
      "WARNING: 2023-10-26 11:28:03,295: _discrete_interpolator.py:735 -- No solution, s1__2 scalar field 0. Add more data.\n"
     ]
    },
    {
     "data": {
      "application/vnd.jupyter.widget-view+json": {
       "model_id": "9ec2d967111a4244be390fdae367af47",
       "version_major": 2,
       "version_minor": 0
      },
      "text/plain": [
       "  0%|          | 0/3 [00:00<?, ?it/s]"
      ]
     },
     "metadata": {},
     "output_type": "display_data"
    },
    {
     "name": "stderr",
     "output_type": "stream",
     "text": [
      "ERROR: 2023-10-26 11:28:04,790: _geological_feature_builder.py:266 -- Not enough constraints for scalar field add more\n",
      "WARNING: 2023-10-26 11:28:04,853: _discrete_interpolator.py:735 -- No solution, s1__2 scalar field 0. Add more data.\n"
     ]
    },
    {
     "data": {
      "application/vnd.jupyter.widget-view+json": {
       "model_id": "eb44f1bb0d5d462d8152e4d526bb40f9",
       "version_major": 2,
       "version_minor": 0
      },
      "text/plain": [
       "  0%|          | 0/3 [00:00<?, ?it/s]"
      ]
     },
     "metadata": {},
     "output_type": "display_data"
    },
    {
     "name": "stderr",
     "output_type": "stream",
     "text": [
      "ERROR: 2023-10-26 11:28:06,547: _geological_feature_builder.py:266 -- Not enough constraints for scalar field add more\n",
      "WARNING: 2023-10-26 11:28:06,620: _discrete_interpolator.py:735 -- No solution, s1__2 scalar field 0. Add more data.\n"
     ]
    },
    {
     "data": {
      "application/vnd.jupyter.widget-view+json": {
       "model_id": "2d22b268dfd84439a405a59872ee2b3e",
       "version_major": 2,
       "version_minor": 0
      },
      "text/plain": [
       "  0%|          | 0/3 [00:00<?, ?it/s]"
      ]
     },
     "metadata": {},
     "output_type": "display_data"
    },
    {
     "name": "stderr",
     "output_type": "stream",
     "text": [
      "ERROR: 2023-10-26 11:28:08,493: _geological_feature_builder.py:266 -- Not enough constraints for scalar field add more\n",
      "WARNING: 2023-10-26 11:28:08,560: _discrete_interpolator.py:735 -- No solution, s1__2 scalar field 0. Add more data.\n"
     ]
    },
    {
     "data": {
      "application/vnd.jupyter.widget-view+json": {
       "model_id": "92b705712f7b41c79ecd11cb331eecaa",
       "version_major": 2,
       "version_minor": 0
      },
      "text/plain": [
       "  0%|          | 0/3 [00:00<?, ?it/s]"
      ]
     },
     "metadata": {},
     "output_type": "display_data"
    },
    {
     "name": "stderr",
     "output_type": "stream",
     "text": [
      "ERROR: 2023-10-26 11:28:10,201: _geological_feature_builder.py:266 -- Not enough constraints for scalar field add more\n",
      "WARNING: 2023-10-26 11:28:10,264: _discrete_interpolator.py:735 -- No solution, s1__2 scalar field 0. Add more data.\n"
     ]
    },
    {
     "data": {
      "application/vnd.jupyter.widget-view+json": {
       "model_id": "bbb5ac2a9bf74dbabf605fc16e461ba2",
       "version_major": 2,
       "version_minor": 0
      },
      "text/plain": [
       "  0%|          | 0/3 [00:00<?, ?it/s]"
      ]
     },
     "metadata": {},
     "output_type": "display_data"
    },
    {
     "name": "stderr",
     "output_type": "stream",
     "text": [
      "ERROR: 2023-10-26 11:28:11,888: _geological_feature_builder.py:266 -- Not enough constraints for scalar field add more\n",
      "WARNING: 2023-10-26 11:28:11,954: _discrete_interpolator.py:735 -- No solution, s1__2 scalar field 0. Add more data.\n"
     ]
    },
    {
     "data": {
      "application/vnd.jupyter.widget-view+json": {
       "model_id": "987ed21280d840cb9c9e50c2800167ad",
       "version_major": 2,
       "version_minor": 0
      },
      "text/plain": [
       "  0%|          | 0/3 [00:00<?, ?it/s]"
      ]
     },
     "metadata": {},
     "output_type": "display_data"
    },
    {
     "name": "stderr",
     "output_type": "stream",
     "text": [
      "ERROR: 2023-10-26 11:28:13,595: _geological_feature_builder.py:266 -- Not enough constraints for scalar field add more\n",
      "WARNING: 2023-10-26 11:28:13,658: _discrete_interpolator.py:735 -- No solution, s1__2 scalar field 0. Add more data.\n"
     ]
    },
    {
     "data": {
      "application/vnd.jupyter.widget-view+json": {
       "model_id": "f73ae314608746ada0400a3d240ef26b",
       "version_major": 2,
       "version_minor": 0
      },
      "text/plain": [
       "  0%|          | 0/3 [00:00<?, ?it/s]"
      ]
     },
     "metadata": {},
     "output_type": "display_data"
    },
    {
     "name": "stderr",
     "output_type": "stream",
     "text": [
      "ERROR: 2023-10-26 11:28:15,557: _geological_feature_builder.py:266 -- Not enough constraints for scalar field add more\n",
      "WARNING: 2023-10-26 11:28:15,623: _discrete_interpolator.py:735 -- No solution, s1__2 scalar field 0. Add more data.\n"
     ]
    },
    {
     "data": {
      "application/vnd.jupyter.widget-view+json": {
       "model_id": "b9a705899211494ea38ea9d445e7b802",
       "version_major": 2,
       "version_minor": 0
      },
      "text/plain": [
       "  0%|          | 0/3 [00:00<?, ?it/s]"
      ]
     },
     "metadata": {},
     "output_type": "display_data"
    },
    {
     "name": "stderr",
     "output_type": "stream",
     "text": [
      "ERROR: 2023-10-26 11:28:18,177: _geological_feature_builder.py:266 -- Not enough constraints for scalar field add more\n",
      "WARNING: 2023-10-26 11:28:18,246: _discrete_interpolator.py:735 -- No solution, s1__2 scalar field 0. Add more data.\n"
     ]
    },
    {
     "data": {
      "application/vnd.jupyter.widget-view+json": {
       "model_id": "3bcf9a0058094ba3bff3453d3434507e",
       "version_major": 2,
       "version_minor": 0
      },
      "text/plain": [
       "  0%|          | 0/3 [00:00<?, ?it/s]"
      ]
     },
     "metadata": {},
     "output_type": "display_data"
    },
    {
     "name": "stderr",
     "output_type": "stream",
     "text": [
      "ERROR: 2023-10-26 11:28:24,277: _geological_feature_builder.py:266 -- Not enough constraints for scalar field add more\n",
      "WARNING: 2023-10-26 11:28:24,346: _discrete_interpolator.py:735 -- No solution, s1__2 scalar field 0. Add more data.\n"
     ]
    },
    {
     "data": {
      "application/vnd.jupyter.widget-view+json": {
       "model_id": "910fe27762e648479f378cd3bef2b4f1",
       "version_major": 2,
       "version_minor": 0
      },
      "text/plain": [
       "  0%|          | 0/3 [00:00<?, ?it/s]"
      ]
     },
     "metadata": {},
     "output_type": "display_data"
    },
    {
     "name": "stderr",
     "output_type": "stream",
     "text": [
      "ERROR: 2023-10-26 11:28:28,239: _geological_feature_builder.py:266 -- Not enough constraints for scalar field add more\n",
      "WARNING: 2023-10-26 11:28:28,300: _discrete_interpolator.py:735 -- No solution, s1__2 scalar field 0. Add more data.\n"
     ]
    },
    {
     "data": {
      "application/vnd.jupyter.widget-view+json": {
       "model_id": "656c5aedf28045d29483768df453ce25",
       "version_major": 2,
       "version_minor": 0
      },
      "text/plain": [
       "  0%|          | 0/3 [00:00<?, ?it/s]"
      ]
     },
     "metadata": {},
     "output_type": "display_data"
    },
    {
     "name": "stderr",
     "output_type": "stream",
     "text": [
      "ERROR: 2023-10-26 11:28:29,952: _geological_feature_builder.py:266 -- Not enough constraints for scalar field add more\n",
      "WARNING: 2023-10-26 11:28:30,014: _discrete_interpolator.py:735 -- No solution, s1__2 scalar field 0. Add more data.\n"
     ]
    },
    {
     "data": {
      "application/vnd.jupyter.widget-view+json": {
       "model_id": "9163ecbdb87148f2b267d5532192f0a9",
       "version_major": 2,
       "version_minor": 0
      },
      "text/plain": [
       "  0%|          | 0/3 [00:00<?, ?it/s]"
      ]
     },
     "metadata": {},
     "output_type": "display_data"
    },
    {
     "name": "stderr",
     "output_type": "stream",
     "text": [
      "ERROR: 2023-10-26 11:28:31,787: _geological_feature_builder.py:266 -- Not enough constraints for scalar field add more\n",
      "WARNING: 2023-10-26 11:28:31,852: _discrete_interpolator.py:735 -- No solution, s1__2 scalar field 0. Add more data.\n"
     ]
    },
    {
     "data": {
      "application/vnd.jupyter.widget-view+json": {
       "model_id": "948e0dc9a241448b84b5ad0a572be42a",
       "version_major": 2,
       "version_minor": 0
      },
      "text/plain": [
       "  0%|          | 0/3 [00:00<?, ?it/s]"
      ]
     },
     "metadata": {},
     "output_type": "display_data"
    },
    {
     "name": "stderr",
     "output_type": "stream",
     "text": [
      "ERROR: 2023-10-26 11:28:34,630: _geological_feature_builder.py:266 -- Not enough constraints for scalar field add more\n",
      "WARNING: 2023-10-26 11:28:34,698: _discrete_interpolator.py:735 -- No solution, s1__2 scalar field 0. Add more data.\n"
     ]
    },
    {
     "data": {
      "application/vnd.jupyter.widget-view+json": {
       "model_id": "b101f30a57f5407eba3a7d0290bcd6fa",
       "version_major": 2,
       "version_minor": 0
      },
      "text/plain": [
       "  0%|          | 0/3 [00:00<?, ?it/s]"
      ]
     },
     "metadata": {},
     "output_type": "display_data"
    },
    {
     "name": "stderr",
     "output_type": "stream",
     "text": [
      "ERROR: 2023-10-26 11:28:38,313: _geological_feature_builder.py:266 -- Not enough constraints for scalar field add more\n",
      "WARNING: 2023-10-26 11:28:38,374: _discrete_interpolator.py:735 -- No solution, s1__2 scalar field 0. Add more data.\n"
     ]
    },
    {
     "data": {
      "application/vnd.jupyter.widget-view+json": {
       "model_id": "4d77c0e2a55c4d719225a78c8f331dcf",
       "version_major": 2,
       "version_minor": 0
      },
      "text/plain": [
       "  0%|          | 0/3 [00:00<?, ?it/s]"
      ]
     },
     "metadata": {},
     "output_type": "display_data"
    },
    {
     "name": "stderr",
     "output_type": "stream",
     "text": [
      "ERROR: 2023-10-26 11:28:40,045: _geological_feature_builder.py:266 -- Not enough constraints for scalar field add more\n",
      "WARNING: 2023-10-26 11:28:40,114: _discrete_interpolator.py:735 -- No solution, s1__2 scalar field 0. Add more data.\n"
     ]
    },
    {
     "data": {
      "application/vnd.jupyter.widget-view+json": {
       "model_id": "ec9d961b77044f29b13232d337d7e825",
       "version_major": 2,
       "version_minor": 0
      },
      "text/plain": [
       "  0%|          | 0/3 [00:00<?, ?it/s]"
      ]
     },
     "metadata": {},
     "output_type": "display_data"
    },
    {
     "name": "stderr",
     "output_type": "stream",
     "text": [
      "ERROR: 2023-10-26 11:28:41,910: _geological_feature_builder.py:266 -- Not enough constraints for scalar field add more\n",
      "WARNING: 2023-10-26 11:28:41,977: _discrete_interpolator.py:735 -- No solution, s1__2 scalar field 0. Add more data.\n"
     ]
    },
    {
     "data": {
      "application/vnd.jupyter.widget-view+json": {
       "model_id": "38e8804aefbd4d1093483b83671aa03f",
       "version_major": 2,
       "version_minor": 0
      },
      "text/plain": [
       "  0%|          | 0/3 [00:00<?, ?it/s]"
      ]
     },
     "metadata": {},
     "output_type": "display_data"
    },
    {
     "name": "stderr",
     "output_type": "stream",
     "text": [
      "ERROR: 2023-10-26 11:28:44,394: _geological_feature_builder.py:266 -- Not enough constraints for scalar field add more\n",
      "WARNING: 2023-10-26 11:28:44,464: _discrete_interpolator.py:735 -- No solution, s1__2 scalar field 0. Add more data.\n"
     ]
    },
    {
     "data": {
      "application/vnd.jupyter.widget-view+json": {
       "model_id": "1408ed7f1124482796ed8689f0747190",
       "version_major": 2,
       "version_minor": 0
      },
      "text/plain": [
       "  0%|          | 0/3 [00:00<?, ?it/s]"
      ]
     },
     "metadata": {},
     "output_type": "display_data"
    },
    {
     "name": "stderr",
     "output_type": "stream",
     "text": [
      "ERROR: 2023-10-26 11:28:46,545: _geological_feature_builder.py:266 -- Not enough constraints for scalar field add more\n",
      "WARNING: 2023-10-26 11:28:46,615: _discrete_interpolator.py:735 -- No solution, s1__2 scalar field 0. Add more data.\n"
     ]
    },
    {
     "data": {
      "application/vnd.jupyter.widget-view+json": {
       "model_id": "a80c2a73db204a1fae0c552e420dc052",
       "version_major": 2,
       "version_minor": 0
      },
      "text/plain": [
       "  0%|          | 0/3 [00:00<?, ?it/s]"
      ]
     },
     "metadata": {},
     "output_type": "display_data"
    },
    {
     "name": "stderr",
     "output_type": "stream",
     "text": [
      "ERROR: 2023-10-26 11:28:48,465: _geological_feature_builder.py:266 -- Not enough constraints for scalar field add more\n",
      "WARNING: 2023-10-26 11:28:48,535: _discrete_interpolator.py:735 -- No solution, s1__2 scalar field 0. Add more data.\n"
     ]
    },
    {
     "data": {
      "application/vnd.jupyter.widget-view+json": {
       "model_id": "c15cc10116fd4c4a9824f7eda6f59aaf",
       "version_major": 2,
       "version_minor": 0
      },
      "text/plain": [
       "  0%|          | 0/3 [00:00<?, ?it/s]"
      ]
     },
     "metadata": {},
     "output_type": "display_data"
    },
    {
     "name": "stderr",
     "output_type": "stream",
     "text": [
      "ERROR: 2023-10-26 11:28:50,275: _geological_feature_builder.py:266 -- Not enough constraints for scalar field add more\n",
      "WARNING: 2023-10-26 11:28:50,344: _discrete_interpolator.py:735 -- No solution, s1__2 scalar field 0. Add more data.\n"
     ]
    },
    {
     "data": {
      "application/vnd.jupyter.widget-view+json": {
       "model_id": "e5b51d4af200461f8a7ffd87ac11ec4a",
       "version_major": 2,
       "version_minor": 0
      },
      "text/plain": [
       "  0%|          | 0/3 [00:00<?, ?it/s]"
      ]
     },
     "metadata": {},
     "output_type": "display_data"
    },
    {
     "name": "stderr",
     "output_type": "stream",
     "text": [
      "ERROR: 2023-10-26 11:28:52,369: _geological_feature_builder.py:266 -- Not enough constraints for scalar field add more\n",
      "WARNING: 2023-10-26 11:28:52,443: _discrete_interpolator.py:735 -- No solution, s1__2 scalar field 0. Add more data.\n"
     ]
    },
    {
     "data": {
      "application/vnd.jupyter.widget-view+json": {
       "model_id": "2195c9ac8af7441b9b684820faf229ae",
       "version_major": 2,
       "version_minor": 0
      },
      "text/plain": [
       "  0%|          | 0/3 [00:00<?, ?it/s]"
      ]
     },
     "metadata": {},
     "output_type": "display_data"
    },
    {
     "name": "stderr",
     "output_type": "stream",
     "text": [
      "ERROR: 2023-10-26 11:28:54,132: _geological_feature_builder.py:266 -- Not enough constraints for scalar field add more\n",
      "WARNING: 2023-10-26 11:28:54,202: _discrete_interpolator.py:735 -- No solution, s1__2 scalar field 0. Add more data.\n"
     ]
    },
    {
     "data": {
      "application/vnd.jupyter.widget-view+json": {
       "model_id": "35df89cfa25c47738e663a354f0fded7",
       "version_major": 2,
       "version_minor": 0
      },
      "text/plain": [
       "  0%|          | 0/3 [00:00<?, ?it/s]"
      ]
     },
     "metadata": {},
     "output_type": "display_data"
    },
    {
     "name": "stderr",
     "output_type": "stream",
     "text": [
      "ERROR: 2023-10-26 11:28:56,086: _geological_feature_builder.py:266 -- Not enough constraints for scalar field add more\n",
      "WARNING: 2023-10-26 11:28:56,165: _discrete_interpolator.py:735 -- No solution, s1__2 scalar field 0. Add more data.\n"
     ]
    },
    {
     "data": {
      "application/vnd.jupyter.widget-view+json": {
       "model_id": "d9dd133663d0443eb0fca4f77a4c3a34",
       "version_major": 2,
       "version_minor": 0
      },
      "text/plain": [
       "  0%|          | 0/3 [00:00<?, ?it/s]"
      ]
     },
     "metadata": {},
     "output_type": "display_data"
    },
    {
     "name": "stderr",
     "output_type": "stream",
     "text": [
      "ERROR: 2023-10-26 11:28:59,788: _geological_feature_builder.py:266 -- Not enough constraints for scalar field add more\n",
      "WARNING: 2023-10-26 11:28:59,870: _discrete_interpolator.py:735 -- No solution, s1__2 scalar field 0. Add more data.\n"
     ]
    },
    {
     "data": {
      "application/vnd.jupyter.widget-view+json": {
       "model_id": "e265b5e411d545049f4a6872550b1382",
       "version_major": 2,
       "version_minor": 0
      },
      "text/plain": [
       "  0%|          | 0/3 [00:00<?, ?it/s]"
      ]
     },
     "metadata": {},
     "output_type": "display_data"
    },
    {
     "name": "stderr",
     "output_type": "stream",
     "text": [
      "ERROR: 2023-10-26 11:29:02,595: _geological_feature_builder.py:266 -- Not enough constraints for scalar field add more\n",
      "WARNING: 2023-10-26 11:29:02,659: _discrete_interpolator.py:735 -- No solution, s1__2 scalar field 0. Add more data.\n"
     ]
    },
    {
     "data": {
      "application/vnd.jupyter.widget-view+json": {
       "model_id": "5248eb9a168645aca9f3dfa70b4759e1",
       "version_major": 2,
       "version_minor": 0
      },
      "text/plain": [
       "  0%|          | 0/3 [00:00<?, ?it/s]"
      ]
     },
     "metadata": {},
     "output_type": "display_data"
    },
    {
     "name": "stderr",
     "output_type": "stream",
     "text": [
      "ERROR: 2023-10-26 11:29:05,984: _geological_feature_builder.py:266 -- Not enough constraints for scalar field add more\n",
      "WARNING: 2023-10-26 11:29:06,050: _discrete_interpolator.py:735 -- No solution, s1__2 scalar field 0. Add more data.\n"
     ]
    },
    {
     "data": {
      "application/vnd.jupyter.widget-view+json": {
       "model_id": "7c695a2d0ab54b7baa3749688e9658ea",
       "version_major": 2,
       "version_minor": 0
      },
      "text/plain": [
       "  0%|          | 0/3 [00:00<?, ?it/s]"
      ]
     },
     "metadata": {},
     "output_type": "display_data"
    },
    {
     "name": "stderr",
     "output_type": "stream",
     "text": [
      "ERROR: 2023-10-26 11:29:08,134: _geological_feature_builder.py:266 -- Not enough constraints for scalar field add more\n",
      "WARNING: 2023-10-26 11:29:08,196: _discrete_interpolator.py:735 -- No solution, s1__2 scalar field 0. Add more data.\n"
     ]
    },
    {
     "data": {
      "application/vnd.jupyter.widget-view+json": {
       "model_id": "c533e5242a4b4fdaa9c62517708c06dc",
       "version_major": 2,
       "version_minor": 0
      },
      "text/plain": [
       "  0%|          | 0/3 [00:00<?, ?it/s]"
      ]
     },
     "metadata": {},
     "output_type": "display_data"
    },
    {
     "name": "stderr",
     "output_type": "stream",
     "text": [
      "ERROR: 2023-10-26 11:29:09,959: _geological_feature_builder.py:266 -- Not enough constraints for scalar field add more\n",
      "WARNING: 2023-10-26 11:29:10,023: _discrete_interpolator.py:735 -- No solution, s1__2 scalar field 0. Add more data.\n"
     ]
    },
    {
     "data": {
      "application/vnd.jupyter.widget-view+json": {
       "model_id": "201dea353d314bdbae96607153263ae7",
       "version_major": 2,
       "version_minor": 0
      },
      "text/plain": [
       "  0%|          | 0/3 [00:00<?, ?it/s]"
      ]
     },
     "metadata": {},
     "output_type": "display_data"
    },
    {
     "name": "stderr",
     "output_type": "stream",
     "text": [
      "ERROR: 2023-10-26 11:29:11,715: _geological_feature_builder.py:266 -- Not enough constraints for scalar field add more\n",
      "WARNING: 2023-10-26 11:29:11,780: _discrete_interpolator.py:735 -- No solution, s1__2 scalar field 0. Add more data.\n"
     ]
    },
    {
     "data": {
      "application/vnd.jupyter.widget-view+json": {
       "model_id": "6f0cb92d006f43dab54c987db4119f94",
       "version_major": 2,
       "version_minor": 0
      },
      "text/plain": [
       "  0%|          | 0/3 [00:00<?, ?it/s]"
      ]
     },
     "metadata": {},
     "output_type": "display_data"
    },
    {
     "name": "stderr",
     "output_type": "stream",
     "text": [
      "ERROR: 2023-10-26 11:29:13,313: _geological_feature_builder.py:266 -- Not enough constraints for scalar field add more\n",
      "WARNING: 2023-10-26 11:29:13,378: _discrete_interpolator.py:735 -- No solution, s1__2 scalar field 0. Add more data.\n"
     ]
    },
    {
     "data": {
      "application/vnd.jupyter.widget-view+json": {
       "model_id": "922336e66ab644018cace560dd9c108b",
       "version_major": 2,
       "version_minor": 0
      },
      "text/plain": [
       "  0%|          | 0/3 [00:00<?, ?it/s]"
      ]
     },
     "metadata": {},
     "output_type": "display_data"
    },
    {
     "name": "stderr",
     "output_type": "stream",
     "text": [
      "ERROR: 2023-10-26 11:29:15,136: _geological_feature_builder.py:266 -- Not enough constraints for scalar field add more\n",
      "WARNING: 2023-10-26 11:29:15,204: _discrete_interpolator.py:735 -- No solution, s1__2 scalar field 0. Add more data.\n"
     ]
    },
    {
     "data": {
      "application/vnd.jupyter.widget-view+json": {
       "model_id": "01c1e1eda2c644cc818e6a8311b683ef",
       "version_major": 2,
       "version_minor": 0
      },
      "text/plain": [
       "  0%|          | 0/3 [00:00<?, ?it/s]"
      ]
     },
     "metadata": {},
     "output_type": "display_data"
    },
    {
     "name": "stderr",
     "output_type": "stream",
     "text": [
      "ERROR: 2023-10-26 11:29:17,162: _geological_feature_builder.py:266 -- Not enough constraints for scalar field add more\n",
      "WARNING: 2023-10-26 11:29:17,227: _discrete_interpolator.py:735 -- No solution, s1__2 scalar field 0. Add more data.\n"
     ]
    },
    {
     "data": {
      "application/vnd.jupyter.widget-view+json": {
       "model_id": "fda684f748a9423c86c6b80d5acb4d6e",
       "version_major": 2,
       "version_minor": 0
      },
      "text/plain": [
       "  0%|          | 0/3 [00:00<?, ?it/s]"
      ]
     },
     "metadata": {},
     "output_type": "display_data"
    },
    {
     "name": "stderr",
     "output_type": "stream",
     "text": [
      "ERROR: 2023-10-26 11:29:18,937: _geological_feature_builder.py:266 -- Not enough constraints for scalar field add more\n",
      "WARNING: 2023-10-26 11:29:19,005: _discrete_interpolator.py:735 -- No solution, s1__2 scalar field 0. Add more data.\n"
     ]
    },
    {
     "data": {
      "application/vnd.jupyter.widget-view+json": {
       "model_id": "69185b1441d440beb6e76c159cd25b94",
       "version_major": 2,
       "version_minor": 0
      },
      "text/plain": [
       "  0%|          | 0/3 [00:00<?, ?it/s]"
      ]
     },
     "metadata": {},
     "output_type": "display_data"
    },
    {
     "name": "stderr",
     "output_type": "stream",
     "text": [
      "ERROR: 2023-10-26 11:29:20,657: _geological_feature_builder.py:266 -- Not enough constraints for scalar field add more\n",
      "WARNING: 2023-10-26 11:29:20,732: _discrete_interpolator.py:735 -- No solution, s1__2 scalar field 0. Add more data.\n"
     ]
    },
    {
     "data": {
      "application/vnd.jupyter.widget-view+json": {
       "model_id": "bcd61ad85c1e4567a974000f6f698eef",
       "version_major": 2,
       "version_minor": 0
      },
      "text/plain": [
       "  0%|          | 0/3 [00:00<?, ?it/s]"
      ]
     },
     "metadata": {},
     "output_type": "display_data"
    },
    {
     "name": "stderr",
     "output_type": "stream",
     "text": [
      "ERROR: 2023-10-26 11:29:22,532: _geological_feature_builder.py:266 -- Not enough constraints for scalar field add more\n",
      "WARNING: 2023-10-26 11:29:22,599: _discrete_interpolator.py:735 -- No solution, s1__2 scalar field 0. Add more data.\n"
     ]
    },
    {
     "data": {
      "application/vnd.jupyter.widget-view+json": {
       "model_id": "ea7c6bb8ecbe4d7bb0172120255cf27e",
       "version_major": 2,
       "version_minor": 0
      },
      "text/plain": [
       "  0%|          | 0/3 [00:00<?, ?it/s]"
      ]
     },
     "metadata": {},
     "output_type": "display_data"
    },
    {
     "name": "stderr",
     "output_type": "stream",
     "text": [
      "ERROR: 2023-10-26 11:29:28,775: _geological_feature_builder.py:266 -- Not enough constraints for scalar field add more\n",
      "WARNING: 2023-10-26 11:29:28,841: _discrete_interpolator.py:735 -- No solution, s1__2 scalar field 0. Add more data.\n"
     ]
    },
    {
     "data": {
      "application/vnd.jupyter.widget-view+json": {
       "model_id": "bf58507f566b4919a2b66fc32e4b61f2",
       "version_major": 2,
       "version_minor": 0
      },
      "text/plain": [
       "  0%|          | 0/3 [00:00<?, ?it/s]"
      ]
     },
     "metadata": {},
     "output_type": "display_data"
    },
    {
     "name": "stderr",
     "output_type": "stream",
     "text": [
      "ERROR: 2023-10-26 11:29:30,807: _geological_feature_builder.py:266 -- Not enough constraints for scalar field add more\n",
      "WARNING: 2023-10-26 11:29:30,870: _discrete_interpolator.py:735 -- No solution, s1__2 scalar field 0. Add more data.\n"
     ]
    },
    {
     "data": {
      "application/vnd.jupyter.widget-view+json": {
       "model_id": "db0aaecac68e4318955ccaa0c6aa85b6",
       "version_major": 2,
       "version_minor": 0
      },
      "text/plain": [
       "  0%|          | 0/3 [00:00<?, ?it/s]"
      ]
     },
     "metadata": {},
     "output_type": "display_data"
    },
    {
     "name": "stderr",
     "output_type": "stream",
     "text": [
      "ERROR: 2023-10-26 11:29:32,648: _geological_feature_builder.py:266 -- Not enough constraints for scalar field add more\n",
      "WARNING: 2023-10-26 11:29:32,713: _discrete_interpolator.py:735 -- No solution, s1__2 scalar field 0. Add more data.\n"
     ]
    },
    {
     "data": {
      "application/vnd.jupyter.widget-view+json": {
       "model_id": "73cdc5e987dd441294fc750b04e3f375",
       "version_major": 2,
       "version_minor": 0
      },
      "text/plain": [
       "  0%|          | 0/3 [00:00<?, ?it/s]"
      ]
     },
     "metadata": {},
     "output_type": "display_data"
    },
    {
     "name": "stderr",
     "output_type": "stream",
     "text": [
      "ERROR: 2023-10-26 11:29:34,481: _geological_feature_builder.py:266 -- Not enough constraints for scalar field add more\n",
      "WARNING: 2023-10-26 11:29:34,551: _discrete_interpolator.py:735 -- No solution, s1__2 scalar field 0. Add more data.\n"
     ]
    },
    {
     "data": {
      "application/vnd.jupyter.widget-view+json": {
       "model_id": "34b1c9393323487d836a57ee167a59e2",
       "version_major": 2,
       "version_minor": 0
      },
      "text/plain": [
       "  0%|          | 0/3 [00:00<?, ?it/s]"
      ]
     },
     "metadata": {},
     "output_type": "display_data"
    },
    {
     "name": "stderr",
     "output_type": "stream",
     "text": [
      "ERROR: 2023-10-26 11:29:36,229: _geological_feature_builder.py:266 -- Not enough constraints for scalar field add more\n",
      "WARNING: 2023-10-26 11:29:36,294: _discrete_interpolator.py:735 -- No solution, s1__2 scalar field 0. Add more data.\n"
     ]
    },
    {
     "data": {
      "application/vnd.jupyter.widget-view+json": {
       "model_id": "ef934e1a7b304706921e41d0313e2fa3",
       "version_major": 2,
       "version_minor": 0
      },
      "text/plain": [
       "  0%|          | 0/3 [00:00<?, ?it/s]"
      ]
     },
     "metadata": {},
     "output_type": "display_data"
    },
    {
     "name": "stderr",
     "output_type": "stream",
     "text": [
      "ERROR: 2023-10-26 11:29:38,570: _geological_feature_builder.py:266 -- Not enough constraints for scalar field add more\n",
      "WARNING: 2023-10-26 11:29:38,642: _discrete_interpolator.py:735 -- No solution, s1__2 scalar field 0. Add more data.\n"
     ]
    },
    {
     "data": {
      "application/vnd.jupyter.widget-view+json": {
       "model_id": "dead7832f3f74101ad17d8e506cc7448",
       "version_major": 2,
       "version_minor": 0
      },
      "text/plain": [
       "  0%|          | 0/3 [00:00<?, ?it/s]"
      ]
     },
     "metadata": {},
     "output_type": "display_data"
    },
    {
     "name": "stderr",
     "output_type": "stream",
     "text": [
      "ERROR: 2023-10-26 11:29:40,220: _geological_feature_builder.py:266 -- Not enough constraints for scalar field add more\n",
      "WARNING: 2023-10-26 11:29:40,283: _discrete_interpolator.py:735 -- No solution, s1__2 scalar field 0. Add more data.\n"
     ]
    },
    {
     "data": {
      "application/vnd.jupyter.widget-view+json": {
       "model_id": "022152b457394ab8884e595c0c900fcd",
       "version_major": 2,
       "version_minor": 0
      },
      "text/plain": [
       "  0%|          | 0/3 [00:00<?, ?it/s]"
      ]
     },
     "metadata": {},
     "output_type": "display_data"
    },
    {
     "name": "stderr",
     "output_type": "stream",
     "text": [
      "ERROR: 2023-10-26 11:29:41,921: _geological_feature_builder.py:266 -- Not enough constraints for scalar field add more\n",
      "WARNING: 2023-10-26 11:29:41,988: _discrete_interpolator.py:735 -- No solution, s1__2 scalar field 0. Add more data.\n"
     ]
    },
    {
     "data": {
      "application/vnd.jupyter.widget-view+json": {
       "model_id": "49b631a2d7fd40d9836399b49ac3ed19",
       "version_major": 2,
       "version_minor": 0
      },
      "text/plain": [
       "  0%|          | 0/3 [00:00<?, ?it/s]"
      ]
     },
     "metadata": {},
     "output_type": "display_data"
    },
    {
     "name": "stderr",
     "output_type": "stream",
     "text": [
      "ERROR: 2023-10-26 11:29:43,753: _geological_feature_builder.py:266 -- Not enough constraints for scalar field add more\n",
      "WARNING: 2023-10-26 11:29:43,820: _discrete_interpolator.py:735 -- No solution, s1__2 scalar field 0. Add more data.\n"
     ]
    },
    {
     "data": {
      "application/vnd.jupyter.widget-view+json": {
       "model_id": "f6ee88c5cb194b468da8e99f7e78a394",
       "version_major": 2,
       "version_minor": 0
      },
      "text/plain": [
       "  0%|          | 0/3 [00:00<?, ?it/s]"
      ]
     },
     "metadata": {},
     "output_type": "display_data"
    },
    {
     "name": "stderr",
     "output_type": "stream",
     "text": [
      "ERROR: 2023-10-26 11:29:45,369: _geological_feature_builder.py:266 -- Not enough constraints for scalar field add more\n",
      "WARNING: 2023-10-26 11:29:45,435: _discrete_interpolator.py:735 -- No solution, s1__2 scalar field 0. Add more data.\n"
     ]
    },
    {
     "data": {
      "application/vnd.jupyter.widget-view+json": {
       "model_id": "92c30f312b194d09b81cc7c34d08ba17",
       "version_major": 2,
       "version_minor": 0
      },
      "text/plain": [
       "  0%|          | 0/3 [00:00<?, ?it/s]"
      ]
     },
     "metadata": {},
     "output_type": "display_data"
    },
    {
     "name": "stderr",
     "output_type": "stream",
     "text": [
      "ERROR: 2023-10-26 11:29:47,177: _geological_feature_builder.py:266 -- Not enough constraints for scalar field add more\n",
      "WARNING: 2023-10-26 11:29:47,243: _discrete_interpolator.py:735 -- No solution, s1__2 scalar field 0. Add more data.\n"
     ]
    },
    {
     "data": {
      "application/vnd.jupyter.widget-view+json": {
       "model_id": "4da210aef744428c88cc358531c54750",
       "version_major": 2,
       "version_minor": 0
      },
      "text/plain": [
       "  0%|          | 0/3 [00:00<?, ?it/s]"
      ]
     },
     "metadata": {},
     "output_type": "display_data"
    },
    {
     "name": "stderr",
     "output_type": "stream",
     "text": [
      "ERROR: 2023-10-26 11:29:49,502: _geological_feature_builder.py:266 -- Not enough constraints for scalar field add more\n",
      "WARNING: 2023-10-26 11:29:49,563: _discrete_interpolator.py:735 -- No solution, s1__2 scalar field 0. Add more data.\n"
     ]
    },
    {
     "data": {
      "application/vnd.jupyter.widget-view+json": {
       "model_id": "97ed2d88e46040bca6d92c3644a11594",
       "version_major": 2,
       "version_minor": 0
      },
      "text/plain": [
       "  0%|          | 0/3 [00:00<?, ?it/s]"
      ]
     },
     "metadata": {},
     "output_type": "display_data"
    },
    {
     "name": "stderr",
     "output_type": "stream",
     "text": [
      "ERROR: 2023-10-26 11:29:51,223: _geological_feature_builder.py:266 -- Not enough constraints for scalar field add more\n",
      "WARNING: 2023-10-26 11:29:51,286: _discrete_interpolator.py:735 -- No solution, s1__2 scalar field 0. Add more data.\n"
     ]
    },
    {
     "data": {
      "application/vnd.jupyter.widget-view+json": {
       "model_id": "1519c7fdf27b466383a7c26e05979f7b",
       "version_major": 2,
       "version_minor": 0
      },
      "text/plain": [
       "  0%|          | 0/3 [00:00<?, ?it/s]"
      ]
     },
     "metadata": {},
     "output_type": "display_data"
    },
    {
     "name": "stderr",
     "output_type": "stream",
     "text": [
      "ERROR: 2023-10-26 11:29:53,028: _geological_feature_builder.py:266 -- Not enough constraints for scalar field add more\n",
      "WARNING: 2023-10-26 11:29:53,109: _discrete_interpolator.py:735 -- No solution, s1__2 scalar field 0. Add more data.\n"
     ]
    },
    {
     "data": {
      "application/vnd.jupyter.widget-view+json": {
       "model_id": "ff36294169c84eea8828f6a347e433e7",
       "version_major": 2,
       "version_minor": 0
      },
      "text/plain": [
       "  0%|          | 0/3 [00:00<?, ?it/s]"
      ]
     },
     "metadata": {},
     "output_type": "display_data"
    },
    {
     "name": "stderr",
     "output_type": "stream",
     "text": [
      "ERROR: 2023-10-26 11:29:54,868: _geological_feature_builder.py:266 -- Not enough constraints for scalar field add more\n",
      "WARNING: 2023-10-26 11:29:54,936: _discrete_interpolator.py:735 -- No solution, s1__2 scalar field 0. Add more data.\n"
     ]
    },
    {
     "data": {
      "application/vnd.jupyter.widget-view+json": {
       "model_id": "5ee36dfdf97b486f8a3029b59ae4994a",
       "version_major": 2,
       "version_minor": 0
      },
      "text/plain": [
       "  0%|          | 0/3 [00:00<?, ?it/s]"
      ]
     },
     "metadata": {},
     "output_type": "display_data"
    },
    {
     "name": "stderr",
     "output_type": "stream",
     "text": [
      "ERROR: 2023-10-26 11:29:56,589: _geological_feature_builder.py:266 -- Not enough constraints for scalar field add more\n",
      "WARNING: 2023-10-26 11:29:56,653: _discrete_interpolator.py:735 -- No solution, s1__2 scalar field 0. Add more data.\n"
     ]
    },
    {
     "data": {
      "application/vnd.jupyter.widget-view+json": {
       "model_id": "65104ebee23244668776a7ea79136bcd",
       "version_major": 2,
       "version_minor": 0
      },
      "text/plain": [
       "  0%|          | 0/3 [00:00<?, ?it/s]"
      ]
     },
     "metadata": {},
     "output_type": "display_data"
    },
    {
     "name": "stderr",
     "output_type": "stream",
     "text": [
      "ERROR: 2023-10-26 11:29:58,378: _geological_feature_builder.py:266 -- Not enough constraints for scalar field add more\n",
      "WARNING: 2023-10-26 11:29:58,441: _discrete_interpolator.py:735 -- No solution, s1__2 scalar field 0. Add more data.\n"
     ]
    },
    {
     "data": {
      "application/vnd.jupyter.widget-view+json": {
       "model_id": "70509f0a196c4ef697a2f22ff73dccb0",
       "version_major": 2,
       "version_minor": 0
      },
      "text/plain": [
       "  0%|          | 0/3 [00:00<?, ?it/s]"
      ]
     },
     "metadata": {},
     "output_type": "display_data"
    },
    {
     "name": "stderr",
     "output_type": "stream",
     "text": [
      "ERROR: 2023-10-26 11:30:03,960: _geological_feature_builder.py:266 -- Not enough constraints for scalar field add more\n",
      "WARNING: 2023-10-26 11:30:04,030: _discrete_interpolator.py:735 -- No solution, s1__2 scalar field 0. Add more data.\n"
     ]
    },
    {
     "data": {
      "application/vnd.jupyter.widget-view+json": {
       "model_id": "ba36dde6d37944b6a8f91ce6afe2cb59",
       "version_major": 2,
       "version_minor": 0
      },
      "text/plain": [
       "  0%|          | 0/3 [00:00<?, ?it/s]"
      ]
     },
     "metadata": {},
     "output_type": "display_data"
    },
    {
     "name": "stderr",
     "output_type": "stream",
     "text": [
      "ERROR: 2023-10-26 11:30:05,761: _geological_feature_builder.py:266 -- Not enough constraints for scalar field add more\n",
      "WARNING: 2023-10-26 11:30:05,827: _discrete_interpolator.py:735 -- No solution, s1__2 scalar field 0. Add more data.\n"
     ]
    },
    {
     "data": {
      "application/vnd.jupyter.widget-view+json": {
       "model_id": "33d551c8f0a74b59a532c6d689d38603",
       "version_major": 2,
       "version_minor": 0
      },
      "text/plain": [
       "  0%|          | 0/3 [00:00<?, ?it/s]"
      ]
     },
     "metadata": {},
     "output_type": "display_data"
    },
    {
     "name": "stderr",
     "output_type": "stream",
     "text": [
      "ERROR: 2023-10-26 11:30:07,496: _geological_feature_builder.py:266 -- Not enough constraints for scalar field add more\n",
      "WARNING: 2023-10-26 11:30:07,564: _discrete_interpolator.py:735 -- No solution, s1__2 scalar field 0. Add more data.\n"
     ]
    },
    {
     "data": {
      "application/vnd.jupyter.widget-view+json": {
       "model_id": "cbb06b8411e243fb840e9233e0b50e4d",
       "version_major": 2,
       "version_minor": 0
      },
      "text/plain": [
       "  0%|          | 0/3 [00:00<?, ?it/s]"
      ]
     },
     "metadata": {},
     "output_type": "display_data"
    },
    {
     "name": "stderr",
     "output_type": "stream",
     "text": [
      "ERROR: 2023-10-26 11:30:09,469: _geological_feature_builder.py:266 -- Not enough constraints for scalar field add more\n",
      "WARNING: 2023-10-26 11:30:09,540: _discrete_interpolator.py:735 -- No solution, s1__2 scalar field 0. Add more data.\n"
     ]
    },
    {
     "data": {
      "application/vnd.jupyter.widget-view+json": {
       "model_id": "2c159b8524d840909f93c0bade2d0c3c",
       "version_major": 2,
       "version_minor": 0
      },
      "text/plain": [
       "  0%|          | 0/3 [00:00<?, ?it/s]"
      ]
     },
     "metadata": {},
     "output_type": "display_data"
    },
    {
     "name": "stderr",
     "output_type": "stream",
     "text": [
      "ERROR: 2023-10-26 11:30:11,324: _geological_feature_builder.py:266 -- Not enough constraints for scalar field add more\n",
      "WARNING: 2023-10-26 11:30:11,396: _discrete_interpolator.py:735 -- No solution, s1__2 scalar field 0. Add more data.\n"
     ]
    },
    {
     "data": {
      "application/vnd.jupyter.widget-view+json": {
       "model_id": "0a9bb4d80891405f95e6bc5cbc33599e",
       "version_major": 2,
       "version_minor": 0
      },
      "text/plain": [
       "  0%|          | 0/3 [00:00<?, ?it/s]"
      ]
     },
     "metadata": {},
     "output_type": "display_data"
    },
    {
     "name": "stderr",
     "output_type": "stream",
     "text": [
      "ERROR: 2023-10-26 11:30:14,428: _geological_feature_builder.py:266 -- Not enough constraints for scalar field add more\n",
      "WARNING: 2023-10-26 11:30:14,490: _discrete_interpolator.py:735 -- No solution, s1__2 scalar field 0. Add more data.\n"
     ]
    },
    {
     "data": {
      "application/vnd.jupyter.widget-view+json": {
       "model_id": "f2777ee93ab44691858a9ffa76ac2f27",
       "version_major": 2,
       "version_minor": 0
      },
      "text/plain": [
       "  0%|          | 0/3 [00:00<?, ?it/s]"
      ]
     },
     "metadata": {},
     "output_type": "display_data"
    },
    {
     "name": "stderr",
     "output_type": "stream",
     "text": [
      "ERROR: 2023-10-26 11:30:17,009: _geological_feature_builder.py:266 -- Not enough constraints for scalar field add more\n",
      "WARNING: 2023-10-26 11:30:17,077: _discrete_interpolator.py:735 -- No solution, s1__2 scalar field 0. Add more data.\n"
     ]
    },
    {
     "data": {
      "application/vnd.jupyter.widget-view+json": {
       "model_id": "c1f9574776c848149cee1cd48d0c4b43",
       "version_major": 2,
       "version_minor": 0
      },
      "text/plain": [
       "  0%|          | 0/3 [00:00<?, ?it/s]"
      ]
     },
     "metadata": {},
     "output_type": "display_data"
    },
    {
     "name": "stderr",
     "output_type": "stream",
     "text": [
      "ERROR: 2023-10-26 11:30:18,744: _geological_feature_builder.py:266 -- Not enough constraints for scalar field add more\n",
      "WARNING: 2023-10-26 11:30:18,814: _discrete_interpolator.py:735 -- No solution, s1__2 scalar field 0. Add more data.\n"
     ]
    },
    {
     "data": {
      "application/vnd.jupyter.widget-view+json": {
       "model_id": "d2c365ced259431f81df8445d7cae96c",
       "version_major": 2,
       "version_minor": 0
      },
      "text/plain": [
       "  0%|          | 0/3 [00:00<?, ?it/s]"
      ]
     },
     "metadata": {},
     "output_type": "display_data"
    },
    {
     "name": "stderr",
     "output_type": "stream",
     "text": [
      "ERROR: 2023-10-26 11:30:20,604: _geological_feature_builder.py:266 -- Not enough constraints for scalar field add more\n",
      "WARNING: 2023-10-26 11:30:20,674: _discrete_interpolator.py:735 -- No solution, s1__2 scalar field 0. Add more data.\n"
     ]
    },
    {
     "data": {
      "application/vnd.jupyter.widget-view+json": {
       "model_id": "ceba76d5988d46d59d25edc672e2efd5",
       "version_major": 2,
       "version_minor": 0
      },
      "text/plain": [
       "  0%|          | 0/3 [00:00<?, ?it/s]"
      ]
     },
     "metadata": {},
     "output_type": "display_data"
    },
    {
     "name": "stderr",
     "output_type": "stream",
     "text": [
      "ERROR: 2023-10-26 11:30:22,336: _geological_feature_builder.py:266 -- Not enough constraints for scalar field add more\n",
      "WARNING: 2023-10-26 11:30:22,402: _discrete_interpolator.py:735 -- No solution, s1__2 scalar field 0. Add more data.\n"
     ]
    },
    {
     "data": {
      "application/vnd.jupyter.widget-view+json": {
       "model_id": "34a933e4fc604881bf069da7783d96dc",
       "version_major": 2,
       "version_minor": 0
      },
      "text/plain": [
       "  0%|          | 0/3 [00:00<?, ?it/s]"
      ]
     },
     "metadata": {},
     "output_type": "display_data"
    },
    {
     "name": "stderr",
     "output_type": "stream",
     "text": [
      "ERROR: 2023-10-26 11:30:24,128: _geological_feature_builder.py:266 -- Not enough constraints for scalar field add more\n",
      "WARNING: 2023-10-26 11:30:24,197: _discrete_interpolator.py:735 -- No solution, s1__2 scalar field 0. Add more data.\n"
     ]
    },
    {
     "data": {
      "application/vnd.jupyter.widget-view+json": {
       "model_id": "f0b98ebd393344eba0463d104b2b2c41",
       "version_major": 2,
       "version_minor": 0
      },
      "text/plain": [
       "  0%|          | 0/3 [00:00<?, ?it/s]"
      ]
     },
     "metadata": {},
     "output_type": "display_data"
    },
    {
     "name": "stderr",
     "output_type": "stream",
     "text": [
      "ERROR: 2023-10-26 11:30:25,994: _geological_feature_builder.py:266 -- Not enough constraints for scalar field add more\n",
      "WARNING: 2023-10-26 11:30:26,068: _discrete_interpolator.py:735 -- No solution, s1__2 scalar field 0. Add more data.\n"
     ]
    },
    {
     "data": {
      "application/vnd.jupyter.widget-view+json": {
       "model_id": "3c49a90256a545d3b11a5403e7ac062a",
       "version_major": 2,
       "version_minor": 0
      },
      "text/plain": [
       "  0%|          | 0/3 [00:00<?, ?it/s]"
      ]
     },
     "metadata": {},
     "output_type": "display_data"
    },
    {
     "name": "stderr",
     "output_type": "stream",
     "text": [
      "ERROR: 2023-10-26 11:30:27,943: _geological_feature_builder.py:266 -- Not enough constraints for scalar field add more\n",
      "WARNING: 2023-10-26 11:30:28,008: _discrete_interpolator.py:735 -- No solution, s1__2 scalar field 0. Add more data.\n"
     ]
    },
    {
     "data": {
      "application/vnd.jupyter.widget-view+json": {
       "model_id": "5c94e3f79e8646f1ba27b4ead78332b3",
       "version_major": 2,
       "version_minor": 0
      },
      "text/plain": [
       "  0%|          | 0/3 [00:00<?, ?it/s]"
      ]
     },
     "metadata": {},
     "output_type": "display_data"
    },
    {
     "name": "stderr",
     "output_type": "stream",
     "text": [
      "ERROR: 2023-10-26 11:30:29,621: _geological_feature_builder.py:266 -- Not enough constraints for scalar field add more\n",
      "WARNING: 2023-10-26 11:30:29,687: _discrete_interpolator.py:735 -- No solution, s1__2 scalar field 0. Add more data.\n"
     ]
    },
    {
     "data": {
      "application/vnd.jupyter.widget-view+json": {
       "model_id": "0cd8dba706194ffa908e56610cf7626f",
       "version_major": 2,
       "version_minor": 0
      },
      "text/plain": [
       "  0%|          | 0/3 [00:00<?, ?it/s]"
      ]
     },
     "metadata": {},
     "output_type": "display_data"
    },
    {
     "name": "stderr",
     "output_type": "stream",
     "text": [
      "ERROR: 2023-10-26 11:30:31,514: _geological_feature_builder.py:266 -- Not enough constraints for scalar field add more\n",
      "WARNING: 2023-10-26 11:30:31,585: _discrete_interpolator.py:735 -- No solution, s1__2 scalar field 0. Add more data.\n"
     ]
    },
    {
     "data": {
      "application/vnd.jupyter.widget-view+json": {
       "model_id": "df2fd192a2d84fbf971080991bdaedab",
       "version_major": 2,
       "version_minor": 0
      },
      "text/plain": [
       "  0%|          | 0/3 [00:00<?, ?it/s]"
      ]
     },
     "metadata": {},
     "output_type": "display_data"
    },
    {
     "name": "stderr",
     "output_type": "stream",
     "text": [
      "ERROR: 2023-10-26 11:30:33,410: _geological_feature_builder.py:266 -- Not enough constraints for scalar field add more\n",
      "WARNING: 2023-10-26 11:30:33,472: _discrete_interpolator.py:735 -- No solution, s1__2 scalar field 0. Add more data.\n"
     ]
    },
    {
     "data": {
      "application/vnd.jupyter.widget-view+json": {
       "model_id": "0b51c5b744c14de2a86cdd38ba7e1cbe",
       "version_major": 2,
       "version_minor": 0
      },
      "text/plain": [
       "  0%|          | 0/3 [00:00<?, ?it/s]"
      ]
     },
     "metadata": {},
     "output_type": "display_data"
    },
    {
     "name": "stderr",
     "output_type": "stream",
     "text": [
      "ERROR: 2023-10-26 11:30:35,743: _geological_feature_builder.py:266 -- Not enough constraints for scalar field add more\n",
      "WARNING: 2023-10-26 11:30:35,815: _discrete_interpolator.py:735 -- No solution, s1__2 scalar field 0. Add more data.\n"
     ]
    },
    {
     "data": {
      "application/vnd.jupyter.widget-view+json": {
       "model_id": "93a028498343407db2a4bd888b6c60d5",
       "version_major": 2,
       "version_minor": 0
      },
      "text/plain": [
       "  0%|          | 0/3 [00:00<?, ?it/s]"
      ]
     },
     "metadata": {},
     "output_type": "display_data"
    },
    {
     "name": "stderr",
     "output_type": "stream",
     "text": [
      "ERROR: 2023-10-26 11:30:40,004: _geological_feature_builder.py:266 -- Not enough constraints for scalar field add more\n",
      "WARNING: 2023-10-26 11:30:40,094: _discrete_interpolator.py:735 -- No solution, s1__2 scalar field 0. Add more data.\n"
     ]
    },
    {
     "data": {
      "application/vnd.jupyter.widget-view+json": {
       "model_id": "7b8f6921db2b455dbedbdc04501bdba6",
       "version_major": 2,
       "version_minor": 0
      },
      "text/plain": [
       "  0%|          | 0/3 [00:00<?, ?it/s]"
      ]
     },
     "metadata": {},
     "output_type": "display_data"
    },
    {
     "name": "stderr",
     "output_type": "stream",
     "text": [
      "ERROR: 2023-10-26 11:30:42,758: _geological_feature_builder.py:266 -- Not enough constraints for scalar field add more\n",
      "WARNING: 2023-10-26 11:30:42,831: _discrete_interpolator.py:735 -- No solution, s1__2 scalar field 0. Add more data.\n"
     ]
    },
    {
     "data": {
      "application/vnd.jupyter.widget-view+json": {
       "model_id": "f0806475f72343a5901a2d022e4a5013",
       "version_major": 2,
       "version_minor": 0
      },
      "text/plain": [
       "  0%|          | 0/3 [00:00<?, ?it/s]"
      ]
     },
     "metadata": {},
     "output_type": "display_data"
    },
    {
     "name": "stderr",
     "output_type": "stream",
     "text": [
      "ERROR: 2023-10-26 11:30:44,933: _geological_feature_builder.py:266 -- Not enough constraints for scalar field add more\n",
      "WARNING: 2023-10-26 11:30:45,003: _discrete_interpolator.py:735 -- No solution, s1__2 scalar field 0. Add more data.\n"
     ]
    },
    {
     "data": {
      "application/vnd.jupyter.widget-view+json": {
       "model_id": "5f9099815137421594c91ad896938aea",
       "version_major": 2,
       "version_minor": 0
      },
      "text/plain": [
       "  0%|          | 0/3 [00:00<?, ?it/s]"
      ]
     },
     "metadata": {},
     "output_type": "display_data"
    },
    {
     "name": "stderr",
     "output_type": "stream",
     "text": [
      "ERROR: 2023-10-26 11:30:47,682: _geological_feature_builder.py:266 -- Not enough constraints for scalar field add more\n",
      "WARNING: 2023-10-26 11:30:47,755: _discrete_interpolator.py:735 -- No solution, s1__2 scalar field 0. Add more data.\n"
     ]
    },
    {
     "data": {
      "application/vnd.jupyter.widget-view+json": {
       "model_id": "82809a45209a43f09aab1343fccc17c3",
       "version_major": 2,
       "version_minor": 0
      },
      "text/plain": [
       "  0%|          | 0/3 [00:00<?, ?it/s]"
      ]
     },
     "metadata": {},
     "output_type": "display_data"
    },
    {
     "name": "stderr",
     "output_type": "stream",
     "text": [
      "ERROR: 2023-10-26 11:30:49,877: _geological_feature_builder.py:266 -- Not enough constraints for scalar field add more\n",
      "WARNING: 2023-10-26 11:30:49,968: _discrete_interpolator.py:735 -- No solution, s1__2 scalar field 0. Add more data.\n"
     ]
    },
    {
     "data": {
      "application/vnd.jupyter.widget-view+json": {
       "model_id": "bf801c7f46e84d72b11f197ed21524d0",
       "version_major": 2,
       "version_minor": 0
      },
      "text/plain": [
       "  0%|          | 0/3 [00:00<?, ?it/s]"
      ]
     },
     "metadata": {},
     "output_type": "display_data"
    },
    {
     "name": "stderr",
     "output_type": "stream",
     "text": [
      "ERROR: 2023-10-26 11:30:52,266: _geological_feature_builder.py:266 -- Not enough constraints for scalar field add more\n",
      "WARNING: 2023-10-26 11:30:52,329: _discrete_interpolator.py:735 -- No solution, s1__2 scalar field 0. Add more data.\n"
     ]
    },
    {
     "data": {
      "application/vnd.jupyter.widget-view+json": {
       "model_id": "98a1322797e54a31aec9822425ceba2b",
       "version_major": 2,
       "version_minor": 0
      },
      "text/plain": [
       "  0%|          | 0/3 [00:00<?, ?it/s]"
      ]
     },
     "metadata": {},
     "output_type": "display_data"
    },
    {
     "name": "stderr",
     "output_type": "stream",
     "text": [
      "ERROR: 2023-10-26 11:30:54,346: _geological_feature_builder.py:266 -- Not enough constraints for scalar field add more\n",
      "WARNING: 2023-10-26 11:30:54,410: _discrete_interpolator.py:735 -- No solution, s1__2 scalar field 0. Add more data.\n"
     ]
    },
    {
     "data": {
      "application/vnd.jupyter.widget-view+json": {
       "model_id": "a93fc06fc2ef40449625310d8c8c8f26",
       "version_major": 2,
       "version_minor": 0
      },
      "text/plain": [
       "  0%|          | 0/3 [00:00<?, ?it/s]"
      ]
     },
     "metadata": {},
     "output_type": "display_data"
    },
    {
     "name": "stderr",
     "output_type": "stream",
     "text": [
      "ERROR: 2023-10-26 11:30:56,406: _geological_feature_builder.py:266 -- Not enough constraints for scalar field add more\n",
      "WARNING: 2023-10-26 11:30:56,480: _discrete_interpolator.py:735 -- No solution, s1__2 scalar field 0. Add more data.\n"
     ]
    },
    {
     "data": {
      "application/vnd.jupyter.widget-view+json": {
       "model_id": "c9ad7e5ac19241dd9817da188534d7fd",
       "version_major": 2,
       "version_minor": 0
      },
      "text/plain": [
       "  0%|          | 0/3 [00:00<?, ?it/s]"
      ]
     },
     "metadata": {},
     "output_type": "display_data"
    },
    {
     "name": "stderr",
     "output_type": "stream",
     "text": [
      "ERROR: 2023-10-26 11:30:58,433: _geological_feature_builder.py:266 -- Not enough constraints for scalar field add more\n",
      "WARNING: 2023-10-26 11:30:58,506: _discrete_interpolator.py:735 -- No solution, s1__2 scalar field 0. Add more data.\n"
     ]
    },
    {
     "data": {
      "application/vnd.jupyter.widget-view+json": {
       "model_id": "f45ce379769442a3b87c264a5dd5d69e",
       "version_major": 2,
       "version_minor": 0
      },
      "text/plain": [
       "  0%|          | 0/3 [00:00<?, ?it/s]"
      ]
     },
     "metadata": {},
     "output_type": "display_data"
    },
    {
     "name": "stderr",
     "output_type": "stream",
     "text": [
      "ERROR: 2023-10-26 11:31:00,748: _geological_feature_builder.py:266 -- Not enough constraints for scalar field add more\n",
      "WARNING: 2023-10-26 11:31:00,819: _discrete_interpolator.py:735 -- No solution, s1__2 scalar field 0. Add more data.\n"
     ]
    },
    {
     "data": {
      "application/vnd.jupyter.widget-view+json": {
       "model_id": "9a4ac96243084aa4982d3da4b425caad",
       "version_major": 2,
       "version_minor": 0
      },
      "text/plain": [
       "  0%|          | 0/3 [00:00<?, ?it/s]"
      ]
     },
     "metadata": {},
     "output_type": "display_data"
    },
    {
     "name": "stderr",
     "output_type": "stream",
     "text": [
      "ERROR: 2023-10-26 11:31:03,072: _geological_feature_builder.py:266 -- Not enough constraints for scalar field add more\n",
      "WARNING: 2023-10-26 11:31:03,147: _discrete_interpolator.py:735 -- No solution, s1__2 scalar field 0. Add more data.\n"
     ]
    },
    {
     "data": {
      "application/vnd.jupyter.widget-view+json": {
       "model_id": "b7f8dcc05ef64620a51ff7fe23983a59",
       "version_major": 2,
       "version_minor": 0
      },
      "text/plain": [
       "  0%|          | 0/3 [00:00<?, ?it/s]"
      ]
     },
     "metadata": {},
     "output_type": "display_data"
    },
    {
     "name": "stderr",
     "output_type": "stream",
     "text": [
      "ERROR: 2023-10-26 11:31:06,371: _geological_feature_builder.py:266 -- Not enough constraints for scalar field add more\n",
      "WARNING: 2023-10-26 11:31:06,436: _discrete_interpolator.py:735 -- No solution, s1__2 scalar field 0. Add more data.\n"
     ]
    },
    {
     "data": {
      "application/vnd.jupyter.widget-view+json": {
       "model_id": "21966dfadc1b46eaa0f0b5d6b5733670",
       "version_major": 2,
       "version_minor": 0
      },
      "text/plain": [
       "  0%|          | 0/3 [00:00<?, ?it/s]"
      ]
     },
     "metadata": {},
     "output_type": "display_data"
    },
    {
     "name": "stderr",
     "output_type": "stream",
     "text": [
      "ERROR: 2023-10-26 11:31:08,621: _geological_feature_builder.py:266 -- Not enough constraints for scalar field add more\n",
      "WARNING: 2023-10-26 11:31:08,687: _discrete_interpolator.py:735 -- No solution, s1__2 scalar field 0. Add more data.\n"
     ]
    },
    {
     "data": {
      "application/vnd.jupyter.widget-view+json": {
       "model_id": "56b15b7654e94604a426deb6a9232466",
       "version_major": 2,
       "version_minor": 0
      },
      "text/plain": [
       "  0%|          | 0/3 [00:00<?, ?it/s]"
      ]
     },
     "metadata": {},
     "output_type": "display_data"
    },
    {
     "name": "stderr",
     "output_type": "stream",
     "text": [
      "ERROR: 2023-10-26 11:31:10,747: _geological_feature_builder.py:266 -- Not enough constraints for scalar field add more\n",
      "WARNING: 2023-10-26 11:31:10,814: _discrete_interpolator.py:735 -- No solution, s1__2 scalar field 0. Add more data.\n"
     ]
    },
    {
     "data": {
      "application/vnd.jupyter.widget-view+json": {
       "model_id": "cad126487e3649ffa7727820aa1d307d",
       "version_major": 2,
       "version_minor": 0
      },
      "text/plain": [
       "  0%|          | 0/3 [00:00<?, ?it/s]"
      ]
     },
     "metadata": {},
     "output_type": "display_data"
    },
    {
     "name": "stderr",
     "output_type": "stream",
     "text": [
      "ERROR: 2023-10-26 11:31:12,743: _geological_feature_builder.py:266 -- Not enough constraints for scalar field add more\n",
      "WARNING: 2023-10-26 11:31:12,810: _discrete_interpolator.py:735 -- No solution, s1__2 scalar field 0. Add more data.\n"
     ]
    },
    {
     "data": {
      "application/vnd.jupyter.widget-view+json": {
       "model_id": "b269ab9cebb343ae837a8ab9bb899a09",
       "version_major": 2,
       "version_minor": 0
      },
      "text/plain": [
       "  0%|          | 0/3 [00:00<?, ?it/s]"
      ]
     },
     "metadata": {},
     "output_type": "display_data"
    },
    {
     "name": "stderr",
     "output_type": "stream",
     "text": [
      "ERROR: 2023-10-26 11:31:14,781: _geological_feature_builder.py:266 -- Not enough constraints for scalar field add more\n",
      "WARNING: 2023-10-26 11:31:14,847: _discrete_interpolator.py:735 -- No solution, s1__2 scalar field 0. Add more data.\n"
     ]
    },
    {
     "data": {
      "application/vnd.jupyter.widget-view+json": {
       "model_id": "6de7482152f441acaedd6ac0daec337a",
       "version_major": 2,
       "version_minor": 0
      },
      "text/plain": [
       "  0%|          | 0/3 [00:00<?, ?it/s]"
      ]
     },
     "metadata": {},
     "output_type": "display_data"
    },
    {
     "name": "stderr",
     "output_type": "stream",
     "text": [
      "ERROR: 2023-10-26 11:31:17,437: _geological_feature_builder.py:266 -- Not enough constraints for scalar field add more\n",
      "WARNING: 2023-10-26 11:31:17,539: _discrete_interpolator.py:735 -- No solution, s1__2 scalar field 0. Add more data.\n"
     ]
    },
    {
     "data": {
      "application/vnd.jupyter.widget-view+json": {
       "model_id": "0fdd9b9badb84065aae7eb19180c7104",
       "version_major": 2,
       "version_minor": 0
      },
      "text/plain": [
       "  0%|          | 0/3 [00:00<?, ?it/s]"
      ]
     },
     "metadata": {},
     "output_type": "display_data"
    },
    {
     "name": "stderr",
     "output_type": "stream",
     "text": [
      "ERROR: 2023-10-26 11:31:20,554: _geological_feature_builder.py:266 -- Not enough constraints for scalar field add more\n",
      "WARNING: 2023-10-26 11:31:20,630: _discrete_interpolator.py:735 -- No solution, s1__2 scalar field 0. Add more data.\n"
     ]
    },
    {
     "data": {
      "application/vnd.jupyter.widget-view+json": {
       "model_id": "219f1f20238a45519c4518b2cf7d1f2f",
       "version_major": 2,
       "version_minor": 0
      },
      "text/plain": [
       "  0%|          | 0/3 [00:00<?, ?it/s]"
      ]
     },
     "metadata": {},
     "output_type": "display_data"
    },
    {
     "name": "stderr",
     "output_type": "stream",
     "text": [
      "ERROR: 2023-10-26 11:31:22,745: _geological_feature_builder.py:266 -- Not enough constraints for scalar field add more\n",
      "WARNING: 2023-10-26 11:31:22,815: _discrete_interpolator.py:735 -- No solution, s1__2 scalar field 0. Add more data.\n"
     ]
    },
    {
     "data": {
      "application/vnd.jupyter.widget-view+json": {
       "model_id": "b818641f2ada450cbf1cb9c69d464a00",
       "version_major": 2,
       "version_minor": 0
      },
      "text/plain": [
       "  0%|          | 0/3 [00:00<?, ?it/s]"
      ]
     },
     "metadata": {},
     "output_type": "display_data"
    },
    {
     "name": "stderr",
     "output_type": "stream",
     "text": [
      "ERROR: 2023-10-26 11:31:25,038: _geological_feature_builder.py:266 -- Not enough constraints for scalar field add more\n",
      "WARNING: 2023-10-26 11:31:25,115: _discrete_interpolator.py:735 -- No solution, s1__2 scalar field 0. Add more data.\n"
     ]
    },
    {
     "data": {
      "application/vnd.jupyter.widget-view+json": {
       "model_id": "019a39200b2c41b9b30c391e3f8ee97a",
       "version_major": 2,
       "version_minor": 0
      },
      "text/plain": [
       "  0%|          | 0/3 [00:00<?, ?it/s]"
      ]
     },
     "metadata": {},
     "output_type": "display_data"
    },
    {
     "name": "stderr",
     "output_type": "stream",
     "text": [
      "ERROR: 2023-10-26 11:31:29,157: _geological_feature_builder.py:266 -- Not enough constraints for scalar field add more\n",
      "WARNING: 2023-10-26 11:31:29,222: _discrete_interpolator.py:735 -- No solution, s1__2 scalar field 0. Add more data.\n"
     ]
    },
    {
     "data": {
      "application/vnd.jupyter.widget-view+json": {
       "model_id": "74472e65f3e8479984c2f5e92addb59d",
       "version_major": 2,
       "version_minor": 0
      },
      "text/plain": [
       "  0%|          | 0/3 [00:00<?, ?it/s]"
      ]
     },
     "metadata": {},
     "output_type": "display_data"
    },
    {
     "name": "stderr",
     "output_type": "stream",
     "text": [
      "ERROR: 2023-10-26 11:31:31,064: _geological_feature_builder.py:266 -- Not enough constraints for scalar field add more\n",
      "WARNING: 2023-10-26 11:31:31,132: _discrete_interpolator.py:735 -- No solution, s1__2 scalar field 0. Add more data.\n"
     ]
    },
    {
     "data": {
      "application/vnd.jupyter.widget-view+json": {
       "model_id": "204192cb045c4d5e996c3256405af4fd",
       "version_major": 2,
       "version_minor": 0
      },
      "text/plain": [
       "  0%|          | 0/3 [00:00<?, ?it/s]"
      ]
     },
     "metadata": {},
     "output_type": "display_data"
    },
    {
     "name": "stderr",
     "output_type": "stream",
     "text": [
      "ERROR: 2023-10-26 11:31:32,882: _geological_feature_builder.py:266 -- Not enough constraints for scalar field add more\n",
      "WARNING: 2023-10-26 11:31:32,959: _discrete_interpolator.py:735 -- No solution, s1__2 scalar field 0. Add more data.\n"
     ]
    },
    {
     "data": {
      "application/vnd.jupyter.widget-view+json": {
       "model_id": "bebce92d15874c2b820164da32d84a5a",
       "version_major": 2,
       "version_minor": 0
      },
      "text/plain": [
       "  0%|          | 0/3 [00:00<?, ?it/s]"
      ]
     },
     "metadata": {},
     "output_type": "display_data"
    },
    {
     "name": "stderr",
     "output_type": "stream",
     "text": [
      "ERROR: 2023-10-26 11:31:35,022: _geological_feature_builder.py:266 -- Not enough constraints for scalar field add more\n",
      "WARNING: 2023-10-26 11:31:35,090: _discrete_interpolator.py:735 -- No solution, s1__2 scalar field 0. Add more data.\n"
     ]
    },
    {
     "data": {
      "application/vnd.jupyter.widget-view+json": {
       "model_id": "db1d3a2d8f794e299e88736a9bf10530",
       "version_major": 2,
       "version_minor": 0
      },
      "text/plain": [
       "  0%|          | 0/3 [00:00<?, ?it/s]"
      ]
     },
     "metadata": {},
     "output_type": "display_data"
    },
    {
     "name": "stderr",
     "output_type": "stream",
     "text": [
      "ERROR: 2023-10-26 11:31:36,943: _geological_feature_builder.py:266 -- Not enough constraints for scalar field add more\n",
      "WARNING: 2023-10-26 11:31:37,023: _discrete_interpolator.py:735 -- No solution, s1__2 scalar field 0. Add more data.\n"
     ]
    },
    {
     "data": {
      "application/vnd.jupyter.widget-view+json": {
       "model_id": "b2c568851f9d4e7f805c9fa161b91581",
       "version_major": 2,
       "version_minor": 0
      },
      "text/plain": [
       "  0%|          | 0/3 [00:00<?, ?it/s]"
      ]
     },
     "metadata": {},
     "output_type": "display_data"
    },
    {
     "name": "stderr",
     "output_type": "stream",
     "text": [
      "ERROR: 2023-10-26 11:31:39,424: _geological_feature_builder.py:266 -- Not enough constraints for scalar field add more\n",
      "WARNING: 2023-10-26 11:31:39,533: _discrete_interpolator.py:735 -- No solution, s1__2 scalar field 0. Add more data.\n"
     ]
    },
    {
     "data": {
      "application/vnd.jupyter.widget-view+json": {
       "model_id": "f53cbb6594fc479eb0f78f7b2da041b4",
       "version_major": 2,
       "version_minor": 0
      },
      "text/plain": [
       "  0%|          | 0/3 [00:00<?, ?it/s]"
      ]
     },
     "metadata": {},
     "output_type": "display_data"
    },
    {
     "name": "stderr",
     "output_type": "stream",
     "text": [
      "ERROR: 2023-10-26 11:31:42,318: _geological_feature_builder.py:266 -- Not enough constraints for scalar field add more\n",
      "WARNING: 2023-10-26 11:31:42,387: _discrete_interpolator.py:735 -- No solution, s1__2 scalar field 0. Add more data.\n"
     ]
    },
    {
     "data": {
      "application/vnd.jupyter.widget-view+json": {
       "model_id": "f2782dcf143145478a2ae46f5ea22031",
       "version_major": 2,
       "version_minor": 0
      },
      "text/plain": [
       "  0%|          | 0/3 [00:00<?, ?it/s]"
      ]
     },
     "metadata": {},
     "output_type": "display_data"
    },
    {
     "name": "stderr",
     "output_type": "stream",
     "text": [
      "ERROR: 2023-10-26 11:31:44,594: _geological_feature_builder.py:266 -- Not enough constraints for scalar field add more\n",
      "WARNING: 2023-10-26 11:31:44,663: _discrete_interpolator.py:735 -- No solution, s1__2 scalar field 0. Add more data.\n"
     ]
    },
    {
     "data": {
      "application/vnd.jupyter.widget-view+json": {
       "model_id": "7f6281d5c04f43f5912c061e33a0ffe3",
       "version_major": 2,
       "version_minor": 0
      },
      "text/plain": [
       "  0%|          | 0/3 [00:00<?, ?it/s]"
      ]
     },
     "metadata": {},
     "output_type": "display_data"
    },
    {
     "name": "stderr",
     "output_type": "stream",
     "text": [
      "ERROR: 2023-10-26 11:31:46,542: _geological_feature_builder.py:266 -- Not enough constraints for scalar field add more\n",
      "WARNING: 2023-10-26 11:31:46,606: _discrete_interpolator.py:735 -- No solution, s1__2 scalar field 0. Add more data.\n"
     ]
    },
    {
     "data": {
      "application/vnd.jupyter.widget-view+json": {
       "model_id": "5e0b6f8778064cfda9e1265519e6bfbc",
       "version_major": 2,
       "version_minor": 0
      },
      "text/plain": [
       "  0%|          | 0/3 [00:00<?, ?it/s]"
      ]
     },
     "metadata": {},
     "output_type": "display_data"
    },
    {
     "name": "stderr",
     "output_type": "stream",
     "text": [
      "ERROR: 2023-10-26 11:31:48,308: _geological_feature_builder.py:266 -- Not enough constraints for scalar field add more\n",
      "WARNING: 2023-10-26 11:31:48,377: _discrete_interpolator.py:735 -- No solution, s1__2 scalar field 0. Add more data.\n"
     ]
    },
    {
     "data": {
      "application/vnd.jupyter.widget-view+json": {
       "model_id": "0b1b29d21ef94cd8af190f8512f9f26c",
       "version_major": 2,
       "version_minor": 0
      },
      "text/plain": [
       "  0%|          | 0/3 [00:00<?, ?it/s]"
      ]
     },
     "metadata": {},
     "output_type": "display_data"
    },
    {
     "name": "stderr",
     "output_type": "stream",
     "text": [
      "ERROR: 2023-10-26 11:31:50,148: _geological_feature_builder.py:266 -- Not enough constraints for scalar field add more\n",
      "WARNING: 2023-10-26 11:31:50,216: _discrete_interpolator.py:735 -- No solution, s1__2 scalar field 0. Add more data.\n"
     ]
    },
    {
     "data": {
      "application/vnd.jupyter.widget-view+json": {
       "model_id": "6ca5fe4dea374844994a0265b6803557",
       "version_major": 2,
       "version_minor": 0
      },
      "text/plain": [
       "  0%|          | 0/3 [00:00<?, ?it/s]"
      ]
     },
     "metadata": {},
     "output_type": "display_data"
    },
    {
     "name": "stderr",
     "output_type": "stream",
     "text": [
      "ERROR: 2023-10-26 11:31:51,884: _geological_feature_builder.py:266 -- Not enough constraints for scalar field add more\n",
      "WARNING: 2023-10-26 11:31:51,954: _discrete_interpolator.py:735 -- No solution, s1__2 scalar field 0. Add more data.\n"
     ]
    },
    {
     "data": {
      "application/vnd.jupyter.widget-view+json": {
       "model_id": "8edbaffc1f7649e6840953732017b735",
       "version_major": 2,
       "version_minor": 0
      },
      "text/plain": [
       "  0%|          | 0/3 [00:00<?, ?it/s]"
      ]
     },
     "metadata": {},
     "output_type": "display_data"
    },
    {
     "name": "stderr",
     "output_type": "stream",
     "text": [
      "ERROR: 2023-10-26 11:31:53,624: _geological_feature_builder.py:266 -- Not enough constraints for scalar field add more\n",
      "WARNING: 2023-10-26 11:31:53,692: _discrete_interpolator.py:735 -- No solution, s1__2 scalar field 0. Add more data.\n"
     ]
    },
    {
     "data": {
      "application/vnd.jupyter.widget-view+json": {
       "model_id": "da7aaee831df48f49d87f09bd8b635e5",
       "version_major": 2,
       "version_minor": 0
      },
      "text/plain": [
       "  0%|          | 0/3 [00:00<?, ?it/s]"
      ]
     },
     "metadata": {},
     "output_type": "display_data"
    },
    {
     "name": "stderr",
     "output_type": "stream",
     "text": [
      "ERROR: 2023-10-26 11:31:55,366: _geological_feature_builder.py:266 -- Not enough constraints for scalar field add more\n",
      "WARNING: 2023-10-26 11:31:55,450: _discrete_interpolator.py:735 -- No solution, s1__2 scalar field 0. Add more data.\n"
     ]
    },
    {
     "data": {
      "application/vnd.jupyter.widget-view+json": {
       "model_id": "99cc8ce65f344e82abc1ac83676726fc",
       "version_major": 2,
       "version_minor": 0
      },
      "text/plain": [
       "  0%|          | 0/3 [00:00<?, ?it/s]"
      ]
     },
     "metadata": {},
     "output_type": "display_data"
    },
    {
     "name": "stderr",
     "output_type": "stream",
     "text": [
      "ERROR: 2023-10-26 11:31:57,424: _geological_feature_builder.py:266 -- Not enough constraints for scalar field add more\n",
      "WARNING: 2023-10-26 11:31:57,488: _discrete_interpolator.py:735 -- No solution, s1__2 scalar field 0. Add more data.\n"
     ]
    },
    {
     "data": {
      "application/vnd.jupyter.widget-view+json": {
       "model_id": "80182ca1850a4dd0bccd5e17e4b98fe5",
       "version_major": 2,
       "version_minor": 0
      },
      "text/plain": [
       "  0%|          | 0/3 [00:00<?, ?it/s]"
      ]
     },
     "metadata": {},
     "output_type": "display_data"
    },
    {
     "name": "stderr",
     "output_type": "stream",
     "text": [
      "ERROR: 2023-10-26 11:31:59,006: _geological_feature_builder.py:266 -- Not enough constraints for scalar field add more\n",
      "WARNING: 2023-10-26 11:31:59,075: _discrete_interpolator.py:735 -- No solution, s1__2 scalar field 0. Add more data.\n"
     ]
    },
    {
     "data": {
      "application/vnd.jupyter.widget-view+json": {
       "model_id": "fc80a7e325214cdebdeb5f21f1826646",
       "version_major": 2,
       "version_minor": 0
      },
      "text/plain": [
       "  0%|          | 0/3 [00:00<?, ?it/s]"
      ]
     },
     "metadata": {},
     "output_type": "display_data"
    },
    {
     "name": "stderr",
     "output_type": "stream",
     "text": [
      "ERROR: 2023-10-26 11:32:03,875: _geological_feature_builder.py:266 -- Not enough constraints for scalar field add more\n",
      "WARNING: 2023-10-26 11:32:03,939: _discrete_interpolator.py:735 -- No solution, s1__2 scalar field 0. Add more data.\n"
     ]
    },
    {
     "data": {
      "application/vnd.jupyter.widget-view+json": {
       "model_id": "37b6bf08e3e44db2828e723344dfdd63",
       "version_major": 2,
       "version_minor": 0
      },
      "text/plain": [
       "  0%|          | 0/3 [00:00<?, ?it/s]"
      ]
     },
     "metadata": {},
     "output_type": "display_data"
    },
    {
     "name": "stderr",
     "output_type": "stream",
     "text": [
      "ERROR: 2023-10-26 11:32:05,638: _geological_feature_builder.py:266 -- Not enough constraints for scalar field add more\n",
      "WARNING: 2023-10-26 11:32:05,704: _discrete_interpolator.py:735 -- No solution, s1__2 scalar field 0. Add more data.\n"
     ]
    },
    {
     "data": {
      "application/vnd.jupyter.widget-view+json": {
       "model_id": "488e6654dfa44bdeaba5c33c1d95c496",
       "version_major": 2,
       "version_minor": 0
      },
      "text/plain": [
       "  0%|          | 0/3 [00:00<?, ?it/s]"
      ]
     },
     "metadata": {},
     "output_type": "display_data"
    },
    {
     "name": "stderr",
     "output_type": "stream",
     "text": [
      "ERROR: 2023-10-26 11:32:07,440: _geological_feature_builder.py:266 -- Not enough constraints for scalar field add more\n",
      "WARNING: 2023-10-26 11:32:07,506: _discrete_interpolator.py:735 -- No solution, s1__2 scalar field 0. Add more data.\n"
     ]
    },
    {
     "data": {
      "application/vnd.jupyter.widget-view+json": {
       "model_id": "24caca0d6d0e4a4daba4fea7be2b12b2",
       "version_major": 2,
       "version_minor": 0
      },
      "text/plain": [
       "  0%|          | 0/3 [00:00<?, ?it/s]"
      ]
     },
     "metadata": {},
     "output_type": "display_data"
    },
    {
     "name": "stderr",
     "output_type": "stream",
     "text": [
      "ERROR: 2023-10-26 11:32:09,203: _geological_feature_builder.py:266 -- Not enough constraints for scalar field add more\n",
      "WARNING: 2023-10-26 11:32:09,271: _discrete_interpolator.py:735 -- No solution, s1__2 scalar field 0. Add more data.\n"
     ]
    },
    {
     "data": {
      "application/vnd.jupyter.widget-view+json": {
       "model_id": "4a4f31ad345d4082a1d90f0445b4d20a",
       "version_major": 2,
       "version_minor": 0
      },
      "text/plain": [
       "  0%|          | 0/3 [00:00<?, ?it/s]"
      ]
     },
     "metadata": {},
     "output_type": "display_data"
    },
    {
     "name": "stderr",
     "output_type": "stream",
     "text": [
      "ERROR: 2023-10-26 11:32:10,922: _geological_feature_builder.py:266 -- Not enough constraints for scalar field add more\n",
      "WARNING: 2023-10-26 11:32:10,992: _discrete_interpolator.py:735 -- No solution, s1__2 scalar field 0. Add more data.\n"
     ]
    },
    {
     "data": {
      "application/vnd.jupyter.widget-view+json": {
       "model_id": "33242e349aec411dbddbe1c2f5e613bc",
       "version_major": 2,
       "version_minor": 0
      },
      "text/plain": [
       "  0%|          | 0/3 [00:00<?, ?it/s]"
      ]
     },
     "metadata": {},
     "output_type": "display_data"
    },
    {
     "name": "stderr",
     "output_type": "stream",
     "text": [
      "ERROR: 2023-10-26 11:32:12,747: _geological_feature_builder.py:266 -- Not enough constraints for scalar field add more\n",
      "WARNING: 2023-10-26 11:32:12,811: _discrete_interpolator.py:735 -- No solution, s1__2 scalar field 0. Add more data.\n"
     ]
    },
    {
     "data": {
      "application/vnd.jupyter.widget-view+json": {
       "model_id": "43393b301fef49b69afa278aea17e0ad",
       "version_major": 2,
       "version_minor": 0
      },
      "text/plain": [
       "  0%|          | 0/3 [00:00<?, ?it/s]"
      ]
     },
     "metadata": {},
     "output_type": "display_data"
    },
    {
     "name": "stderr",
     "output_type": "stream",
     "text": [
      "ERROR: 2023-10-26 11:32:14,494: _geological_feature_builder.py:266 -- Not enough constraints for scalar field add more\n",
      "WARNING: 2023-10-26 11:32:14,557: _discrete_interpolator.py:735 -- No solution, s1__2 scalar field 0. Add more data.\n"
     ]
    },
    {
     "data": {
      "application/vnd.jupyter.widget-view+json": {
       "model_id": "66e170d017c04f34a4a851f91515e56b",
       "version_major": 2,
       "version_minor": 0
      },
      "text/plain": [
       "  0%|          | 0/3 [00:00<?, ?it/s]"
      ]
     },
     "metadata": {},
     "output_type": "display_data"
    },
    {
     "name": "stderr",
     "output_type": "stream",
     "text": [
      "ERROR: 2023-10-26 11:32:16,359: _geological_feature_builder.py:266 -- Not enough constraints for scalar field add more\n",
      "WARNING: 2023-10-26 11:32:16,432: _discrete_interpolator.py:735 -- No solution, s1__2 scalar field 0. Add more data.\n"
     ]
    },
    {
     "data": {
      "application/vnd.jupyter.widget-view+json": {
       "model_id": "8ea2e82e287e4e5390cf4786b7240903",
       "version_major": 2,
       "version_minor": 0
      },
      "text/plain": [
       "  0%|          | 0/3 [00:00<?, ?it/s]"
      ]
     },
     "metadata": {},
     "output_type": "display_data"
    },
    {
     "name": "stderr",
     "output_type": "stream",
     "text": [
      "ERROR: 2023-10-26 11:32:18,084: _geological_feature_builder.py:266 -- Not enough constraints for scalar field add more\n",
      "WARNING: 2023-10-26 11:32:18,156: _discrete_interpolator.py:735 -- No solution, s1__2 scalar field 0. Add more data.\n"
     ]
    },
    {
     "data": {
      "application/vnd.jupyter.widget-view+json": {
       "model_id": "5c50cdc2eff143be90a855325d8f4bc6",
       "version_major": 2,
       "version_minor": 0
      },
      "text/plain": [
       "  0%|          | 0/3 [00:00<?, ?it/s]"
      ]
     },
     "metadata": {},
     "output_type": "display_data"
    },
    {
     "name": "stderr",
     "output_type": "stream",
     "text": [
      "ERROR: 2023-10-26 11:32:20,001: _geological_feature_builder.py:266 -- Not enough constraints for scalar field add more\n",
      "WARNING: 2023-10-26 11:32:20,071: _discrete_interpolator.py:735 -- No solution, s1__2 scalar field 0. Add more data.\n"
     ]
    },
    {
     "data": {
      "application/vnd.jupyter.widget-view+json": {
       "model_id": "1547602ba4b6467e9ba89f89fd89893a",
       "version_major": 2,
       "version_minor": 0
      },
      "text/plain": [
       "  0%|          | 0/3 [00:00<?, ?it/s]"
      ]
     },
     "metadata": {},
     "output_type": "display_data"
    },
    {
     "name": "stderr",
     "output_type": "stream",
     "text": [
      "ERROR: 2023-10-26 11:32:23,725: _geological_feature_builder.py:266 -- Not enough constraints for scalar field add more\n",
      "WARNING: 2023-10-26 11:32:23,803: _discrete_interpolator.py:735 -- No solution, s1__2 scalar field 0. Add more data.\n"
     ]
    },
    {
     "data": {
      "application/vnd.jupyter.widget-view+json": {
       "model_id": "3c55e3f5e69348398623cc3a60b31e2b",
       "version_major": 2,
       "version_minor": 0
      },
      "text/plain": [
       "  0%|          | 0/3 [00:00<?, ?it/s]"
      ]
     },
     "metadata": {},
     "output_type": "display_data"
    },
    {
     "name": "stderr",
     "output_type": "stream",
     "text": [
      "ERROR: 2023-10-26 11:32:25,352: _geological_feature_builder.py:266 -- Not enough constraints for scalar field add more\n",
      "WARNING: 2023-10-26 11:32:25,426: _discrete_interpolator.py:735 -- No solution, s1__2 scalar field 0. Add more data.\n"
     ]
    },
    {
     "data": {
      "application/vnd.jupyter.widget-view+json": {
       "model_id": "662e6c0c61dc4635ae5170cf38efbac4",
       "version_major": 2,
       "version_minor": 0
      },
      "text/plain": [
       "  0%|          | 0/3 [00:00<?, ?it/s]"
      ]
     },
     "metadata": {},
     "output_type": "display_data"
    },
    {
     "name": "stderr",
     "output_type": "stream",
     "text": [
      "ERROR: 2023-10-26 11:32:27,487: _geological_feature_builder.py:266 -- Not enough constraints for scalar field add more\n",
      "WARNING: 2023-10-26 11:32:27,555: _discrete_interpolator.py:735 -- No solution, s1__2 scalar field 0. Add more data.\n"
     ]
    },
    {
     "data": {
      "application/vnd.jupyter.widget-view+json": {
       "model_id": "536f448125504190b63ced639071ca05",
       "version_major": 2,
       "version_minor": 0
      },
      "text/plain": [
       "  0%|          | 0/3 [00:00<?, ?it/s]"
      ]
     },
     "metadata": {},
     "output_type": "display_data"
    },
    {
     "name": "stderr",
     "output_type": "stream",
     "text": [
      "ERROR: 2023-10-26 11:32:29,287: _geological_feature_builder.py:266 -- Not enough constraints for scalar field add more\n",
      "WARNING: 2023-10-26 11:32:29,356: _discrete_interpolator.py:735 -- No solution, s1__2 scalar field 0. Add more data.\n"
     ]
    },
    {
     "data": {
      "application/vnd.jupyter.widget-view+json": {
       "model_id": "301449541b5c4460b424eda1b9aa8f58",
       "version_major": 2,
       "version_minor": 0
      },
      "text/plain": [
       "  0%|          | 0/3 [00:00<?, ?it/s]"
      ]
     },
     "metadata": {},
     "output_type": "display_data"
    },
    {
     "name": "stderr",
     "output_type": "stream",
     "text": [
      "ERROR: 2023-10-26 11:32:31,142: _geological_feature_builder.py:266 -- Not enough constraints for scalar field add more\n",
      "WARNING: 2023-10-26 11:32:31,209: _discrete_interpolator.py:735 -- No solution, s1__2 scalar field 0. Add more data.\n"
     ]
    },
    {
     "data": {
      "application/vnd.jupyter.widget-view+json": {
       "model_id": "5f7820bf0b2c4a339353ba2007cf7cb9",
       "version_major": 2,
       "version_minor": 0
      },
      "text/plain": [
       "  0%|          | 0/3 [00:00<?, ?it/s]"
      ]
     },
     "metadata": {},
     "output_type": "display_data"
    },
    {
     "name": "stderr",
     "output_type": "stream",
     "text": [
      "ERROR: 2023-10-26 11:32:33,059: _geological_feature_builder.py:266 -- Not enough constraints for scalar field add more\n",
      "WARNING: 2023-10-26 11:32:33,124: _discrete_interpolator.py:735 -- No solution, s1__2 scalar field 0. Add more data.\n"
     ]
    },
    {
     "data": {
      "application/vnd.jupyter.widget-view+json": {
       "model_id": "6cb42f8e6b0349839e0b03f9fe8ab873",
       "version_major": 2,
       "version_minor": 0
      },
      "text/plain": [
       "  0%|          | 0/3 [00:00<?, ?it/s]"
      ]
     },
     "metadata": {},
     "output_type": "display_data"
    },
    {
     "name": "stderr",
     "output_type": "stream",
     "text": [
      "ERROR: 2023-10-26 11:32:34,677: _geological_feature_builder.py:266 -- Not enough constraints for scalar field add more\n",
      "WARNING: 2023-10-26 11:32:34,744: _discrete_interpolator.py:735 -- No solution, s1__2 scalar field 0. Add more data.\n"
     ]
    },
    {
     "data": {
      "application/vnd.jupyter.widget-view+json": {
       "model_id": "4de4d0c9b85145e3a7c8f8e2c390bd7c",
       "version_major": 2,
       "version_minor": 0
      },
      "text/plain": [
       "  0%|          | 0/3 [00:00<?, ?it/s]"
      ]
     },
     "metadata": {},
     "output_type": "display_data"
    },
    {
     "name": "stderr",
     "output_type": "stream",
     "text": [
      "ERROR: 2023-10-26 11:32:36,363: _geological_feature_builder.py:266 -- Not enough constraints for scalar field add more\n",
      "WARNING: 2023-10-26 11:32:36,430: _discrete_interpolator.py:735 -- No solution, s1__2 scalar field 0. Add more data.\n"
     ]
    },
    {
     "data": {
      "application/vnd.jupyter.widget-view+json": {
       "model_id": "2075a085f4444bdabcb776746729dfdc",
       "version_major": 2,
       "version_minor": 0
      },
      "text/plain": [
       "  0%|          | 0/3 [00:00<?, ?it/s]"
      ]
     },
     "metadata": {},
     "output_type": "display_data"
    },
    {
     "name": "stderr",
     "output_type": "stream",
     "text": [
      "ERROR: 2023-10-26 11:32:38,158: _geological_feature_builder.py:266 -- Not enough constraints for scalar field add more\n",
      "WARNING: 2023-10-26 11:32:38,227: _discrete_interpolator.py:735 -- No solution, s1__2 scalar field 0. Add more data.\n"
     ]
    },
    {
     "data": {
      "application/vnd.jupyter.widget-view+json": {
       "model_id": "5c53e19c6f0a42839c4b73ce7a266287",
       "version_major": 2,
       "version_minor": 0
      },
      "text/plain": [
       "  0%|          | 0/3 [00:00<?, ?it/s]"
      ]
     },
     "metadata": {},
     "output_type": "display_data"
    },
    {
     "name": "stderr",
     "output_type": "stream",
     "text": [
      "ERROR: 2023-10-26 11:32:39,811: _geological_feature_builder.py:266 -- Not enough constraints for scalar field add more\n",
      "WARNING: 2023-10-26 11:32:39,877: _discrete_interpolator.py:735 -- No solution, s1__2 scalar field 0. Add more data.\n"
     ]
    },
    {
     "data": {
      "application/vnd.jupyter.widget-view+json": {
       "model_id": "3bc78ed657284a3f9475451ef3441a2a",
       "version_major": 2,
       "version_minor": 0
      },
      "text/plain": [
       "  0%|          | 0/3 [00:00<?, ?it/s]"
      ]
     },
     "metadata": {},
     "output_type": "display_data"
    },
    {
     "name": "stderr",
     "output_type": "stream",
     "text": [
      "ERROR: 2023-10-26 11:32:41,829: _geological_feature_builder.py:266 -- Not enough constraints for scalar field add more\n",
      "WARNING: 2023-10-26 11:32:41,899: _discrete_interpolator.py:735 -- No solution, s1__2 scalar field 0. Add more data.\n"
     ]
    },
    {
     "data": {
      "application/vnd.jupyter.widget-view+json": {
       "model_id": "4d046b6d1b6546b1948a2ebdad4c5003",
       "version_major": 2,
       "version_minor": 0
      },
      "text/plain": [
       "  0%|          | 0/3 [00:00<?, ?it/s]"
      ]
     },
     "metadata": {},
     "output_type": "display_data"
    },
    {
     "name": "stderr",
     "output_type": "stream",
     "text": [
      "ERROR: 2023-10-26 11:32:43,664: _geological_feature_builder.py:266 -- Not enough constraints for scalar field add more\n",
      "WARNING: 2023-10-26 11:32:43,733: _discrete_interpolator.py:735 -- No solution, s1__2 scalar field 0. Add more data.\n"
     ]
    },
    {
     "data": {
      "application/vnd.jupyter.widget-view+json": {
       "model_id": "a2eab0ecea8748c9a3926972e9c87915",
       "version_major": 2,
       "version_minor": 0
      },
      "text/plain": [
       "  0%|          | 0/3 [00:00<?, ?it/s]"
      ]
     },
     "metadata": {},
     "output_type": "display_data"
    },
    {
     "name": "stderr",
     "output_type": "stream",
     "text": [
      "ERROR: 2023-10-26 11:32:45,486: _geological_feature_builder.py:266 -- Not enough constraints for scalar field add more\n",
      "WARNING: 2023-10-26 11:32:45,558: _discrete_interpolator.py:735 -- No solution, s1__2 scalar field 0. Add more data.\n"
     ]
    },
    {
     "data": {
      "application/vnd.jupyter.widget-view+json": {
       "model_id": "c22c6ec068b449feabb28976a700f7e4",
       "version_major": 2,
       "version_minor": 0
      },
      "text/plain": [
       "  0%|          | 0/3 [00:00<?, ?it/s]"
      ]
     },
     "metadata": {},
     "output_type": "display_data"
    },
    {
     "name": "stderr",
     "output_type": "stream",
     "text": [
      "ERROR: 2023-10-26 11:32:47,299: _geological_feature_builder.py:266 -- Not enough constraints for scalar field add more\n",
      "WARNING: 2023-10-26 11:32:47,370: _discrete_interpolator.py:735 -- No solution, s1__2 scalar field 0. Add more data.\n"
     ]
    },
    {
     "data": {
      "application/vnd.jupyter.widget-view+json": {
       "model_id": "38f0b0cef74140f6a6c22116e673ec9d",
       "version_major": 2,
       "version_minor": 0
      },
      "text/plain": [
       "  0%|          | 0/3 [00:00<?, ?it/s]"
      ]
     },
     "metadata": {},
     "output_type": "display_data"
    },
    {
     "name": "stderr",
     "output_type": "stream",
     "text": [
      "ERROR: 2023-10-26 11:32:49,104: _geological_feature_builder.py:266 -- Not enough constraints for scalar field add more\n",
      "WARNING: 2023-10-26 11:32:49,173: _discrete_interpolator.py:735 -- No solution, s1__2 scalar field 0. Add more data.\n"
     ]
    },
    {
     "data": {
      "application/vnd.jupyter.widget-view+json": {
       "model_id": "0918a3d2cfbe4e3484f04ef88602e492",
       "version_major": 2,
       "version_minor": 0
      },
      "text/plain": [
       "  0%|          | 0/3 [00:00<?, ?it/s]"
      ]
     },
     "metadata": {},
     "output_type": "display_data"
    },
    {
     "name": "stderr",
     "output_type": "stream",
     "text": [
      "ERROR: 2023-10-26 11:32:50,741: _geological_feature_builder.py:266 -- Not enough constraints for scalar field add more\n",
      "WARNING: 2023-10-26 11:32:50,803: _discrete_interpolator.py:735 -- No solution, s1__2 scalar field 0. Add more data.\n"
     ]
    },
    {
     "data": {
      "application/vnd.jupyter.widget-view+json": {
       "model_id": "9a42b22fff744bccb53a368a7cd61620",
       "version_major": 2,
       "version_minor": 0
      },
      "text/plain": [
       "  0%|          | 0/3 [00:00<?, ?it/s]"
      ]
     },
     "metadata": {},
     "output_type": "display_data"
    },
    {
     "name": "stderr",
     "output_type": "stream",
     "text": [
      "ERROR: 2023-10-26 11:32:52,374: _geological_feature_builder.py:266 -- Not enough constraints for scalar field add more\n",
      "WARNING: 2023-10-26 11:32:52,443: _discrete_interpolator.py:735 -- No solution, s1__2 scalar field 0. Add more data.\n"
     ]
    },
    {
     "data": {
      "application/vnd.jupyter.widget-view+json": {
       "model_id": "d3bb47f20d1843398df339d9d38fd9ec",
       "version_major": 2,
       "version_minor": 0
      },
      "text/plain": [
       "  0%|          | 0/3 [00:00<?, ?it/s]"
      ]
     },
     "metadata": {},
     "output_type": "display_data"
    },
    {
     "name": "stderr",
     "output_type": "stream",
     "text": [
      "ERROR: 2023-10-26 11:32:54,101: _geological_feature_builder.py:266 -- Not enough constraints for scalar field add more\n",
      "WARNING: 2023-10-26 11:32:54,171: _discrete_interpolator.py:735 -- No solution, s1__2 scalar field 0. Add more data.\n"
     ]
    },
    {
     "data": {
      "application/vnd.jupyter.widget-view+json": {
       "model_id": "d6ca8c0981314dc383bd6565ab5e59d7",
       "version_major": 2,
       "version_minor": 0
      },
      "text/plain": [
       "  0%|          | 0/3 [00:00<?, ?it/s]"
      ]
     },
     "metadata": {},
     "output_type": "display_data"
    },
    {
     "name": "stderr",
     "output_type": "stream",
     "text": [
      "ERROR: 2023-10-26 11:32:55,929: _geological_feature_builder.py:266 -- Not enough constraints for scalar field add more\n",
      "WARNING: 2023-10-26 11:32:56,000: _discrete_interpolator.py:735 -- No solution, s1__2 scalar field 0. Add more data.\n"
     ]
    },
    {
     "data": {
      "application/vnd.jupyter.widget-view+json": {
       "model_id": "3509364820f24720b721a0d5586e0ea9",
       "version_major": 2,
       "version_minor": 0
      },
      "text/plain": [
       "  0%|          | 0/3 [00:00<?, ?it/s]"
      ]
     },
     "metadata": {},
     "output_type": "display_data"
    },
    {
     "name": "stderr",
     "output_type": "stream",
     "text": [
      "ERROR: 2023-10-26 11:32:57,940: _geological_feature_builder.py:266 -- Not enough constraints for scalar field add more\n",
      "WARNING: 2023-10-26 11:32:58,006: _discrete_interpolator.py:735 -- No solution, s1__2 scalar field 0. Add more data.\n"
     ]
    },
    {
     "data": {
      "application/vnd.jupyter.widget-view+json": {
       "model_id": "fe903bed67d14d0092433786d57b7094",
       "version_major": 2,
       "version_minor": 0
      },
      "text/plain": [
       "  0%|          | 0/3 [00:00<?, ?it/s]"
      ]
     },
     "metadata": {},
     "output_type": "display_data"
    },
    {
     "name": "stderr",
     "output_type": "stream",
     "text": [
      "ERROR: 2023-10-26 11:32:59,464: _geological_feature_builder.py:266 -- Not enough constraints for scalar field add more\n",
      "WARNING: 2023-10-26 11:32:59,530: _discrete_interpolator.py:735 -- No solution, s1__2 scalar field 0. Add more data.\n"
     ]
    },
    {
     "data": {
      "application/vnd.jupyter.widget-view+json": {
       "model_id": "db4de34ec2884393b4e58101564a7604",
       "version_major": 2,
       "version_minor": 0
      },
      "text/plain": [
       "  0%|          | 0/3 [00:00<?, ?it/s]"
      ]
     },
     "metadata": {},
     "output_type": "display_data"
    },
    {
     "name": "stderr",
     "output_type": "stream",
     "text": [
      "ERROR: 2023-10-26 11:33:01,068: _geological_feature_builder.py:266 -- Not enough constraints for scalar field add more\n",
      "WARNING: 2023-10-26 11:33:01,146: _discrete_interpolator.py:735 -- No solution, s1__2 scalar field 0. Add more data.\n"
     ]
    },
    {
     "data": {
      "application/vnd.jupyter.widget-view+json": {
       "model_id": "83b9798a479c40a18baccca2632f928a",
       "version_major": 2,
       "version_minor": 0
      },
      "text/plain": [
       "  0%|          | 0/3 [00:00<?, ?it/s]"
      ]
     },
     "metadata": {},
     "output_type": "display_data"
    },
    {
     "name": "stderr",
     "output_type": "stream",
     "text": [
      "ERROR: 2023-10-26 11:33:02,891: _geological_feature_builder.py:266 -- Not enough constraints for scalar field add more\n",
      "WARNING: 2023-10-26 11:33:02,959: _discrete_interpolator.py:735 -- No solution, s1__2 scalar field 0. Add more data.\n"
     ]
    },
    {
     "data": {
      "application/vnd.jupyter.widget-view+json": {
       "model_id": "d42abc66599a418ab600466cc2c15361",
       "version_major": 2,
       "version_minor": 0
      },
      "text/plain": [
       "  0%|          | 0/3 [00:00<?, ?it/s]"
      ]
     },
     "metadata": {},
     "output_type": "display_data"
    },
    {
     "name": "stderr",
     "output_type": "stream",
     "text": [
      "ERROR: 2023-10-26 11:33:04,568: _geological_feature_builder.py:266 -- Not enough constraints for scalar field add more\n",
      "WARNING: 2023-10-26 11:33:04,637: _discrete_interpolator.py:735 -- No solution, s1__2 scalar field 0. Add more data.\n"
     ]
    },
    {
     "data": {
      "application/vnd.jupyter.widget-view+json": {
       "model_id": "906d94e6afa54fa1b74a43b208a9c34c",
       "version_major": 2,
       "version_minor": 0
      },
      "text/plain": [
       "  0%|          | 0/3 [00:00<?, ?it/s]"
      ]
     },
     "metadata": {},
     "output_type": "display_data"
    },
    {
     "name": "stderr",
     "output_type": "stream",
     "text": [
      "ERROR: 2023-10-26 11:33:06,537: _geological_feature_builder.py:266 -- Not enough constraints for scalar field add more\n",
      "WARNING: 2023-10-26 11:33:06,609: _discrete_interpolator.py:735 -- No solution, s1__2 scalar field 0. Add more data.\n"
     ]
    },
    {
     "data": {
      "application/vnd.jupyter.widget-view+json": {
       "model_id": "24f59408f6534543bb70ebc1fa921a59",
       "version_major": 2,
       "version_minor": 0
      },
      "text/plain": [
       "  0%|          | 0/3 [00:00<?, ?it/s]"
      ]
     },
     "metadata": {},
     "output_type": "display_data"
    },
    {
     "name": "stderr",
     "output_type": "stream",
     "text": [
      "ERROR: 2023-10-26 11:33:08,264: _geological_feature_builder.py:266 -- Not enough constraints for scalar field add more\n",
      "WARNING: 2023-10-26 11:33:08,330: _discrete_interpolator.py:735 -- No solution, s1__2 scalar field 0. Add more data.\n"
     ]
    },
    {
     "data": {
      "application/vnd.jupyter.widget-view+json": {
       "model_id": "fef36bfab1094f0eb39000b580891a91",
       "version_major": 2,
       "version_minor": 0
      },
      "text/plain": [
       "  0%|          | 0/3 [00:00<?, ?it/s]"
      ]
     },
     "metadata": {},
     "output_type": "display_data"
    },
    {
     "name": "stderr",
     "output_type": "stream",
     "text": [
      "ERROR: 2023-10-26 11:33:10,277: _geological_feature_builder.py:266 -- Not enough constraints for scalar field add more\n",
      "WARNING: 2023-10-26 11:33:10,343: _discrete_interpolator.py:735 -- No solution, s1__2 scalar field 0. Add more data.\n"
     ]
    },
    {
     "data": {
      "application/vnd.jupyter.widget-view+json": {
       "model_id": "81a1c40a16ba4c93b9d72f3feb19ae6a",
       "version_major": 2,
       "version_minor": 0
      },
      "text/plain": [
       "  0%|          | 0/3 [00:00<?, ?it/s]"
      ]
     },
     "metadata": {},
     "output_type": "display_data"
    },
    {
     "name": "stderr",
     "output_type": "stream",
     "text": [
      "ERROR: 2023-10-26 11:33:12,048: _geological_feature_builder.py:266 -- Not enough constraints for scalar field add more\n",
      "WARNING: 2023-10-26 11:33:12,116: _discrete_interpolator.py:735 -- No solution, s1__2 scalar field 0. Add more data.\n"
     ]
    },
    {
     "data": {
      "application/vnd.jupyter.widget-view+json": {
       "model_id": "dfec3d36fabe4474bcb55ea9aede77bb",
       "version_major": 2,
       "version_minor": 0
      },
      "text/plain": [
       "  0%|          | 0/3 [00:00<?, ?it/s]"
      ]
     },
     "metadata": {},
     "output_type": "display_data"
    },
    {
     "name": "stderr",
     "output_type": "stream",
     "text": [
      "ERROR: 2023-10-26 11:33:13,856: _geological_feature_builder.py:266 -- Not enough constraints for scalar field add more\n",
      "WARNING: 2023-10-26 11:33:13,923: _discrete_interpolator.py:735 -- No solution, s1__2 scalar field 0. Add more data.\n"
     ]
    },
    {
     "data": {
      "application/vnd.jupyter.widget-view+json": {
       "model_id": "103be675963a4c619068e73a20ae9070",
       "version_major": 2,
       "version_minor": 0
      },
      "text/plain": [
       "  0%|          | 0/3 [00:00<?, ?it/s]"
      ]
     },
     "metadata": {},
     "output_type": "display_data"
    },
    {
     "name": "stderr",
     "output_type": "stream",
     "text": [
      "ERROR: 2023-10-26 11:33:15,753: _geological_feature_builder.py:266 -- Not enough constraints for scalar field add more\n",
      "WARNING: 2023-10-26 11:33:15,824: _discrete_interpolator.py:735 -- No solution, s1__2 scalar field 0. Add more data.\n"
     ]
    },
    {
     "data": {
      "application/vnd.jupyter.widget-view+json": {
       "model_id": "ce0fa1e55d854740853f4f4db286313c",
       "version_major": 2,
       "version_minor": 0
      },
      "text/plain": [
       "  0%|          | 0/3 [00:00<?, ?it/s]"
      ]
     },
     "metadata": {},
     "output_type": "display_data"
    },
    {
     "name": "stderr",
     "output_type": "stream",
     "text": [
      "ERROR: 2023-10-26 11:33:18,932: _geological_feature_builder.py:266 -- Not enough constraints for scalar field add more\n",
      "WARNING: 2023-10-26 11:33:18,998: _discrete_interpolator.py:735 -- No solution, s1__2 scalar field 0. Add more data.\n"
     ]
    },
    {
     "data": {
      "application/vnd.jupyter.widget-view+json": {
       "model_id": "fd872ebb935045ee86f0ac586b05331f",
       "version_major": 2,
       "version_minor": 0
      },
      "text/plain": [
       "  0%|          | 0/3 [00:00<?, ?it/s]"
      ]
     },
     "metadata": {},
     "output_type": "display_data"
    },
    {
     "name": "stderr",
     "output_type": "stream",
     "text": [
      "ERROR: 2023-10-26 11:33:20,579: _geological_feature_builder.py:266 -- Not enough constraints for scalar field add more\n",
      "WARNING: 2023-10-26 11:33:20,648: _discrete_interpolator.py:735 -- No solution, s1__2 scalar field 0. Add more data.\n"
     ]
    },
    {
     "data": {
      "application/vnd.jupyter.widget-view+json": {
       "model_id": "40c4304e0f3744e2b26c6f6b78c4a01e",
       "version_major": 2,
       "version_minor": 0
      },
      "text/plain": [
       "  0%|          | 0/3 [00:00<?, ?it/s]"
      ]
     },
     "metadata": {},
     "output_type": "display_data"
    },
    {
     "name": "stderr",
     "output_type": "stream",
     "text": [
      "ERROR: 2023-10-26 11:33:22,248: _geological_feature_builder.py:266 -- Not enough constraints for scalar field add more\n",
      "WARNING: 2023-10-26 11:33:22,315: _discrete_interpolator.py:735 -- No solution, s1__2 scalar field 0. Add more data.\n"
     ]
    },
    {
     "data": {
      "application/vnd.jupyter.widget-view+json": {
       "model_id": "62e085b5cec74bbca9f881d6cc27ff3d",
       "version_major": 2,
       "version_minor": 0
      },
      "text/plain": [
       "  0%|          | 0/3 [00:00<?, ?it/s]"
      ]
     },
     "metadata": {},
     "output_type": "display_data"
    },
    {
     "name": "stderr",
     "output_type": "stream",
     "text": [
      "ERROR: 2023-10-26 11:33:24,041: _geological_feature_builder.py:266 -- Not enough constraints for scalar field add more\n",
      "WARNING: 2023-10-26 11:33:24,109: _discrete_interpolator.py:735 -- No solution, s1__2 scalar field 0. Add more data.\n"
     ]
    },
    {
     "data": {
      "application/vnd.jupyter.widget-view+json": {
       "model_id": "f26bab9b9d0941a380dd0a0f2b12da56",
       "version_major": 2,
       "version_minor": 0
      },
      "text/plain": [
       "  0%|          | 0/3 [00:00<?, ?it/s]"
      ]
     },
     "metadata": {},
     "output_type": "display_data"
    },
    {
     "name": "stderr",
     "output_type": "stream",
     "text": [
      "ERROR: 2023-10-26 11:33:25,976: _geological_feature_builder.py:266 -- Not enough constraints for scalar field add more\n",
      "WARNING: 2023-10-26 11:33:26,046: _discrete_interpolator.py:735 -- No solution, s1__2 scalar field 0. Add more data.\n"
     ]
    },
    {
     "data": {
      "application/vnd.jupyter.widget-view+json": {
       "model_id": "23550b48c3bf405fa35558719478f41b",
       "version_major": 2,
       "version_minor": 0
      },
      "text/plain": [
       "  0%|          | 0/3 [00:00<?, ?it/s]"
      ]
     },
     "metadata": {},
     "output_type": "display_data"
    },
    {
     "name": "stderr",
     "output_type": "stream",
     "text": [
      "ERROR: 2023-10-26 11:33:27,638: _geological_feature_builder.py:266 -- Not enough constraints for scalar field add more\n",
      "WARNING: 2023-10-26 11:33:27,708: _discrete_interpolator.py:735 -- No solution, s1__2 scalar field 0. Add more data.\n"
     ]
    },
    {
     "data": {
      "application/vnd.jupyter.widget-view+json": {
       "model_id": "eeaa2fe989ca4098a7210e40bc5f5671",
       "version_major": 2,
       "version_minor": 0
      },
      "text/plain": [
       "  0%|          | 0/3 [00:00<?, ?it/s]"
      ]
     },
     "metadata": {},
     "output_type": "display_data"
    },
    {
     "name": "stderr",
     "output_type": "stream",
     "text": [
      "ERROR: 2023-10-26 11:33:29,395: _geological_feature_builder.py:266 -- Not enough constraints for scalar field add more\n",
      "WARNING: 2023-10-26 11:33:29,458: _discrete_interpolator.py:735 -- No solution, s1__2 scalar field 0. Add more data.\n"
     ]
    },
    {
     "data": {
      "application/vnd.jupyter.widget-view+json": {
       "model_id": "b960c0a28f334b4c8bf3525fa17d18ed",
       "version_major": 2,
       "version_minor": 0
      },
      "text/plain": [
       "  0%|          | 0/3 [00:00<?, ?it/s]"
      ]
     },
     "metadata": {},
     "output_type": "display_data"
    },
    {
     "name": "stderr",
     "output_type": "stream",
     "text": [
      "ERROR: 2023-10-26 11:33:31,151: _geological_feature_builder.py:266 -- Not enough constraints for scalar field add more\n",
      "WARNING: 2023-10-26 11:33:31,217: _discrete_interpolator.py:735 -- No solution, s1__2 scalar field 0. Add more data.\n"
     ]
    },
    {
     "data": {
      "application/vnd.jupyter.widget-view+json": {
       "model_id": "3d541f798dd745069ffc835ee5899776",
       "version_major": 2,
       "version_minor": 0
      },
      "text/plain": [
       "  0%|          | 0/3 [00:00<?, ?it/s]"
      ]
     },
     "metadata": {},
     "output_type": "display_data"
    },
    {
     "name": "stderr",
     "output_type": "stream",
     "text": [
      "ERROR: 2023-10-26 11:33:33,160: _geological_feature_builder.py:266 -- Not enough constraints for scalar field add more\n",
      "WARNING: 2023-10-26 11:33:33,222: _discrete_interpolator.py:735 -- No solution, s1__2 scalar field 0. Add more data.\n"
     ]
    },
    {
     "data": {
      "application/vnd.jupyter.widget-view+json": {
       "model_id": "b959a543da7f47df9bce2369144bfa66",
       "version_major": 2,
       "version_minor": 0
      },
      "text/plain": [
       "  0%|          | 0/3 [00:00<?, ?it/s]"
      ]
     },
     "metadata": {},
     "output_type": "display_data"
    },
    {
     "name": "stderr",
     "output_type": "stream",
     "text": [
      "ERROR: 2023-10-26 11:33:34,835: _geological_feature_builder.py:266 -- Not enough constraints for scalar field add more\n",
      "WARNING: 2023-10-26 11:33:34,900: _discrete_interpolator.py:735 -- No solution, s1__2 scalar field 0. Add more data.\n"
     ]
    },
    {
     "data": {
      "application/vnd.jupyter.widget-view+json": {
       "model_id": "e2d8d4f4f0d24c07a4903c3dcc09fc2f",
       "version_major": 2,
       "version_minor": 0
      },
      "text/plain": [
       "  0%|          | 0/3 [00:00<?, ?it/s]"
      ]
     },
     "metadata": {},
     "output_type": "display_data"
    },
    {
     "name": "stderr",
     "output_type": "stream",
     "text": [
      "ERROR: 2023-10-26 11:33:36,447: _geological_feature_builder.py:266 -- Not enough constraints for scalar field add more\n",
      "WARNING: 2023-10-26 11:33:36,512: _discrete_interpolator.py:735 -- No solution, s1__2 scalar field 0. Add more data.\n"
     ]
    },
    {
     "data": {
      "application/vnd.jupyter.widget-view+json": {
       "model_id": "936d1d5377804b46a8a14b5355314f05",
       "version_major": 2,
       "version_minor": 0
      },
      "text/plain": [
       "  0%|          | 0/3 [00:00<?, ?it/s]"
      ]
     },
     "metadata": {},
     "output_type": "display_data"
    },
    {
     "name": "stderr",
     "output_type": "stream",
     "text": [
      "ERROR: 2023-10-26 11:33:38,202: _geological_feature_builder.py:266 -- Not enough constraints for scalar field add more\n",
      "WARNING: 2023-10-26 11:33:38,272: _discrete_interpolator.py:735 -- No solution, s1__2 scalar field 0. Add more data.\n"
     ]
    },
    {
     "data": {
      "application/vnd.jupyter.widget-view+json": {
       "model_id": "6a377c4f614f4624ba54863e67a8dcbc",
       "version_major": 2,
       "version_minor": 0
      },
      "text/plain": [
       "  0%|          | 0/3 [00:00<?, ?it/s]"
      ]
     },
     "metadata": {},
     "output_type": "display_data"
    },
    {
     "name": "stderr",
     "output_type": "stream",
     "text": [
      "ERROR: 2023-10-26 11:33:40,068: _geological_feature_builder.py:266 -- Not enough constraints for scalar field add more\n",
      "WARNING: 2023-10-26 11:33:40,149: _discrete_interpolator.py:735 -- No solution, s1__2 scalar field 0. Add more data.\n"
     ]
    },
    {
     "data": {
      "application/vnd.jupyter.widget-view+json": {
       "model_id": "5ae55beeec784685bfe43cb99bbfa13b",
       "version_major": 2,
       "version_minor": 0
      },
      "text/plain": [
       "  0%|          | 0/3 [00:00<?, ?it/s]"
      ]
     },
     "metadata": {},
     "output_type": "display_data"
    },
    {
     "name": "stderr",
     "output_type": "stream",
     "text": [
      "ERROR: 2023-10-26 11:33:41,872: _geological_feature_builder.py:266 -- Not enough constraints for scalar field add more\n",
      "WARNING: 2023-10-26 11:33:41,941: _discrete_interpolator.py:735 -- No solution, s1__2 scalar field 0. Add more data.\n"
     ]
    },
    {
     "data": {
      "application/vnd.jupyter.widget-view+json": {
       "model_id": "724aacb00f05410a8e4d05d5957d978d",
       "version_major": 2,
       "version_minor": 0
      },
      "text/plain": [
       "  0%|          | 0/3 [00:00<?, ?it/s]"
      ]
     },
     "metadata": {},
     "output_type": "display_data"
    },
    {
     "name": "stderr",
     "output_type": "stream",
     "text": [
      "ERROR: 2023-10-26 11:33:43,795: _geological_feature_builder.py:266 -- Not enough constraints for scalar field add more\n",
      "WARNING: 2023-10-26 11:33:43,867: _discrete_interpolator.py:735 -- No solution, s1__2 scalar field 0. Add more data.\n"
     ]
    },
    {
     "data": {
      "application/vnd.jupyter.widget-view+json": {
       "model_id": "dec5f39fab684548b03125056b86890f",
       "version_major": 2,
       "version_minor": 0
      },
      "text/plain": [
       "  0%|          | 0/3 [00:00<?, ?it/s]"
      ]
     },
     "metadata": {},
     "output_type": "display_data"
    },
    {
     "name": "stderr",
     "output_type": "stream",
     "text": [
      "ERROR: 2023-10-26 11:33:45,691: _geological_feature_builder.py:266 -- Not enough constraints for scalar field add more\n",
      "WARNING: 2023-10-26 11:33:45,753: _discrete_interpolator.py:735 -- No solution, s1__2 scalar field 0. Add more data.\n"
     ]
    },
    {
     "data": {
      "application/vnd.jupyter.widget-view+json": {
       "model_id": "f6514763556142ca9f3ced3d378be372",
       "version_major": 2,
       "version_minor": 0
      },
      "text/plain": [
       "  0%|          | 0/3 [00:00<?, ?it/s]"
      ]
     },
     "metadata": {},
     "output_type": "display_data"
    },
    {
     "name": "stderr",
     "output_type": "stream",
     "text": [
      "ERROR: 2023-10-26 11:33:47,451: _geological_feature_builder.py:266 -- Not enough constraints for scalar field add more\n",
      "WARNING: 2023-10-26 11:33:47,512: _discrete_interpolator.py:735 -- No solution, s1__2 scalar field 0. Add more data.\n"
     ]
    },
    {
     "data": {
      "application/vnd.jupyter.widget-view+json": {
       "model_id": "d9d7ecd0060d458a888d593fb8e9c9e7",
       "version_major": 2,
       "version_minor": 0
      },
      "text/plain": [
       "  0%|          | 0/3 [00:00<?, ?it/s]"
      ]
     },
     "metadata": {},
     "output_type": "display_data"
    },
    {
     "name": "stderr",
     "output_type": "stream",
     "text": [
      "ERROR: 2023-10-26 11:33:49,084: _geological_feature_builder.py:266 -- Not enough constraints for scalar field add more\n",
      "WARNING: 2023-10-26 11:33:49,151: _discrete_interpolator.py:735 -- No solution, s1__2 scalar field 0. Add more data.\n"
     ]
    },
    {
     "data": {
      "application/vnd.jupyter.widget-view+json": {
       "model_id": "cc71e1cf0eeb4e618b19121e3063f8f0",
       "version_major": 2,
       "version_minor": 0
      },
      "text/plain": [
       "  0%|          | 0/3 [00:00<?, ?it/s]"
      ]
     },
     "metadata": {},
     "output_type": "display_data"
    },
    {
     "name": "stderr",
     "output_type": "stream",
     "text": [
      "ERROR: 2023-10-26 11:33:51,161: _geological_feature_builder.py:266 -- Not enough constraints for scalar field add more\n",
      "WARNING: 2023-10-26 11:33:51,226: _discrete_interpolator.py:735 -- No solution, s1__2 scalar field 0. Add more data.\n"
     ]
    },
    {
     "data": {
      "application/vnd.jupyter.widget-view+json": {
       "model_id": "5f5eceeea23a44ba9468bc89970e68ff",
       "version_major": 2,
       "version_minor": 0
      },
      "text/plain": [
       "  0%|          | 0/3 [00:00<?, ?it/s]"
      ]
     },
     "metadata": {},
     "output_type": "display_data"
    },
    {
     "name": "stderr",
     "output_type": "stream",
     "text": [
      "ERROR: 2023-10-26 11:33:53,002: _geological_feature_builder.py:266 -- Not enough constraints for scalar field add more\n",
      "WARNING: 2023-10-26 11:33:53,071: _discrete_interpolator.py:735 -- No solution, s1__2 scalar field 0. Add more data.\n"
     ]
    },
    {
     "data": {
      "application/vnd.jupyter.widget-view+json": {
       "model_id": "2e94cb747fcc40869e97086463306ef2",
       "version_major": 2,
       "version_minor": 0
      },
      "text/plain": [
       "  0%|          | 0/3 [00:00<?, ?it/s]"
      ]
     },
     "metadata": {},
     "output_type": "display_data"
    },
    {
     "name": "stderr",
     "output_type": "stream",
     "text": [
      "ERROR: 2023-10-26 11:33:54,800: _geological_feature_builder.py:266 -- Not enough constraints for scalar field add more\n",
      "WARNING: 2023-10-26 11:33:54,870: _discrete_interpolator.py:735 -- No solution, s1__2 scalar field 0. Add more data.\n"
     ]
    },
    {
     "data": {
      "application/vnd.jupyter.widget-view+json": {
       "model_id": "08fbc108d0d848799a6a0869ac850c79",
       "version_major": 2,
       "version_minor": 0
      },
      "text/plain": [
       "  0%|          | 0/3 [00:00<?, ?it/s]"
      ]
     },
     "metadata": {},
     "output_type": "display_data"
    },
    {
     "name": "stderr",
     "output_type": "stream",
     "text": [
      "ERROR: 2023-10-26 11:33:56,605: _geological_feature_builder.py:266 -- Not enough constraints for scalar field add more\n",
      "WARNING: 2023-10-26 11:33:56,668: _discrete_interpolator.py:735 -- No solution, s1__2 scalar field 0. Add more data.\n"
     ]
    },
    {
     "data": {
      "application/vnd.jupyter.widget-view+json": {
       "model_id": "245715036d7040f29a61f528a9b192af",
       "version_major": 2,
       "version_minor": 0
      },
      "text/plain": [
       "  0%|          | 0/3 [00:00<?, ?it/s]"
      ]
     },
     "metadata": {},
     "output_type": "display_data"
    },
    {
     "name": "stderr",
     "output_type": "stream",
     "text": [
      "ERROR: 2023-10-26 11:33:58,628: _geological_feature_builder.py:266 -- Not enough constraints for scalar field add more\n",
      "WARNING: 2023-10-26 11:33:58,695: _discrete_interpolator.py:735 -- No solution, s1__2 scalar field 0. Add more data.\n"
     ]
    },
    {
     "data": {
      "application/vnd.jupyter.widget-view+json": {
       "model_id": "cdbb9832a3d64c75a0d7ef48bf6f0adb",
       "version_major": 2,
       "version_minor": 0
      },
      "text/plain": [
       "  0%|          | 0/3 [00:00<?, ?it/s]"
      ]
     },
     "metadata": {},
     "output_type": "display_data"
    },
    {
     "name": "stderr",
     "output_type": "stream",
     "text": [
      "ERROR: 2023-10-26 11:34:00,258: _geological_feature_builder.py:266 -- Not enough constraints for scalar field add more\n",
      "WARNING: 2023-10-26 11:34:00,319: _discrete_interpolator.py:735 -- No solution, s1__2 scalar field 0. Add more data.\n"
     ]
    },
    {
     "data": {
      "application/vnd.jupyter.widget-view+json": {
       "model_id": "886f0e5b7953426e930aafd5189ac4e5",
       "version_major": 2,
       "version_minor": 0
      },
      "text/plain": [
       "  0%|          | 0/3 [00:00<?, ?it/s]"
      ]
     },
     "metadata": {},
     "output_type": "display_data"
    },
    {
     "name": "stderr",
     "output_type": "stream",
     "text": [
      "ERROR: 2023-10-26 11:34:02,342: _geological_feature_builder.py:266 -- Not enough constraints for scalar field add more\n",
      "WARNING: 2023-10-26 11:34:02,404: _discrete_interpolator.py:735 -- No solution, s1__2 scalar field 0. Add more data.\n"
     ]
    },
    {
     "data": {
      "application/vnd.jupyter.widget-view+json": {
       "model_id": "658f5fcbb141452d96e26e642caeea1e",
       "version_major": 2,
       "version_minor": 0
      },
      "text/plain": [
       "  0%|          | 0/3 [00:00<?, ?it/s]"
      ]
     },
     "metadata": {},
     "output_type": "display_data"
    },
    {
     "name": "stderr",
     "output_type": "stream",
     "text": [
      "ERROR: 2023-10-26 11:34:04,042: _geological_feature_builder.py:266 -- Not enough constraints for scalar field add more\n",
      "WARNING: 2023-10-26 11:34:04,106: _discrete_interpolator.py:735 -- No solution, s1__2 scalar field 0. Add more data.\n"
     ]
    },
    {
     "data": {
      "application/vnd.jupyter.widget-view+json": {
       "model_id": "6bd797d80ea54020a4f08bb009478047",
       "version_major": 2,
       "version_minor": 0
      },
      "text/plain": [
       "  0%|          | 0/3 [00:00<?, ?it/s]"
      ]
     },
     "metadata": {},
     "output_type": "display_data"
    },
    {
     "name": "stderr",
     "output_type": "stream",
     "text": [
      "ERROR: 2023-10-26 11:34:05,688: _geological_feature_builder.py:266 -- Not enough constraints for scalar field add more\n",
      "WARNING: 2023-10-26 11:34:05,754: _discrete_interpolator.py:735 -- No solution, s1__2 scalar field 0. Add more data.\n"
     ]
    },
    {
     "data": {
      "application/vnd.jupyter.widget-view+json": {
       "model_id": "cef2421eb10b476899c3e0364d6c37a8",
       "version_major": 2,
       "version_minor": 0
      },
      "text/plain": [
       "  0%|          | 0/3 [00:00<?, ?it/s]"
      ]
     },
     "metadata": {},
     "output_type": "display_data"
    },
    {
     "name": "stderr",
     "output_type": "stream",
     "text": [
      "ERROR: 2023-10-26 11:34:07,369: _geological_feature_builder.py:266 -- Not enough constraints for scalar field add more\n",
      "WARNING: 2023-10-26 11:34:07,434: _discrete_interpolator.py:735 -- No solution, s1__2 scalar field 0. Add more data.\n"
     ]
    },
    {
     "data": {
      "application/vnd.jupyter.widget-view+json": {
       "model_id": "5d1c90e42a06408192f07d8d1f4e5089",
       "version_major": 2,
       "version_minor": 0
      },
      "text/plain": [
       "  0%|          | 0/3 [00:00<?, ?it/s]"
      ]
     },
     "metadata": {},
     "output_type": "display_data"
    },
    {
     "name": "stderr",
     "output_type": "stream",
     "text": [
      "ERROR: 2023-10-26 11:34:09,092: _geological_feature_builder.py:266 -- Not enough constraints for scalar field add more\n",
      "WARNING: 2023-10-26 11:34:09,157: _discrete_interpolator.py:735 -- No solution, s1__2 scalar field 0. Add more data.\n"
     ]
    },
    {
     "data": {
      "application/vnd.jupyter.widget-view+json": {
       "model_id": "e45a781615d141c5993dc7953cf55fd1",
       "version_major": 2,
       "version_minor": 0
      },
      "text/plain": [
       "  0%|          | 0/3 [00:00<?, ?it/s]"
      ]
     },
     "metadata": {},
     "output_type": "display_data"
    },
    {
     "name": "stderr",
     "output_type": "stream",
     "text": [
      "ERROR: 2023-10-26 11:34:10,871: _geological_feature_builder.py:266 -- Not enough constraints for scalar field add more\n",
      "WARNING: 2023-10-26 11:34:10,937: _discrete_interpolator.py:735 -- No solution, s1__2 scalar field 0. Add more data.\n"
     ]
    },
    {
     "data": {
      "application/vnd.jupyter.widget-view+json": {
       "model_id": "462b96e875f34b65bb5cab4f83b0f651",
       "version_major": 2,
       "version_minor": 0
      },
      "text/plain": [
       "  0%|          | 0/3 [00:00<?, ?it/s]"
      ]
     },
     "metadata": {},
     "output_type": "display_data"
    },
    {
     "name": "stderr",
     "output_type": "stream",
     "text": [
      "ERROR: 2023-10-26 11:34:13,167: _geological_feature_builder.py:266 -- Not enough constraints for scalar field add more\n",
      "WARNING: 2023-10-26 11:34:13,231: _discrete_interpolator.py:735 -- No solution, s1__2 scalar field 0. Add more data.\n"
     ]
    },
    {
     "data": {
      "application/vnd.jupyter.widget-view+json": {
       "model_id": "af052ff0ee5149b1941800efbc101ed3",
       "version_major": 2,
       "version_minor": 0
      },
      "text/plain": [
       "  0%|          | 0/3 [00:00<?, ?it/s]"
      ]
     },
     "metadata": {},
     "output_type": "display_data"
    },
    {
     "name": "stderr",
     "output_type": "stream",
     "text": [
      "ERROR: 2023-10-26 11:34:14,837: _geological_feature_builder.py:266 -- Not enough constraints for scalar field add more\n",
      "WARNING: 2023-10-26 11:34:14,903: _discrete_interpolator.py:735 -- No solution, s1__2 scalar field 0. Add more data.\n"
     ]
    },
    {
     "data": {
      "application/vnd.jupyter.widget-view+json": {
       "model_id": "38156ec50b4144d6bc06680868ff79ce",
       "version_major": 2,
       "version_minor": 0
      },
      "text/plain": [
       "  0%|          | 0/3 [00:00<?, ?it/s]"
      ]
     },
     "metadata": {},
     "output_type": "display_data"
    },
    {
     "name": "stderr",
     "output_type": "stream",
     "text": [
      "ERROR: 2023-10-26 11:34:18,816: _geological_feature_builder.py:266 -- Not enough constraints for scalar field add more\n",
      "WARNING: 2023-10-26 11:34:18,887: _discrete_interpolator.py:735 -- No solution, s1__2 scalar field 0. Add more data.\n"
     ]
    },
    {
     "data": {
      "application/vnd.jupyter.widget-view+json": {
       "model_id": "50da4ee588fa4bbabe0b531c57d2259e",
       "version_major": 2,
       "version_minor": 0
      },
      "text/plain": [
       "  0%|          | 0/3 [00:00<?, ?it/s]"
      ]
     },
     "metadata": {},
     "output_type": "display_data"
    },
    {
     "name": "stderr",
     "output_type": "stream",
     "text": [
      "ERROR: 2023-10-26 11:34:20,617: _geological_feature_builder.py:266 -- Not enough constraints for scalar field add more\n",
      "WARNING: 2023-10-26 11:34:20,686: _discrete_interpolator.py:735 -- No solution, s1__2 scalar field 0. Add more data.\n"
     ]
    },
    {
     "data": {
      "application/vnd.jupyter.widget-view+json": {
       "model_id": "d1146279279844f99c7056c3e93a098e",
       "version_major": 2,
       "version_minor": 0
      },
      "text/plain": [
       "  0%|          | 0/3 [00:00<?, ?it/s]"
      ]
     },
     "metadata": {},
     "output_type": "display_data"
    },
    {
     "name": "stderr",
     "output_type": "stream",
     "text": [
      "ERROR: 2023-10-26 11:34:22,273: _geological_feature_builder.py:266 -- Not enough constraints for scalar field add more\n",
      "WARNING: 2023-10-26 11:34:22,341: _discrete_interpolator.py:735 -- No solution, s1__2 scalar field 0. Add more data.\n"
     ]
    },
    {
     "data": {
      "application/vnd.jupyter.widget-view+json": {
       "model_id": "5d5b2af96ef3466899edd928a2e06d52",
       "version_major": 2,
       "version_minor": 0
      },
      "text/plain": [
       "  0%|          | 0/3 [00:00<?, ?it/s]"
      ]
     },
     "metadata": {},
     "output_type": "display_data"
    },
    {
     "name": "stderr",
     "output_type": "stream",
     "text": [
      "ERROR: 2023-10-26 11:34:25,661: _geological_feature_builder.py:266 -- Not enough constraints for scalar field add more\n",
      "WARNING: 2023-10-26 11:34:25,729: _discrete_interpolator.py:735 -- No solution, s1__2 scalar field 0. Add more data.\n"
     ]
    },
    {
     "data": {
      "application/vnd.jupyter.widget-view+json": {
       "model_id": "787864ead26c415fb36b2e9169227279",
       "version_major": 2,
       "version_minor": 0
      },
      "text/plain": [
       "  0%|          | 0/3 [00:00<?, ?it/s]"
      ]
     },
     "metadata": {},
     "output_type": "display_data"
    },
    {
     "name": "stderr",
     "output_type": "stream",
     "text": [
      "ERROR: 2023-10-26 11:34:27,302: _geological_feature_builder.py:266 -- Not enough constraints for scalar field add more\n",
      "WARNING: 2023-10-26 11:34:27,364: _discrete_interpolator.py:735 -- No solution, s1__2 scalar field 0. Add more data.\n"
     ]
    },
    {
     "data": {
      "application/vnd.jupyter.widget-view+json": {
       "model_id": "2e065b4634774351af1f368ea2301e46",
       "version_major": 2,
       "version_minor": 0
      },
      "text/plain": [
       "  0%|          | 0/3 [00:00<?, ?it/s]"
      ]
     },
     "metadata": {},
     "output_type": "display_data"
    },
    {
     "name": "stderr",
     "output_type": "stream",
     "text": [
      "ERROR: 2023-10-26 11:34:28,974: _geological_feature_builder.py:266 -- Not enough constraints for scalar field add more\n",
      "WARNING: 2023-10-26 11:34:29,039: _discrete_interpolator.py:735 -- No solution, s1__2 scalar field 0. Add more data.\n"
     ]
    },
    {
     "data": {
      "application/vnd.jupyter.widget-view+json": {
       "model_id": "188f56f8b24346ae854f0ae4cd7d8bb9",
       "version_major": 2,
       "version_minor": 0
      },
      "text/plain": [
       "  0%|          | 0/3 [00:00<?, ?it/s]"
      ]
     },
     "metadata": {},
     "output_type": "display_data"
    },
    {
     "name": "stderr",
     "output_type": "stream",
     "text": [
      "ERROR: 2023-10-26 11:34:30,696: _geological_feature_builder.py:266 -- Not enough constraints for scalar field add more\n",
      "WARNING: 2023-10-26 11:34:30,764: _discrete_interpolator.py:735 -- No solution, s1__2 scalar field 0. Add more data.\n"
     ]
    },
    {
     "data": {
      "application/vnd.jupyter.widget-view+json": {
       "model_id": "433095365a964e75a359b71cb6749bd2",
       "version_major": 2,
       "version_minor": 0
      },
      "text/plain": [
       "  0%|          | 0/3 [00:00<?, ?it/s]"
      ]
     },
     "metadata": {},
     "output_type": "display_data"
    },
    {
     "name": "stderr",
     "output_type": "stream",
     "text": [
      "ERROR: 2023-10-26 11:34:32,552: _geological_feature_builder.py:266 -- Not enough constraints for scalar field add more\n",
      "WARNING: 2023-10-26 11:34:32,620: _discrete_interpolator.py:735 -- No solution, s1__2 scalar field 0. Add more data.\n"
     ]
    },
    {
     "data": {
      "application/vnd.jupyter.widget-view+json": {
       "model_id": "2c829865cb6a4f49811931e114899969",
       "version_major": 2,
       "version_minor": 0
      },
      "text/plain": [
       "  0%|          | 0/3 [00:00<?, ?it/s]"
      ]
     },
     "metadata": {},
     "output_type": "display_data"
    },
    {
     "name": "stderr",
     "output_type": "stream",
     "text": [
      "ERROR: 2023-10-26 11:34:34,371: _geological_feature_builder.py:266 -- Not enough constraints for scalar field add more\n",
      "WARNING: 2023-10-26 11:34:34,437: _discrete_interpolator.py:735 -- No solution, s1__2 scalar field 0. Add more data.\n"
     ]
    },
    {
     "data": {
      "application/vnd.jupyter.widget-view+json": {
       "model_id": "d78556962c0f45628668f1540a5fd589",
       "version_major": 2,
       "version_minor": 0
      },
      "text/plain": [
       "  0%|          | 0/3 [00:00<?, ?it/s]"
      ]
     },
     "metadata": {},
     "output_type": "display_data"
    },
    {
     "name": "stderr",
     "output_type": "stream",
     "text": [
      "ERROR: 2023-10-26 11:34:36,290: _geological_feature_builder.py:266 -- Not enough constraints for scalar field add more\n",
      "WARNING: 2023-10-26 11:34:36,356: _discrete_interpolator.py:735 -- No solution, s1__2 scalar field 0. Add more data.\n"
     ]
    },
    {
     "data": {
      "application/vnd.jupyter.widget-view+json": {
       "model_id": "f76652f0e30c42639c40f47fb1264870",
       "version_major": 2,
       "version_minor": 0
      },
      "text/plain": [
       "  0%|          | 0/3 [00:00<?, ?it/s]"
      ]
     },
     "metadata": {},
     "output_type": "display_data"
    },
    {
     "name": "stderr",
     "output_type": "stream",
     "text": [
      "ERROR: 2023-10-26 11:34:38,095: _geological_feature_builder.py:266 -- Not enough constraints for scalar field add more\n",
      "WARNING: 2023-10-26 11:34:38,164: _discrete_interpolator.py:735 -- No solution, s1__2 scalar field 0. Add more data.\n"
     ]
    },
    {
     "data": {
      "application/vnd.jupyter.widget-view+json": {
       "model_id": "0e0110ab39ab429d99dd13bd7b5789b8",
       "version_major": 2,
       "version_minor": 0
      },
      "text/plain": [
       "  0%|          | 0/3 [00:00<?, ?it/s]"
      ]
     },
     "metadata": {},
     "output_type": "display_data"
    },
    {
     "name": "stderr",
     "output_type": "stream",
     "text": [
      "ERROR: 2023-10-26 11:34:40,004: _geological_feature_builder.py:266 -- Not enough constraints for scalar field add more\n",
      "WARNING: 2023-10-26 11:34:40,073: _discrete_interpolator.py:735 -- No solution, s1__2 scalar field 0. Add more data.\n"
     ]
    },
    {
     "data": {
      "application/vnd.jupyter.widget-view+json": {
       "model_id": "8d6a83b832fd4ab7ac0874a36dcada7c",
       "version_major": 2,
       "version_minor": 0
      },
      "text/plain": [
       "  0%|          | 0/3 [00:00<?, ?it/s]"
      ]
     },
     "metadata": {},
     "output_type": "display_data"
    },
    {
     "name": "stderr",
     "output_type": "stream",
     "text": [
      "ERROR: 2023-10-26 11:34:41,721: _geological_feature_builder.py:266 -- Not enough constraints for scalar field add more\n",
      "WARNING: 2023-10-26 11:34:41,790: _discrete_interpolator.py:735 -- No solution, s1__2 scalar field 0. Add more data.\n"
     ]
    },
    {
     "data": {
      "application/vnd.jupyter.widget-view+json": {
       "model_id": "e0fe2973d2134ed9be7637f46ff54fbd",
       "version_major": 2,
       "version_minor": 0
      },
      "text/plain": [
       "  0%|          | 0/3 [00:00<?, ?it/s]"
      ]
     },
     "metadata": {},
     "output_type": "display_data"
    },
    {
     "name": "stderr",
     "output_type": "stream",
     "text": [
      "ERROR: 2023-10-26 11:34:43,543: _geological_feature_builder.py:266 -- Not enough constraints for scalar field add more\n",
      "WARNING: 2023-10-26 11:34:43,612: _discrete_interpolator.py:735 -- No solution, s1__2 scalar field 0. Add more data.\n"
     ]
    },
    {
     "data": {
      "application/vnd.jupyter.widget-view+json": {
       "model_id": "445561c5cdbb43c29e27aa2878011c5f",
       "version_major": 2,
       "version_minor": 0
      },
      "text/plain": [
       "  0%|          | 0/3 [00:00<?, ?it/s]"
      ]
     },
     "metadata": {},
     "output_type": "display_data"
    },
    {
     "name": "stderr",
     "output_type": "stream",
     "text": [
      "ERROR: 2023-10-26 11:34:45,374: _geological_feature_builder.py:266 -- Not enough constraints for scalar field add more\n",
      "WARNING: 2023-10-26 11:34:45,445: _discrete_interpolator.py:735 -- No solution, s1__2 scalar field 0. Add more data.\n"
     ]
    }
   ],
   "source": [
    "results = aso.optimise()"
   ]
  },
  {
   "cell_type": "code",
   "execution_count": 19,
   "id": "aca0b748-d57a-4f16-a64c-be0308cb37d7",
   "metadata": {},
   "outputs": [
    {
     "name": "stdout",
     "output_type": "stream",
     "text": [
      "Axial surface optimisation results: \n",
      "strike:  0.0\n",
      "dip:  89.98438264271815\n"
     ]
    }
   ],
   "source": [
    "print('Axial surface optimisation results: ')\n",
    "print('strike: ', results.x[0])\n",
    "print('dip: ', results.x[1])"
   ]
  },
  {
   "cell_type": "code",
   "execution_count": null,
   "id": "caf6b91f-1ece-4326-ad68-a1aa2c3031f6",
   "metadata": {},
   "outputs": [],
   "source": []
  }
 ],
 "metadata": {
  "kernelspec": {
   "display_name": "Python 3 (ipykernel)",
   "language": "python",
   "name": "python3"
  },
  "language_info": {
   "codemirror_mode": {
    "name": "ipython",
    "version": 3
   },
   "file_extension": ".py",
   "mimetype": "text/x-python",
   "name": "python",
   "nbconvert_exporter": "python",
   "pygments_lexer": "ipython3",
   "version": "3.9.5"
  }
 },
 "nbformat": 4,
 "nbformat_minor": 5
}
